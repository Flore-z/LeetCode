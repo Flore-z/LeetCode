{
 "cells": [
  {
   "cell_type": "code",
   "execution_count": null,
   "metadata": {
    "collapsed": true
   },
   "outputs": [],
   "source": [
    "Question:\n",
    "Compare two version numbers version1 and version2.\n",
    "If version1 > version2 return 1, if version1 < version2 return -1, otherwise return 0.\n",
    "\n",
    "You may assume that the version strings are non-empty and contain only digits and the . character.\n",
    "The . character does not represent a decimal point and is used to separate number sequences.\n",
    "For instance, 2.5 is not \"two and a half\" or \"half way to version three\", it is the fifth second-level revision \n",
    "of the second first-level revision.\n",
    "\n",
    "Here is an example of version numbers ordering:\n",
    "0.1 < 1.1 < 1.2 < 13.37"
   ]
  },
  {
   "cell_type": "code",
   "execution_count": 2,
   "metadata": {},
   "outputs": [
    {
     "data": {
      "text/plain": [
       "-1"
      ]
     },
     "execution_count": 2,
     "metadata": {},
     "output_type": "execute_result"
    }
   ],
   "source": [
    "class Solution(object):\n",
    "    def compareVersion(self, version1, version2):\n",
    "        \"\"\"\n",
    "        :type version1: str\n",
    "        :type version2: str\n",
    "        :rtype: int\n",
    "        \"\"\"\n",
    "        s1 = version1.split('.')\n",
    "        s2 = version2.split('.')\n",
    "        n = min(len(s1), len(s2))\n",
    "        for i in range(n):\n",
    "            if int(s1[i]) > int(s2[i]):\n",
    "                return 1\n",
    "            elif int(s1[i]) < int(s2[i]):\n",
    "                return -1\n",
    "        if len(s1) > n: \n",
    "            for i in range(n, len(s1)):\n",
    "                if int(s1[i]) > 0:\n",
    "                    return 1\n",
    "        if len(s2) > n:\n",
    "            for i in range(n, len(s2)):\n",
    "                if int(s2[i]) > 0:\n",
    "                    return -1\n",
    "        return 0\n",
    "    \n",
    "version1 = \"0.1\";version2 = \"1.1\"\n",
    "# version1 = \"1\";version2 = \"1.0\"\n",
    "Solution().compareVersion(version1, version2)"
   ]
  },
  {
   "cell_type": "code",
   "execution_count": 1,
   "metadata": {},
   "outputs": [
    {
     "data": {
      "text/plain": [
       "0"
      ]
     },
     "execution_count": 1,
     "metadata": {},
     "output_type": "execute_result"
    }
   ],
   "source": [
    "class Solution(object):\n",
    "    def compareVersion(self, version1, version2):\n",
    "        \"\"\"\n",
    "        :type version1: str\n",
    "        :type version2: str\n",
    "        :rtype: int\n",
    "        \"\"\"\n",
    "        list1 = version1.split('.')\n",
    "        list2 = version2.split('.')\n",
    "        n = max(len(list1), len(list2))\n",
    "        \n",
    "        for i in range(n):\n",
    "            v1 = int(list1[i]) if i < len(list1) else 0\n",
    "            v2 = int(list2[i]) if i < len(list2) else 0\n",
    "            if v1 > v2:\n",
    "                return 1\n",
    "            elif v1 < v2:\n",
    "                return -1\n",
    "        return 0\n",
    "    \n",
    "version1 = \"0.1\";version2 = \"1.1\"\n",
    "version1 = \"1\";version2 = \"1.0\"\n",
    "Solution().compareVersion(version1, version2)"
   ]
  }
 ],
 "metadata": {
  "kernelspec": {
   "display_name": "Python 3",
   "language": "python",
   "name": "python3"
  },
  "language_info": {
   "codemirror_mode": {
    "name": "ipython",
    "version": 3
   },
   "file_extension": ".py",
   "mimetype": "text/x-python",
   "name": "python",
   "nbconvert_exporter": "python",
   "pygments_lexer": "ipython3",
   "version": "3.5.2"
  }
 },
 "nbformat": 4,
 "nbformat_minor": 2
}
