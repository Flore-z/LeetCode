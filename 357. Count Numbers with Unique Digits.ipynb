{
 "cells": [
  {
   "cell_type": "code",
   "execution_count": null,
   "metadata": {
    "collapsed": true
   },
   "outputs": [],
   "source": [
    "Question:\n",
    "Given a non-negative integer n, count all numbers with unique digits, x, where 0 ≤ x < 10^n.\n",
    "\n",
    "Example:\n",
    "Given n = 2, return 91. (The answer should be the total numbers in the range of 0 ≤ x < 100, \n",
    "                         excluding [11,22,33,44,55,66,77,88,99])"
   ]
  },
  {
   "cell_type": "code",
   "execution_count": 2,
   "metadata": {},
   "outputs": [
    {
     "data": {
      "text/plain": [
       "91"
      ]
     },
     "execution_count": 2,
     "metadata": {},
     "output_type": "execute_result"
    }
   ],
   "source": [
    "# math method\n",
    "class Solution(object):\n",
    "    def countNumbersWithUniqueDigits(self, n):\n",
    "        \"\"\"\n",
    "        :type n: int\n",
    "        :rtype: int\n",
    "        \"\"\"\n",
    "        if n == 0:\n",
    "            return 1\n",
    "        \n",
    "        res = 10\n",
    "        for i in range(2, min(n+1, 11)):\n",
    "            tmp, base = 9, 9\n",
    "            while i-1:\n",
    "                tmp *= base\n",
    "                base -= 1\n",
    "                i -= 1\n",
    "            res += tmp\n",
    "        return res\n",
    "        \n",
    "Solution().countNumbersWithUniqueDigits(2)"
   ]
  },
  {
   "cell_type": "code",
   "execution_count": 4,
   "metadata": {},
   "outputs": [
    {
     "data": {
      "text/plain": [
       "8877691"
      ]
     },
     "execution_count": 4,
     "metadata": {},
     "output_type": "execute_result"
    }
   ],
   "source": [
    "# dp\n",
    "# f(1) = 10. (0, 1, 2, 3, …, 9)\n",
    "# f(2) = 9 * 9\n",
    "# f(3) = f(2) * 8 = 9 * 9 * 8\n",
    "# f(4) = f(3) * 7 = 9 * 9 * 8 * 7…\n",
    "\n",
    "class Solution(object):\n",
    "    def countNumbersWithUniqueDigits(self, n):\n",
    "        \"\"\"\n",
    "        :type n: int\n",
    "        :rtype: int\n",
    "        \"\"\"\n",
    "        if n == 0:\n",
    "            return 1\n",
    "        \n",
    "        res = 10\n",
    "        uniqueNum, available = 9, 9\n",
    "        for i in range(2, min(n+1, 11)):\n",
    "            uniqueNum *= available\n",
    "            available -= 1\n",
    "            res += uniqueNum\n",
    "        return res\n",
    "        \n",
    "Solution().countNumbersWithUniqueDigits(10)"
   ]
  }
 ],
 "metadata": {
  "kernelspec": {
   "display_name": "Python 3",
   "language": "python",
   "name": "python3"
  },
  "language_info": {
   "codemirror_mode": {
    "name": "ipython",
    "version": 3
   },
   "file_extension": ".py",
   "mimetype": "text/x-python",
   "name": "python",
   "nbconvert_exporter": "python",
   "pygments_lexer": "ipython3",
   "version": "3.5.2"
  }
 },
 "nbformat": 4,
 "nbformat_minor": 2
}
