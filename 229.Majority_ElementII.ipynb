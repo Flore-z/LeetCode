{
 "cells": [
  {
   "cell_type": "code",
   "execution_count": null,
   "metadata": {
    "collapsed": true
   },
   "outputs": [],
   "source": [
    "Question:\n",
    "Given an integer array of size n, find all elements that appear more than ⌊ n/3 ⌋ times. The algorithm should \n",
    "run in linear time and in O(1) space."
   ]
  },
  {
   "cell_type": "code",
   "execution_count": 17,
   "metadata": {},
   "outputs": [
    {
     "name": "stdout",
     "output_type": "stream",
     "text": [
      "8\n"
     ]
    },
    {
     "data": {
      "text/plain": [
       "[2, 3]"
      ]
     },
     "execution_count": 17,
     "metadata": {},
     "output_type": "execute_result"
    }
   ],
   "source": [
    "class Solution(object):\n",
    "    def majorityElement(self, nums):\n",
    "        \"\"\"\n",
    "        :type nums: List[int]\n",
    "        :rtype: List[int]\n",
    "        \"\"\"\n",
    "        if not nums: return []\n",
    "        nums.sort()\n",
    "        res, n, count = [], len(nums), 1\n",
    "        for i in range(1, n):\n",
    "            if nums[i] == nums[i-1]:\n",
    "                count += 1\n",
    "            else:\n",
    "                if count > n // 3:\n",
    "                    res.append(nums[i-1])\n",
    "                count = 1\n",
    "        if count > n // 3:\n",
    "            res.append(nums[-1])\n",
    "        return res\n",
    "    \n",
    "nums = [2,1,2,3,1,3,2,3]\n",
    "print(len(nums))\n",
    "Solution().majorityElement(nums)"
   ]
  },
  {
   "cell_type": "code",
   "execution_count": 21,
   "metadata": {},
   "outputs": [
    {
     "name": "stdout",
     "output_type": "stream",
     "text": [
      "8\n"
     ]
    },
    {
     "data": {
      "text/plain": [
       "[2, 3]"
      ]
     },
     "execution_count": 21,
     "metadata": {},
     "output_type": "execute_result"
    }
   ],
   "source": [
    "class Solution(object):\n",
    "    def majorityElement(self, nums):\n",
    "        \"\"\"\n",
    "        :type nums: List[int]\n",
    "        :rtype: List[int]\n",
    "        \"\"\"\n",
    "        if not nums:\n",
    "            return []\n",
    "        c1, n1, c2, n2 = 0, 0, 0, 0\n",
    "        for num in nums:\n",
    "            if num == n1:\n",
    "                c1 += 1\n",
    "            elif num == n2:\n",
    "                c2 += 1\n",
    "            elif c1 == 0:\n",
    "                c1, n1 = 1, num\n",
    "            elif c2 == 0:\n",
    "                c2, n2 = 1, num\n",
    "            else:\n",
    "                c1 -= 1\n",
    "                c2 -= 1\n",
    "#             print(c1,n1,c2,n2)\n",
    "\n",
    "        return [num for num in (n1, n2) if nums.count(num) > len(nums)//3]\n",
    "\n",
    "nums = [2,1,2,3,1,3,2,3]\n",
    "print(len(nums))\n",
    "Solution().majorityElement(nums)"
   ]
  }
 ],
 "metadata": {
  "kernelspec": {
   "display_name": "Python 3",
   "language": "python",
   "name": "python3"
  },
  "language_info": {
   "codemirror_mode": {
    "name": "ipython",
    "version": 3
   },
   "file_extension": ".py",
   "mimetype": "text/x-python",
   "name": "python",
   "nbconvert_exporter": "python",
   "pygments_lexer": "ipython3",
   "version": "3.5.2"
  }
 },
 "nbformat": 4,
 "nbformat_minor": 2
}
