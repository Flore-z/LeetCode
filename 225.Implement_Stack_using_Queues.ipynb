{
 "cells": [
  {
   "cell_type": "code",
   "execution_count": null,
   "metadata": {
    "collapsed": true
   },
   "outputs": [],
   "source": [
    "Question:\n",
    "Implement the following operations of a stack using queues.\n",
    "\n",
    "push(x) -- Push element x onto stack.\n",
    "pop() -- Removes the element on top of the stack.\n",
    "top() -- Get the top element.\n",
    "empty() -- Return whether the stack is empty.\n",
    "Notes:\n",
    "You must use only standard operations of a queue -- which means only push to back, peek/pop from front, size, \n",
    "and is empty operations are valid.\n",
    "Depending on your language, queue may not be supported natively. You may simulate a queue by using a list or \n",
    "deque (double-ended queue), as long as you use only standard operations of a queue.\n",
    "You may assume that all operations are valid (for example, no pop or top operations will be called on an \n",
    "                                              empty stack)."
   ]
  },
  {
   "cell_type": "code",
   "execution_count": 11,
   "metadata": {},
   "outputs": [
    {
     "name": "stdout",
     "output_type": "stream",
     "text": [
      "2 1 False\n"
     ]
    }
   ],
   "source": [
    "class MyStack(object):\n",
    "\n",
    "    def __init__(self):\n",
    "        \"\"\"\n",
    "        Initialize your data structure here.\n",
    "        \"\"\"\n",
    "        self.q = []\n",
    "\n",
    "    def push(self, x):\n",
    "        \"\"\"\n",
    "        Push element x onto stack.\n",
    "        :type x: int\n",
    "        :rtype: void\n",
    "        \"\"\"\n",
    "        self.q.append(x)\n",
    "\n",
    "    def pop(self):\n",
    "        \"\"\"\n",
    "        Removes the element on top of the stack and returns that element.\n",
    "        :rtype: int\n",
    "        \"\"\"\n",
    "        return self.q.pop()\n",
    "\n",
    "    def top(self):\n",
    "        \"\"\"\n",
    "        Get the top element.\n",
    "        :rtype: int\n",
    "        \"\"\"\n",
    "        return self.q[-1]\n",
    "\n",
    "    def empty(self):\n",
    "        \"\"\"\n",
    "        Returns whether the stack is empty.\n",
    "        :rtype: bool\n",
    "        \"\"\"\n",
    "        return len(self.q) == 0\n",
    "\n",
    "# Your MyStack object will be instantiated and called as such:\n",
    "obj = MyStack()\n",
    "x = 1;obj.push(x)\n",
    "x = 2;obj.push(x)\n",
    "param_2 = obj.pop()\n",
    "param_3 = obj.top()\n",
    "param_4 = obj.empty()\n",
    "print(param_2, param_3, param_4)"
   ]
  },
  {
   "cell_type": "code",
   "execution_count": 1,
   "metadata": {},
   "outputs": [
    {
     "name": "stdout",
     "output_type": "stream",
     "text": [
      "2 False\n"
     ]
    }
   ],
   "source": [
    "from collections import deque\n",
    "class MyStack(object):\n",
    "\n",
    "    def __init__(self):\n",
    "        \"\"\"\n",
    "        Initialize your data structure here.\n",
    "        \"\"\"\n",
    "        self.q = deque()\n",
    "\n",
    "    def push(self, x):\n",
    "        \"\"\"\n",
    "        Push element x onto stack.\n",
    "        :type x: int\n",
    "        :rtype: void\n",
    "        \"\"\"\n",
    "        self.q.append(x)\n",
    "\n",
    "    def pop(self):\n",
    "        \"\"\"\n",
    "        Removes the element on top of the stack and returns that element.\n",
    "        :rtype: int\n",
    "        \"\"\"\n",
    "#         return self.q.pop()\n",
    "        qa=deque()\n",
    "        for i in range(len(self.q)-1):\n",
    "            qa.append(self.q.popleft())\n",
    "        x = self.q.popleft()\n",
    "        self.q = qa\n",
    "        return x\n",
    "\n",
    "    def top(self):\n",
    "        \"\"\"\n",
    "        Get the top element.\n",
    "        :rtype: int\n",
    "        \"\"\"\n",
    "#         return self.q[-1]\n",
    "        qa = deque()\n",
    "        for i in range(len(self.q)-1):\n",
    "            qa.append(self.q.popleft())\n",
    "        x = self.q.popleft()\n",
    "        qa.append(x)\n",
    "        self.q = qa\n",
    "        return x\n",
    "\n",
    "    def empty(self):\n",
    "        \"\"\"\n",
    "        Returns whether the stack is empty.\n",
    "        :rtype: bool\n",
    "        \"\"\"\n",
    "        return len(self.q) == 0\n",
    "\n",
    "# Your MyStack object will be instantiated and called as such:\n",
    "obj = MyStack()\n",
    "x = 1;obj.push(x)\n",
    "x = 2;obj.push(x)\n",
    "# param_2 = obj.pop()\n",
    "param_3 = obj.top()\n",
    "param_4 = obj.empty()\n",
    "print(param_3, param_4)"
   ]
  }
 ],
 "metadata": {
  "kernelspec": {
   "display_name": "Python 3",
   "language": "python",
   "name": "python3"
  },
  "language_info": {
   "codemirror_mode": {
    "name": "ipython",
    "version": 3
   },
   "file_extension": ".py",
   "mimetype": "text/x-python",
   "name": "python",
   "nbconvert_exporter": "python",
   "pygments_lexer": "ipython3",
   "version": "3.5.2"
  }
 },
 "nbformat": 4,
 "nbformat_minor": 2
}
