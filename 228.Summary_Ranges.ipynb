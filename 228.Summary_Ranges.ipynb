{
 "cells": [
  {
   "cell_type": "code",
   "execution_count": null,
   "metadata": {
    "collapsed": true
   },
   "outputs": [],
   "source": [
    "Question:\n",
    "Given a sorted integer array without duplicates, return the summary of its ranges.\n",
    "Example 1:\n",
    "Input: [0,1,2,4,5,7]\n",
    "Output: [\"0->2\",\"4->5\",\"7\"]\n",
    "    \n",
    "Example 2:\n",
    "Input: [0,2,3,4,6,8,9]\n",
    "Output: [\"0\",\"2->4\",\"6\",\"8->9\"]"
   ]
  },
  {
   "cell_type": "code",
   "execution_count": 18,
   "metadata": {},
   "outputs": [
    {
     "data": {
      "text/plain": [
       "['0', '2->4', '6', '8->9']"
      ]
     },
     "execution_count": 18,
     "metadata": {},
     "output_type": "execute_result"
    }
   ],
   "source": [
    "class Solution(object):\n",
    "    def summaryRanges(self, nums):\n",
    "        \"\"\"\n",
    "        :type nums: List[int]\n",
    "        :rtype: List[str]\n",
    "        \"\"\"\n",
    "        if not nums: return []\n",
    "        res, i, j = [], 0, 1 \n",
    "        while j < len(nums):\n",
    "            if nums[j] == nums[j-1] + 1:\n",
    "                j += 1\n",
    "            else:\n",
    "                res.append(list(nums[i:j]))\n",
    "                i, j = j, j+1\n",
    "        res.append(list(nums[i:]))\n",
    "        for i in range(len(res)):\n",
    "            if len(res[i]) == 1:\n",
    "                res[i] = str(res[i][0])\n",
    "            else:\n",
    "                res[i] = str(res[i][0]) + \"->\" + str(res[i][-1])\n",
    "        return res\n",
    "            \n",
    "nums = [0,1,2,4,5,7]\n",
    "nums = [0,2,3,4,6,8,9]\n",
    "Solution().summaryRanges(nums)"
   ]
  },
  {
   "cell_type": "code",
   "execution_count": 23,
   "metadata": {},
   "outputs": [
    {
     "data": {
      "text/plain": [
       "['0', '2->4', '6', '8->9']"
      ]
     },
     "execution_count": 23,
     "metadata": {},
     "output_type": "execute_result"
    }
   ],
   "source": [
    "class Solution(object):\n",
    "    def summaryRanges(self, nums):\n",
    "        \"\"\"\n",
    "        :type nums: List[int]\n",
    "        :rtype: List[str]\n",
    "        \"\"\"\n",
    "        if not nums: return []\n",
    "        res, i, j = [], 0, 1 \n",
    "        while j < len(nums):\n",
    "            if nums[j] == nums[j-1] + 1:\n",
    "                j += 1\n",
    "            else:\n",
    "                if j-i > 1:\n",
    "                    res.append(str(nums[i]) + \"->\" + str(nums[j-1]))\n",
    "                else:\n",
    "                    res.append(str(nums[i]))\n",
    "                i, j = j, j+1\n",
    "        if j-i > 1:\n",
    "            res.append(str(nums[i]) + \"->\" + str(nums[j-1]))\n",
    "        else:\n",
    "            res.append(str(nums[i]))\n",
    "        return res\n",
    "            \n",
    "nums = [0,1,2,4,5,7]\n",
    "nums = [0,2,3,4,6,8,9]\n",
    "Solution().summaryRanges(nums)"
   ]
  }
 ],
 "metadata": {
  "kernelspec": {
   "display_name": "Python 3",
   "language": "python",
   "name": "python3"
  },
  "language_info": {
   "codemirror_mode": {
    "name": "ipython",
    "version": 3
   },
   "file_extension": ".py",
   "mimetype": "text/x-python",
   "name": "python",
   "nbconvert_exporter": "python",
   "pygments_lexer": "ipython3",
   "version": "3.5.2"
  }
 },
 "nbformat": 4,
 "nbformat_minor": 2
}
