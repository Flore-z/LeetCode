{
 "cells": [
  {
   "cell_type": "code",
   "execution_count": null,
   "metadata": {
    "collapsed": true
   },
   "outputs": [],
   "source": [
    "Question:\n",
    "There is a list of sorted integers from 1 to n. Starting from left to right, remove the first number and every \n",
    "other number afterward until you reach the end of the list.\n",
    "Repeat the previous step again, but this time from right to left, remove the right most number and every other \n",
    "number from the remaining numbers.\n",
    "We keep repeating the steps again, alternating left to right and right to left, until a single number remains.\n",
    "Find the last number that remains starting with a list of length n.\n",
    "\n",
    "Example:\n",
    "Input:\n",
    "n = 9,\n",
    "1 2 3 4 5 6 7 8 9\n",
    "2 4 6 8\n",
    "2 6\n",
    "6\n",
    "Output:\n",
    "6"
   ]
  },
  {
   "cell_type": "code",
   "execution_count": 1,
   "metadata": {},
   "outputs": [
    {
     "data": {
      "text/plain": [
       "6"
      ]
     },
     "execution_count": 1,
     "metadata": {},
     "output_type": "execute_result"
    }
   ],
   "source": [
    "# Time Limit Exceeded\n",
    "class Solution(object):\n",
    "    def lastRemaining(self, n):\n",
    "        \"\"\"\n",
    "        :type n: int\n",
    "        :rtype: int\n",
    "        \"\"\"\n",
    "        lst = list(range(1,n+1))\n",
    "        while len(lst) > 1:\n",
    "            lst = lst[1::2]\n",
    "            lst.reverse()\n",
    "        return lst[0]\n",
    "        \n",
    "Solution().lastRemaining(9)"
   ]
  },
  {
   "cell_type": "code",
   "execution_count": 1,
   "metadata": {},
   "outputs": [
    {
     "data": {
      "text/plain": [
       "6"
      ]
     },
     "execution_count": 1,
     "metadata": {},
     "output_type": "execute_result"
    }
   ],
   "source": [
    "class Solution(object):\n",
    "    def lastRemaining(self, n):\n",
    "        \"\"\"\n",
    "        :type n: int\n",
    "        :rtype: int\n",
    "        \"\"\"\n",
    "        head, step, left, remain = 1, 1, 1, n\n",
    "        while remain > 1:\n",
    "            if left or remain % 2:\n",
    "                head += step\n",
    "            step *= 2\n",
    "            remain //= 2\n",
    "            left = 1 - left\n",
    "        return head\n",
    "        \n",
    "Solution().lastRemaining(9)"
   ]
  }
 ],
 "metadata": {
  "kernelspec": {
   "display_name": "Python 3",
   "language": "python",
   "name": "python3"
  },
  "language_info": {
   "codemirror_mode": {
    "name": "ipython",
    "version": 3
   },
   "file_extension": ".py",
   "mimetype": "text/x-python",
   "name": "python",
   "nbconvert_exporter": "python",
   "pygments_lexer": "ipython3",
   "version": "3.5.2"
  }
 },
 "nbformat": 4,
 "nbformat_minor": 2
}
