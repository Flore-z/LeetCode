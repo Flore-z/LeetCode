{
 "cells": [
    {
   "cell_type": "code",
   "execution_count": 8,
   "metadata": {},
   "outputs": [
    {
     "name": "stdout",
     "output_type": "stream",
     "text": [
      "2 3 4 5 6 7 8 9 10 11 12 13 14 15 "
     ]
    }
   ],
   "source": [
    "# recursive\n",
    "class TreeLinkNode:\n",
    "    def __init__(self, x):\n",
    "        self.val = x\n",
    "        self.left = None\n",
    "        self.right = None\n",
    "        self.next = None\n",
    "\n",
    "class Solution:\n",
    "    # @param root, a tree link node\n",
    "    # @return nothing\n",
    "    def connect(self, root):\n",
    "        if not root:\n",
    "            return\n",
    "        \n",
    "        def help(root):\n",
    "            if root.left:\n",
    "                root.left.next = root.right\n",
    "                if root.next:\n",
    "                    root.right.next = root.next.left\n",
    "                help(root.left)\n",
    "                help(root.right)\n",
    "                    \n",
    "        help(root)\n",
    "#         p = root\n",
    "#         while p:\n",
    "#             p.next = None\n",
    "#             p = p.right\n",
    "            \n",
    "root = TreeLinkNode(1)\n",
    "root.left = TreeLinkNode(2)\n",
    "p = root.left;p.left = TreeLinkNode(4);p.right = TreeLinkNode(5)\n",
    "q = p.left;q.left = TreeLinkNode(8);q.right = TreeLinkNode(9)\n",
    "q = p.right;q.left = TreeLinkNode(10);q.right = TreeLinkNode(11)\n",
    "root.right = TreeLinkNode(3)\n",
    "p = root.right;p.left = TreeLinkNode(6);p.right = TreeLinkNode(7)\n",
    "q = p.left;q.left = TreeLinkNode(12);q.right = TreeLinkNode(13)\n",
    "q = p.right;q.left = TreeLinkNode(14);q.right = TreeLinkNode(15)\n",
    "\n",
    "Solution().connect(root)\n",
    "\n",
    "p = root.left\n",
    "while p:\n",
    "    print(p.val, end=\" \")\n",
    "    p = p.next\n",
    "p = root.left.left\n",
    "while p:\n",
    "    print(p.val, end=\" \")\n",
    "    p = p.next\n",
    "p = root.left.left.left\n",
    "while p:\n",
    "    print(p.val, end=\" \")\n",
    "    p = p.next"
   ]
  },
  {
   "cell_type": "code",
   "execution_count": 11,
   "metadata": {},
   "outputs": [
    {
     "name": "stdout",
     "output_type": "stream",
     "text": [
      "2 3 4 5 6 7 8 9 10 11 12 13 14 15 "
     ]
    }
   ],
   "source": [
    "# iterative\n",
    "class Solution:\n",
    "    # @param root, a tree link node\n",
    "    # @return nothing\n",
    "    def connect(self, root):\n",
    "        if not root:\n",
    "            return\n",
    "        \n",
    "        while root.left:\n",
    "            nextLevelFirst = root.left\n",
    "            while root:\n",
    "                root.left.next = root.right\n",
    "                if root.next:\n",
    "                    root.right.next = root.next.left \n",
    "                root = root.next\n",
    "            root = nextLevelFirst\n",
    "            \n",
    "root = TreeLinkNode(1)\n",
    "root.left = TreeLinkNode(2)\n",
    "p = root.left;p.left = TreeLinkNode(4);p.right = TreeLinkNode(5)\n",
    "q = p.left;q.left = TreeLinkNode(8);q.right = TreeLinkNode(9)\n",
    "q = p.right;q.left = TreeLinkNode(10);q.right = TreeLinkNode(11)\n",
    "root.right = TreeLinkNode(3)\n",
    "p = root.right;p.left = TreeLinkNode(6);p.right = TreeLinkNode(7)\n",
    "q = p.left;q.left = TreeLinkNode(12);q.right = TreeLinkNode(13)\n",
    "q = p.right;q.left = TreeLinkNode(14);q.right = TreeLinkNode(15)\n",
    "\n",
    "Solution().connect(root)\n",
    "\n",
    "p = root.left\n",
    "while p:\n",
    "    print(p.val, end=\" \")\n",
    "    p = p.next\n",
    "p = root.left.left\n",
    "while p:\n",
    "    print(p.val, end=\" \")\n",
    "    p = p.next\n",
    "p = root.left.left.left\n",
    "while p:\n",
    "    print(p.val, end=\" \")\n",
    "    p = p.next"
   ]
  }
 ],
 "metadata": {
  "kernelspec": {
   "display_name": "Python 3",
   "language": "python",
   "name": "python3"
  },
  "language_info": {
   "codemirror_mode": {
    "name": "ipython",
    "version": 3
   },
   "file_extension": ".py",
   "mimetype": "text/x-python",
   "name": "python",
   "nbconvert_exporter": "python",
   "pygments_lexer": "ipython3",
   "version": "3.5.2"
  }
 },
 "nbformat": 4,
 "nbformat_minor": 2
}
