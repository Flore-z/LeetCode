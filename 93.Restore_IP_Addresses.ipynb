{
 "cells": [
  {
   "cell_type": "code",
   "execution_count": 6,
   "metadata": {},
   "outputs": [
    {
     "data": {
      "text/plain": [
       "['255.255.11.135', '255.255.111.35']"
      ]
     },
     "execution_count": 6,
     "metadata": {},
     "output_type": "execute_result"
    }
   ],
   "source": [
    "# 回溯解。每次判断以当前字符开头的字符串是否属于可靠的子字符串，如果可靠则继续判断后面的，否则跳过。\n",
    "# 仅当字符串刚好划分为可靠的4个子字符串（[0:255]）时保存当前组合。\n",
    "# 在判断每个子字符串时，主要确保 0 <= int(s) <=255，且排除 “01”等情况的子字符串\n",
    "\n",
    "class Solution(object):\n",
    "    def restoreIpAddresses(self, s):\n",
    "        \"\"\"\n",
    "        :type s: str\n",
    "        :rtype: List[str]\n",
    "        \"\"\"\n",
    "        res = []\n",
    "        if len(s) < 4 or len(s) > 12:\n",
    "            return res\n",
    "        self.dfs(s, res, [], 0)\n",
    "        return res\n",
    "        \n",
    "    def dfs(self, s, res, tmp, pos):\n",
    "        if len(tmp) == 4 and pos == len(s):\n",
    "            res.append('.'.join(tmp))\n",
    "            \n",
    "        for i in range(1, 4):\n",
    "            if pos+i <= len(s):\n",
    "#                 tmptmp = s[pos:pos+i]\n",
    "#                 if 0 <= int(tmptmp) <= 255 and (len(tmptmp) == 1 or len(tmptmp) >1 and tmptmp[0] != '0'):\n",
    "#                     tmp.append(tmptmp)\n",
    "#                     self.dfs(s, res, tmp, pos+i)\n",
    "#                     tmp.pop\n",
    "                if int(s[pos:pos+i]) > 255 or (i > 1 and s[pos] == '0'):\n",
    "                    continue\n",
    "                else:\n",
    "                    tmp.append(s[pos:pos+i])\n",
    "                    self.dfs(s, res, tmp, pos+i)\n",
    "                    tmp.pop()\n",
    "                    \n",
    "s = \"25525511135\"\n",
    "res = Solution().restoreIpAddresses(s)\n",
    "res"
   ]
  },
  {
   "cell_type": "code",
   "execution_count": 9,
   "metadata": {},
   "outputs": [
    {
     "data": {
      "text/plain": [
       "['255.255.11.135', '255.255.111.35']"
      ]
     },
     "execution_count": 9,
     "metadata": {},
     "output_type": "execute_result"
    }
   ],
   "source": [
    "class Solution(object):\n",
    "    def restoreIpAddresses(self, s):\n",
    "        \"\"\"\n",
    "        :type s: str\n",
    "        :rtype: List[str]\n",
    "        \"\"\"\n",
    "        def dfs(s, k, out):\n",
    "            if len(s) > k * 3: # we only need 3 * 4 = 12 \n",
    "                return\n",
    "            if k == 0:\n",
    "                res.append(out)\n",
    "            for i in range(min(3, len(s) - k + 1)):\n",
    "                if i == 2 and int(s[:3]) > 255 or i > 0 and s[0] == '0':\n",
    "                    return\n",
    "                dfs(s[i+1:], k-1, out+[s[:i+1]])\n",
    "        \n",
    "        res = []\n",
    "        dfs(s, 4, [])\n",
    "        return ['.'.join(x) for x in res]\n",
    "    \n",
    "s = \"25525511135\" \n",
    "res = Solution().restoreIpAddresses(s)\n",
    "res"
   ]
  },
  {
   "cell_type": "code",
   "execution_count": null,
   "metadata": {
    "collapsed": true
   },
   "outputs": [],
   "source": [
    "class Solution(object):\n",
    "    def restoreIpAddresses(self, s):\n",
    "        \"\"\"\n",
    "        :type s: str\n",
    "        :rtype: List[str]\n",
    "        \"\"\"\n",
    "        ans = []\n",
    "        self.helper(ans, s, 4, [])\n",
    "        return ['.'.join(x) for x in ans]\n",
    "        \n",
    "    def helper(self, ans, s, k, out):\n",
    "        if len(s) > k * 3:\n",
    "            return\n",
    "        if k == 0:\n",
    "            ans.append(out)\n",
    "        else:\n",
    "            for i in range(min(3, len(s) - k + 1)):\n",
    "                if i == 2 and int(s[:3]) > 255 or i > 0 and s[0] == '0':\n",
    "                    continue\n",
    "                self.helper(ans, s[i+1:], k - 1, out+[s[:i+1]])"
   ]
  }
 ],
 "metadata": {
  "kernelspec": {
   "display_name": "Python 3",
   "language": "python",
   "name": "python3"
  },
  "language_info": {
   "codemirror_mode": {
    "name": "ipython",
    "version": 3
   },
   "file_extension": ".py",
   "mimetype": "text/x-python",
   "name": "python",
   "nbconvert_exporter": "python",
   "pygments_lexer": "ipython3",
   "version": "3.5.2"
  }
 },
 "nbformat": 4,
 "nbformat_minor": 2
}
