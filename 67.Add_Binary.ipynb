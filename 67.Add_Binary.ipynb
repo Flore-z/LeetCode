{
 "cells": [
  {
   "cell_type": "code",
   "execution_count": 8,
   "metadata": {},
   "outputs": [
    {
     "data": {
      "text/plain": [
       "'1001'"
      ]
     },
     "execution_count": 8,
     "metadata": {},
     "output_type": "execute_result"
    }
   ],
   "source": [
    "class Solution(object):\n",
    "    def addBinary(self, a, b):\n",
    "        \"\"\"\n",
    "        :type a: str\n",
    "        :type b: str\n",
    "        :rtype: str\n",
    "        \"\"\"\n",
    "        l = min(len(a),len(b))\n",
    "        s = ''\n",
    "        a = a[::-1]; b = b[::-1]\n",
    "        carry = 0\n",
    "        for i in range(l):\n",
    "            x = int(a[i]) + int(b[i]) + carry\n",
    "            carry = int(x / 2)\n",
    "            s = s + str(x % 2)\n",
    "        \n",
    "        if len(a) > len(b):\n",
    "            for i in range(l,len(a)):\n",
    "                x = int(a[i]) + carry\n",
    "                carry = int(x / 2)\n",
    "                s = s + str(x % 2)\n",
    "                \n",
    "        if len(b) > len(a):\n",
    "            for i in range(l,len(b)):\n",
    "                x = int(b[i]) + carry\n",
    "                carry = int(x / 2)\n",
    "                s = s + str(x % 2)\n",
    "        \n",
    "        if carry == 1:\n",
    "            s = s + '1'\n",
    "            \n",
    "        return s[::-1]\n",
    "\n",
    "a = '10'; b = '111'\n",
    "res = Solution().addBinary(a,b)\n",
    "res\n",
    "            "
   ]
  },
  {
   "cell_type": "code",
   "execution_count": 10,
   "metadata": {},
   "outputs": [
    {
     "data": {
      "text/plain": [
       "'1100'"
      ]
     },
     "execution_count": 10,
     "metadata": {},
     "output_type": "execute_result"
    }
   ],
   "source": [
    "class Solution(object):\n",
    "    def addBinary(self, a, b):\n",
    "        \"\"\"\n",
    "        :type a: str\n",
    "        :type b: str\n",
    "        :rtype: str\n",
    "        \"\"\"\n",
    "        s = bin(int(a,2) + int(b,2))[2:]\n",
    "        return s\n",
    "    \n",
    "a = '101'; b = '111'\n",
    "res = Solution().addBinary(a,b)\n",
    "res"
   ]
  },
  {
   "cell_type": "code",
   "execution_count": null,
   "metadata": {
    "collapsed": true
   },
   "outputs": [],
   "source": []
  }
 ],
 "metadata": {
  "kernelspec": {
   "display_name": "Python 3",
   "language": "python",
   "name": "python3"
  },
  "language_info": {
   "codemirror_mode": {
    "name": "ipython",
    "version": 3
   },
   "file_extension": ".py",
   "mimetype": "text/x-python",
   "name": "python",
   "nbconvert_exporter": "python",
   "pygments_lexer": "ipython3",
   "version": "3.4.3"
  }
 },
 "nbformat": 4,
 "nbformat_minor": 2
}
