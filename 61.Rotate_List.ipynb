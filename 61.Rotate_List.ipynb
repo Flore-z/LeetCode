{
 "cells": [
  {
   "cell_type": "code",
   "execution_count": 39,
   "metadata": {},
   "outputs": [
    {
     "name": "stdout",
     "output_type": "stream",
     "text": [
      "1 2 \n",
      "\n",
      "2 1 "
     ]
    }
   ],
   "source": [
    "class ListNode(object):\n",
    "    def __init__(self, x):\n",
    "        self.val = x\n",
    "        self.next = None\n",
    "\n",
    "class Solution(object):\n",
    "    def rotateRight(self, head, k):\n",
    "        \"\"\"\n",
    "        :type head: ListNode\n",
    "        :type k: int\n",
    "        :rtype: ListNode\n",
    "        \"\"\"\n",
    "        if k == 0 or head == None:\n",
    "            return head\n",
    "        \n",
    "        p = head\n",
    "        length = 1\n",
    "        while p.next:\n",
    "            length += 1\n",
    "            p = p.next\n",
    "        \n",
    "        m = k % length\n",
    "        q = head\n",
    "        for i in range(length-m-1):\n",
    "            q = q.next\n",
    "        \n",
    "        p.next = head\n",
    "        head  = q.next\n",
    "        q.next = None\n",
    "        \n",
    "        return head\n",
    "    \n",
    "class LinkList(object):\n",
    "    def initList(self, data):\n",
    "        if len(data) == 0:\n",
    "            return None\n",
    "        head = ListNode(data[0])\n",
    "        p = head\n",
    "        for i in data[1:]:\n",
    "            p.next = ListNode(i)\n",
    "            p = p.next\n",
    "        return head\n",
    "\n",
    "\n",
    "head = LinkList().initList([1,2])\n",
    "p = head\n",
    "while p:\n",
    "    print(p.val,end=' ')\n",
    "    p = p.next\n",
    "\n",
    "print('\\n')\n",
    "h = Solution().rotateRight(head,3)\n",
    "p = h\n",
    "while p:\n",
    "    print(p.val,end=' ')\n",
    "    p = p.next"
   ]
  },
  {
   "cell_type": "code",
   "execution_count": null,
   "metadata": {
    "collapsed": true
   },
   "outputs": [],
   "source": []
  }
 ],
 "metadata": {
  "kernelspec": {
   "display_name": "Python 3",
   "language": "python",
   "name": "python3"
  },
  "language_info": {
   "codemirror_mode": {
    "name": "ipython",
    "version": 3
   },
   "file_extension": ".py",
   "mimetype": "text/x-python",
   "name": "python",
   "nbconvert_exporter": "python",
   "pygments_lexer": "ipython3",
   "version": "3.4.3"
  }
 },
 "nbformat": 4,
 "nbformat_minor": 2
}
