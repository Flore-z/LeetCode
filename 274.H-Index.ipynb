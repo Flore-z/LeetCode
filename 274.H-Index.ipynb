{
 "cells": [
  {
   "cell_type": "code",
   "execution_count": null,
   "metadata": {
    "collapsed": true
   },
   "outputs": [],
   "source": [
    "Question:\n",
    "Given an array of citations (each citation is a non-negative integer) of a researcher, write a function to \n",
    "compute the researcher's h-index.\n",
    "According to the definition of h-index on Wikipedia: \"A scientist has index h if h of his/her N papers have at \n",
    "least h citations each, and the other N − h papers have no more than h citations each.\"\n",
    "For example, given citations = [3, 0, 6, 1, 5], which means the researcher has 5 papers in total and each of \n",
    "them had received 3, 0, 6, 1, 5 citations respectively. Since the researcher has 3 papers with at least 3 \n",
    "citations each and the remaining two with no more than 3 citations each, his h-index is 3.\n",
    "\n",
    "Note: If there are several possible values for h, the maximum one is taken as the h-index."
   ]
  },
  {
   "cell_type": "code",
   "execution_count": 1,
   "metadata": {},
   "outputs": [
    {
     "name": "stdout",
     "output_type": "stream",
     "text": [
      "3\n"
     ]
    }
   ],
   "source": [
    "class Solution(object):\n",
    "    def hIndex(self, citations):\n",
    "        \"\"\"\n",
    "        :type citations: List[int]\n",
    "        :rtype: int\n",
    "        \"\"\"\n",
    "        citations.sort()\n",
    "        n = len(citations)\n",
    "        for i in range(n):\n",
    "            if citations[i] >= n-i:\n",
    "                return n-i\n",
    "        return 0\n",
    "\n",
    "citations = [3, 0, 6, 1, 5]\n",
    "##citations = [100]\n",
    "res = Solution().hIndex(citations)\n",
    "print(res)"
   ]
  }
 ],
 "metadata": {
  "kernelspec": {
   "display_name": "Python 3",
   "language": "python",
   "name": "python3"
  },
  "language_info": {
   "codemirror_mode": {
    "name": "ipython",
    "version": 3
   },
   "file_extension": ".py",
   "mimetype": "text/x-python",
   "name": "python",
   "nbconvert_exporter": "python",
   "pygments_lexer": "ipython3",
   "version": "3.5.2"
  }
 },
 "nbformat": 4,
 "nbformat_minor": 2
}
