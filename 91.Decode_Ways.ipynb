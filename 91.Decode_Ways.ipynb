{
 "cells": [
  {
   "cell_type": "code",
   "execution_count": 66,
   "metadata": {},
   "outputs": [
    {
     "data": {
      "text/plain": [
       "1"
      ]
     },
     "execution_count": 66,
     "metadata": {},
     "output_type": "execute_result"
    }
   ],
   "source": [
    "class Solution(object):\n",
    "    def numDecodings(self, s):\n",
    "        \"\"\"\n",
    "        :type s: str\n",
    "        :rtype: int\n",
    "        \"\"\"\n",
    "        if len(s) == 0 or s[0] == '0':\n",
    "            return 0\n",
    "        \n",
    "        n1 = 1; n2 = 1\n",
    "        for i in range(1,len(s)):\n",
    "            if s[i] == '0':\n",
    "                n1 = 0\n",
    "#             if int(s[i-1:i+1]) < 27:\n",
    "            if int(s[i-1:i+1]) > 9 and int(s[i-1:i+1]) < 27:\n",
    "                n1 = n1 + n2  # 相当于加上前面的总数，n2记录上一次的总数\n",
    "                n2 = n1 - n2  # 其实就是n2等于之前的n1\n",
    "            else:\n",
    "                n2 = n1\n",
    "                \n",
    "        return n1\n",
    "            \n",
    "# s = '1303'\n",
    "s = '1203'\n",
    "res = Solution().numDecodings(s)\n",
    "res"
   ]
  },
  {
   "cell_type": "code",
   "execution_count": 67,
   "metadata": {},
   "outputs": [
    {
     "name": "stdout",
     "output_type": "stream",
     "text": [
      "[1, 1, 2, 1, 1]\n"
     ]
    },
    {
     "data": {
      "text/plain": [
       "1"
      ]
     },
     "execution_count": 67,
     "metadata": {},
     "output_type": "execute_result"
    }
   ],
   "source": [
    "class Solution(object):\n",
    "    def numDecodings(self, s):\n",
    "        \"\"\"\n",
    "        :type s: str\n",
    "        :rtype: int\n",
    "        \"\"\"\n",
    "        if len(s) is 0:\n",
    "            return 0\n",
    "        dp = [1] + [0]*len(s)\n",
    "        for i in range(1,len(s)+1):\n",
    "            dp[i] = 0 if s[i-1]=='0' else dp[i-1]\n",
    "#             dp[i] += dp[i-2] if (i>1 and (s[i-2]=='1' or (s[i-2] == '2' and s[i-1] <= '6'))) else 0\n",
    "            dp[i] += dp[i-2] if (i>1 and (s[i-2] != '0' and int(s[i-2:i]) < 27)) else 0\n",
    "        \n",
    "        print(dp)\n",
    "        return dp[len(s)]\n",
    "    \n",
    "# s = '1303'\n",
    "s = '1203'\n",
    "res = Solution().numDecodings(s)\n",
    "res"
   ]
  },
  {
   "cell_type": "code",
   "execution_count": 68,
   "metadata": {},
   "outputs": [
    {
     "name": "stdout",
     "output_type": "stream",
     "text": [
      "[1, 1, 2, 1, 1]\n"
     ]
    },
    {
     "data": {
      "text/plain": [
       "1"
      ]
     },
     "execution_count": 68,
     "metadata": {},
     "output_type": "execute_result"
    }
   ],
   "source": [
    "# 35s\n",
    "class Solution(object):\n",
    "    def numDecodings(self, s):\n",
    "        \"\"\"\n",
    "        :type s: str\n",
    "        :rtype: int\n",
    "        \"\"\"\n",
    "        if not s:\n",
    "            return 0\n",
    "        count = [1] + [0] * len(s)\n",
    "        for i in range(1, len(s) + 1):\n",
    "            if s[i-1] != '0':\n",
    "                count[i] = count[i-1]\n",
    "            \n",
    "            if i >= 2 and '10' <= s[i-2:i] <= '26':\n",
    "                count[i] += count[i-2]\n",
    "        print(count)\n",
    "        return count[-1]\n",
    "    \n",
    "# s = '1303'\n",
    "s = '1203'\n",
    "res = Solution().numDecodings(s)\n",
    "res"
   ]
  },
  {
   "cell_type": "code",
   "execution_count": null,
   "metadata": {
    "collapsed": true
   },
   "outputs": [],
   "source": [
    "# 32s\n",
    "class Solution(object):\n",
    "    def numDecodings(self, s):\n",
    "        \"\"\"\n",
    "        :type s: str\n",
    "        :rtype: int\n",
    "        \"\"\"\n",
    "        dp1, dp2, dp3 = 1, 0, 0\n",
    "        res = 0\n",
    "        \n",
    "        for c in s:\n",
    "            tmp1 = (c != '0') * dp1 + dp2 + (c < '7') * dp3\n",
    "            tmp2 = (c == '1') * dp1\n",
    "            tmp3 = (c == '2') * dp1\n",
    "            dp1, dp2, dp3 = tmp1, tmp2, tmp3\n",
    "            \n",
    "            if dp1 == 0 and dp2 == 0 and dp3 == 0:\n",
    "                return 0\n",
    "            \n",
    "        return dp1 if len(s) else 0"
   ]
  }
 ],
 "metadata": {
  "kernelspec": {
   "display_name": "Python 3",
   "language": "python",
   "name": "python3"
  },
  "language_info": {
   "codemirror_mode": {
    "name": "ipython",
    "version": 3
   },
   "file_extension": ".py",
   "mimetype": "text/x-python",
   "name": "python",
   "nbconvert_exporter": "python",
   "pygments_lexer": "ipython3",
   "version": "3.5.2"
  }
 },
 "nbformat": 4,
 "nbformat_minor": 2
}
