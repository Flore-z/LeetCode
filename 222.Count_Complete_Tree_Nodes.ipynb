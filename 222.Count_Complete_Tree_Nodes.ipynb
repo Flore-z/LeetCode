{
 "cells": [
  {
   "cell_type": "code",
   "execution_count": null,
   "metadata": {
    "collapsed": true
   },
   "outputs": [],
   "source": [
    "Question:\n",
    "Given a complete binary tree, count the number of nodes.\n",
    "Definition of a complete binary tree from Wikipedia:\n",
    "In a complete binary tree every level, except possibly the last, is completely filled, and all nodes in the \n",
    "last level are as far left as possible. It can have between 1 and 2h nodes inclusive at the last level h."
   ]
  },
  {
   "cell_type": "code",
   "execution_count": 1,
   "metadata": {},
   "outputs": [
    {
     "data": {
      "text/plain": [
       "4"
      ]
     },
     "execution_count": 1,
     "metadata": {},
     "output_type": "execute_result"
    }
   ],
   "source": [
    "# Time Limit Exceeded\n",
    "# Definition for a binary tree node.\n",
    "class TreeNode(object):\n",
    "    def __init__(self, x):\n",
    "        self.val = x\n",
    "        self.left = None\n",
    "        self.right = None\n",
    "\n",
    "class Solution(object):\n",
    "    def countNodes(self, root):\n",
    "        \"\"\"\n",
    "        :type root: TreeNode\n",
    "        :rtype: int\n",
    "        \"\"\"\n",
    "        if not root:\n",
    "            return 0\n",
    "        stack, n = [root], 1\n",
    "        while stack:\n",
    "            stk = []\n",
    "            while stack:\n",
    "                p = stack.pop()\n",
    "                if p.left:\n",
    "                    stk.append(p.left)\n",
    "                if p.right:\n",
    "                    stk.append(p.right)\n",
    "            n += len(stk)\n",
    "            stack = stk\n",
    "        return n\n",
    "    \n",
    "root = TreeNode(1)\n",
    "root.left = TreeNode(2);p = root.left\n",
    "root.right = TreeNode(3)\n",
    "p.left = TreeNode(4)\n",
    "\n",
    "Solution().countNodes(root)"
   ]
  },
  {
   "cell_type": "code",
   "execution_count": null,
   "metadata": {},
   "outputs": [
    {
     "data": {
      "text/plain": [
       "5"
      ]
     },
     "execution_count": 11,
     "metadata": {},
     "output_type": "execute_result"
    }
   ],
   "source": [
    "class Solution(object):\n",
    "    def countNodes(self, root):\n",
    "        \"\"\"\n",
    "        :type root: TreeNode\n",
    "        :rtype: int\n",
    "        \"\"\"\n",
    "        def height(root):\n",
    "            p, h = root, 0\n",
    "            while p:\n",
    "                h += 1\n",
    "                p = p.left\n",
    "            return h\n",
    "        \n",
    "        if not root:\n",
    "            return 0\n",
    "        count = 0\n",
    "        while root:\n",
    "            hl = height(root.left)\n",
    "            hr = height(root.right)\n",
    "            if hl == hr:  # 左子树是满二叉树\n",
    "                count += 2 ** hl - 1 + 1\n",
    "                root = root.right\n",
    "            else:         # 右子树是满二叉树\n",
    "                count += 2 ** hr - 1 + 1\n",
    "                root = root.left\n",
    "        return count\n",
    "    \n",
    "root = TreeNode(1)\n",
    "root.left = TreeNode(2);p = root.left\n",
    "root.right = TreeNode(3)\n",
    "p.left = TreeNode(4);p.right = TreeNode(5)\n",
    "\n",
    "Solution().countNodes(root)"
   ]
  }
 ],
 "metadata": {
  "kernelspec": {
   "display_name": "Python 3",
   "language": "python",
   "name": "python3"
  },
  "language_info": {
   "codemirror_mode": {
    "name": "ipython",
    "version": 3
   },
   "file_extension": ".py",
   "mimetype": "text/x-python",
   "name": "python",
   "nbconvert_exporter": "python",
   "pygments_lexer": "ipython3",
   "version": "3.5.2"
  }
 },
 "nbformat": 4,
 "nbformat_minor": 2
}
