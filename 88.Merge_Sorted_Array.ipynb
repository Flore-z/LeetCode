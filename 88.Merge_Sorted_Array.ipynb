{
 "cells": [
  {
   "cell_type": "code",
   "execution_count": 8,
   "metadata": {},
   "outputs": [
    {
     "name": "stdout",
     "output_type": "stream",
     "text": [
      "1 2 3 4 5 6 "
     ]
    }
   ],
   "source": [
    "class Solution(object):\n",
    "    def merge(self, nums1, m, nums2, n):\n",
    "        \"\"\"\n",
    "        :type nums1: List[int]\n",
    "        :type m: int\n",
    "        :type nums2: List[int]\n",
    "        :type n: int\n",
    "        :rtype: void Do not return anything, modify nums1 in-place instead.\n",
    "        \"\"\"\n",
    "        if not nums1 or not nums2:\n",
    "            return\n",
    "        if nums1[0] <= nums1[m-1] and nums2[0] <= nums2[n-1]:\n",
    "            flag = 1\n",
    "        else:\n",
    "            flag = 0\n",
    "        \n",
    "        i = m - 1; j = n - 1\n",
    "        for k in range(m+n-1, -1, -1):\n",
    "            if i < 0:\n",
    "                nums1[k] = nums2[j]\n",
    "                j = j - 1\n",
    "            elif j < 0:\n",
    "                nums1[k] = nums1[i]\n",
    "                i = i - 1\n",
    "            else:\n",
    "                if flag == 1:\n",
    "                    if nums1[i] >= nums2[j]:\n",
    "                        nums1[k] = nums1[i]\n",
    "                        i = i - 1\n",
    "                    else:\n",
    "                        nums1[k] = nums2[j]\n",
    "                        j = j - 1\n",
    "                else:\n",
    "                    if nums1[i] <= nums2[j]:\n",
    "                        nums1[k] = nums1[i]\n",
    "                        i = i - 1\n",
    "                    else:\n",
    "                        nums1[k] = nums2[j]\n",
    "                        j = j - 1\n",
    "                    \n",
    "nums1 = [1,2,4,5,6,0]\n",
    "nums2 = [3]\n",
    "Solution().merge(nums1, 5, nums2, 1)\n",
    "for i in range(len(nums1)):\n",
    "    print(nums1[i], end = \" \")"
   ]
  },
  {
   "cell_type": "code",
   "execution_count": 7,
   "metadata": {},
   "outputs": [
    {
     "name": "stdout",
     "output_type": "stream",
     "text": [
      "1 2 3 4 5 6 "
     ]
    }
   ],
   "source": [
    "class Solution(object):\n",
    "    def merge(self, nums1, m, nums2, n):\n",
    "        \"\"\"\n",
    "        :type nums1: List[int]\n",
    "        :type m: int\n",
    "        :type nums2: List[int]\n",
    "        :type n: int\n",
    "        :rtype: void Do not return anything, modify nums1 in-place instead.\n",
    "        \"\"\"\n",
    "        tmp = [0 for i in range(m + n)]\n",
    "        i = 0; j = 0; k = 0\n",
    "        while i < m and j < n:\n",
    "            if nums1[i] <= nums2[j]:\n",
    "                tmp[k] = nums1[i]; i += 1\n",
    "            else:\n",
    "                tmp[k] = nums2[j]; j += 1\n",
    "            k += 1\n",
    "        if i == m:\n",
    "            while k < m + n:\n",
    "                tmp[k] = nums2[j]; k += 1; j += 1\n",
    "        else:  # else j < n\n",
    "            while k < m + n:\n",
    "                tmp[k] = nums1[i]; i += 1; k += 1\n",
    "        for i in range(0, m + n):\n",
    "            nums1[i] = tmp[i] \n",
    "            \n",
    "nums1 = [1,2,4,5,6,0]\n",
    "nums2 = [3]\n",
    "Solution().merge(nums1, 5, nums2, 1)\n",
    "for i in range(len(nums1)):\n",
    "    print(nums1[i], end = \" \")"
   ]
  },
  {
   "cell_type": "code",
   "execution_count": null,
   "metadata": {
    "collapsed": true
   },
   "outputs": [],
   "source": [
    "class Solution:\n",
    "    def merge(self, A, m, B, n):\n",
    "        #从后往前填空\n",
    "        #因为是合并到A里面去\n",
    "        last, i, j = m + n - 1, m - 1, n - 1\n",
    "        while i >= 0 and j >= 0:\n",
    "            if A[i] > B[j]:\n",
    "                A[last] = A[i]\n",
    "                i -= 1\n",
    "            else:\n",
    "                A[last] = B[j]\n",
    "                j -= 1\n",
    "            last -= 1\n",
    "        while j >= 0:\n",
    "            A[last] = B[j]\n",
    "            j, last = j - 1, last - 1"
   ]
  }
 ],
 "metadata": {
  "kernelspec": {
   "display_name": "Python 3",
   "language": "python",
   "name": "python3"
  },
  "language_info": {
   "codemirror_mode": {
    "name": "ipython",
    "version": 3
   },
   "file_extension": ".py",
   "mimetype": "text/x-python",
   "name": "python",
   "nbconvert_exporter": "python",
   "pygments_lexer": "ipython3",
   "version": "3.5.2"
  }
 },
 "nbformat": 4,
 "nbformat_minor": 2
}
