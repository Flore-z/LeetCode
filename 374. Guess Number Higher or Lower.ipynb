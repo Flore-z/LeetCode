{
 "cells": [
  {
   "cell_type": "code",
   "execution_count": null,
   "metadata": {
    "collapsed": true
   },
   "outputs": [],
   "source": [
    "Question:\n",
    "We are playing the Guess Game. The game is as follows:\n",
    "I pick a number from 1 to n. You have to guess which number I picked.\n",
    "Every time you guess wrong, I'll tell you whether the number is higher or lower.\n",
    "You call a pre-defined API guess(int num) which returns 3 possible results (-1, 1, or 0):\n",
    "-1 : My number is lower\n",
    " 1 : My number is higher\n",
    " 0 : Congrats! You got it!\n",
    "    \n",
    "Example:\n",
    "n = 10, I pick 6.\n",
    "Return 6."
   ]
  },
  {
   "cell_type": "code",
   "execution_count": null,
   "metadata": {
    "collapsed": true
   },
   "outputs": [],
   "source": [
    "# The guess API is already defined for you.\n",
    "# @param num, your guess\n",
    "# @return -1 if my number is lower, 1 if my number is higher, otherwise return 0\n",
    "# def guess(num):\n",
    "\n",
    "# binary search\n",
    "class Solution(object):\n",
    "    def guessNumber(self, n):\n",
    "        \"\"\"\n",
    "        :type n: int\n",
    "        :rtype: int\n",
    "        \"\"\"\n",
    "        l, r = 1, n\n",
    "        while l <= r:\n",
    "            mid = (l+r) // 2\n",
    "            tag = guess(mid)\n",
    "            if tag == 0:\n",
    "                return mid\n",
    "            elif tag == -1:\n",
    "                r = mid-1\n",
    "            else:\n",
    "                l = mid+1"
   ]
  }
 ],
 "metadata": {
  "kernelspec": {
   "display_name": "Python 3",
   "language": "python",
   "name": "python3"
  },
  "language_info": {
   "codemirror_mode": {
    "name": "ipython",
    "version": 3
   },
   "file_extension": ".py",
   "mimetype": "text/x-python",
   "name": "python",
   "nbconvert_exporter": "python",
   "pygments_lexer": "ipython3",
   "version": "3.5.2"
  }
 },
 "nbformat": 4,
 "nbformat_minor": 2
}
