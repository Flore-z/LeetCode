{
 "cells": [
  {
   "cell_type": "code",
   "execution_count": null,
   "metadata": {
    "collapsed": true
   },
   "outputs": [],
   "source": [
    "Question：\n",
    "Given a list of airline tickets represented by pairs of departure and arrival airports [from, to], reconstruct \n",
    "the itinerary in order. All of the tickets belong to a man who departs from JFK. Thus, the itinerary must begin \n",
    "with JFK.\n",
    "Note:\n",
    "1.\tIf there are multiple valid itineraries, you should return the itinerary that has the smallest lexical order\n",
    "    when read as a single string. For example, the itinerary [\"JFK\", \"LGA\"] has a smaller lexical order than \n",
    "    [\"JFK\", \"LGB\"].\n",
    "2.\tAll airports are represented by three capital letters (IATA code).\n",
    "3.\tYou may assume all tickets form at least one valid itinerary."
   ]
  },
  {
   "cell_type": "code",
   "execution_count": 1,
   "metadata": {},
   "outputs": [
    {
     "name": "stdout",
     "output_type": "stream",
     "text": [
      "['JFK', 'NRT', 'JFK', 'KUL']\n"
     ]
    }
   ],
   "source": [
    "# dfs\n",
    "class Solution(object):\n",
    "    def findItinerary(self, tickets):\n",
    "        \"\"\"\n",
    "        :type tickets: List[List[str]]\n",
    "        :rtype: List[str]\n",
    "        \"\"\"\n",
    "        if not tickets:\n",
    "            return []\n",
    "\n",
    "        import collections\n",
    "        maps = collections.defaultdict(list)\n",
    "        for x, y in tickets:\n",
    "            maps[x].append(y)\n",
    "        for x in maps:\n",
    "            maps[x].sort()\n",
    "\n",
    "        n, res = len(tickets)+1, ['JFK']\n",
    "        def dfs(start, maps, res):\n",
    "            if start not in maps or not maps[start]:\n",
    "                return\n",
    "            for i in range(len(maps[start])):\n",
    "                next = maps[start].pop(i)\n",
    "                res.append(next)\n",
    "                dfs(next, maps, res)\n",
    "                if len(res) == n:\n",
    "                    break\n",
    "                else:\n",
    "                    res.pop()\n",
    "                    maps[start].insert(i,next)\n",
    "\n",
    "        dfs(\"JFK\", maps, res)\n",
    "        return res\n",
    "\n",
    "tickets = [[\"MUC\", \"LHR\"], [\"JFK\", \"MUC\"], [\"SFO\", \"SJC\"], [\"LHR\", \"SFO\"]]\n",
    "tickets = [[\"JFK\",\"SFO\"],[\"JFK\",\"ATL\"],[\"SFO\",\"ATL\"],[\"ATL\",\"JFK\"],[\"ATL\",\"SFO\"]]\n",
    "tickets = [[\"JFK\",\"KUL\"],[\"JFK\",\"NRT\"],[\"NRT\",\"JFK\"]]\n",
    "res = Solution().findItinerary(tickets)\n",
    "print(res)"
   ]
  },
  {
   "cell_type": "code",
   "execution_count": 3,
   "metadata": {},
   "outputs": [
    {
     "name": "stdout",
     "output_type": "stream",
     "text": [
      "['JFK', 'NRT', 'JFK', 'KUL']\n"
     ]
    }
   ],
   "source": [
    "# dfs\n",
    "import collections\n",
    "class Solution(object):\n",
    "    def findItinerary(self, tickets):\n",
    "        \"\"\"\n",
    "        :type tickets: List[List[str]]\n",
    "        :rtype: List[str]\n",
    "        \"\"\"\n",
    "        d = collections.defaultdict(list)\n",
    "        for a, b in tickets:\n",
    "            d[a].append(b)\n",
    "        for k in d:\n",
    "            d[k].sort()\n",
    "        \n",
    "        def dfs(airport):\n",
    "            while d[airport]:\n",
    "                dfs(d[airport].pop(0))\n",
    "            res.append(airport)\n",
    "        \n",
    "        res = list()\n",
    "        dfs('JFK')\n",
    "        res.reverse()\n",
    "        return res\n",
    "\n",
    "tickets = [[\"MUC\", \"LHR\"], [\"JFK\", \"MUC\"], [\"SFO\", \"SJC\"], [\"LHR\", \"SFO\"]]\n",
    "tickets = [[\"JFK\",\"SFO\"],[\"JFK\",\"ATL\"],[\"SFO\",\"ATL\"],[\"ATL\",\"JFK\"],[\"ATL\",\"SFO\"]]\n",
    "tickets = [[\"JFK\",\"KUL\"],[\"JFK\",\"NRT\"],[\"NRT\",\"JFK\"]]\n",
    "res = Solution().findItinerary(tickets)\n",
    "print(res)"
   ]
  }
 ],
 "metadata": {
  "kernelspec": {
   "display_name": "Python 3",
   "language": "python",
   "name": "python3"
  },
  "language_info": {
   "codemirror_mode": {
    "name": "ipython",
    "version": 3
   },
   "file_extension": ".py",
   "mimetype": "text/x-python",
   "name": "python",
   "nbconvert_exporter": "python",
   "pygments_lexer": "ipython3",
   "version": "3.5.2"
  }
 },
 "nbformat": 4,
 "nbformat_minor": 2
}
