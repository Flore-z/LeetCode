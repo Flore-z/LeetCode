{
 "cells": [
  {
   "cell_type": "code",
   "execution_count": 1,
   "metadata": {},
   "outputs": [
    {
     "name": "stdout",
     "output_type": "stream",
     "text": [
      "[1, 5]\n",
      "[6, 9]\n"
     ]
    }
   ],
   "source": [
    " class Interval(object):\n",
    "    def __init__(self, s=0, e=0):\n",
    "        self.start = s\n",
    "        self.end = e\n",
    "\n",
    "class Solution(object):\n",
    "    def merge(self, intervals):\n",
    "        \"\"\"\n",
    "        :type intervals: List[Interval]\n",
    "        :rtype: List[Interval]\n",
    "        \"\"\"\n",
    "        result = []\n",
    "        intervals.sort(key = lambda x:x.start)\n",
    "\n",
    "        for i in intervals:\n",
    "            if result and i.start <= result[-1].end :\n",
    "                result[-1].end = max(i.end, result[-1].end)\n",
    "                result[-1].start = min(i.start, result[-1].start)\n",
    "            else:\n",
    "                result.append(i)\n",
    "        \n",
    "        return result\n",
    "    \n",
    "    def insert(self, intervals, newInterval):\n",
    "        \"\"\"\n",
    "        :type intervals: List[Interval]\n",
    "        :type newInterval: Interval\n",
    "        :rtype: List[Interval]\n",
    "        \"\"\"\n",
    "        res = []\n",
    "        intervals.append(newInterval)\n",
    "        res = Solution().merge(intervals)\n",
    "        return res\n",
    "    \n",
    "    \n",
    "x1 = Interval(1,3)\n",
    "x2 = Interval(6,9)\n",
    "intervals = [x1,x2]\n",
    "newInterval = Interval(2,5)\n",
    "res = Solution().insert(intervals,newInterval)\n",
    "for i in range(len(res)):\n",
    "    print([res[i].start,res[i].end])\n"
   ]
  },
  {
   "cell_type": "code",
   "execution_count": 24,
   "metadata": {},
   "outputs": [
    {
     "name": "stdout",
     "output_type": "stream",
     "text": [
      "[1, 2]\n",
      "[3, 5]\n",
      "[6, 7]\n",
      "[8, 10]\n",
      "[12, 16]\n"
     ]
    }
   ],
   "source": [
    "class Interval(object):\n",
    "    def __init__(self, s=0, e=0):\n",
    "        self.start = s\n",
    "        self.end = e\n",
    "\n",
    "class Solution(object):\n",
    "    def insert(self, intervals, newInterval):\n",
    "        \"\"\"\n",
    "        :type intervals: List[Interval]\n",
    "        :type newInterval: Interval\n",
    "        :rtype: List[Interval]\n",
    "        \"\"\"\n",
    "        if len(intervals)==0:\n",
    "            return [newInterval]\n",
    "        \n",
    "        if newInterval.end < intervals[0].start:\n",
    "            intervals.insert(0,newInterval)\n",
    "            return intervals\n",
    "        if newInterval.start > intervals[len(intervals)-1].end:\n",
    "            intervals.append(newInterval)\n",
    "            return intervals\n",
    "        \n",
    "        res = []\n",
    "        mid = Interval(0,0)\n",
    "        for i in range(len(intervals)):\n",
    "            if newInterval.start > intervals[i].end:\n",
    "                res.append(intervals[i])\n",
    "                if i<len(intervals)-1 and newInterval.end < intervals[i+1].start:\n",
    "                    res.append(newInterval)\n",
    "            elif newInterval.end < intervals[i].start:\n",
    "                res.append(intervals[i])\n",
    "            else:\n",
    "                mid = newInterval\n",
    "                mid.start = min(intervals[i].start,mid.start)\n",
    "                mid.end = max(intervals[i].end,mid.end)\n",
    "                if i == len(intervals)-1 or newInterval.end < intervals[i+1].start:\n",
    "                    res.append(mid)\n",
    "            \n",
    "        return res\n",
    "'''\n",
    "x1 = Interval(1,3)\n",
    "x2 = Interval(6,9)\n",
    "intervals = [x1,x2]\n",
    "newInterval = Interval(2,5)\n",
    "'''\n",
    "x1 = Interval(1,2)\n",
    "x2 = Interval(3,5)\n",
    "# x3 = Interval(6,7)\n",
    "x4 = Interval(8,10)\n",
    "x5 = Interval(12,16)\n",
    "intervals = [x1,x2,x4,x5]\n",
    "newInterval = Interval(6,7)\n",
    "\n",
    "res = Solution().insert(intervals,newInterval)\n",
    "for i in res:\n",
    "    print([i.start, i.end])\n"
   ]
  },
  {
   "cell_type": "code",
   "execution_count": null,
   "metadata": {
    "collapsed": true
   },
   "outputs": [],
   "source": []
  }
 ],
 "metadata": {
  "kernelspec": {
   "display_name": "Python 3",
   "language": "python",
   "name": "python3"
  },
  "language_info": {
   "codemirror_mode": {
    "name": "ipython",
    "version": 3
   },
   "file_extension": ".py",
   "mimetype": "text/x-python",
   "name": "python",
   "nbconvert_exporter": "python",
   "pygments_lexer": "ipython3",
   "version": "3.5.2"
  }
 },
 "nbformat": 4,
 "nbformat_minor": 2
}
