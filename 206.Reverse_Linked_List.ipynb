{
 "cells": [
  {
   "cell_type": "code",
   "execution_count": null,
   "metadata": {
    "collapsed": true
   },
   "outputs": [],
   "source": [
    "Question:\n",
    "Reverse a singly linked list."
   ]
  },
  {
   "cell_type": "code",
   "execution_count": 1,
   "metadata": {},
   "outputs": [
    {
     "name": "stdout",
     "output_type": "stream",
     "text": [
      "1 2 3 \n",
      "\n",
      "3 2 1 "
     ]
    }
   ],
   "source": [
    "# Iterative\n",
    "# Definition for singly-linked list.\n",
    "class ListNode(object):\n",
    "    def __init__(self, x):\n",
    "        self.val = x\n",
    "        self.next = None\n",
    "\n",
    "class Solution(object):\n",
    "    def reverseList(self, head):\n",
    "        \"\"\"\n",
    "        :type head: ListNode\n",
    "        :rtype: ListNode\n",
    "        \"\"\"\n",
    "        cur, pre = head, None\n",
    "        while cur:\n",
    "            nx = cur.next\n",
    "            cur.next = pre\n",
    "            pre = cur\n",
    "            cur = nx\n",
    "        return pre\n",
    "\n",
    "head = ListNode(1);p = head\n",
    "p.next = ListNode(2);p = p.next\n",
    "p.next = ListNode(3)\n",
    "\n",
    "p = head\n",
    "while p: print(p.val, end=\" \");p = p.next\n",
    "print(\"\\n\")\n",
    "head = Solution().reverseList(head)\n",
    "p = head\n",
    "while p: print(p.val, end=\" \");p = p.next"
   ]
  },
  {
   "cell_type": "code",
   "execution_count": 12,
   "metadata": {},
   "outputs": [
    {
     "name": "stdout",
     "output_type": "stream",
     "text": [
      "1 2 3 \n",
      "\n",
      "3 2 1 "
     ]
    }
   ],
   "source": [
    "# Recursive\n",
    "class Solution(object):\n",
    "    def reverseList(self, head):\n",
    "        \"\"\"\n",
    "        :type head: ListNode\n",
    "        :rtype: ListNode\n",
    "        \"\"\"\n",
    "        if not head or not head.next:\n",
    "            return head\n",
    "        p = self.reverseList(head.next)\n",
    "        head.next.next = head\n",
    "        head.next = None\n",
    "        return p\n",
    "    \n",
    "head = ListNode(1);p = head\n",
    "p.next = ListNode(2);p = p.next\n",
    "p.next = ListNode(3)\n",
    "\n",
    "p = head\n",
    "while p: print(p.val, end=\" \");p = p.next\n",
    "print(\"\\n\")\n",
    "head = Solution().reverseList(head)\n",
    "p = head\n",
    "while p: print(p.val, end=\" \");p = p.next"
   ]
  }
 ],
 "metadata": {
  "kernelspec": {
   "display_name": "Python 3",
   "language": "python",
   "name": "python3"
  },
  "language_info": {
   "codemirror_mode": {
    "name": "ipython",
    "version": 3
   },
   "file_extension": ".py",
   "mimetype": "text/x-python",
   "name": "python",
   "nbconvert_exporter": "python",
   "pygments_lexer": "ipython3",
   "version": "3.5.2"
  }
 },
 "nbformat": 4,
 "nbformat_minor": 2
}
