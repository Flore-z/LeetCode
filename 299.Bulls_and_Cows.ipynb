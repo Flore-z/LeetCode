{
 "cells": [
  {
   "cell_type": "code",
   "execution_count": null,
   "metadata": {
    "collapsed": true
   },
   "outputs": [],
   "source": [
    "Question:\n",
    "You are playing the following Bulls and Cows game with your friend: You write down a number and ask your friend \n",
    "to guess what the number is. Each time your friend makes a guess, you provide a hint that indicates how many \n",
    "digits in said guess match your secret number exactly in both digit and position (called \"bulls\") and how many \n",
    "digits match the secret number but locate in the wrong position (called \"cows\"). Your friend will use successive \n",
    "guesses and hints to eventually derive the secret number.\n",
    "\n",
    "For example:\n",
    "Secret number:  \"1807\"\n",
    "Friend's guess: \"7810\"\n",
    "Hint: 1 bull and 3 cows. (The bull is 8, the cows are 0, 1 and 7.)\n",
    "Write a function to return a hint according to the secret number and friend's guess, use A to indicate the bulls\n",
    "and B to indicate the cows. In the above example, your function should return \"1A3B\".\n",
    "\n",
    "Please note that both secret number and friend's guess may contain duplicate digits, for example:\n",
    "Secret number:  \"1123\"\n",
    "Friend's guess: \"0111\"\n",
    "In this case, the 1st 1 in friend's guess is a bull, the 2nd or 3rd 1 is a cow, and your function should return \n",
    "\"1A1B\".\n",
    "You may assume that the secret number and your friend's guess only contain digits, and their lengths are always \n",
    "equal."
   ]
  },
  {
   "cell_type": "code",
   "execution_count": 12,
   "metadata": {},
   "outputs": [
    {
     "data": {
      "text/plain": [
       "'1A1B'"
      ]
     },
     "execution_count": 12,
     "metadata": {},
     "output_type": "execute_result"
    }
   ],
   "source": [
    "# hash table\n",
    "class Solution(object):\n",
    "    def getHint(self, secret, guess):\n",
    "        \"\"\"\n",
    "        :type secret: str\n",
    "        :type guess: str\n",
    "        :rtype: str\n",
    "        \"\"\"\n",
    "        import collections\n",
    "        bull, cow = 0, 0\n",
    "        d1, d2 = collections.defaultdict(int), collections.defaultdict(int)\n",
    "        for i in range(len(secret)):\n",
    "            if secret[i] == guess[i]:\n",
    "                bull += 1\n",
    "            else:\n",
    "                d1[secret[i]] += 1\n",
    "                d2[guess[i]] += 1\n",
    "                \n",
    "        for c, n in d1.items():\n",
    "            cow += min(n, d2[c])\n",
    "                    \n",
    "        return str(bull)+\"A\"+str(cow)+\"B\"\n",
    "    \n",
    "secret = \"1807\";guess = \"7810\"\n",
    "secret = \"1123\";guess = \"0111\"\n",
    "Solution().getHint(secret, guess)"
   ]
  }
 ],
 "metadata": {
  "kernelspec": {
   "display_name": "Python 3",
   "language": "python",
   "name": "python3"
  },
  "language_info": {
   "codemirror_mode": {
    "name": "ipython",
    "version": 3
   },
   "file_extension": ".py",
   "mimetype": "text/x-python",
   "name": "python",
   "nbconvert_exporter": "python",
   "pygments_lexer": "ipython3",
   "version": "3.5.2"
  }
 },
 "nbformat": 4,
 "nbformat_minor": 2
}
