{
 "cells": [
  {
   "cell_type": "code",
   "execution_count": null,
   "metadata": {},
   "outputs": [],
   "source": [
    "Question:\n",
    "Given an arbitrary ransom note string and another string containing letters from all the magazines, write a \n",
    "function that will return true if the ransom note can be constructed from the magazines ; otherwise, it will \n",
    "return false.\n",
    "Each letter in the magazine string can only be used once in your ransom note.\n",
    "\n",
    "Note:\n",
    "You may assume that both strings contain only lowercase letters.\n",
    "\n",
    "canConstruct(\"a\", \"b\") -> false\n",
    "canConstruct(\"aa\", \"ab\") -> false\n",
    "canConstruct(\"aa\", \"aab\") -> true"
   ]
  },
  {
   "cell_type": "code",
   "execution_count": 2,
   "metadata": {},
   "outputs": [
    {
     "data": {
      "text/plain": [
       "True"
      ]
     },
     "execution_count": 2,
     "metadata": {},
     "output_type": "execute_result"
    }
   ],
   "source": [
    "class Solution(object):\n",
    "    def canConstruct(self, ransomNote, magazine):\n",
    "        \"\"\"\n",
    "        :type ransomNote: str\n",
    "        :type magazine: str\n",
    "        :rtype: bool\n",
    "        \"\"\"\n",
    "        if not ransomNote:\n",
    "            return True\n",
    "        if not magazine:\n",
    "            return False\n",
    "        \n",
    "        from collections import defaultdict\n",
    "        table = defaultdict(int)\n",
    "        for s in magazine:\n",
    "            if s in table:\n",
    "                table[s] += 1\n",
    "            else:\n",
    "                table[s] = 1\n",
    "                \n",
    "        for s in ransomNote:\n",
    "            if s not in table:\n",
    "                return False\n",
    "            table[s] -= 1\n",
    "            if table[s] == 0:\n",
    "                del table[s]\n",
    "        return True\n",
    "        \n",
    "ransomNote, magazine = \"aa\", \"ab\"\n",
    "ransomNote, magazine = \"aa\", \"aab\"\n",
    "Solution().canConstruct(ransomNote, magazine)"
   ]
  },
  {
   "cell_type": "code",
   "execution_count": 3,
   "metadata": {},
   "outputs": [
    {
     "data": {
      "text/plain": [
       "True"
      ]
     },
     "execution_count": 3,
     "metadata": {},
     "output_type": "execute_result"
    }
   ],
   "source": [
    "class Solution(object):\n",
    "    def canConstruct(self, ransomNote, magazine):\n",
    "        \"\"\"\n",
    "        :type ransomNote: str\n",
    "        :type magazine: str\n",
    "        :rtype: bool\n",
    "        \"\"\"\n",
    "        d={}\n",
    "        for i in ransomNote:\n",
    "            d[i]=d.get(i,0)+1\n",
    "        for i in d.keys():\n",
    "            if d[i]>magazine.count(i):\n",
    "                return False\n",
    "        return True\n",
    "    \n",
    "ransomNote, magazine = \"aa\", \"ab\"\n",
    "ransomNote, magazine = \"aa\", \"aab\"\n",
    "Solution().canConstruct(ransomNote, magazine)"
   ]
  }
 ],
 "metadata": {
  "kernelspec": {
   "display_name": "Python 3",
   "language": "python",
   "name": "python3"
  },
  "language_info": {
   "codemirror_mode": {
    "name": "ipython",
    "version": 3
   },
   "file_extension": ".py",
   "mimetype": "text/x-python",
   "name": "python",
   "nbconvert_exporter": "python",
   "pygments_lexer": "ipython3",
   "version": "3.5.1"
  }
 },
 "nbformat": 4,
 "nbformat_minor": 2
}
