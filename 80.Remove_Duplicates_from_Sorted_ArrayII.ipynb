{
 "cells": [
  {
   "cell_type": "code",
   "execution_count": 56,
   "metadata": {},
   "outputs": [
    {
     "name": "stdout",
     "output_type": "stream",
     "text": [
      "2\n",
      "[1, 1, 1]\n"
     ]
    }
   ],
   "source": [
    "class Solution(object):\n",
    "    def removeDuplicates(self, nums):\n",
    "        \"\"\"\n",
    "        :type nums: List[int]\n",
    "        :rtype: int\n",
    "        \"\"\"\n",
    "        if not nums:\n",
    "            return 0\n",
    "        n = 1\n",
    "        i = 1\n",
    "        num = []\n",
    "        length = 0\n",
    "        while i < len(nums):\n",
    "            if nums[i] == nums[i-1]:\n",
    "                n += 1\n",
    "                i += 1\n",
    "            else:\n",
    "                if n > 2:\n",
    "                    num += nums[i-(n-2) : i]\n",
    "                    del nums[i-(n-2) : i]\n",
    "                    length += 2\n",
    "                    i -= (n-2)\n",
    "                    i += 1\n",
    "                else:\n",
    "                    i += 1\n",
    "                    length += n\n",
    "                n = 1    \n",
    "        \n",
    "        if n > 2:\n",
    "            length += 2\n",
    "        else:\n",
    "            length += n\n",
    "        nums += num\n",
    "        return length\n",
    "                \n",
    "nums = [1,1,1,2,2,3,3,3,4]\n",
    "nums = [1,1,1]\n",
    "res = Solution().removeDuplicates(nums)\n",
    "print(res)\n",
    "print(nums)"
   ]
  },
  {
   "cell_type": "code",
   "execution_count": 57,
   "metadata": {},
   "outputs": [
    {
     "name": "stdout",
     "output_type": "stream",
     "text": [
      "7\n",
      "[1, 1, 2, 2, 3, 3, 4, 3, 4]\n"
     ]
    }
   ],
   "source": [
    "class Solution(object):\n",
    "    def removeDuplicates(self, nums):\n",
    "        \"\"\"\n",
    "        :type nums: List[int]\n",
    "        :rtype: int\n",
    "        \"\"\"\n",
    "        i = 0\n",
    "        for n in nums:\n",
    "            if i < 2 or n > nums[i-2]:\n",
    "                nums[i] = n\n",
    "                i += 1\n",
    "        return i\n",
    "\n",
    "nums = [1,1,1,2,2,3,3,3,4]\n",
    "#nums = [1,1,1]\n",
    "res = Solution().removeDuplicates(nums)\n",
    "print(res)\n",
    "print(nums)"
   ]
  },
  {
   "cell_type": "code",
   "execution_count": 58,
   "metadata": {},
   "outputs": [
    {
     "name": "stdout",
     "output_type": "stream",
     "text": [
      "7\n",
      "[1, 1, 2, 2, 3, 3, 4, 3, 4]\n"
     ]
    }
   ],
   "source": [
    "class Solution(object):\n",
    "    def removeDuplicates(self, nums):\n",
    "        \"\"\"\n",
    "        :type nums: List[int]\n",
    "        :rtype: int\n",
    "        \"\"\"\n",
    "        if len(nums) <= 2:\n",
    "            return len(nums)\n",
    "        \n",
    "        i = 2\n",
    "        for n in nums[2:]:\n",
    "            if n > nums[i-2]:\n",
    "                nums[i] = n\n",
    "                i += 1\n",
    "        return i\n",
    "    \n",
    "nums = [1,1,1,2,2,3,3,3,4]\n",
    "#nums = [1,1,1]\n",
    "res = Solution().removeDuplicates(nums)\n",
    "print(res)\n",
    "print(nums)"
   ]
  },
  {
   "cell_type": "code",
   "execution_count": null,
   "metadata": {
    "collapsed": true
   },
   "outputs": [],
   "source": []
  }
 ],
 "metadata": {
  "kernelspec": {
   "display_name": "Python 3",
   "language": "python",
   "name": "python3"
  },
  "language_info": {
   "codemirror_mode": {
    "name": "ipython",
    "version": 3
   },
   "file_extension": ".py",
   "mimetype": "text/x-python",
   "name": "python",
   "nbconvert_exporter": "python",
   "pygments_lexer": "ipython3",
   "version": "3.5.2"
  }
 },
 "nbformat": 4,
 "nbformat_minor": 2
}
