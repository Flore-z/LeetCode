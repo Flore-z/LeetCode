{
 "cells": [
  {
   "cell_type": "code",
   "execution_count": null,
   "metadata": {
    "collapsed": true
   },
   "outputs": [],
   "source": [
    "Question：\n",
    "Given a linked list, determine if it has a cycle in it.\n",
    "Follow up:\n",
    "Can you solve it without using extra space?"
   ]
  },
  {
   "cell_type": "code",
   "execution_count": 4,
   "metadata": {},
   "outputs": [
    {
     "data": {
      "text/plain": [
       "True"
      ]
     },
     "execution_count": 4,
     "metadata": {},
     "output_type": "execute_result"
    }
   ],
   "source": [
    "# Definition for singly-linked list.\n",
    "class ListNode:\n",
    "    def __init__(self, x):\n",
    "        self.val = x\n",
    "        self.next = None\n",
    "\n",
    "class Solution:\n",
    "    def hasCycle(self, head):\n",
    "        \"\"\"\n",
    "        :type head: ListNode\n",
    "        :rtype: bool\n",
    "        \"\"\"\n",
    "        slow, fast = head, head\n",
    "        while fast:\n",
    "            slow = slow.next\n",
    "            if fast.next:\n",
    "                fast = fast.next.next\n",
    "            else:\n",
    "                return False\n",
    "            if slow == fast:\n",
    "                return True\n",
    "            \n",
    "        return False\n",
    "    \n",
    "head = ListNode(1);p = head\n",
    "p.next = ListNode(2);p = head.next\n",
    "p.next = ListNode(3);p = p.next\n",
    "p.next = ListNode(4);p = p.next\n",
    "p.next = head\n",
    "\n",
    "Solution().hasCycle(head)"
   ]
  },
  {
   "cell_type": "code",
   "execution_count": 5,
   "metadata": {},
   "outputs": [
    {
     "data": {
      "text/plain": [
       "True"
      ]
     },
     "execution_count": 5,
     "metadata": {},
     "output_type": "execute_result"
    }
   ],
   "source": [
    "class Solution(object):\n",
    "    def hasCycle(self, head):\n",
    "        \"\"\"\n",
    "        :type head: ListNode\n",
    "        :rtype: bool\n",
    "        \"\"\"\n",
    "        lookup = set()\n",
    "        \n",
    "        while head:\n",
    "            if head in lookup:\n",
    "                return True\n",
    "            lookup.add(head)\n",
    "            head = head.next\n",
    "        \n",
    "        return False\n",
    "\n",
    "head = ListNode(1);p = head\n",
    "p.next = ListNode(2);p = head.next\n",
    "p.next = ListNode(3);p = p.next\n",
    "p.next = ListNode(4);p = p.next\n",
    "p.next = head\n",
    "\n",
    "Solution().hasCycle(head)"
   ]
  }
 ],
 "metadata": {
  "kernelspec": {
   "display_name": "Python 3",
   "language": "python",
   "name": "python3"
  },
  "language_info": {
   "codemirror_mode": {
    "name": "ipython",
    "version": 3
   },
   "file_extension": ".py",
   "mimetype": "text/x-python",
   "name": "python",
   "nbconvert_exporter": "python",
   "pygments_lexer": "ipython3",
   "version": "3.5.2"
  }
 },
 "nbformat": 4,
 "nbformat_minor": 2
}
