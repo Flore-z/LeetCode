{
 "cells": [
  {
   "cell_type": "code",
   "execution_count": 1,
   "metadata": {},
   "outputs": [
    {
     "data": {
      "text/plain": [
       "5"
      ]
     },
     "execution_count": 1,
     "metadata": {},
     "output_type": "execute_result"
    }
   ],
   "source": [
    "# Definition for a binary tree node.\n",
    "class TreeNode(object):\n",
    "    def __init__(self, x):\n",
    "        self.val = x\n",
    "        self.left = None\n",
    "        self.right = None\n",
    "\n",
    "class Solution(object):\n",
    "    def generateTrees(self, n):\n",
    "        \"\"\"\n",
    "        :type n: int\n",
    "        :rtype: List[TreeNode]\n",
    "        \"\"\"\n",
    "        if n == 0:\n",
    "            return []\n",
    "        def BTrees(start, end):\n",
    "            res = []\n",
    "            if start > end:\n",
    "                return [None]\n",
    "            elif start == end:\n",
    "                return [TreeNode(start)]\n",
    "            else:\n",
    "                for i in range(start, end+1):\n",
    "                    left = BTrees(start, i-1)\n",
    "                    right = BTrees(i+1, end)\n",
    "                    for l in left:\n",
    "                        for r in right:\n",
    "                            root = TreeNode(i)\n",
    "                            root.left = l\n",
    "                            root.right = r\n",
    "                            res.append(root)\n",
    "            return res\n",
    "        return BTrees(1, n)\n",
    "    \n",
    "    def numTrees(self, n):\n",
    "        \"\"\"\n",
    "        :type n: int\n",
    "        :rtype: int\n",
    "        \"\"\"\n",
    "        return len(self.generateTrees(n))\n",
    "    \n",
    "Solution().numTrees(3)"
   ]
  },
  {
   "cell_type": "code",
   "execution_count": null,
   "metadata": {
    "collapsed": true
   },
   "outputs": [],
   "source": [
    "# class Solution(object):\n",
    "    def numTrees(self, n):\n",
    "        \"\"\"\n",
    "        :type n: int\n",
    "        :rtype: int\n",
    "        \"\"\"\n",
    "        if not n:\n",
    "            return 0\n",
    "        \n",
    "        def count(start, end):\n",
    "            num = 0\n",
    "            if start >= end:\n",
    "                return 1\n",
    "            else:\n",
    "                for i in range(start, end+1):\n",
    "                    left = count(start, i-1)\n",
    "                    right = count(i+1, end)\n",
    "                    num += left * right\n",
    "            return num\n",
    "        \n",
    "        return count(1,n)\n",
    "    \n",
    "Solution().numTrees(4)"
   ]
  },
  {
   "cell_type": "code",
   "execution_count": 10,
   "metadata": {},
   "outputs": [
    {
     "data": {
      "text/plain": [
       "14"
      ]
     },
     "execution_count": 10,
     "metadata": {},
     "output_type": "execute_result"
    }
   ],
   "source": [
    "# 29s\n",
    "class Solution(object):\n",
    "    def numTrees(self, n):\n",
    "        \"\"\"\n",
    "        :type n: int\n",
    "        :rtype: int\n",
    "        \"\"\"\n",
    "        if n == 0:\n",
    "            return 0\n",
    "        dp = [0] * (n+1)\n",
    "        dp[0], dp[1] = 1, 1\n",
    "        for i in range(2, n+1):\n",
    "            for j in range(1, i+1):\n",
    "                dp[i] += dp[j-1] * dp[i-j]\n",
    "#         print(dp)\n",
    "        return dp[n]\n",
    "    \n",
    "Solution().numTrees(4)"
   ]
  },
  {
   "cell_type": "code",
   "execution_count": 11,
   "metadata": {},
   "outputs": [
    {
     "data": {
      "text/plain": [
       "14"
      ]
     },
     "execution_count": 11,
     "metadata": {},
     "output_type": "execute_result"
    }
   ],
   "source": [
    "# 25s\n",
    "class Solution(object):\n",
    "    def numTrees(self, n):\n",
    "        \"\"\"\n",
    "        :type n: int\n",
    "        :rtype: int\n",
    "        \"\"\"\n",
    "        v=1;\n",
    "        for k in range(2,n+1):\n",
    "            v=v*(float(n)/float(k)+1)\n",
    "        return int(round(v))\n",
    "    \n",
    "Solution().numTrees(4)"
   ]
  },
  {
   "cell_type": "code",
   "execution_count": null,
   "metadata": {
    "collapsed": true
   },
   "outputs": [],
   "source": []
  }
 ],
 "metadata": {
  "kernelspec": {
   "display_name": "Python 3",
   "language": "python",
   "name": "python3"
  },
  "language_info": {
   "codemirror_mode": {
    "name": "ipython",
    "version": 3
   },
   "file_extension": ".py",
   "mimetype": "text/x-python",
   "name": "python",
   "nbconvert_exporter": "python",
   "pygments_lexer": "ipython3",
   "version": "3.5.2"
  }
 },
 "nbformat": 4,
 "nbformat_minor": 2
}
