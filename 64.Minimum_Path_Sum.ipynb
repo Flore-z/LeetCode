{
 "cells": [
  {
   "cell_type": "code",
   "execution_count": 37,
   "metadata": {},
   "outputs": [
    {
     "name": "stdout",
     "output_type": "stream",
     "text": [
      "[1, 4, 5]\n",
      "[2, 7, 6]\n",
      "[6, 8, 7]\n",
      "Wall time: 1e+03 µs\n"
     ]
    },
    {
     "data": {
      "text/plain": [
       "7"
      ]
     },
     "execution_count": 37,
     "metadata": {},
     "output_type": "execute_result"
    }
   ],
   "source": [
    "class Solution(object):\n",
    "    def minPathSum(self, grid):\n",
    "        \"\"\"\n",
    "        :type grid: List[List[int]]\n",
    "        :rtype: int\n",
    "        \"\"\"\n",
    "        x = len(grid)\n",
    "        if x == 0:\n",
    "            return 0\n",
    "        y = len(grid[0])\n",
    "        dp = grid\n",
    "        \n",
    "        for i in range(1,y):\n",
    "            dp[0][i] += dp[0][i-1]\n",
    "        for i in range(1,x):\n",
    "            dp[i][0] += dp[i-1][0]\n",
    "            \n",
    "        for i in range(1,x):\n",
    "            for j in range(1,y):\n",
    "                dp[i][j] += min(dp[i-1][j],dp[i][j-1])\n",
    "        \n",
    "        for i in range(x):\n",
    "            print(dp[i])\n",
    "        \n",
    "        return dp[-1][-1]\n",
    "    \n",
    "#grid = [[1,2,1],[4,0,6],[5,8,3]]\n",
    "#grid = [[1,4,3],[0,2,5],[6,7,8]]\n",
    "grid = [[1,3,1],[1,5,1],[4,2,1]]\n",
    "%time pathsum = Solution().minPathSum(grid)\n",
    "pathsum"
   ]
  },
  {
   "cell_type": "code",
   "execution_count": null,
   "metadata": {
    "collapsed": true
   },
   "outputs": [],
   "source": []
  }
 ],
 "metadata": {
  "kernelspec": {
   "display_name": "Python 3",
   "language": "python",
   "name": "python3"
  },
  "language_info": {
   "codemirror_mode": {
    "name": "ipython",
    "version": 3
   },
   "file_extension": ".py",
   "mimetype": "text/x-python",
   "name": "python",
   "nbconvert_exporter": "python",
   "pygments_lexer": "ipython3",
   "version": "3.4.3"
  }
 },
 "nbformat": 4,
 "nbformat_minor": 2
}
