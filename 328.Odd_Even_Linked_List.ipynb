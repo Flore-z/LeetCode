{
 "cells": [
  {
   "cell_type": "raw",
   "metadata": {},
   "source": [
    "Question：\n",
    "Given a singly linked list, group all odd nodes together followed by the even nodes. Please note here we are talking about the node number and not the value in the nodes.\n",
    "You should try to do it in place. The program should run in O(1) space complexity and O(nodes) time complexity."
   ]
  },
  {
   "cell_type": "code",
   "execution_count": 2,
   "metadata": {},
   "outputs": [
    {
     "name": "stdout",
     "output_type": "stream",
     "text": [
      "1 2 3 4 5 \n",
      "\n",
      "1 3 5 2 4 "
     ]
    }
   ],
   "source": [
    "# Definition for singly-linked list.\n",
    "class ListNode(object):\n",
    "    def __init__(self, x):\n",
    "        self.val = x\n",
    "        self.next = None\n",
    "\n",
    "class Solution(object):\n",
    "    def oddEvenList(self, head):\n",
    "        \"\"\"\n",
    "        :type head: ListNode\n",
    "        :rtype: ListNode\n",
    "        \"\"\"\n",
    "        if not head or not head.next:\n",
    "            return head\n",
    "        h1, h2 = head, head.next\n",
    "        i, p, p1, p2 = 3, head.next.next, h1, h2\n",
    "        while p:\n",
    "            if i % 2:\n",
    "                p1.next = p\n",
    "                p1 = p1.next\n",
    "            else:\n",
    "                p2.next = p\n",
    "                p2 = p2.next\n",
    "            p = p.next\n",
    "            i += 1\n",
    "        p1.next, p2.next = h2, None\n",
    "        return h1\n",
    "        \n",
    "head = ListNode(1);p = head\n",
    "p.next = ListNode(2);p = p.next\n",
    "p.next = ListNode(3);p = p.next\n",
    "p.next = ListNode(4);p = p.next\n",
    "p.next = ListNode(5)\n",
    "\n",
    "p = head\n",
    "while p:\n",
    "    print(p.val, end=\" \")\n",
    "    p = p.next\n",
    "print(\"\\n\")\n",
    "head = Solution().oddEvenList(head)\n",
    "p = head\n",
    "while p:\n",
    "    print(p.val, end=\" \")\n",
    "    p = p.next"
   ]
  },
  {
   "cell_type": "code",
   "execution_count": 3,
   "metadata": {},
   "outputs": [
    {
     "name": "stdout",
     "output_type": "stream",
     "text": [
      "1 2 3 4 5 \n",
      "\n",
      "1 3 5 2 4 "
     ]
    }
   ],
   "source": [
    "class Solution(object):\n",
    "    def oddEvenList(self, head):\n",
    "        \"\"\"\n",
    "        :type head: ListNode\n",
    "        :rtype: ListNode\n",
    "        \"\"\"\n",
    "        if not head or not head.next: return head\n",
    "        \n",
    "        odd = head; even = head.next; evenhead = even\n",
    "        \n",
    "        while even and even.next:\n",
    "            odd.next = odd.next.next\n",
    "            even.next = even.next.next\n",
    "            odd = odd.next\n",
    "            even = even.next\n",
    "            \n",
    "        odd.next = evenhead\n",
    "        return head\n",
    "    \n",
    "head = ListNode(1);p = head\n",
    "p.next = ListNode(2);p = p.next\n",
    "p.next = ListNode(3);p = p.next\n",
    "p.next = ListNode(4);p = p.next\n",
    "p.next = ListNode(5)\n",
    "\n",
    "p = head\n",
    "while p:\n",
    "    print(p.val, end=\" \")\n",
    "    p = p.next\n",
    "print(\"\\n\")\n",
    "head = Solution().oddEvenList(head)\n",
    "p = head\n",
    "while p:\n",
    "    print(p.val, end=\" \")\n",
    "    p = p.next"
   ]
  }
 ],
 "metadata": {
  "kernelspec": {
   "display_name": "Python 3",
   "language": "python",
   "name": "python3"
  },
  "language_info": {
   "codemirror_mode": {
    "name": "ipython",
    "version": 3
   },
   "file_extension": ".py",
   "mimetype": "text/x-python",
   "name": "python",
   "nbconvert_exporter": "python",
   "pygments_lexer": "ipython3",
   "version": "3.5.2"
  }
 },
 "nbformat": 4,
 "nbformat_minor": 2
}
