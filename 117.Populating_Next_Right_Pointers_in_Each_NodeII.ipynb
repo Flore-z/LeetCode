{
 "cells": [
  {
   "cell_type": "code",
   "execution_count": 3,
   "metadata": {},
   "outputs": [
    {
     "name": "stdout",
     "output_type": "stream",
     "text": [
      "2 3 4 5 6 7 8 9 14 15 "
     ]
    }
   ],
   "source": [
    "# Definition for binary tree with next pointer.\n",
    "class TreeLinkNode:\n",
    "    def __init__(self, x):\n",
    "        self.val = x\n",
    "        self.left = None\n",
    "        self.right = None\n",
    "        self.next = None\n",
    "\n",
    "class Solution:\n",
    "    # @param root, a tree link node\n",
    "    # @return nothing\n",
    "    def connect(self, root):\n",
    "        if not root:\n",
    "            return\n",
    "        stk = [root]\n",
    "        while stk:\n",
    "            for i in range(len(stk)-1):\n",
    "                stk[i].next = stk[i+1]\n",
    "            stk2 = []\n",
    "            for x in stk:\n",
    "                if x.left: stk2.append(x.left)\n",
    "                if x.right: stk2.append(x.right)\n",
    "            stk = stk2\n",
    "            \n",
    "root = TreeLinkNode(1)\n",
    "root.left = TreeLinkNode(2)\n",
    "p = root.left;p.left = TreeLinkNode(4);p.right = TreeLinkNode(5)\n",
    "q = p.left;q.left = TreeLinkNode(8);q.right = TreeLinkNode(9)\n",
    "# q = p.right;q.left = TreeLinkNode(10);q.right = TreeLinkNode(11)\n",
    "root.right = TreeLinkNode(3)\n",
    "p = root.right;p.left = TreeLinkNode(6);p.right = TreeLinkNode(7)\n",
    "# q = p.left;q.left = TreeLinkNode(12);q.right = TreeLinkNode(13)\n",
    "q = p.right;q.left = TreeLinkNode(14);q.right = TreeLinkNode(15)\n",
    "\n",
    "Solution().connect(root)\n",
    "\n",
    "p = root.left\n",
    "while p:\n",
    "    print(p.val, end=\" \")\n",
    "    p = p.next\n",
    "p = root.left.left\n",
    "while p:\n",
    "    print(p.val, end=\" \")\n",
    "    p = p.next\n",
    "p = root.left.left.left\n",
    "while p:\n",
    "    print(p.val, end=\" \")\n",
    "    p = p.next"
   ]
  },
  {
   "cell_type": "code",
   "execution_count": 6,
   "metadata": {},
   "outputs": [
    {
     "name": "stdout",
     "output_type": "stream",
     "text": [
      "2 3 4 5 6 7 8 9 14 15 "
     ]
    }
   ],
   "source": [
    "class Solution:\n",
    "    # @param root, a tree link node\n",
    "    # @return nothing\n",
    "    def connect(self, root):\n",
    "        if not root:\n",
    "            return\n",
    "        cur = root\n",
    "        while cur:\n",
    "            pre = None\n",
    "            nextLevelFirst = None\n",
    "            while cur:\n",
    "                if nextLevelFirst == None:\n",
    "                    nextLevelFirst = cur.left if cur.left else cur.right\n",
    "                if cur.left:\n",
    "                    if pre:\n",
    "                        pre.next = cur.left\n",
    "                    pre = cur.left\n",
    "                if cur.right:\n",
    "                    if pre:\n",
    "                        pre.next = cur.right\n",
    "                    pre = cur.right\n",
    "                cur = cur.next\n",
    "            cur = nextLevelFirst\n",
    "            \n",
    "root = TreeLinkNode(1)\n",
    "root.left = TreeLinkNode(2)\n",
    "p = root.left;p.left = TreeLinkNode(4);p.right = TreeLinkNode(5)\n",
    "q = p.left;q.left = TreeLinkNode(8);q.right = TreeLinkNode(9)\n",
    "# q = p.right;q.left = TreeLinkNode(10);q.right = TreeLinkNode(11)\n",
    "root.right = TreeLinkNode(3)\n",
    "p = root.right;p.left = TreeLinkNode(6);p.right = TreeLinkNode(7)\n",
    "# q = p.left;q.left = TreeLinkNode(12);q.right = TreeLinkNode(13)\n",
    "q = p.right;q.left = TreeLinkNode(14);q.right = TreeLinkNode(15)\n",
    "\n",
    "Solution().connect(root)\n",
    "\n",
    "p = root.left\n",
    "while p:\n",
    "    print(p.val, end=\" \")\n",
    "    p = p.next\n",
    "p = root.left.left\n",
    "while p:\n",
    "    print(p.val, end=\" \")\n",
    "    p = p.next\n",
    "p = root.left.left.left\n",
    "while p:\n",
    "    print(p.val, end=\" \")\n",
    "    p = p.next"
   ]
  },
  {
   "cell_type": "code",
   "execution_count": 7,
   "metadata": {},
   "outputs": [
    {
     "name": "stdout",
     "output_type": "stream",
     "text": [
      "2 3 4 5 6 7 8 9 14 15 "
     ]
    }
   ],
   "source": [
    "class Solution:\n",
    "    # @param root, a tree link node\n",
    "    # @return nothing\n",
    "    def connect(self, root):\n",
    "        cur = dummy = TreeLinkNode(0)\n",
    "        while root:\n",
    "            if root.left:\n",
    "                cur.next = root.left\n",
    "                cur = cur.next\n",
    "            if root.right:\n",
    "                cur.next = root.right\n",
    "                cur = cur.next\n",
    "                \n",
    "            root = root.next\n",
    "            \n",
    "            # then we are done looping through the current layer\n",
    "            if not root:\n",
    "                root = dummy.next\n",
    "                cur = dummy\n",
    "                dummy.next = None\n",
    "                \n",
    "root = TreeLinkNode(1)\n",
    "root.left = TreeLinkNode(2)\n",
    "p = root.left;p.left = TreeLinkNode(4);p.right = TreeLinkNode(5)\n",
    "q = p.left;q.left = TreeLinkNode(8);q.right = TreeLinkNode(9)\n",
    "# q = p.right;q.left = TreeLinkNode(10);q.right = TreeLinkNode(11)\n",
    "root.right = TreeLinkNode(3)\n",
    "p = root.right;p.left = TreeLinkNode(6);p.right = TreeLinkNode(7)\n",
    "# q = p.left;q.left = TreeLinkNode(12);q.right = TreeLinkNode(13)\n",
    "q = p.right;q.left = TreeLinkNode(14);q.right = TreeLinkNode(15)\n",
    "\n",
    "Solution().connect(root)\n",
    "\n",
    "p = root.left\n",
    "while p:\n",
    "    print(p.val, end=\" \")\n",
    "    p = p.next\n",
    "p = root.left.left\n",
    "while p:\n",
    "    print(p.val, end=\" \")\n",
    "    p = p.next\n",
    "p = root.left.left.left\n",
    "while p:\n",
    "    print(p.val, end=\" \")\n",
    "    p = p.next"
   ]
  }
 ],
 "metadata": {
  "kernelspec": {
   "display_name": "Python 3",
   "language": "python",
   "name": "python3"
  },
  "language_info": {
   "codemirror_mode": {
    "name": "ipython",
    "version": 3
   },
   "file_extension": ".py",
   "mimetype": "text/x-python",
   "name": "python",
   "nbconvert_exporter": "python",
   "pygments_lexer": "ipython3",
   "version": "3.5.2"
  }
 },
 "nbformat": 4,
 "nbformat_minor": 2
}
