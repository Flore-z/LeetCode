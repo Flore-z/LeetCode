{
 "cells": [
  {
   "cell_type": "code",
   "execution_count": null,
   "metadata": {
    "collapsed": true
   },
   "outputs": [],
   "source": [
    "Question：\n",
    "Given an array of n positive integers and a positive integer s, find the minimal length of a contiguoussubarray \n",
    "of which the sum 》= s. If there isn't one, return 0 instead.\n",
    "For example, given the array [2,3,1,2,4,3] and s = 7,\n",
    "the subarray [4,3] has the minimal length under the problem constraint."
   ]
  },
  {
   "cell_type": "code",
   "execution_count": null,
   "metadata": {
    "collapsed": true
   },
   "outputs": [],
   "source": [
    "# O(n^2)\n",
    "# Time Limit Exceeded\n",
    "class Solution:\n",
    "    def minSubArrayLen(self, s, nums):\n",
    "        \"\"\"\n",
    "        :type s: int\n",
    "        :type nums: List[int]\n",
    "        :rtype: int\n",
    "        \"\"\"\n",
    "        minl = float(\"inf\")\n",
    "        for i in range(len(nums)):\n",
    "            add = 0\n",
    "            for j in range(i, len(nums)):\n",
    "                add += nums[j]\n",
    "                if add >= s:\n",
    "                    minl = min(minl, j-i+1)\n",
    "                    break\n",
    "        return minl if sum(nums) >= s else 0\n",
    "\n",
    "nums = [2,3,1,2,4,3]; s = 7\n",
    "res = Solution().minSubArrayLen(s, nums)\n",
    "print(res)"
   ]
  },
  {
   "cell_type": "code",
   "execution_count": 2,
   "metadata": {},
   "outputs": [
    {
     "data": {
      "text/plain": [
       "2"
      ]
     },
     "execution_count": 2,
     "metadata": {},
     "output_type": "execute_result"
    }
   ],
   "source": [
    "# two pointers, O(n)\n",
    "class Solution:\n",
    "    def minSubArrayLen(self, s, nums):\n",
    "        \"\"\"\n",
    "        :type s: int\n",
    "        :type nums: List[int]\n",
    "        :rtype: int\n",
    "        \"\"\"\n",
    "        if not nums: return 0\n",
    "        minl = float(\"inf\")\n",
    "        i = 0;j = 0\n",
    "        add = nums[0]\n",
    "        while (add < s and j < len(nums)-1) or (add >= s and i < len(nums)-1) :\n",
    "            if add < s:\n",
    "                j += 1\n",
    "                add += nums[j]\n",
    "            else:\n",
    "                minl = min(minl, j-i+1)\n",
    "                add -= nums[i]\n",
    "                i += 1\n",
    "        return minl if sum(nums) >= s else 0\n",
    "    \n",
    "nums = [2,3,1,2,4,3]; s = 7\n",
    "Solution().minSubArrayLen(s, nums)"
   ]
  },
  {
   "cell_type": "code",
   "execution_count": 2,
   "metadata": {},
   "outputs": [
    {
     "data": {
      "text/plain": [
       "2"
      ]
     },
     "execution_count": 2,
     "metadata": {},
     "output_type": "execute_result"
    }
   ],
   "source": [
    "# two pointers, O(n)\n",
    "import sys\n",
    "class Solution:\n",
    "    def minSubArrayLen(self, s, nums):\n",
    "        \"\"\"\n",
    "        :type s: int\n",
    "        :type nums: List[int]\n",
    "        :rtype: int\n",
    "        \"\"\"\n",
    "        m = len(nums)\n",
    "        left = 0\n",
    "        \n",
    "        k = sys.maxsize\n",
    "        sum = 0\n",
    "        for i in range(m):\n",
    "            sum += nums[i]\n",
    "            while sum>= s:\n",
    "                k = min(k, i-left+1)\n",
    "                sum -= nums[left]\n",
    "                left +=1\n",
    "        \n",
    "        return k if k != sys.maxsize else 0\n",
    "    \n",
    "nums = [2,3,1,2,4,3]; s = 7\n",
    "Solution().minSubArrayLen(s, nums)"
   ]
  }
 ],
 "metadata": {
  "kernelspec": {
   "display_name": "Python 3",
   "language": "python",
   "name": "python3"
  },
  "language_info": {
   "codemirror_mode": {
    "name": "ipython",
    "version": 3
   },
   "file_extension": ".py",
   "mimetype": "text/x-python",
   "name": "python",
   "nbconvert_exporter": "python",
   "pygments_lexer": "ipython3",
   "version": "3.5.2"
  }
 },
 "nbformat": 4,
 "nbformat_minor": 2
}
