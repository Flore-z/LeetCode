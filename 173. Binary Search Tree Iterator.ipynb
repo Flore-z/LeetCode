{
 "cells": [
  {
   "cell_type": "code",
   "execution_count": null,
   "metadata": {
    "collapsed": true
   },
   "outputs": [],
   "source": [
    "Question:\n",
    "Implement an iterator over a binary search tree (BST). Your iterator will be initialized with the root node of \n",
    "a BST.\n",
    "Calling next() will return the next smallest number in the BST.\n",
    "Note: next() and hasNext() should run in average O(1) time and uses O(h) memory, where h is the height of the \n",
    "tree."
   ]
  },
  {
   "cell_type": "code",
   "execution_count": 1,
   "metadata": {},
   "outputs": [
    {
     "name": "stdout",
     "output_type": "stream",
     "text": [
      "[1, 2, 3, 5]\n"
     ]
    }
   ],
   "source": [
    "# Definition for a  binary tree node\n",
    "class TreeNode(object):\n",
    "    def __init__(self, x):\n",
    "        self.val = x\n",
    "        self.left = None\n",
    "        self.right = None\n",
    "\n",
    "class BSTIterator(object):\n",
    "    def __init__(self, root):\n",
    "        \"\"\"\n",
    "        :type root: TreeNode\n",
    "        \"\"\"\n",
    "        self.i = root\n",
    "        self.q = []\n",
    "        self.min = 0\n",
    "        while self.i:\n",
    "            self.q.append(self.i)\n",
    "            self.i = self.i.left\n",
    "\n",
    "    def hasNext(self):\n",
    "        \"\"\"\n",
    "        :rtype: bool\n",
    "        \"\"\"\n",
    "        if self.q:\n",
    "            cur = self.q.pop()\n",
    "            self.min = cur.val\n",
    "            if cur.right:\n",
    "                cur = cur.right\n",
    "                while cur:\n",
    "                    self.q.append(cur)\n",
    "                    cur = cur.left\n",
    "            return True\n",
    "        else: return False\n",
    "\n",
    "    def next(self):\n",
    "        \"\"\"\n",
    "        :rtype: int\n",
    "        \"\"\"\n",
    "        return self.min\n",
    "\n",
    "# Your BSTIterator will be called like this:\n",
    "# i, v = BSTIterator(root), []\n",
    "# while i.hasNext(): v.append(i.next())\n",
    "\n",
    "root = TreeNode(3)\n",
    "root.left = TreeNode(2);root.left.left = TreeNode(1)\n",
    "root.right = TreeNode(5)\n",
    "\n",
    "i, v = BSTIterator(root), []\n",
    "while i.hasNext():\n",
    "    v.append(i.next())\n",
    "print(v)"
   ]
  },
  {
   "cell_type": "code",
   "execution_count": null,
   "metadata": {
    "collapsed": true
   },
   "outputs": [],
   "source": [
    "# Definition for a  binary tree node\n",
    "class TreeNode(object):\n",
    "    def __init__(self, x):\n",
    "        self.val = x\n",
    "        self.left = None\n",
    "        self.right = None\n",
    "\n",
    "class BSTIterator(object):\n",
    "    def __init__(self, root):\n",
    "        \"\"\"\n",
    "        :type root: TreeNode\n",
    "        \"\"\"\n",
    "        self.q = []\n",
    "        self.cur = root\n",
    "\n",
    "    def hasNext(self):\n",
    "        \"\"\"\n",
    "        :rtype: bool\n",
    "        \"\"\"\n",
    "        while self.q or self.cur:\n",
    "            while self.cur:\n",
    "                self.q.append(self.cur)\n",
    "                self.cur = self.cur.left\n",
    "            self.cur = self.q.pop()\n",
    "            return True\n",
    "        return False\n",
    "\n",
    "    def next(self):\n",
    "        \"\"\"\n",
    "        :rtype: int\n",
    "        \"\"\"\n",
    "        v = self.cur.val\n",
    "        self.cur = self.cur.right\n",
    "        return v\n",
    "\n",
    "# Your BSTIterator will be called like this:\n",
    "# i, v = BSTIterator(root), []\n",
    "# while i.hasNext(): v.append(i.next())"
   ]
  }
 ],
 "metadata": {
  "kernelspec": {
   "display_name": "Python 3",
   "language": "python",
   "name": "python3"
  },
  "language_info": {
   "codemirror_mode": {
    "name": "ipython",
    "version": 3
   },
   "file_extension": ".py",
   "mimetype": "text/x-python",
   "name": "python",
   "nbconvert_exporter": "python",
   "pygments_lexer": "ipython3",
   "version": "3.5.2"
  }
 },
 "nbformat": 4,
 "nbformat_minor": 2
}
