{
 "cells": [
  {
   "cell_type": "code",
   "execution_count": null,
   "metadata": {
    "collapsed": true
   },
   "outputs": [],
   "source": [
    "Question：\n",
    "Say you have an array for which the ith element is the price of a given stock on day i.\n",
    "Design an algorithm to find the maximum profit. You may complete at most two transactions.\n",
    "Note:\n",
    "You may not engage in multiple transactions at the same time (ie, you must sell the stock before you buy again)."
   ]
  },
  {
   "cell_type": "code",
   "execution_count": 1,
   "metadata": {},
   "outputs": [
    {
     "data": {
      "text/plain": [
       "7"
      ]
     },
     "execution_count": 1,
     "metadata": {},
     "output_type": "execute_result"
    }
   ],
   "source": [
    "class Solution:\n",
    "    def maxProfit(self, prices):\n",
    "        \"\"\"\n",
    "        :type prices: List[int]\n",
    "        :rtype: int\n",
    "        \"\"\"\n",
    "        if not prices:\n",
    "            return 0\n",
    "        n = len(prices)\n",
    "        minx = prices[0]\n",
    "        profit1 = [0]*n\n",
    "        for i in range(1, len(prices)):\n",
    "            profit1[i] = max(profit1[i-1], prices[i]-minx)\n",
    "            minx = min(minx, prices[i])\n",
    "            \n",
    "        maxx = prices[n-1]\n",
    "        profit2 = [0]*n\n",
    "        for i in range(n-2, -1, -1):\n",
    "            profit2[i] = max(profit2[i+1], maxx-prices[i])\n",
    "            maxx = max(maxx, prices[i])\n",
    "            \n",
    "        maxprofit = 0\n",
    "        for i in range(n):\n",
    "            maxprofit = max(maxprofit, profit1[i]+profit2[i])\n",
    "            \n",
    "        return maxprofit\n",
    "    \n",
    "prices = [7, 1, 5, 3, 6, 4]\n",
    "# prices = [7, 6, 4, 3, 1]\n",
    "Solution().maxProfit(prices)"
   ]
  },
  {
   "cell_type": "code",
   "execution_count": 2,
   "metadata": {},
   "outputs": [
    {
     "data": {
      "text/plain": [
       "7"
      ]
     },
     "execution_count": 2,
     "metadata": {},
     "output_type": "execute_result"
    }
   ],
   "source": [
    "class Solution:\n",
    "    def maxProfit(self, prices):\n",
    "        \"\"\"\n",
    "        :type prices: List[int]\n",
    "        :rtype: int\n",
    "        \"\"\"\n",
    "        \n",
    "        # Pb[i] = best profit so far if we MUST buy a stock before or during day i\n",
    "        # Ps[i] = best profit so far if we MUST sell a stock before or during day i\n",
    "        # Db[i] = best profit so far if we MUST buy two stocks before or during day i\n",
    "        # Ds[i] = best profit so far if we MUST sell two stocks before or during day i\n",
    "        \n",
    "        # Pb[i] = max(prices[i], Pb[i-1])\n",
    "        # Ps[i] = max(Ps[i-1], Pb[i-1] + prices[i])\n",
    "        # Db[i] = max(Ps[i-1] - prices[i], Db[i])\n",
    "        # Ds[i] = max(Ds[i-1], Db[i-1] + prices[i])\n",
    "        \n",
    "        Pb = float('-inf')\n",
    "        Ps = 0\n",
    "        Db = float('-inf')\n",
    "        Ds = 0\n",
    "        \n",
    "        for p in prices:\n",
    "            Ds = max(Ds, Db + p)\n",
    "            Db = max(Ps - p, Db)\n",
    "            Ps = max(Ps, Pb + p)\n",
    "            Pb = max(-p, Pb)\n",
    "        return Ds\n",
    "    \n",
    "prices = [7, 1, 5, 3, 6, 4]\n",
    "# prices = [7, 6, 4, 3, 1]\n",
    "Solution().maxProfit(prices)"
   ]
  },
  {
   "cell_type": "code",
   "execution_count": 3,
   "metadata": {},
   "outputs": [
    {
     "data": {
      "text/plain": [
       "7"
      ]
     },
     "execution_count": 3,
     "metadata": {},
     "output_type": "execute_result"
    }
   ],
   "source": [
    "import math\n",
    "class Solution:\n",
    "    def maxProfit(self, prices):\n",
    "        \"\"\"\n",
    "        :type prices: List[int]\n",
    "        :rtype: int\n",
    "        \"\"\"\n",
    "        buy_1, buy_2 = -float('inf'), -float('inf')\n",
    "        sell_1, sell_2 = 0, 0\n",
    "        for price in prices:\n",
    "            buy_1 = max(buy_1, -price)\n",
    "            sell_1 = max(sell_1, price+buy_1)\n",
    "            buy_2 = max(buy_2, sell_1-price)\n",
    "            sell_2 = max(sell_2, price+buy_2)\n",
    "        return sell_2\n",
    "    \n",
    "prices = [7, 1, 5, 3, 6, 4]\n",
    "# prices = [7, 6, 4, 3, 1]\n",
    "Solution().maxProfit(prices)"
   ]
  }
 ],
 "metadata": {
  "kernelspec": {
   "display_name": "Python 3",
   "language": "python",
   "name": "python3"
  },
  "language_info": {
   "codemirror_mode": {
    "name": "ipython",
    "version": 3
   },
   "file_extension": ".py",
   "mimetype": "text/x-python",
   "name": "python",
   "nbconvert_exporter": "python",
   "pygments_lexer": "ipython3",
   "version": "3.5.2"
  }
 },
 "nbformat": 4,
 "nbformat_minor": 2
}
