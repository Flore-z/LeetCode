{
 "cells": [
  {
   "cell_type": "code",
   "execution_count": 34,
   "metadata": {},
   "outputs": [
    {
     "name": "stdout",
     "output_type": "stream",
     "text": [
      "00\n",
      "10\n",
      "01\n",
      "11\n"
     ]
    },
    {
     "data": {
      "text/plain": [
       "[0, 2, 1, 3]"
      ]
     },
     "execution_count": 34,
     "metadata": {},
     "output_type": "execute_result"
    }
   ],
   "source": [
    "class Solution(object):\n",
    "    def grayCode(self, n):\n",
    "        \"\"\"\n",
    "        :type n: int\n",
    "        :rtype: List[int]\n",
    "        \"\"\"\n",
    "        res = [0, 1]\n",
    "        gray = ['0', '1']\n",
    "            \n",
    "        if n == 0:\n",
    "            return [0]\n",
    "        if n == 1:\n",
    "            return [0, 1]\n",
    "        self.dfs(n, gray, res)\n",
    "        for i in range(len(gray)):\n",
    "            print(gray[i])\n",
    "        return res\n",
    "    \n",
    "    def dfs(self, n, gray, res):\n",
    "        if n == 1:\n",
    "            return\n",
    "        m = len(gray)\n",
    "        for i in range(m):\n",
    "            gray[i] += '0'\n",
    "            res[i] *= 2\n",
    "        for i in range(m):\n",
    "            gray.append(gray[i][:len(gray[i])-1] + '1')\n",
    "            res.append(int(gray[i], 2)+ 1)\n",
    "        self.dfs(n-1, gray, res)\n",
    "\n",
    "res = Solution().grayCode(2)\n",
    "res"
   ]
  },
  {
   "cell_type": "code",
   "execution_count": 43,
   "metadata": {},
   "outputs": [
    {
     "name": "stdout",
     "output_type": "stream",
     "text": [
      "[0, 1, 3, 2]\n"
     ]
    }
   ],
   "source": [
    "class Solution(object):  \n",
    "    def grayCode(self, n):  \n",
    "        \"\"\" \n",
    "        :type n: int \n",
    "        :rtype: List[int] \n",
    "        \"\"\"  \n",
    "        if n < 1:  \n",
    "            return [0]  \n",
    "        if n == 1:  \n",
    "            return [0, 1]  \n",
    "         \n",
    "        # recursive case  \n",
    "        res = self.grayCode(n-1)  \n",
    "         \n",
    "        digit = pow(2, n-1)\n",
    "        for i in range(digit-1, -1, -1): \n",
    "            res.append(res[i] + digit)  \n",
    "        print(res)  \n",
    "        return res  \n",
    "\n",
    "res = Solution().grayCode(2)"
   ]
  },
  {
   "cell_type": "code",
   "execution_count": 45,
   "metadata": {},
   "outputs": [
    {
     "data": {
      "text/plain": [
       "[0, 1, 3, 2]"
      ]
     },
     "execution_count": 45,
     "metadata": {},
     "output_type": "execute_result"
    }
   ],
   "source": [
    "class Solution(object):\n",
    "    def grayCode(self, n):\n",
    "        \"\"\"\n",
    "        :type n: int\n",
    "        :rtype: List[int]\n",
    "        \"\"\"\n",
    "        res = [0]\n",
    "        for i in range(n):\n",
    "            res += [x+pow(2,i) for x in reversed(res)]\n",
    "        return res\n",
    "    \n",
    "res = Solution().grayCode(2)\n",
    "res"
   ]
  },
  {
   "cell_type": "code",
   "execution_count": null,
   "metadata": {
    "collapsed": true
   },
   "outputs": [],
   "source": []
  }
 ],
 "metadata": {
  "kernelspec": {
   "display_name": "Python 3",
   "language": "python",
   "name": "python3"
  },
  "language_info": {
   "codemirror_mode": {
    "name": "ipython",
    "version": 3
   },
   "file_extension": ".py",
   "mimetype": "text/x-python",
   "name": "python",
   "nbconvert_exporter": "python",
   "pygments_lexer": "ipython3",
   "version": "3.5.2"
  }
 },
 "nbformat": 4,
 "nbformat_minor": 2
}
