{
 "cells": [
  {
   "cell_type": "code",
   "execution_count": 1,
   "metadata": {},
   "outputs": [
    {
     "name": "stdout",
     "output_type": "stream",
     "text": [
      "[0, 1, 3, 2]\n",
      "[0, 1, 3, 2, 6, 7, 5, 4]\n"
     ]
    }
   ],
   "source": [
    "class Solution(object):  \n",
    "    def grayCode(self, n):  \n",
    "        \"\"\" \n",
    "        :type n: int \n",
    "        :rtype: List[int] \n",
    "        \"\"\"  \n",
    "        if n < 1:  \n",
    "            return [0]  \n",
    "        if n == 1:  \n",
    "            return [0, 1]  \n",
    "         \n",
    "        # recursive case  \n",
    "        res = self.grayCode(n-1)  \n",
    "         \n",
    "        digit = pow(2, n-1)\n",
    "        for i in range(digit-1, -1, -1): \n",
    "            res.append(res[i] + digit)  \n",
    "        print(res)  \n",
    "        return res  \n",
    "\n",
    "res = Solution().grayCode(3)"
   ]
  },
  {
   "cell_type": "code",
   "execution_count": 45,
   "metadata": {},
   "outputs": [
    {
     "data": {
      "text/plain": [
       "[0, 1, 3, 2]"
      ]
     },
     "execution_count": 45,
     "metadata": {},
     "output_type": "execute_result"
    }
   ],
   "source": [
    "class Solution(object):\n",
    "    def grayCode(self, n):\n",
    "        \"\"\"\n",
    "        :type n: int\n",
    "        :rtype: List[int]\n",
    "        \"\"\"\n",
    "        res = [0]\n",
    "        for i in range(n):\n",
    "            res += [x+pow(2,i) for x in reversed(res)]\n",
    "        return res\n",
    "    \n",
    "res = Solution().grayCode(2)\n",
    "res"
   ]
  }
 ],
 "metadata": {
  "kernelspec": {
   "display_name": "Python 3",
   "language": "python",
   "name": "python3"
  },
  "language_info": {
   "codemirror_mode": {
    "name": "ipython",
    "version": 3
   },
   "file_extension": ".py",
   "mimetype": "text/x-python",
   "name": "python",
   "nbconvert_exporter": "python",
   "pygments_lexer": "ipython3",
   "version": "3.5.2"
  }
 },
 "nbformat": 4,
 "nbformat_minor": 2
}
