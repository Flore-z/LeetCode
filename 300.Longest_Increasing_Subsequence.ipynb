{
 "cells": [
  {
   "cell_type": "code",
   "execution_count": null,
   "metadata": {
    "collapsed": true
   },
   "outputs": [],
   "source": [
    "Question：\n",
    "Given an unsorted array of integers, find the length of longest increasing subsequence.\n",
    "For example,\n",
    "Given [10, 9, 2, 5, 3, 7, 101, 18],\n",
    "The longest increasing subsequence is [2, 3, 7, 101], therefore the length is 4. Note that there may be more than \n",
    "one LIS combination, it is only necessary for you to return the length.\n",
    "Your algorithm should run in O(n^2) complexity.\n",
    "Follow up: Could you improve it to O(n log n) time complexity?"
   ]
  },
  {
   "cell_type": "code",
   "execution_count": 3,
   "metadata": {},
   "outputs": [
    {
     "name": "stdout",
     "output_type": "stream",
     "text": [
      "4\n"
     ]
    }
   ],
   "source": [
    "# dfs, brute force, Time Limit Exceeded\n",
    "class Solution(object):\n",
    "    def lengthOfLIS(self, nums):\n",
    "        \"\"\"\n",
    "        :type nums: List[int]\n",
    "        :rtype: int\n",
    "        \"\"\"\n",
    "        self.res = 0\n",
    "        def dfs(nums, tmp, pos):\n",
    "            tmp.append(nums[pos])\n",
    "            for i in range(pos+1, len(nums)):\n",
    "                if nums[i] > tmp[-1]:\n",
    "                    dfs(nums, tmp, i)\n",
    "            self.res = max(self.res, len(tmp))\n",
    "            tmp.pop()\n",
    "        \n",
    "        for i in range(len(nums)):\n",
    "            dfs(nums, [], i)\n",
    "        return self.res\n",
    "\n",
    "nums = [10, 9, 2, 5, 3, 7, 101, 18]\n",
    "##nums = [10,9,2,5,3,4]\n",
    "res = Solution().lengthOfLIS(nums)\n",
    "print(res)"
   ]
  },
  {
   "cell_type": "code",
   "execution_count": 2,
   "metadata": {},
   "outputs": [
    {
     "data": {
      "text/plain": [
       "6"
      ]
     },
     "execution_count": 2,
     "metadata": {},
     "output_type": "execute_result"
    }
   ],
   "source": [
    "# dp, Time complexity : O(n^2)\n",
    "class Solution(object):\n",
    "    def lengthOfLIS(self, nums):\n",
    "        \"\"\"\n",
    "        :type nums: List[int]\n",
    "        :rtype: int\n",
    "        \"\"\"\n",
    "        if not nums:\n",
    "            return 0\n",
    "        n = len(nums)\n",
    "        dp = [1]*n\n",
    "        for i in range(n):\n",
    "            for j in range(i):\n",
    "                if nums[j] < nums[i]:\n",
    "                    dp[i] = max(dp[j]+1, dp[i])\n",
    "        return max(dp)\n",
    "        \n",
    "nums = [10,9,2,5,3,4]\n",
    "nums = [1,3,6,7,9,4,10,5,6]\n",
    "Solution().lengthOfLIS(nums)"
   ]
  },
  {
   "cell_type": "code",
   "execution_count": 8,
   "metadata": {},
   "outputs": [
    {
     "data": {
      "text/plain": [
       "3"
      ]
     },
     "execution_count": 8,
     "metadata": {},
     "output_type": "execute_result"
    }
   ],
   "source": [
    "# Time complexity : O(nlog(n))\n",
    "# 新建数组array, 遍历nums, 比较nums中的元素与array中的元素\n",
    "# array并不一定是真正的LIS\n",
    "class Solution(object):\n",
    "    def lengthOfLIS(self, nums):\n",
    "        \"\"\"\n",
    "        :type nums: List[int]\n",
    "        :rtype: int\n",
    "        \"\"\"\n",
    "        if not nums:\n",
    "            return 0\n",
    "        n = len(nums)\n",
    "        array = [nums[0]]\n",
    "        for i in range(1,n):\n",
    "            if nums[i] < array[0]:\n",
    "                array[0] = nums[i]\n",
    "            elif nums[i] > array[-1]:\n",
    "                array.append(nums[i])\n",
    "            else:\n",
    "                l, r = 0, len(array)-1\n",
    "                while l <= r:\n",
    "                    mid = (l+r)//2\n",
    "                    if array[mid] >= nums[i]:\n",
    "                        r = mid - 1\n",
    "                    else:\n",
    "                        l = mid + 1\n",
    "                array[l] = nums[i]\n",
    "                \n",
    "        return len(array)\n",
    "                        \n",
    "nums = [10,9,2,5,3,4]\n",
    "nums = [1,3,6,7,9,4,10,5,6]\n",
    "nums = [4,10,4,3,8,9]\n",
    "Solution().lengthOfLIS(nums)"
   ]
  },
  {
   "cell_type": "code",
   "execution_count": 9,
   "metadata": {},
   "outputs": [
    {
     "data": {
      "text/plain": [
       "3"
      ]
     },
     "execution_count": 9,
     "metadata": {},
     "output_type": "execute_result"
    }
   ],
   "source": [
    "# 新建数组array, 遍历nums，找到array中第一个大于等于nums[i]的数并替换为nums[i]；找不到则在array最后添加nums[i]\n",
    "# array并不一定是真正的LIS\n",
    "class Solution(object):\n",
    "    def lengthOfLIS(self, nums):\n",
    "        \"\"\"\n",
    "        :type nums: List[int]\n",
    "        :rtype: int\n",
    "        \"\"\"\n",
    "        if not nums:\n",
    "            return 0\n",
    "        array = [nums[0]]\n",
    "        from bisect import bisect_left\n",
    "        for i in range(1,len(nums)):\n",
    "            try:\n",
    "                idx = bisect_left(array, nums[i])\n",
    "                array[idx] = nums[i]\n",
    "            except:\n",
    "                array.append(nums[i])\n",
    "        return len(array)\n",
    "                        \n",
    "nums = [10,9,2,5,3,4]\n",
    "nums = [1,3,6,7,9,4,10,5,6]\n",
    "nums = [4,10,4,3,8,9]\n",
    "Solution().lengthOfLIS(nums)"
   ]
  }
 ],
 "metadata": {
  "kernelspec": {
   "display_name": "Python 3",
   "language": "python",
   "name": "python3"
  },
  "language_info": {
   "codemirror_mode": {
    "name": "ipython",
    "version": 3
   },
   "file_extension": ".py",
   "mimetype": "text/x-python",
   "name": "python",
   "nbconvert_exporter": "python",
   "pygments_lexer": "ipython3",
   "version": "3.5.2"
  }
 },
 "nbformat": 4,
 "nbformat_minor": 2
}
