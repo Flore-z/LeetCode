{
 "cells": [
  {
   "cell_type": "code",
   "execution_count": null,
   "metadata": {
    "collapsed": true
   },
   "outputs": [],
   "source": [
    "Question:\n",
    "Implement a basic calculator to evaluate a simple expression string.\n",
    "The expression string contains only non-negative integers, +, -, *, / operators and empty spaces . The integer \n",
    "division should truncate toward zero.\n",
    "You may assume that the given expression is always valid.\n",
    "Some examples:\n",
    "\"3+2*2\" = 7\n",
    "\" 3/2 \" = 1\n",
    "\" 3+5 / 2 \" = 5\n",
    "Note: Do not use the eval built-in library function."
   ]
  },
  {
   "cell_type": "code",
   "execution_count": 8,
   "metadata": {},
   "outputs": [
    {
     "data": {
      "text/plain": [
       "27"
      ]
     },
     "execution_count": 8,
     "metadata": {},
     "output_type": "execute_result"
    }
   ],
   "source": [
    "# use stack\n",
    "class Solution:\n",
    "    def calculate(self, s):\n",
    "        \"\"\"\n",
    "        :type s: str\n",
    "        :rtype: int\n",
    "        \"\"\"\n",
    "        if not s:\n",
    "            return \"0\"\n",
    "        stack, num, sign = [], 0, \"+\"\n",
    "        for i in range(len(s)):\n",
    "            if s[i].isdigit():\n",
    "                num = num*10+ord(s[i])-ord(\"0\")\n",
    "            if (not s[i].isdigit() and not s[i].isspace()) or i == len(s)-1:\n",
    "                if sign == \"-\":\n",
    "                    stack.append(-num)\n",
    "                elif sign == \"+\":\n",
    "                    stack.append(num)\n",
    "                elif sign == \"*\":\n",
    "                    stack.append(stack.pop()*num)\n",
    "                else:\n",
    "                    tmp = stack.pop()\n",
    "                    if tmp//num < 0 and tmp%num != 0:\n",
    "                        stack.append(tmp//num+1)\n",
    "                    else:\n",
    "                        stack.append(tmp//num)\n",
    "                sign = s[i]\n",
    "                num = 0\n",
    "        return sum(stack)\n",
    "        \n",
    "s = \"3+2*2\"\n",
    "s = \" 3/2 \"\n",
    "s = \"100000000/1/2/3/4/5/6/7/8/9/10\"\n",
    "Solution().calculate(s)"
   ]
  }
 ],
 "metadata": {
  "kernelspec": {
   "display_name": "Python 3",
   "language": "python",
   "name": "python3"
  },
  "language_info": {
   "codemirror_mode": {
    "name": "ipython",
    "version": 3
   },
   "file_extension": ".py",
   "mimetype": "text/x-python",
   "name": "python",
   "nbconvert_exporter": "python",
   "pygments_lexer": "ipython3",
   "version": "3.5.2"
  }
 },
 "nbformat": 4,
 "nbformat_minor": 2
}
