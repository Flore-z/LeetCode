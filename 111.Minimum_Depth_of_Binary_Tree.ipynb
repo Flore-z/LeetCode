{
 "cells": [
  {
   "cell_type": "code",
   "execution_count": 20,
   "metadata": {},
   "outputs": [
    {
     "name": "stdout",
     "output_type": "stream",
     "text": [
      "3 9 20 15 6 7 "
     ]
    },
    {
     "data": {
      "text/plain": [
       "2"
      ]
     },
     "execution_count": 20,
     "metadata": {},
     "output_type": "execute_result"
    }
   ],
   "source": [
    "# Definition for a binary tree node.\n",
    "class TreeNode(object):\n",
    "    def __init__(self, x):\n",
    "        self.val = x\n",
    "        self.left = None\n",
    "        self.right = None\n",
    "\n",
    "class Solution(object):\n",
    "    def minDepth(self, root):\n",
    "        \"\"\"\n",
    "        :type root: TreeNode\n",
    "        :rtype: int\n",
    "        \"\"\"\n",
    "#         def depth(root):\n",
    "#             if not root:\n",
    "#                 return 0\n",
    "#             if root.left and root.right:\n",
    "#                 return min(depth(root.left), depth(root.right)) + 1\n",
    "#             return max(depth(root.left), depth(root.right)) + 1\n",
    "#         return depth(root)\n",
    "        if not root:\n",
    "            return 0\n",
    "        if root.left and root.right:\n",
    "            return min(self.minDepth(root.left), self.minDepth(root.right)) + 1\n",
    "        return max(self.minDepth(root.left), self.minDepth(root.right)) + 1\n",
    "    \n",
    "    def preOrder(self, root):\n",
    "        if not root:\n",
    "            return\n",
    "        print(root.val, end = ' ')\n",
    "        self.preOrder(root.left)\n",
    "        self.preOrder(root.right)\n",
    "        \n",
    "root = TreeNode(3)\n",
    "root.left = TreeNode(9);q = root.left\n",
    "# q.left = TreeNode(1);q.right = TreeNode(2)\n",
    "root.right = TreeNode(20); p = root.right\n",
    "p.left = TreeNode(15);p.right = TreeNode(7);\n",
    "p = p.left;p.right = TreeNode(6)\n",
    "\n",
    "Solution().preOrder(root)\n",
    "Solution().minDepth(root)"
   ]
  },
  {
   "cell_type": "code",
   "execution_count": 25,
   "metadata": {},
   "outputs": [
    {
     "name": "stdout",
     "output_type": "stream",
     "text": [
      "3 9 20 15 6 7 "
     ]
    },
    {
     "data": {
      "text/plain": [
       "2"
      ]
     },
     "execution_count": 25,
     "metadata": {},
     "output_type": "execute_result"
    }
   ],
   "source": [
    "class Solution(object):\n",
    "    def minDepth(self, root):\n",
    "        \"\"\"\n",
    "        :type root: TreeNode\n",
    "        :rtype: int\n",
    "        \"\"\"\n",
    "        if not root:\n",
    "            return 0\n",
    "        height = 0\n",
    "        currentnodes = [root] \n",
    "        \n",
    "        while currentnodes:\n",
    "            for c in currentnodes:\n",
    "                if c.left and not(c.left.left or c.left.right):\n",
    "                    return height+2\n",
    "                if c.right and not(c.right.left or c.right.right):\n",
    "                    return height+2\n",
    "            currentnodes = [x for y in currentnodes for x in [y.left, y.right] if x]\n",
    "            height += 1\n",
    "        return height\n",
    "     \n",
    "    def preOrder(self, root):\n",
    "        if not root:\n",
    "            return\n",
    "        print(root.val, end = ' ')\n",
    "        self.preOrder(root.left)\n",
    "        self.preOrder(root.right)\n",
    "        \n",
    "root = TreeNode(3)\n",
    "root.left = TreeNode(9);q = root.left\n",
    "# q.left = TreeNode(1);q.right = TreeNode(2)\n",
    "root.right = TreeNode(20); p = root.right\n",
    "p.left = TreeNode(15);p.right = TreeNode(7);\n",
    "p = p.left;p.right = TreeNode(6)\n",
    "\n",
    "Solution().preOrder(root)\n",
    "Solution().minDepth(root)"
   ]
  }
 ],
 "metadata": {
  "kernelspec": {
   "display_name": "Python 3",
   "language": "python",
   "name": "python3"
  },
  "language_info": {
   "codemirror_mode": {
    "name": "ipython",
    "version": 3
   },
   "file_extension": ".py",
   "mimetype": "text/x-python",
   "name": "python",
   "nbconvert_exporter": "python",
   "pygments_lexer": "ipython3",
   "version": "3.5.2"
  }
 },
 "nbformat": 4,
 "nbformat_minor": 2
}
