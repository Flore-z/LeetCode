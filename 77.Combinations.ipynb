{
 "cells": [
  {
   "cell_type": "code",
   "execution_count": 3,
   "metadata": {},
   "outputs": [
    {
     "name": "stdout",
     "output_type": "stream",
     "text": [
      "6\n"
     ]
    },
    {
     "data": {
      "text/plain": [
       "[[1, 2], [1, 3], [1, 4], [2, 3], [2, 4], [3, 4]]"
      ]
     },
     "execution_count": 3,
     "metadata": {},
     "output_type": "execute_result"
    }
   ],
   "source": [
    "class Solution(object):\n",
    "    def combine(self, n, k):\n",
    "        \"\"\"\n",
    "        :type n: int\n",
    "        :type k: int\n",
    "        :rtype: List[List[int]]\n",
    "        \"\"\"\n",
    "        if n == 0 or k == 0 or k > n:\n",
    "            return\n",
    "        result = []\n",
    "        self.dfs(0, n, k, [], result)\n",
    "        return result\n",
    "        \n",
    "    def dfs(self, start, n, k, l, res):\n",
    "        if len(l) == k:\n",
    "            res.append(l[:])\n",
    "            return\n",
    "        for i in range(start, n):\n",
    "            l.append(i+1)\n",
    "            self.dfs(i+1, n, k, l, res)\n",
    "            l.pop()\n",
    "        \n",
    "result = Solution().combine(4,2)\n",
    "print(len(result))\n",
    "result"
   ]
  },
  {
   "cell_type": "code",
   "execution_count": 5,
   "metadata": {},
   "outputs": [
    {
     "name": "stdout",
     "output_type": "stream",
     "text": [
      "6\n"
     ]
    },
    {
     "data": {
      "text/plain": [
       "[[1, 2], [1, 3], [1, 4], [2, 3], [2, 4], [3, 4]]"
      ]
     },
     "execution_count": 5,
     "metadata": {},
     "output_type": "execute_result"
    }
   ],
   "source": [
    "class Solution:\n",
    "    # @return a list of lists of integers\n",
    "    # 9:14\n",
    "    def __init__(self):\n",
    "        self.output = []\n",
    "\n",
    "    def combine(self, n, k, pos=0, temp=None):\n",
    "        temp = temp or []\n",
    "        \n",
    "        if len(temp) == k:\n",
    "            self.output.append(temp[:])\n",
    "            return\n",
    "\n",
    "        for i in range(pos, n):\n",
    "            temp.append(i+1)\n",
    "            self.combine(n, k, i+1, temp)\n",
    "            temp.pop()\n",
    "        \n",
    "        return self.output\n",
    "\n",
    "result = Solution().combine(4,2)\n",
    "print(len(result))\n",
    "result"
   ]
  },
  {
   "cell_type": "code",
   "execution_count": 88,
   "metadata": {},
   "outputs": [
    {
     "data": {
      "text/plain": [
       "[[1, 2], [1, 3], [1, 4], [2, 3], [2, 4], [3, 4]]"
      ]
     },
     "execution_count": 88,
     "metadata": {},
     "output_type": "execute_result"
    }
   ],
   "source": [
    "def combine(self, n, k):\n",
    "    nums=list(range(1,n+1))\n",
    "    return self.helper(nums,k)\n",
    "\n",
    "def helper(self, nums,r):\n",
    "    if r==1:\n",
    "        return [[num] for num in nums]\n",
    "    if len(nums)==r:\n",
    "        return [nums]\n",
    "    output=[]\n",
    "    for index in range(len(nums)-r+1):\n",
    "        for remainder in self.helper(nums[index+1:],r-1):\n",
    "            output.append([nums[index]]+remainder)\n",
    "    return output\n",
    "\n",
    "result = Solution().combine(4,2)\n",
    "result"
   ]
  },
  {
   "cell_type": "code",
   "execution_count": 89,
   "metadata": {},
   "outputs": [
    {
     "data": {
      "text/plain": [
       "[[1, 2], [1, 3], [2, 3], [1, 4], [2, 4], [3, 4]]"
      ]
     },
     "execution_count": 89,
     "metadata": {},
     "output_type": "execute_result"
    }
   ],
   "source": [
    "class Solution(object):\n",
    "    def combine(self, n, k):\n",
    "        \"\"\"\n",
    "        :type n: int\n",
    "        :type k: int\n",
    "        :rtype: List[List[int]]\n",
    "        \"\"\"\n",
    "        if k==1:\n",
    "            return [[i] for i in range(1,n+1)]\n",
    "        elif k==n:\n",
    "            return [[i for i in range(1,n+1)]]\n",
    "        else:\n",
    "            res=self.combine(n-1,k)\n",
    "            part=self.combine(n-1,k-1)\n",
    "            for i in part:\n",
    "                i.append(n)\n",
    "            res+=part\n",
    "        return res\n",
    "\n",
    "result = Solution().combine(4,2)\n",
    "result"
   ]
  },
  {
   "cell_type": "code",
   "execution_count": 91,
   "metadata": {},
   "outputs": [
    {
     "data": {
      "text/plain": [
       "[(1, 2), (1, 3), (1, 4), (2, 3), (2, 4), (3, 4)]"
      ]
     },
     "execution_count": 91,
     "metadata": {},
     "output_type": "execute_result"
    }
   ],
   "source": [
    "from itertools import combinations\n",
    "class Solution(object):\n",
    "    \n",
    "    def combine(self, n, k):\n",
    "        \"\"\"\n",
    "        :type n: int\n",
    "        :type k: int\n",
    "        :rtype: List[List[int]]\n",
    "        \"\"\"\n",
    "        return list(combinations(range(1,n+1),k))\n",
    "\n",
    "\n",
    "result = Solution().combine(4,2)\n",
    "result"
   ]
  },
  {
   "cell_type": "code",
   "execution_count": null,
   "metadata": {
    "collapsed": true
   },
   "outputs": [],
   "source": []
  }
 ],
 "metadata": {
  "kernelspec": {
   "display_name": "Python 3",
   "language": "python",
   "name": "python3"
  },
  "language_info": {
   "codemirror_mode": {
    "name": "ipython",
    "version": 3
   },
   "file_extension": ".py",
   "mimetype": "text/x-python",
   "name": "python",
   "nbconvert_exporter": "python",
   "pygments_lexer": "ipython3",
   "version": "3.5.2"
  }
 },
 "nbformat": 4,
 "nbformat_minor": 2
}
