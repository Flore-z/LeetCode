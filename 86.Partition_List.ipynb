{
 "cells": [
  {
   "cell_type": "code",
   "execution_count": null,
   "metadata": {
    "collapsed": true
   },
   "outputs": [],
   "source": [
    "# Definition for singly-linked list.\n",
    "# class ListNode(object):\n",
    "#     def __init__(self, x):\n",
    "#         self.val = x\n",
    "#         self.next = None\n",
    "\n",
    "class Solution(object):\n",
    "    def partition(self, head, x):\n",
    "        \"\"\"\n",
    "        :type head: ListNode\n",
    "        :type x: int\n",
    "        :rtype: ListNode\n",
    "        \"\"\"\n",
    "        if not head or not head.next:\n",
    "            return head\n",
    "        p = ListNode(0)\n",
    "        p.next = head\n",
    "        p2 = p\n",
    "        while p.next and p.next.val < x:\n",
    "            p = p.next\n",
    "        p1 = p\n",
    "        while p1 and p1.next:\n",
    "            if p1.next.val >= x:\n",
    "                p1 = p1.next\n",
    "            else:\n",
    "                q = ListNode(p1.next.val)\n",
    "                q.next = p.next\n",
    "                p.next = q\n",
    "                p = p.next\n",
    "                p1.next = p1.next.next\n",
    "            \n",
    "        return p2.next\n",
    "    "
   ]
  },
  {
   "cell_type": "code",
   "execution_count": null,
   "metadata": {
    "collapsed": true
   },
   "outputs": [],
   "source": [
    "# Definition for singly-linked list.\n",
    "# class ListNode(object):\n",
    "#     def __init__(self, x):\n",
    "#         self.val = x\n",
    "#         self.next = None\n",
    "\n",
    "class Solution(object):\n",
    "    def partition(self, head, x):\n",
    "        \"\"\"\n",
    "        :type head: ListNode\n",
    "        :type x: int\n",
    "        :rtype: ListNode\n",
    "        \"\"\"\n",
    "        h1 = l1 = ListNode(0)\n",
    "        h2 = l2 = ListNode(0)\n",
    "        while head:\n",
    "            if head.val < x:\n",
    "                l1.next = head\n",
    "                l1 = l1.next\n",
    "            else:\n",
    "                l2.next = head\n",
    "                l2 = l2.next\n",
    "            head = head.next\n",
    "        l2.next = None\n",
    "        l1.next = h2.next\n",
    "        return h1.next"
   ]
  }
 ],
 "metadata": {
  "kernelspec": {
   "display_name": "Python 3",
   "language": "python",
   "name": "python3"
  },
  "language_info": {
   "codemirror_mode": {
    "name": "ipython",
    "version": 3
   },
   "file_extension": ".py",
   "mimetype": "text/x-python",
   "name": "python",
   "nbconvert_exporter": "python",
   "pygments_lexer": "ipython3",
   "version": "3.5.2"
  }
 },
 "nbformat": 4,
 "nbformat_minor": 2
}
