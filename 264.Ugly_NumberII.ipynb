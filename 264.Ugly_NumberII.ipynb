{
 "cells": [
  {
   "cell_type": "code",
   "execution_count": null,
   "metadata": {
    "collapsed": true
   },
   "outputs": [],
   "source": [
    "Question:\n",
    "Write a program to find the n-th ugly number.\n",
    "Ugly numbers are positive numbers whose prime factors only include 2, 3, 5. For example, 1, 2, 3, 4, 5, 6, 8, 9, \n",
    "10, 12 is the sequence of the first 10 ugly numbers.\n",
    "Note that 1 is typically treated as an ugly number, and n does not exceed 1690."
   ]
  },
  {
   "cell_type": "code",
   "execution_count": 1,
   "metadata": {
    "scrolled": true
   },
   "outputs": [
    {
     "name": "stdout",
     "output_type": "stream",
     "text": [
      "5\n"
     ]
    }
   ],
   "source": [
    "class Solution(object):\n",
    "    def nthUglyNumber(self, n):\n",
    "        \"\"\"\n",
    "        :type n: int\n",
    "        :rtype: int\n",
    "        \"\"\"\n",
    "        if n == 1:\n",
    "            return n\n",
    "\n",
    "        dp = [1]*n\n",
    "        s2, s3, s5 = [], [], []\n",
    "        for i in range(n-1):\n",
    "            s2.append(dp[i]*2)\n",
    "            s3.append(dp[i]*3)\n",
    "            s5.append(dp[i]*5)\n",
    "            dp[i+1] = min(s2[0], s3[0], s5[0])\n",
    "            if dp[i+1] == s2[0]:\n",
    "                del s2[0]\n",
    "            if dp[i+1] == s3[0]:\n",
    "                del s3[0]\n",
    "            if dp[i+1] == s5[0]:\n",
    "                del s5[0]\n",
    "\n",
    "        return dp[n-1]\n",
    "        \n",
    "res = Solution().nthUglyNumber(5)\n",
    "print(res)"
   ]
  },
  {
   "cell_type": "code",
   "execution_count": 2,
   "metadata": {},
   "outputs": [
    {
     "name": "stdout",
     "output_type": "stream",
     "text": [
      "5\n"
     ]
    }
   ],
   "source": [
    "class Solution(object):\n",
    "    def nthUglyNumber(self, n):\n",
    "        \"\"\"\n",
    "        :type n: int\n",
    "        :rtype: int\n",
    "        \"\"\"\n",
    "        a = b = c = 0\n",
    "        ans = [1] * n\n",
    "        for i in range(1, n):\n",
    "            ans[i] = min(ans[a] * 2, ans[b] * 3, ans[c] * 5)\n",
    "            if ans[a] * 2 == ans[i]: a += 1\n",
    "            if ans[b] * 3 == ans[i]: b += 1\n",
    "            if ans[c] * 5 == ans[i]: c += 1\n",
    "        return ans[n - 1]\n",
    "\n",
    "res = Solution().nthUglyNumber(5)\n",
    "print(res)"
   ]
  }
 ],
 "metadata": {
  "kernelspec": {
   "display_name": "Python 3",
   "language": "python",
   "name": "python3"
  },
  "language_info": {
   "codemirror_mode": {
    "name": "ipython",
    "version": 3
   },
   "file_extension": ".py",
   "mimetype": "text/x-python",
   "name": "python",
   "nbconvert_exporter": "python",
   "pygments_lexer": "ipython3",
   "version": "3.5.2"
  }
 },
 "nbformat": 4,
 "nbformat_minor": 2
}
