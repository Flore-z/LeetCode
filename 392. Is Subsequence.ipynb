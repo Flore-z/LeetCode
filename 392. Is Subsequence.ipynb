{
 "cells": [
  {
   "cell_type": "code",
   "execution_count": null,
   "metadata": {
    "collapsed": true
   },
   "outputs": [],
   "source": [
    "Question:\n",
    "Given a string s and a string t, check if s is subsequence of t.\n",
    "You may assume that there is only lower case English letters in both s and t. t is potentially a very long \n",
    "(length ~= 500,000) string, and s is a short string (<=100).\n",
    "A subsequence of a string is a new string which is formed from the original string by deleting some (can be none) \n",
    "of the characters without disturbing the relative positions of the remaining characters. \n",
    "(ie, \"ace\" is a subsequence of \"abcde\" while \"aec\" is not).\n",
    "\n",
    "Example 1:\n",
    "s = \"abc\", t = \"ahbgdc\"\n",
    "Return true.\n",
    "\n",
    "Example 2:\n",
    "s = \"axc\", t = \"ahbgdc\"\n",
    "Return false.\n",
    "\n",
    "Follow up:\n",
    "If there are lots of incoming S, say S1, S2, ... , Sk where k >= 1B, and you want to check one by one to see if \n",
    "T has its subsequence. In this scenario, how would you change your code?"
   ]
  },
  {
   "cell_type": "code",
   "execution_count": 5,
   "metadata": {},
   "outputs": [
    {
     "data": {
      "text/plain": [
       "False"
      ]
     },
     "execution_count": 5,
     "metadata": {},
     "output_type": "execute_result"
    }
   ],
   "source": [
    "# two pointers\n",
    "class Solution(object):\n",
    "    def isSubsequence(self, s, t):\n",
    "        \"\"\"\n",
    "        :type s: str\n",
    "        :type t: str\n",
    "        :rtype: bool\n",
    "        \"\"\"\n",
    "        if not s:\n",
    "            return True\n",
    "        if len(s) > len(t) or (len(s) == len(t) and s != t):\n",
    "            return False\n",
    "        \n",
    "        i = 0\n",
    "        for c in t:\n",
    "            if c == s[i]:\n",
    "                i += 1\n",
    "                if i == len(s):\n",
    "                    return True\n",
    "        return False\n",
    "    \n",
    "# class Solution(object):\n",
    "#     def isSubsequence(self, s, t):\n",
    "#         \"\"\"\n",
    "#         :type s: str\n",
    "#         :type t: str\n",
    "#         :rtype: bool\n",
    "#         \"\"\"\n",
    "#         start = 0\n",
    "#         for i in range(len(s)):\n",
    "#             start = t.find(s[i], start)\n",
    "#             if start == -1:\n",
    "#                 return False\n",
    "#             start += 1\n",
    "#         return True\n",
    "\n",
    "s = \"abc\"; t = \"ahbgdc\"\n",
    "s = \"axc\"; t = \"ahbgdc\"\n",
    "s = \"acb\"; t = \"ahbgdc\"\n",
    "Solution().isSubsequence(s,t)"
   ]
  },
  {
   "cell_type": "code",
   "execution_count": 7,
   "metadata": {},
   "outputs": [
    {
     "data": {
      "text/plain": [
       "True"
      ]
     },
     "execution_count": 7,
     "metadata": {},
     "output_type": "execute_result"
    }
   ],
   "source": [
    "class Solution(object):\n",
    "    def isSubsequence(self, s, t):\n",
    "        \"\"\"\n",
    "        :type s: str\n",
    "        :type t: str\n",
    "        :rtype: bool\n",
    "        \"\"\"\n",
    "        t = iter(t)\n",
    "        return all(c in t for c in s)\n",
    "    \n",
    "s = \"abc\"; t = \"ahbgdc\"\n",
    "Solution().isSubsequence(s,t)"
   ]
  }
 ],
 "metadata": {
  "kernelspec": {
   "display_name": "Python 3",
   "language": "python",
   "name": "python3"
  },
  "language_info": {
   "codemirror_mode": {
    "name": "ipython",
    "version": 3
   },
   "file_extension": ".py",
   "mimetype": "text/x-python",
   "name": "python",
   "nbconvert_exporter": "python",
   "pygments_lexer": "ipython3",
   "version": "3.5.2"
  }
 },
 "nbformat": 4,
 "nbformat_minor": 2
}
