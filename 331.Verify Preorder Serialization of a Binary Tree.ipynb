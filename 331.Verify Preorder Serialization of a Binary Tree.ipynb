{
 "cells": [
  {
   "cell_type": "code",
   "execution_count": null,
   "metadata": {
    "collapsed": true
   },
   "outputs": [],
   "source": [
    "Question：\n",
    "One way to serialize a binary tree is to use pre-order traversal. When we encounter a non-null node, we record \n",
    "the node's value. If it is a null node, we record using a sentinel value such as #.\n",
    "Given a string of comma separated values, verify whether it is a correct preorder traversal serialization of a \n",
    "binary tree. Find an algorithm without reconstructing the tree.\n",
    "Each comma separated value in the string must be either an integer or a character '#' representing null pointer.\n",
    "You may assume that the input format is always valid, for example it could never contain two consecutive commas \n",
    "such as \"1,,3\"."
   ]
  },
  {
   "cell_type": "code",
   "execution_count": 2,
   "metadata": {},
   "outputs": [
    {
     "data": {
      "text/plain": [
       "True"
      ]
     },
     "execution_count": 2,
     "metadata": {},
     "output_type": "execute_result"
    }
   ],
   "source": [
    "# use stack\n",
    "# 二叉树的性质: 所有二叉树中Null指针的个数=节点个数+1\n",
    "# 一课空数本就有一个Null指针，每增加一个节点增加一个Null指针\n",
    "class Solution(object):\n",
    "    def isValidSerialization(self, preorder):\n",
    "        \"\"\"\n",
    "        :type preorder: str\n",
    "        :rtype: bool\n",
    "        \"\"\"\n",
    "        if preorder == \"\":\n",
    "            return True\n",
    "        stack = []\n",
    "        \n",
    "        strings = preorder.split(\",\")\n",
    "        for string in strings:\n",
    "            while string == \"#\" and stack and stack[-1] == \"#\":\n",
    "                stack.pop()\n",
    "                if not stack:\n",
    "                    return False\n",
    "                stack.pop()\n",
    "            stack.append(string)\n",
    "        \n",
    "        return len(stack) == 1 and stack[0] == \"#\"\n",
    "        \n",
    "preorder = \"9,3,4,#,#,1,#,#,2,#,6,#,#\"\n",
    "Solution().isValidSerialization(preorder)"
   ]
  },
  {
   "cell_type": "code",
   "execution_count": 3,
   "metadata": {},
   "outputs": [
    {
     "name": "stdout",
     "output_type": "stream",
     "text": [
      "True\n"
     ]
    }
   ],
   "source": [
    "# compute depend on the out degree of in degree of the nodes\n",
    "# 如果在遍历过程中的某时刻，系统的入度>出度，则说明当前序列中出现过的所有分支节点的“空闲分支”均已用完，后序\n",
    "# 节点没有办法挂载到之前出现的节点之上，从而判定先序遍历的序列是不合法的\n",
    "class Solution(object):\n",
    "    def isValidSerialization(self, preorder):\n",
    "        \"\"\"\n",
    "        :type preorder: str\n",
    "        :rtype: bool\n",
    "        \"\"\"\n",
    "        pre = preorder.split(\",\")\n",
    "        diff = 0\n",
    "        for i in range(len(pre)):\n",
    "            if i > 0:\n",
    "                diff -= 1\n",
    "            if diff < 0:\n",
    "                return False\n",
    "            if pre[i] != '#':\n",
    "                diff += 2\n",
    "        \n",
    "        return True if diff==0 else False\n",
    "#         return diff == 0\n",
    "        \n",
    "preorder = \"9,3,4,#,#,1,#,#,2,#,6,#,#\"\n",
    "##preorder = \"1,#\"\n",
    "##preorder = \"9,#,#,1\"\n",
    "preorder = \"3,9,#,3,#,7,#,#,8,0,2,#,#,5,#,#,#\"\n",
    "res = Solution().isValidSerialization(preorder)\n",
    "print(res)"
   ]
  }
 ],
 "metadata": {
  "kernelspec": {
   "display_name": "Python 3",
   "language": "python",
   "name": "python3"
  },
  "language_info": {
   "codemirror_mode": {
    "name": "ipython",
    "version": 3
   },
   "file_extension": ".py",
   "mimetype": "text/x-python",
   "name": "python",
   "nbconvert_exporter": "python",
   "pygments_lexer": "ipython3",
   "version": "3.5.2"
  }
 },
 "nbformat": 4,
 "nbformat_minor": 2
}
