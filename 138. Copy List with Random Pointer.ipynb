{
 "cells": [
  {
   "cell_type": "code",
   "execution_count": null,
   "metadata": {
    "collapsed": true
   },
   "outputs": [],
   "source": [
    "Question：\n",
    "A linked list is given such that each node contains an additional random pointer which could point to any node in\n",
    "the list or null.\n",
    "Return a deep copy of the list."
   ]
  },
  {
   "cell_type": "code",
   "execution_count": null,
   "metadata": {
    "collapsed": true
   },
   "outputs": [],
   "source": [
    "# Definition for singly-linked list with a random pointer.\n",
    "class RandomListNode(object):\n",
    "    def __init__(self, x):\n",
    "        self.label = x\n",
    "        self.next = None\n",
    "        self.random = None\n",
    "\n",
    "class Solution(object):\n",
    "    def copyRandomList(self, head):\n",
    "        \"\"\"\n",
    "        :type head: RandomListNode\n",
    "        :rtype: RandomListNode\n",
    "        \"\"\"\n",
    "        if not head:\n",
    "            return None\n",
    "        q = [head]\n",
    "        h = RandomListNode(head.label)\n",
    "        dict = {head:h}\n",
    "        while q:\n",
    "            cur = q.pop(0)\n",
    "            if cur.next:\n",
    "                q.append(cur.next)\n",
    "                copy = RandomListNode(cur.next.label)\n",
    "                dict[cur.next] = copy\n",
    "                dict[cur].next = copy\n",
    "                    \n",
    "        for node in dict:\n",
    "            if node.random:\n",
    "                dict[node].random = dict[node.random]\n",
    "                \n",
    "        return h\n"
   ]
  },
  {
   "cell_type": "code",
   "execution_count": null,
   "metadata": {
    "collapsed": true
   },
   "outputs": [],
   "source": [
    "class Solution(object):\n",
    "    def copyRandomList(self, head):\n",
    "        if not head: return None\n",
    "        map = dict()\n",
    "        node = head\n",
    "        while node:\n",
    "            map[node] = RandomListNode(node.label)\n",
    "            node = node.next\n",
    "        \n",
    "        map[None] = None\n",
    "        node = head\n",
    "        while node:\n",
    "            map[node].next = map[node.next]\n",
    "            map[node].random = map[node.random]\n",
    "            node = node.next\n",
    "        return map[head]"
   ]
  }
 ],
 "metadata": {
  "kernelspec": {
   "display_name": "Python 3",
   "language": "python",
   "name": "python3"
  },
  "language_info": {
   "codemirror_mode": {
    "name": "ipython",
    "version": 3
   },
   "file_extension": ".py",
   "mimetype": "text/x-python",
   "name": "python",
   "nbconvert_exporter": "python",
   "pygments_lexer": "ipython3",
   "version": "3.5.2"
  }
 },
 "nbformat": 4,
 "nbformat_minor": 2
}
