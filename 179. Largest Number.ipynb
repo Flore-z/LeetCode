{
 "cells": [
  {
   "cell_type": "code",
   "execution_count": null,
   "metadata": {
    "collapsed": true
   },
   "outputs": [],
   "source": [
    "Question:\n",
    "Given a list of non negative integers, arrange them such that they form the largest number.\n",
    "For example, given [3, 30, 34, 5, 9], the largest formed number is 9534330.\n",
    "Note: The result may be very large, so you need to return a string instead of an integer."
   ]
  },
  {
   "cell_type": "code",
   "execution_count": 1,
   "metadata": {},
   "outputs": [
    {
     "name": "stdout",
     "output_type": "stream",
     "text": [
      "936867555453525217\n"
     ]
    }
   ],
   "source": [
    "# Python3\n",
    "class Solution:\n",
    "    # @param {integer[]} nums\n",
    "    # @return {string}\n",
    "    def largestNumber(self, nums):\n",
    "        from functools import cmp_to_key\n",
    "        def compare(x, y):\n",
    "            if x+y > y+x:\n",
    "                return 1\n",
    "            elif x+y < y+x:\n",
    "                return -1\n",
    "            else:\n",
    "                return 0\n",
    "            \n",
    "        nums = [str(x) for x in nums]\n",
    "        nums.sort(key= cmp_to_key(compare), reverse = True)\n",
    "        return ''.join(nums).lstrip('0') or '0'\n",
    "\n",
    "nums = [23, 230, 34, 5, 9]\n",
    "nums = [5,54,52,67,68,5,52,17,93,53]\n",
    "res = Solution().largestNumber(nums)\n",
    "print(res)"
   ]
  },
  {
   "cell_type": "code",
   "execution_count": null,
   "metadata": {
    "collapsed": true
   },
   "outputs": [],
   "source": [
    "# Python2\n",
    "class Solution:\n",
    "    # @param {integer[]} nums\n",
    "    # @return {string}\n",
    "    def largestNumber(self, nums):\n",
    "\n",
    "        nums = [str(x) for x in nums]\n",
    "        nums.sort(cmp=lambda x, y: cmp(y + x, x + y))\n",
    "        largest = ''.join(nums)\n",
    "        return largest.lstrip('0') or '0'"
   ]
  }
 ],
 "metadata": {
  "kernelspec": {
   "display_name": "Python 3",
   "language": "python",
   "name": "python3"
  },
  "language_info": {
   "codemirror_mode": {
    "name": "ipython",
    "version": 3
   },
   "file_extension": ".py",
   "mimetype": "text/x-python",
   "name": "python",
   "nbconvert_exporter": "python",
   "pygments_lexer": "ipython3",
   "version": "3.5.2"
  }
 },
 "nbformat": 4,
 "nbformat_minor": 2
}
