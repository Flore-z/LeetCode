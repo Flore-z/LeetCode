{
 "cells": [
  {
   "cell_type": "code",
   "execution_count": null,
   "metadata": {
    "collapsed": true
   },
   "outputs": [],
   "source": [
    "Question:\n",
    "Find the total area covered by two rectilinear rectangles in a 2D plane.\n",
    "Each rectangle is defined by its bottom left corner and top right corner.\n",
    "First rectangle:\n",
    "    bottom left corner: (A,B), top right corner: (C,D)\n",
    "Second rectangle:\n",
    "    bottom left corner: (E,F), top right corner: (G,H)\n",
    "Assume that the total area is never beyond the maximum possible value of int."
   ]
  },
  {
   "cell_type": "code",
   "execution_count": 6,
   "metadata": {},
   "outputs": [
    {
     "data": {
      "text/plain": [
       "24"
      ]
     },
     "execution_count": 6,
     "metadata": {},
     "output_type": "execute_result"
    }
   ],
   "source": [
    "class Solution(object):\n",
    "    def computeArea(self, A, B, C, D, E, F, G, H):\n",
    "        \"\"\"\n",
    "        :type A: int\n",
    "        :type B: int\n",
    "        :type C: int\n",
    "        :type D: int\n",
    "        :type E: int\n",
    "        :type F: int\n",
    "        :type G: int\n",
    "        :type H: int\n",
    "        :rtype: int\n",
    "        \"\"\" \n",
    "        area = (C - A)*(D - B) + (G - E)*(H - F)\n",
    "        if H <= B or D <= F or C <= E or G <= A:\n",
    "            return area\n",
    "        elif B < H <= D:\n",
    "            return area - (min(C,G) - max(E,A))*(H - max(B,F))\n",
    "        else:  # B <= F < D\n",
    "            return area - (min(C,G) - max(E,A))*(D - max(F,B))\n",
    "        \n",
    "A = -3;B = 0;C = 3;D = 4;E = 0;F = -1;G = 9;H = 2\n",
    "A = -2;B = -2;C = 2;D = 2;E = -1;F = -1;G = 1;H = 3\n",
    "A = -2;B = -2;C = 2;D = 2;E = 1;F = -3;G = 3;H = 3\n",
    "Solution().computeArea(A, B, C, D, E, F, G, H)"
   ]
  },
  {
   "cell_type": "code",
   "execution_count": 7,
   "metadata": {},
   "outputs": [
    {
     "data": {
      "text/plain": [
       "24"
      ]
     },
     "execution_count": 7,
     "metadata": {},
     "output_type": "execute_result"
    }
   ],
   "source": [
    "class Solution:\n",
    "    def computeArea(self, A, B, C, D, E, F, G, H):\n",
    "        \"\"\"\n",
    "        :type A: int\n",
    "        :type B: int\n",
    "        :type C: int\n",
    "        :type D: int\n",
    "        :type E: int\n",
    "        :type F: int\n",
    "        :type G: int\n",
    "        :type H: int\n",
    "        :rtype: int\n",
    "        \"\"\"\n",
    "        overlap = max(min(C,G)-max(A,E), 0)*max(min(D,H)-max(B,F), 0)\n",
    "        return (A-C)*(B-D) + (E-G)*(F-H) - overlap\n",
    "\n",
    "A = -3;B = 0;C = 3;D = 4;E = 0;F = -1;G = 9;H = 2\n",
    "A = -2;B = -2;C = 2;D = 2;E = -1;F = -1;G = 1;H = 3\n",
    "A = -2;B = -2;C = 2;D = 2;E = 1;F = -3;G = 3;H = 3\n",
    "Solution().computeArea(A, B, C, D, E, F, G, H)"
   ]
  }
 ],
 "metadata": {
  "kernelspec": {
   "display_name": "Python 3",
   "language": "python",
   "name": "python3"
  },
  "language_info": {
   "codemirror_mode": {
    "name": "ipython",
    "version": 3
   },
   "file_extension": ".py",
   "mimetype": "text/x-python",
   "name": "python",
   "nbconvert_exporter": "python",
   "pygments_lexer": "ipython3",
   "version": "3.5.2"
  }
 },
 "nbformat": 4,
 "nbformat_minor": 2
}
