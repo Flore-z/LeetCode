{
 "cells": [
  {
   "cell_type": "code",
   "execution_count": null,
   "metadata": {
    "collapsed": true
   },
   "outputs": [],
   "source": [
    "Question:\n",
    "According to the Wikipedia's article: \"The Game of Life, also known simply as Life, is a cellular automaton devised by the British mathematician John Horton Conway in 1970.\"\n",
    "Given a board with m by n cells, each cell has an initial state live (1) or dead (0). Each cell interacts with its eight neighbors (horizontal, vertical, diagonal) using the following four rules (taken from the above Wikipedia article):\n",
    "1.\tAny live cell with fewer than two live neighbors dies, as if caused by under-population.\n",
    "2.\tAny live cell with two or three live neighbors lives on to the next generation.\n",
    "3.\tAny live cell with more than three live neighbors dies, as if by over-population..\n",
    "4.\tAny dead cell with exactly three live neighbors becomes a live cell, as if by reproduction.\n",
    "Write a function to compute the next state (after one update) of the board given its current state."
   ]
  },
  {
   "cell_type": "code",
   "execution_count": 1,
   "metadata": {},
   "outputs": [
    {
     "name": "stdout",
     "output_type": "stream",
     "text": [
      "[1, 1, 1, 0, 0] \n",
      "\n",
      "[1, 0, 0, 0, 0] \n",
      "\n",
      "[1, 1, 1, 1, 0] \n",
      "\n",
      "[0, 0, 1, 1, 0] \n",
      "\n"
     ]
    }
   ],
   "source": [
    "class Solution(object):\n",
    "    def gameOfLife(self, board):\n",
    "        \"\"\"\n",
    "        :type board: List[List[int]]\n",
    "        :rtype: void Do not return anything, modify board in-place instead.\n",
    "        \"\"\"\n",
    "        if not board or not board[0]:\n",
    "            return\n",
    "        m, n = len(board), len(board[0])\n",
    "        prei, prej = [0]*n, 0\n",
    "        for i in range(m):\n",
    "            tmpi = [x for x in board[i]]\n",
    "            for j in range(n):\n",
    "                clive = 0\n",
    "                tmpj = board[i][j]\n",
    "                if i-1 >= 0:\n",
    "                    clive += prei[j]\n",
    "                    if j-1 >= 0:\n",
    "                        clive += prei[j-1]\n",
    "                    if j+1 < n:\n",
    "                        clive += prei[j+1]\n",
    "                if i+1 < m:\n",
    "                    clive += board[i+1][j]\n",
    "                    if j-1 >= 0:\n",
    "                        clive += board[i+1][j-1]\n",
    "                    if j+1 < n:\n",
    "                        clive += board[i+1][j+1]\n",
    "                if j-1 >= 0:\n",
    "                    clive += prej\n",
    "                if j+1 < n:\n",
    "                    clive += board[i][j+1]\n",
    "                prej = tmpj\n",
    "\n",
    "                if board[i][j] == 1:\n",
    "                    if clive < 2 or clive > 3:\n",
    "                        board[i][j] = 0\n",
    "                else:\n",
    "                    if clive == 3:\n",
    "                        board[i][j] = 1\n",
    "            prei = tmpi\n",
    "        \n",
    "\n",
    "board = [[0,1,1,0,1],\n",
    "         [1,1,0,0,0],\n",
    "         [0,1,1,0,1],\n",
    "         [0,0,0,1,0]]\n",
    "Solution().gameOfLife(board)\n",
    "m = len(board)\n",
    "for i in range(m):\n",
    "    print(board[i], \"\\n\")"
   ]
  },
  {
   "cell_type": "code",
   "execution_count": 1,
   "metadata": {},
   "outputs": [
    {
     "name": "stdout",
     "output_type": "stream",
     "text": [
      "[1, 1, 1, 0, 0] \n",
      "\n",
      "[1, 0, 0, 0, 0] \n",
      "\n",
      "[1, 1, 1, 1, 0] \n",
      "\n",
      "[0, 0, 1, 1, 0] \n",
      "\n"
     ]
    }
   ],
   "source": [
    "class Solution(object):\n",
    "    def gameOfLife(self, board):\n",
    "        \"\"\"\n",
    "        :type board: List[List[int]]\n",
    "        :rtype: void Do not return anything, modify board in-place instead.\n",
    "        \"\"\"\n",
    "        m, n = len(board), len(board[0])\n",
    "        \n",
    "        def cal(board, i, j):\n",
    "            res = 0\n",
    "            dir = [(-1,-1), (-1,0), (-1,1), (0,-1), (0,1), (1,-1), (1,0), (1,1)]\n",
    "            for dx, dy in dir:\n",
    "                x, y = i+dx, j+dy\n",
    "                if 0 <= x < m and 0 <= y < n:\n",
    "                    res += board[x][y]\n",
    "            return res\n",
    "        \n",
    "        cache = [[0]*n for _ in range(2)]\n",
    "        tag = 0\n",
    "        for i in range(m):\n",
    "            if i > 1:\n",
    "                board[i-2] = [x for x in cache[tag]]\n",
    "                cache[tag] = [0]*n\n",
    "            for j in range(n):\n",
    "                livenum = cal(board, i, j)\n",
    "                if board[i][j] == 1:\n",
    "                    if 2 <= livenum <= 3:\n",
    "                        cache[tag][j] = 1\n",
    "                else:\n",
    "                    if livenum == 3:\n",
    "                        cache[tag][j] = 1\n",
    "            tag = 1 - tag\n",
    "            \n",
    "        if m >= 2:\n",
    "            for i in range(2):\n",
    "                board[m-2+i] = [x for x in cache[tag]]\n",
    "                tag = 1 - tag\n",
    "        else:\n",
    "            board[0] = [x for x in cache[0]]\n",
    "\n",
    "board = [[0,1,1,0,1],\n",
    "         [1,1,0,0,0],\n",
    "         [0,1,1,0,1],\n",
    "         [0,0,0,1,0]]\n",
    "Solution().gameOfLife(board)\n",
    "m = len(board)\n",
    "for i in range(m):\n",
    "    print(board[i], \"\\n\")"
   ]
  }
 ],
 "metadata": {
  "kernelspec": {
   "display_name": "Python 3",
   "language": "python",
   "name": "python3"
  },
  "language_info": {
   "codemirror_mode": {
    "name": "ipython",
    "version": 3
   },
   "file_extension": ".py",
   "mimetype": "text/x-python",
   "name": "python",
   "nbconvert_exporter": "python",
   "pygments_lexer": "ipython3",
   "version": "3.5.2"
  }
 },
 "nbformat": 4,
 "nbformat_minor": 2
}
