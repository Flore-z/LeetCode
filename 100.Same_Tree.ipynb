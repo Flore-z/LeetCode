{
 "cells": [
  {
   "cell_type": "code",
   "execution_count": 5,
   "metadata": {},
   "outputs": [
    {
     "data": {
      "text/plain": [
       "True"
      ]
     },
     "execution_count": 5,
     "metadata": {},
     "output_type": "execute_result"
    }
   ],
   "source": [
    "# Definition for a binary tree node.\n",
    "class TreeNode(object):\n",
    "    def __init__(self, x):\n",
    "        self.val = x\n",
    "        self.left = None\n",
    "        self.right = None\n",
    "\n",
    "class Solution(object):\n",
    "    def isSameTree(self, p, q):\n",
    "        \"\"\"\n",
    "        :type p, q: TreeNode\n",
    "        :rtype: bool\n",
    "        \"\"\"\n",
    "        if not p and not q:\n",
    "            return True\n",
    "        if not p or not q:\n",
    "            return False\n",
    "        if p.val == q.val:\n",
    "            return self.isSameTree(p.left, q.left) and self.isSameTree(p.right, q.right)\n",
    "        return False\n",
    "\n",
    "root1 = TreeNode(2)\n",
    "p = root1\n",
    "p.right = TreeNode(3); p = p.right\n",
    "p.left = TreeNode(1)\n",
    "\n",
    "root2 = TreeNode(2)\n",
    "p = root2\n",
    "p.right = TreeNode(3); p = p.right\n",
    "p.left = TreeNode(1)\n",
    "\n",
    "Solution().isSameTree(root1, root2)"
   ]
  },
  {
   "cell_type": "code",
   "execution_count": 7,
   "metadata": {},
   "outputs": [
    {
     "data": {
      "text/plain": [
       "True"
      ]
     },
     "execution_count": 7,
     "metadata": {},
     "output_type": "execute_result"
    }
   ],
   "source": [
    "# Definition for a binary tree node.\n",
    "class TreeNode(object):\n",
    "    def __init__(self, x):\n",
    "        self.val = x\n",
    "        self.left = None\n",
    "        self.right = None\n",
    "\n",
    "class Solution(object):\n",
    "    def isSameTree(self, p, q):\n",
    "        \"\"\"\n",
    "        :type p: TreeNode\n",
    "        :type q: TreeNode\n",
    "        :rtype: bool\n",
    "        \"\"\"\n",
    "        if p and q:\n",
    "            if p.val == q.val and self.isSameTree(p.left, q.left) and self.isSameTree(p.right, q.right):\n",
    "                return True\n",
    "            else:\n",
    "                return False\n",
    "        elif p or q:\n",
    "            return False\n",
    "        else:\n",
    "            return True\n",
    "    \n",
    "root1 = TreeNode(2)\n",
    "p = root1\n",
    "p.right = TreeNode(3); p = p.right\n",
    "p.left = TreeNode(1)\n",
    "\n",
    "root2 = TreeNode(2)\n",
    "p = root2\n",
    "p.right = TreeNode(3); p = p.right\n",
    "p.left = TreeNode(1)\n",
    "\n",
    "Solution().isSameTree(root1, root2)"
   ]
  },
  {
   "cell_type": "code",
   "execution_count": null,
   "metadata": {
    "collapsed": true
   },
   "outputs": [],
   "source": []
  }
 ],
 "metadata": {
  "kernelspec": {
   "display_name": "Python 3",
   "language": "python",
   "name": "python3"
  },
  "language_info": {
   "codemirror_mode": {
    "name": "ipython",
    "version": 3
   },
   "file_extension": ".py",
   "mimetype": "text/x-python",
   "name": "python",
   "nbconvert_exporter": "python",
   "pygments_lexer": "ipython3",
   "version": "3.5.2"
  }
 },
 "nbformat": 4,
 "nbformat_minor": 2
}
