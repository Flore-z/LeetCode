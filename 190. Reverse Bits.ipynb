{
 "cells": [
  {
   "cell_type": "code",
   "execution_count": null,
   "metadata": {
    "collapsed": true
   },
   "outputs": [],
   "source": [
    "Question:\n",
    "Reverse bits of a given 32 bits unsigned integer.\n",
    "For example, given input 43261596 (represented in binary as 00000010100101000001111010011100), return \n",
    "964176192 (represented in binary as 00111001011110000010100101000000)."
   ]
  },
  {
   "cell_type": "code",
   "execution_count": 13,
   "metadata": {},
   "outputs": [
    {
     "data": {
      "text/plain": [
       "964176192"
      ]
     },
     "execution_count": 13,
     "metadata": {},
     "output_type": "execute_result"
    }
   ],
   "source": [
    "class Solution:\n",
    "    # @param n, an integer\n",
    "    # @return an integer\n",
    "    def reverseBits(self, n):\n",
    "        s = bin(n)[2:]\n",
    "        s = \"0\" * (32 - len(s)) + s\n",
    "        rn = int(\"0b\" + s[::-1],2)\n",
    "        return rn\n",
    "        \n",
    "n = 43261596  \n",
    "Solution().reverseBits(n)"
   ]
  },
  {
   "cell_type": "code",
   "execution_count": 1,
   "metadata": {},
   "outputs": [
    {
     "data": {
      "text/plain": [
       "964176192"
      ]
     },
     "execution_count": 1,
     "metadata": {},
     "output_type": "execute_result"
    }
   ],
   "source": [
    "class Solution:\n",
    "    # @param n, an integer\n",
    "    # @return an integer\n",
    "    def reverseBits(self, n):\n",
    "        result = 0\n",
    "        for i in range(32):\n",
    "            #取出n的最后一位\n",
    "            last = n & 1\n",
    "            #n右移一位\n",
    "            n >>= 1\n",
    "            #将取出的一位加到result里\n",
    "            result <<= 1\n",
    "            result |= last\n",
    "        return result\n",
    "\n",
    "n = 43261596  \n",
    "Solution().reverseBits(n)"
   ]
  },
  {
   "cell_type": "code",
   "execution_count": 1,
   "metadata": {},
   "outputs": [
    {
     "data": {
      "text/plain": [
       "964176192"
      ]
     },
     "execution_count": 1,
     "metadata": {},
     "output_type": "execute_result"
    }
   ],
   "source": [
    "class Solution:\n",
    "    # @param n, an integer\n",
    "    # @return an integer\n",
    "    def reverseBits(self, n):\n",
    "        b = bin(n)[2:][::-1]\n",
    "        res, i = 0, 31\n",
    "        for s in b:\n",
    "            if s == '1':\n",
    "                res += pow(2, i)\n",
    "            i -= 1\n",
    "        return res\n",
    "    \n",
    "n = 43261596  \n",
    "Solution().reverseBits(n)"
   ]
  }
 ],
 "metadata": {
  "kernelspec": {
   "display_name": "Python 3",
   "language": "python",
   "name": "python3"
  },
  "language_info": {
   "codemirror_mode": {
    "name": "ipython",
    "version": 3
   },
   "file_extension": ".py",
   "mimetype": "text/x-python",
   "name": "python",
   "nbconvert_exporter": "python",
   "pygments_lexer": "ipython3",
   "version": "3.5.2"
  }
 },
 "nbformat": 4,
 "nbformat_minor": 2
}
