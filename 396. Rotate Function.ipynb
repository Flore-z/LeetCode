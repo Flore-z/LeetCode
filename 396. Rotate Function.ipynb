{
 "cells": [
  {
   "cell_type": "code",
   "execution_count": null,
   "metadata": {
    "collapsed": true
   },
   "outputs": [],
   "source": [
    "Question:\n",
    "Given an array of integers A and let n to be its length.\n",
    "\n",
    "Assume Bk to be an array obtained by rotating the array A k positions clock-wise, we define a \"rotation function\" \n",
    "F on A as follow:\n",
    "F(k) = 0 * Bk[0] + 1 * Bk[1] + ... + (n-1) * Bk[n-1].\n",
    "Calculate the maximum value of F(0), F(1), ..., F(n-1).\n",
    "\n",
    "Note:\n",
    "n is guaranteed to be less than 10^5.\n",
    "\n",
    "Example:\n",
    "A = [4, 3, 2, 6]\n",
    "F(0) = (0 * 4) + (1 * 3) + (2 * 2) + (3 * 6) = 0 + 3 + 4 + 18 = 25\n",
    "F(1) = (0 * 6) + (1 * 4) + (2 * 3) + (3 * 2) = 0 + 4 + 6 + 6 = 16\n",
    "F(2) = (0 * 2) + (1 * 6) + (2 * 4) + (3 * 3) = 0 + 6 + 8 + 9 = 23\n",
    "F(3) = (0 * 3) + (1 * 2) + (2 * 6) + (3 * 4) = 0 + 2 + 12 + 12 = 26\n",
    "So the maximum value of F(0), F(1), F(2), F(3) is F(3) = 26."
   ]
  },
  {
   "cell_type": "code",
   "execution_count": 3,
   "metadata": {},
   "outputs": [
    {
     "data": {
      "text/plain": [
       "330"
      ]
     },
     "execution_count": 3,
     "metadata": {},
     "output_type": "execute_result"
    }
   ],
   "source": [
    "class Solution(object):\n",
    "    def maxRotateFunction(self, A):\n",
    "        \"\"\"\n",
    "        :type A: List[int]\n",
    "        :rtype: int\n",
    "        \"\"\"\n",
    "        if not A:\n",
    "            return 0\n",
    "        \n",
    "        res = sum([i*A[i] for i in range(len(A))])\n",
    "        sumall = sum(A)\n",
    "        pre, n = res, len(A)\n",
    "        for i in range(len(A)-1, 0, -1):\n",
    "            pre = pre + sumall - n*A[i]\n",
    "            res = max(res, pre)\n",
    "        return res\n",
    "        \n",
    "A = [4, 3, 2, 6]\n",
    "A = [1,2,3,4,5,6,7,8,9,10]\n",
    "Solution().maxRotateFunction(A)"
   ]
  }
 ],
 "metadata": {
  "kernelspec": {
   "display_name": "Python 3",
   "language": "python",
   "name": "python3"
  },
  "language_info": {
   "codemirror_mode": {
    "name": "ipython",
    "version": 3
   },
   "file_extension": ".py",
   "mimetype": "text/x-python",
   "name": "python",
   "nbconvert_exporter": "python",
   "pygments_lexer": "ipython3",
   "version": "3.5.2"
  }
 },
 "nbformat": 4,
 "nbformat_minor": 2
}
