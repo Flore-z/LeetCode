{
 "cells": [
  {
   "cell_type": "code",
   "execution_count": null,
   "metadata": {
    "collapsed": true
   },
   "outputs": [],
   "source": [
    "Question:\n",
    "Sort a linked list in O(n log n) time using constant space complexity."
   ]
  },
  {
   "cell_type": "code",
   "execution_count": 27,
   "metadata": {},
   "outputs": [
    {
     "name": "stdout",
     "output_type": "stream",
     "text": [
      "4 2 1 3 5 \n",
      "\n",
      "1 2 3 4 5 \n",
      "\n"
     ]
    }
   ],
   "source": [
    "# Definition for singly-linked list.\n",
    "class ListNode:\n",
    "    def __init__(self, x):\n",
    "        self.val = x\n",
    "        self.next = None\n",
    "\n",
    "class Solution:\n",
    "    def sortList(self, head):\n",
    "        \"\"\"\n",
    "        :type head: ListNode\n",
    "        :rtype: ListNode\n",
    "        \"\"\"\n",
    "        def merge(h1, h2):\n",
    "            p, q, h = h1, h2, ListNode(0)\n",
    "            head = h\n",
    "            while p and q:\n",
    "                if p.val < q.val:\n",
    "                    p1 = p.next\n",
    "                    h.next = p\n",
    "                    p = p1\n",
    "                    h = h.next\n",
    "                else:\n",
    "                    q1 = q.next\n",
    "                    h.next = q\n",
    "                    q = q1\n",
    "                    h = h.next\n",
    "            if p: h.next = p\n",
    "            if q: h.next = q\n",
    "                \n",
    "            return head.next\n",
    "        \n",
    "        if not head or not head.next:\n",
    "            return head\n",
    "        \n",
    "        slow, fast = head, head\n",
    "        while fast and fast.next and fast.next.next:\n",
    "            slow = slow.next\n",
    "            fast = fast.next.next\n",
    "        head2 = slow.next\n",
    "        slow.next = None\n",
    "        \n",
    "        head = self.sortList(head)\n",
    "        head2 = self.sortList(head2)\n",
    "        h = merge(head, head2)\n",
    "        \n",
    "        return h\n",
    "        \n",
    "head = ListNode(4);\n",
    "p = head;\n",
    "p.next = ListNode(2);p = p.next\n",
    "p.next = ListNode(1);p = p.next\n",
    "p.next = ListNode(3);p = p.next\n",
    "p.next = ListNode(5);p = p.next\n",
    "\n",
    "p = head\n",
    "while p:\n",
    "    print(p.val, end=\" \")\n",
    "    p = p.next\n",
    "print(\"\\n\")\n",
    "head = Solution().sortList(head)\n",
    "p = head\n",
    "while p:\n",
    "    print(p.val, end=\" \")\n",
    "    p = p.next\n",
    "print(\"\\n\")"
   ]
  }
 ],
 "metadata": {
  "kernelspec": {
   "display_name": "Python 3",
   "language": "python",
   "name": "python3"
  },
  "language_info": {
   "codemirror_mode": {
    "name": "ipython",
    "version": 3
   },
   "file_extension": ".py",
   "mimetype": "text/x-python",
   "name": "python",
   "nbconvert_exporter": "python",
   "pygments_lexer": "ipython3",
   "version": "3.5.2"
  }
 },
 "nbformat": 4,
 "nbformat_minor": 2
}
