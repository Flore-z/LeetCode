{
 "cells": [
  {
   "cell_type": "code",
   "execution_count": null,
   "metadata": {},
   "outputs": [],
   "source": [
    "Question:\n",
    "Given a positive integer n, break it into the sum of at least two positive integers and maximize the product of \n",
    "those integers. Return the maximum product you can get.\n",
    "\n",
    "For example, given n = 2, return 1 (2 = 1 + 1); given n = 10, return 36 (10 = 3 + 3 + 4).\n",
    "\n",
    "Note: You may assume that n is not less than 2 and not larger than 58."
   ]
  },
  {
   "cell_type": "code",
   "execution_count": 5,
   "metadata": {},
   "outputs": [
    {
     "name": "stdout",
     "output_type": "stream",
     "text": [
      "[1, 1, 2, 4, 6, 9, 12, 18, 27, 36]\n"
     ]
    },
    {
     "data": {
      "text/plain": [
       "36"
      ]
     },
     "execution_count": 5,
     "metadata": {},
     "output_type": "execute_result"
    }
   ],
   "source": [
    "# dp, O(n^2)\n",
    "class Solution(object):\n",
    "    def integerBreak(self, n):\n",
    "        \"\"\"\n",
    "        :type n: int\n",
    "        :rtype: int\n",
    "        \"\"\"\n",
    "        dp = [1]*n\n",
    "        for x in range(2, n+1):\n",
    "            tmp = [max(dp[i-1], i) * (x-i) for i in range(1, x)]\n",
    "            dp[x-1] = max(tmp)\n",
    "        print(dp)\n",
    "        return max(tmp)\n",
    "        \n",
    "Solution().integerBreak(10)"
   ]
  },
  {
   "cell_type": "code",
   "execution_count": 1,
   "metadata": {},
   "outputs": [
    {
     "data": {
      "text/plain": [
       "36"
      ]
     },
     "execution_count": 1,
     "metadata": {},
     "output_type": "execute_result"
    }
   ],
   "source": [
    "# n个数的算术平均数大于等于它们的几何平均数, 因此当把输入的n拆分成几个相等的数时它们的积最大\n",
    "# f(x)=x^(n/x), f'(x)=(n/x^2) * x^(n/x) * (1-lnx), x=e时取极大值\n",
    "class Solution(object):\n",
    "    def integerBreak(self, n):\n",
    "        \"\"\"\n",
    "        :type n: int\n",
    "        :rtype: int\n",
    "        \"\"\"\n",
    "        d, m = divmod(n, 3)  # 3*d + m = n\n",
    "        if m == 0:\n",
    "            return 2 if n == 3 else 3**d\n",
    "        elif m == 1:\n",
    "            return 1 if n == 1 else 3**(d-1) * 4\n",
    "        elif m == 2:\n",
    "            return 1 if n == 2 else 3**d * 2\n",
    "        \n",
    "Solution().integerBreak(10)"
   ]
  }
 ],
 "metadata": {
  "kernelspec": {
   "display_name": "Python 3",
   "language": "python",
   "name": "python3"
  },
  "language_info": {
   "codemirror_mode": {
    "name": "ipython",
    "version": 3
   },
   "file_extension": ".py",
   "mimetype": "text/x-python",
   "name": "python",
   "nbconvert_exporter": "python",
   "pygments_lexer": "ipython3",
   "version": "3.5.1"
  }
 },
 "nbformat": 4,
 "nbformat_minor": 2
}
