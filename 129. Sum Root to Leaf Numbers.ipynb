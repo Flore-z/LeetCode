{
 "cells": [
  {
   "cell_type": "code",
   "execution_count": null,
   "metadata": {
    "collapsed": true
   },
   "outputs": [],
   "source": [
    "Question：\n",
    "Given a binary tree containing digits from 0-9 only, each root-to-leaf path could represent a number.\n",
    "An example is the root-to-leaf path 1->2->3 which represents the number 123.\n",
    "Find the total sum of all root-to-leaf numbers.\n",
    "For example,\n",
    "    1\n",
    "   / \\\n",
    "  2   3\n",
    "The root-to-leaf path 1->2 represents the number 12.\n",
    "The root-to-leaf path 1->3 represents the number 13.\n",
    "Return the sum = 12 + 13 = 25."
   ]
  },
  {
   "cell_type": "code",
   "execution_count": 18,
   "metadata": {},
   "outputs": [
    {
     "data": {
      "text/plain": [
       "531"
      ]
     },
     "execution_count": 18,
     "metadata": {},
     "output_type": "execute_result"
    }
   ],
   "source": [
    "# recursive method\n",
    "# Definition for a binary tree node.\n",
    "class TreeNode:\n",
    "    def __init__(self, x):\n",
    "        self.val = x\n",
    "        self.left = None\n",
    "        self.right = None\n",
    "\n",
    "class Solution:\n",
    "    def sumNumbers(self, root):\n",
    "        \"\"\"\n",
    "        :type root: TreeNode\n",
    "        :rtype: int\n",
    "        \"\"\"\n",
    "        def dfs(root, cur):\n",
    "            if not root:\n",
    "                return 0\n",
    "            if not root.left and not root.right:\n",
    "                return cur*10 + root.val\n",
    "            cur = cur*10 + root.val\n",
    "            return dfs(root.left, cur) + dfs(root.right, cur)\n",
    "        \n",
    "        return dfs(root, 0)\n",
    "    \n",
    "# root = TreeNode(1)\n",
    "# root.left = TreeNode(2);q = root.left\n",
    "# # q.left = TreeNode(1);q.right = TreeNode(2)\n",
    "# root.right = TreeNode(3); p = root.right\n",
    "# # p.left = TreeNode(15);p.right = TreeNode(7);\n",
    "\n",
    "root = TreeNode(4)\n",
    "root.left = TreeNode(9);q = root.left\n",
    "# q.left = TreeNode(1);\n",
    "q.right = TreeNode(1)\n",
    "root.right = TreeNode(0); p = root.right\n",
    "# p.left = TreeNode(15);p.right = TreeNode(7);\n",
    "\n",
    "Solution().sumNumbers(root)"
   ]
  },
  {
   "cell_type": "code",
   "execution_count": 21,
   "metadata": {},
   "outputs": [
    {
     "name": "stdout",
     "output_type": "stream",
     "text": [
      "['491', '40']\n"
     ]
    },
    {
     "data": {
      "text/plain": [
       "531"
      ]
     },
     "execution_count": 21,
     "metadata": {},
     "output_type": "execute_result"
    }
   ],
   "source": [
    "# recursive method\n",
    "class Solution(object):\n",
    "    def sumNumbers(self, root):\n",
    "        \"\"\"\n",
    "        :type root: TreeNode\n",
    "        :rtype: int\n",
    "        \"\"\"\n",
    "        def dfs(node, r2l): # r2l means root to leaf\n",
    "            if not node: return\n",
    "            if not node.left and not node.right: \n",
    "                self.res.append(r2l+str(node.val))\n",
    "            dfs(node.left,  r2l+str(node.val))\n",
    "            dfs(node.right, r2l+str(node.val))\n",
    "            \n",
    "        if not root: return 0\n",
    "        self.res = []\n",
    "        dfs(root, '')\n",
    "        print(self.res)\n",
    "        return sum([int(string) for string in self.res])\n",
    "    \n",
    "root = TreeNode(4)\n",
    "root.left = TreeNode(9);q = root.left\n",
    "# q.left = TreeNode(1);\n",
    "q.right = TreeNode(1)\n",
    "root.right = TreeNode(0); p = root.right\n",
    "# p.left = TreeNode(15);p.right = TreeNode(7);\n",
    "\n",
    "Solution().sumNumbers(root)"
   ]
  },
  {
   "cell_type": "code",
   "execution_count": 83,
   "metadata": {},
   "outputs": [
    {
     "data": {
      "text/plain": [
       "531"
      ]
     },
     "execution_count": 83,
     "metadata": {},
     "output_type": "execute_result"
    }
   ],
   "source": [
    "# iterative method\n",
    "class Solution(object):\n",
    "    def sumNumbers(self, root):\n",
    "        \"\"\"\n",
    "        :type root: TreeNode\n",
    "        :rtype: int\n",
    "        \"\"\"\n",
    "        if not root:\n",
    "            return 0\n",
    "        s = 0\n",
    "        cur = root.val\n",
    "        stk1 = [root]\n",
    "        stk2 = [0]\n",
    "        while stk1:\n",
    "            p = stk1.pop()\n",
    "            val = stk2.pop()\n",
    "            \n",
    "            val = val*10 + p.val\n",
    "            if not p.left and not p.right:\n",
    "                s += val\n",
    "            if p.left:\n",
    "                stk1.append(p.left)\n",
    "                stk2.append(val)\n",
    "            if p.right:\n",
    "                stk1.append(p.right)\n",
    "                stk2.append(val)\n",
    "        return s\n",
    "    \n",
    "# root = TreeNode(1)\n",
    "# root.left = TreeNode(2);q = root.left\n",
    "# # q.left = TreeNode(1);q.right = TreeNode(2)\n",
    "# root.right = TreeNode(3); p = root.right\n",
    "# # p.left = TreeNode(15);p.right = TreeNode(7);\n",
    "\n",
    "root = TreeNode(4)\n",
    "root.left = TreeNode(9);q = root.left\n",
    "# q.left = TreeNode(2);\n",
    "q.right = TreeNode(1)\n",
    "root.right = TreeNode(0); p = root.right\n",
    "# p.left = TreeNode(15);p.right = TreeNode(7);\n",
    "\n",
    "Solution().sumNumbers(root)"
   ]
  }
 ],
 "metadata": {
  "kernelspec": {
   "display_name": "Python 3",
   "language": "python",
   "name": "python3"
  },
  "language_info": {
   "codemirror_mode": {
    "name": "ipython",
    "version": 3
   },
   "file_extension": ".py",
   "mimetype": "text/x-python",
   "name": "python",
   "nbconvert_exporter": "python",
   "pygments_lexer": "ipython3",
   "version": "3.5.2"
  }
 },
 "nbformat": 4,
 "nbformat_minor": 2
}
