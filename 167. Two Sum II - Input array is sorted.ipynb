{
 "cells": [
  {
   "cell_type": "code",
   "execution_count": null,
   "metadata": {
    "collapsed": true
   },
   "outputs": [],
   "source": [
    "Question:\n",
    "Given an array of integers that is already sorted in ascending order, find two numbers such that they add up to \n",
    "a specific target number.\n",
    "The function twoSum should return indices of the two numbers such that they add up to the target, where index1 \n",
    "must be less than index2. Please note that your returned answers (both index1 and index2) are not zero-based.\n",
    "You may assume that each input would have exactly one solution and you may not use the same element twice.\n",
    "Input: numbers={2, 7, 11, 15}, target=9\n",
    "Output: index1=1, index2=2"
   ]
  },
  {
   "cell_type": "code",
   "execution_count": 6,
   "metadata": {},
   "outputs": [
    {
     "data": {
      "text/plain": [
       "[1, 3]"
      ]
     },
     "execution_count": 6,
     "metadata": {},
     "output_type": "execute_result"
    }
   ],
   "source": [
    "# note: numbers sorted in ascending order\n",
    "# binary search\n",
    "class Solution(object):\n",
    "    def twoSum(self, numbers, target):\n",
    "        \"\"\"\n",
    "        :type numbers: List[int]\n",
    "        :type target: int\n",
    "        :rtype: List[int]\n",
    "        \"\"\"\n",
    "        def binary(nums, l, r, target):\n",
    "            while l <= r:\n",
    "                mid = (l + r)//2\n",
    "                if nums[mid] == target:\n",
    "                    return mid+1\n",
    "                elif nums[mid] > target:\n",
    "                    r = mid - 1\n",
    "                else:\n",
    "                    l = mid + 1\n",
    "            return -1\n",
    "\n",
    "        res, n = [], len(numbers)\n",
    "        if not numbers:\n",
    "            return res\n",
    "        for i in range(n):\n",
    "            if target - numbers[i] >= numbers[i]:\n",
    "                res.append(i+1)\n",
    "                second = binary(numbers, i+1, n-1, target - numbers[i])\n",
    "                if second != -1:\n",
    "                    res.append(second)\n",
    "                    return res\n",
    "                res.pop()\n",
    "        return res\n",
    "    \n",
    "#         for i in range(len(numbers)):\n",
    "#             l, r = i+1, len(numbers)-1\n",
    "#             tmp = target - numbers[i]\n",
    "#             while l <= r:\n",
    "#                     mid = l + (r-l)//2\n",
    "#                     if numbers[mid] == tmp:\n",
    "#                         return [i+1, mid+1]\n",
    "#                     elif numbers[mid] < tmp:\n",
    "#                          l = mid+1\n",
    "#                     else:\n",
    "#                           r = mid-1 \n",
    "        \n",
    "numbers = [2, 7, 11, 16];target = 9\n",
    "numbers = [0, 0, 3, 4];target = 0\n",
    "target = 3\n",
    "Solution().twoSum(numbers, target) "
   ]
  },
  {
   "cell_type": "code",
   "execution_count": 5,
   "metadata": {},
   "outputs": [
    {
     "data": {
      "text/plain": [
       "[1, 3]"
      ]
     },
     "execution_count": 5,
     "metadata": {},
     "output_type": "execute_result"
    }
   ],
   "source": [
    "# two pointers\n",
    "class Solution(object):\n",
    "    def twoSum(self, numbers, target):\n",
    "        \"\"\"\n",
    "        :type numbers: List[int]\n",
    "        :type target: int\n",
    "        :rtype: List[int]\n",
    "        \"\"\"\n",
    "        i,j=0,len(numbers)-1\n",
    "        while i<j:\n",
    "            s=numbers[i]+numbers[j]\n",
    "            if s==target:\n",
    "                return [i+1,j+1]\n",
    "            elif s<target:\n",
    "                i+=1\n",
    "            else: j-=1\n",
    "        \n",
    "numbers = [0, 0, 3, 4];target = 0\n",
    "target = 3\n",
    "Solution().twoSum(numbers, target) "
   ]
  },
  {
   "cell_type": "code",
   "execution_count": 4,
   "metadata": {},
   "outputs": [
    {
     "data": {
      "text/plain": [
       "[2, 3]"
      ]
     },
     "execution_count": 4,
     "metadata": {},
     "output_type": "execute_result"
    }
   ],
   "source": [
    "# dictionary\n",
    "class Solution(object):\n",
    "    def twoSum(self, numbers, target):\n",
    "        \"\"\"\n",
    "        :type numbers: List[int]\n",
    "        :type target: int\n",
    "        :rtype: List[int]\n",
    "        \"\"\"\n",
    "        if numbers == []:\n",
    "            return\n",
    "        dic = {}\n",
    "        for i in range(len(numbers)):\n",
    "            if target - numbers[i] in dic:\n",
    "                return [dic[target - numbers[i]]+1, i+1]\n",
    "            dic[numbers[i]] = i\n",
    "            \n",
    "numbers = [0, 0, 3, 4];target = 0\n",
    "target = 3\n",
    "Solution().twoSum(numbers, target) "
   ]
  }
 ],
 "metadata": {
  "kernelspec": {
   "display_name": "Python 3",
   "language": "python",
   "name": "python3"
  },
  "language_info": {
   "codemirror_mode": {
    "name": "ipython",
    "version": 3
   },
   "file_extension": ".py",
   "mimetype": "text/x-python",
   "name": "python",
   "nbconvert_exporter": "python",
   "pygments_lexer": "ipython3",
   "version": "3.5.2"
  }
 },
 "nbformat": 4,
 "nbformat_minor": 2
}
