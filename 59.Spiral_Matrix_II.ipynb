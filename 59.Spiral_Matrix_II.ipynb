{
 "cells": [
  {
   "cell_type": "code",
   "execution_count": 14,
   "metadata": {},
   "outputs": [
    {
     "name": "stdout",
     "output_type": "stream",
     "text": [
      "[1, 2]\n",
      "[4, 3]\n"
     ]
    }
   ],
   "source": [
    "class Solution(object):\n",
    "    def generateMatrix(self, n):\n",
    "        \"\"\"\n",
    "        :type n: int\n",
    "        :rtype: List[List[int]]\n",
    "        \"\"\"\n",
    "        if n == 0:\n",
    "            return []\n",
    "        \n",
    "        res = []\n",
    "        for i in range(n):\n",
    "            res.append([0 for x in range(1,n+1)])\n",
    "        \n",
    "        up,down,left,right = 0, n-1, 0, n-1\n",
    "        x = 1\n",
    "        while left < right and up < down:\n",
    "            for i in range(left,right):\n",
    "                res[up][i] = x\n",
    "                x += 1\n",
    "            for i in range(up,down):\n",
    "                res[i][right] = x\n",
    "                x += 1\n",
    "            for i in range(right,left,-1):\n",
    "                res[down][i] = x\n",
    "                x += 1\n",
    "            for i in range(down,up,-1):\n",
    "                res[i][left] = x\n",
    "                x += 1\n",
    "            up,down,left,right = up+1,down-1,left+1,right-1\n",
    "        if n % 2 == 1:\n",
    "            res[up][left] = x\n",
    "        return res\n",
    "\n",
    "n = 2\n",
    "res = Solution().generateMatrix(n)\n",
    "for i in range(n):\n",
    "    print(res[i])\n",
    "            "
   ]
  },
  {
   "cell_type": "code",
   "execution_count": null,
   "metadata": {
    "collapsed": true
   },
   "outputs": [],
   "source": []
  }
 ],
 "metadata": {
  "kernelspec": {
   "display_name": "Python 3",
   "language": "python",
   "name": "python3"
  },
  "language_info": {
   "codemirror_mode": {
    "name": "ipython",
    "version": 3
   },
   "file_extension": ".py",
   "mimetype": "text/x-python",
   "name": "python",
   "nbconvert_exporter": "python",
   "pygments_lexer": "ipython3",
   "version": "3.4.3"
  }
 },
 "nbformat": 4,
 "nbformat_minor": 2
}
