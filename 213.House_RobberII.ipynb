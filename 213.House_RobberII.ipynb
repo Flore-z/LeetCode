{
 "cells": [
  {
   "cell_type": "code",
   "execution_count": null,
   "metadata": {
    "collapsed": true
   },
   "outputs": [],
   "source": [
    "Question：\n",
    "Note: This is an extension of House Robber.\n",
    "After robbing those houses on that street, the thief has found himself a new place for his thievery so that he \n",
    "will not get too much attention. This time, all houses at this place are arranged in a circle. That means the \n",
    "first house is the neighbor of the last one. Meanwhile, the security system for these houses remain the same as \n",
    "for those in the previous street.\n",
    "Given a list of non-negative integers representing the amount of money of each house, determine the maximum \n",
    "amount of money you can rob tonight without alerting the police."
   ]
  },
  {
   "cell_type": "code",
   "execution_count": 12,
   "metadata": {},
   "outputs": [
    {
     "data": {
      "text/plain": [
       "15"
      ]
     },
     "execution_count": 12,
     "metadata": {},
     "output_type": "execute_result"
    }
   ],
   "source": [
    "class Solution:\n",
    "    def rob(self, nums):\n",
    "        \"\"\"\n",
    "        :type nums: List[int]\n",
    "        :rtype: int\n",
    "        \"\"\"\n",
    "        n = len(nums)\n",
    "        if n == 0: return 0\n",
    "        if n < 4: return max(nums)\n",
    "        pre, cur = 0, 0\n",
    "        for val in nums[2:n-1]:\n",
    "            pre, cur = cur, max(pre+val, cur)\n",
    "        max1 = cur\n",
    "        pre, cur = 0, 0\n",
    "        for val in nums[1:]:\n",
    "            pre, cur = cur, max(pre+val, cur)\n",
    "        return max(max1+nums[0], cur)\n",
    "\n",
    "nums = [2,1,3]\n",
    "nums = [3,2,5,1,6,7,4]\n",
    "Solution().rob(nums)"
   ]
  }
 ],
 "metadata": {
  "kernelspec": {
   "display_name": "Python 3",
   "language": "python",
   "name": "python3"
  },
  "language_info": {
   "codemirror_mode": {
    "name": "ipython",
    "version": 3
   },
   "file_extension": ".py",
   "mimetype": "text/x-python",
   "name": "python",
   "nbconvert_exporter": "python",
   "pygments_lexer": "ipython3",
   "version": "3.5.2"
  }
 },
 "nbformat": 4,
 "nbformat_minor": 2
}
