{
 "cells": [
  {
   "cell_type": "markdown",
   "metadata": {
    "collapsed": true
   },
   "source": [
    "Question:\n",
    "Given a binary tree and a sum, find all root-to-leaf paths where each path's sum equals the given sum.\n"
   ]
  },
  {
   "cell_type": "code",
   "execution_count": null,
   "metadata": {
    "collapsed": true
   },
   "outputs": [],
   "source": [
    "# Definition for a binary tree node.\n",
    "class TreeNode(object):\n",
    "    def __init__(self, x):\n",
    "        self.val = x\n",
    "        self.left = None\n",
    "        self.right = None\n",
    "\n",
    "class Solution(object):\n",
    "    def pathSum(self, root, sum):\n",
    "        \"\"\"\n",
    "        :type root: TreeNode\n",
    "        :type sum: int\n",
    "        :rtype: List[List[int]]\n",
    "        \"\"\"\n",
    "        if not root:\n",
    "            return []\n",
    "        res = []\n",
    "        def dfs(root, sum, tmp, res):\n",
    "            if root.val == sum and not root.left and not root.right:\n",
    "                res.append(tmp+[root.val])\n",
    "                return\n",
    "            if root.left:\n",
    "                dfs(root.left, sum-root.val, tmp+[root.val], res)\n",
    "            if root.right:\n",
    "                dfs(root.right, sum-root.val, tmp+[root.val], res)\n",
    "            \n",
    "        dfs(root, sum, [], res)\n",
    "        return res\n",
    "    \n",
    "    def preOrder(self, root):\n",
    "        if not root:\n",
    "            return\n",
    "        print(root.val, end = ' ')\n",
    "        self.preOrder(root.left)\n",
    "        self.preOrder(root.right)\n",
    "        \n",
    "# root = TreeNode(3)\n",
    "# root.left = TreeNode(9);q = root.left\n",
    "# # q.left = TreeNode(1);q.right = TreeNode(2)\n",
    "# root.right = TreeNode(20); p = root.right\n",
    "# p.left = TreeNode(15);p.right = TreeNode(7);\n",
    "# p = p.left;p.right = TreeNode(6)\n",
    "\n",
    "root = TreeNode(5)\n",
    "root.left = TreeNode(4);q = root.left\n",
    "q.left = TreeNode(11);q = q.left\n",
    "q.left = TreeNode(7);q.right = TreeNode(2)\n",
    "root.right = TreeNode(8); p = root.right\n",
    "p.left = TreeNode(13);p.right = TreeNode(4)\n",
    "p = p.right;p.left = TreeNode(5);p.right = TreeNode(1)\n",
    "\n",
    "Solution().preOrder(root)\n",
    "Solution().pathSum(root, 22)"
   ]
  },
  {
   "cell_type": "code",
   "execution_count": 20,
   "metadata": {},
   "outputs": [
    {
     "data": {
      "text/plain": [
       "[[5, 4, 11, 2], [5, 8, 4, 5]]"
      ]
     },
     "execution_count": 20,
     "metadata": {},
     "output_type": "execute_result"
    }
   ],
   "source": [
    "class Solution(object):\n",
    "    def pathSum(self, root, sum):\n",
    "        \"\"\"\n",
    "        :type root: TreeNode\n",
    "        :type sum: int\n",
    "        :rtype: List[List[int]]\n",
    "        \"\"\"\n",
    "        self.res = []\n",
    "        self.dfs(root,sum,sum,[])\n",
    "        return self.res\n",
    "\n",
    "    def dfs(self,node,sum,rem,sublist):\n",
    "        if node is None:\n",
    "            return\n",
    "        sublist.append(node.val)\n",
    "        rem-=node.val\n",
    "        if rem==0 and node.left is None and node.right is None:\n",
    "            self.res.append(sublist[:])\n",
    "        \n",
    "        self.dfs(node.left,sum,rem,sublist)\n",
    "        self.dfs(node.right,sum,rem,sublist)\n",
    "        sublist.pop()\n",
    "        \n",
    "root = TreeNode(5)\n",
    "root.left = TreeNode(4);q = root.left\n",
    "q.left = TreeNode(11);q = q.left\n",
    "q.left = TreeNode(7);q.right = TreeNode(2)\n",
    "root.right = TreeNode(8); p = root.right\n",
    "p.left = TreeNode(13);p.right = TreeNode(4)\n",
    "p = p.right;p.left = TreeNode(5);p.right = TreeNode(1)\n",
    "\n",
    "Solution().pathSum(root, 22)"
   ]
  }
 ],
 "metadata": {
  "kernelspec": {
   "display_name": "Python 3",
   "language": "python",
   "name": "python3"
  },
  "language_info": {
   "codemirror_mode": {
    "name": "ipython",
    "version": 3
   },
   "file_extension": ".py",
   "mimetype": "text/x-python",
   "name": "python",
   "nbconvert_exporter": "python",
   "pygments_lexer": "ipython3",
   "version": "3.5.2"
  }
 },
 "nbformat": 4,
 "nbformat_minor": 2
}
