{
 "cells": [
  {
   "cell_type": "code",
   "execution_count": 1,
   "metadata": {},
   "outputs": [
    {
     "data": {
      "text/plain": [
       "3"
      ]
     },
     "execution_count": 1,
     "metadata": {},
     "output_type": "execute_result"
    }
   ],
   "source": [
    "class Solution(object):\n",
    "    def singleNumber(self, nums):\n",
    "        \"\"\"\n",
    "        :type nums: List[int]\n",
    "        :rtype: int\n",
    "        \"\"\"\n",
    "        mark, single = 1, 0\n",
    "        for i in range(32):\n",
    "            count = 0\n",
    "            for j in range(len(nums)):\n",
    "                if nums[j] & mark:\n",
    "                    count += 1\n",
    "            if count % 3:\n",
    "                single += 2 ** i\n",
    "                if i == 31:\n",
    "                    single -= 2 ** 32\n",
    "            mark <<= 1\n",
    "        return single\n",
    "    \n",
    "nums = [2,2,3,2]\n",
    "Solution().singleNumber(nums)"
   ]
  },
  {
   "cell_type": "code",
   "execution_count": 5,
   "metadata": {},
   "outputs": [
    {
     "name": "stdout",
     "output_type": "stream",
     "text": [
      "2 0\n",
      "0 2\n",
      "1 0\n",
      "3 0\n"
     ]
    },
    {
     "data": {
      "text/plain": [
       "3"
      ]
     },
     "execution_count": 5,
     "metadata": {},
     "output_type": "execute_result"
    }
   ],
   "source": [
    "class Solution(object):\n",
    "    def singleNumber(self, nums):\n",
    "        \"\"\"\n",
    "        :type nums: List[int]\n",
    "        :rtype: int\n",
    "        \"\"\"\n",
    "        if nums == None or len(nums) == 0:\n",
    "            return 0\n",
    "        store1 = 0\n",
    "        store2 = 0\n",
    "        for i in nums:\n",
    "            store1 = (store1^i)&(~store2)\n",
    "            store2 = (store2^i)&(~store1)\n",
    "            print(store1, store2)\n",
    "        return store1\n",
    "\n",
    "nums = [2,2,3,2]\n",
    "Solution().singleNumber(nums)"
   ]
  },
  {
   "cell_type": "code",
   "execution_count": 2,
   "metadata": {},
   "outputs": [
    {
     "data": {
      "text/plain": [
       "3.0"
      ]
     },
     "execution_count": 2,
     "metadata": {},
     "output_type": "execute_result"
    }
   ],
   "source": [
    "class Solution(object):\n",
    "    def singleNumber(self, nums):\n",
    "        \"\"\"\n",
    "        :type nums: List[int]\n",
    "        :rtype: int\n",
    "        \"\"\"\n",
    "        return (3*sum(set(nums)) - sum(nums))/2\n",
    "    \n",
    "nums = [2,2,3,2]\n",
    "Solution().singleNumber(nums)"
   ]
  },
  {
   "cell_type": "code",
   "execution_count": 9,
   "metadata": {},
   "outputs": [
    {
     "name": "stdout",
     "output_type": "stream",
     "text": [
      "2 0 0\n",
      "0 2 0\n",
      "1 0 2\n",
      "3 0 0\n"
     ]
    },
    {
     "data": {
      "text/plain": [
       "3"
      ]
     },
     "execution_count": 9,
     "metadata": {},
     "output_type": "execute_result"
    }
   ],
   "source": [
    "# 分别统计，记录出现一次，两次，三次的数\n",
    "class Solution(object):\n",
    "    def singleNumber(self, nums):\n",
    "        \"\"\"\n",
    "        :type nums: List[int]\n",
    "        :rtype: int\n",
    "        \"\"\"\n",
    "        ones, twos, threes = 0, 0, 0\n",
    "        for item in nums:\n",
    "            twos |= ones & item      \n",
    "            ones ^= item          \n",
    "            threes = ones & twos     \n",
    "\n",
    "            ones ^= threes         \n",
    "            twos ^= threes       \n",
    "            print(ones, twos, threes)\n",
    "        return ones\n",
    "\n",
    "nums = [2,2,3,2]\n",
    "Solution().singleNumber(nums)"
   ]
  },
  {
   "cell_type": "code",
   "execution_count": null,
   "metadata": {
    "collapsed": true
   },
   "outputs": [],
   "source": []
  }
 ],
 "metadata": {
  "kernelspec": {
   "display_name": "Python 3",
   "language": "python",
   "name": "python3"
  },
  "language_info": {
   "codemirror_mode": {
    "name": "ipython",
    "version": 3
   },
   "file_extension": ".py",
   "mimetype": "text/x-python",
   "name": "python",
   "nbconvert_exporter": "python",
   "pygments_lexer": "ipython3",
   "version": "3.5.2"
  }
 },
 "nbformat": 4,
 "nbformat_minor": 2
}
