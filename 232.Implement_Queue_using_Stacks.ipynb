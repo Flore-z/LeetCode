{
 "cells": [
  {
   "cell_type": "code",
   "execution_count": null,
   "metadata": {
    "collapsed": true
   },
   "outputs": [],
   "source": [
    "Question:\n",
    "Implement the following operations of a queue using stacks.\n",
    "•\tpush(x) -- Push element x to the back of queue.\n",
    "•\tpop() -- Removes the element from in front of queue.\n",
    "•\tpeek() -- Get the front element.\n",
    "•\tempty() -- Return whether the queue is empty.\n",
    "\n",
    "Notes:\n",
    "•\tYou must use only standard operations of a stack -- which means only push to top, peek/pop from top, size, \n",
    "and is emptyoperations are valid.\n",
    "•\tDepending on your language, stack may not be supported natively. You may simulate a stack by using a list or\n",
    "deque (double-ended queue), as long as you use only standard operations of a stack.\n",
    "•\tYou may assume that all operations are valid \n",
    "(for example, no pop or peek operations will be called on an empty queue)."
   ]
  },
  {
   "cell_type": "code",
   "execution_count": 2,
   "metadata": {},
   "outputs": [
    {
     "name": "stdout",
     "output_type": "stream",
     "text": [
      "1 2 False\n"
     ]
    }
   ],
   "source": [
    "# two stacks\n",
    "class MyQueue(object):\n",
    "\n",
    "    def __init__(self):\n",
    "        \"\"\"\n",
    "        Initialize your data structure here.\n",
    "        \"\"\"\n",
    "        self.stk1 = []\n",
    "        self.stk2 = []\n",
    "\n",
    "    def push(self, x):\n",
    "        \"\"\"\n",
    "        Push element x to the back of queue.\n",
    "        :type x: int\n",
    "        :rtype: void\n",
    "        \"\"\"\n",
    "        self.stk1.append(x)\n",
    "\n",
    "    def pop(self):\n",
    "        \"\"\"\n",
    "        Removes the element from in front of queue and returns that element.\n",
    "        :rtype: int\n",
    "        \"\"\"\n",
    "        if not self.stk2:\n",
    "            while self.stk1:\n",
    "                self.stk2.append(self.stk1.pop())\n",
    "        return self.stk2.pop()\n",
    "\n",
    "    def peek(self):\n",
    "        \"\"\"\n",
    "        Get the front element.\n",
    "        :rtype: int\n",
    "        \"\"\"\n",
    "        if not self.stk2:\n",
    "            while self.stk1:\n",
    "                self.stk2.append(self.stk1.pop())\n",
    "        return self.stk2[-1]\n",
    "\n",
    "    def empty(self):\n",
    "        \"\"\"\n",
    "        Returns whether the queue is empty.\n",
    "        :rtype: bool\n",
    "        \"\"\"\n",
    "        return not self.stk1 and not self.stk2\n",
    "\n",
    "# Your MyQueue object will be instantiated and called as such:\n",
    "obj = MyQueue()\n",
    "x1 = 1;x2 = 2\n",
    "obj.push(x1)\n",
    "obj.push(x2)\n",
    "param_2 = obj.pop()\n",
    "param_3 = obj.peek()\n",
    "param_4 = obj.empty()\n",
    "print(param_2, param_3, param_4)"
   ]
  }
 ],
 "metadata": {
  "kernelspec": {
   "display_name": "Python 3",
   "language": "python",
   "name": "python3"
  },
  "language_info": {
   "codemirror_mode": {
    "name": "ipython",
    "version": 3
   },
   "file_extension": ".py",
   "mimetype": "text/x-python",
   "name": "python",
   "nbconvert_exporter": "python",
   "pygments_lexer": "ipython3",
   "version": "3.5.2"
  }
 },
 "nbformat": 4,
 "nbformat_minor": 2
}
