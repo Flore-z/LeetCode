{
 "cells": [
  {
   "cell_type": "code",
   "execution_count": null,
   "metadata": {
    "collapsed": true
   },
   "outputs": [],
   "source": [
    "Question:\n",
    "You are a professional robber planning to rob houses along a street. Each house has a certain amount of money \n",
    "stashed, the only constraint stopping you from robbing each of them is that adjacent houses have security system \n",
    "connected and it will automatically contact the police if two adjacent houses were broken into on the same night.\n",
    "Given a list of non-negative integers representing the amount of money of each house, determine the maximum \n",
    "amount of money you can rob tonight without alerting the police."
   ]
  },
  {
   "cell_type": "code",
   "execution_count": 1,
   "metadata": {},
   "outputs": [
    {
     "data": {
      "text/plain": [
       "18"
      ]
     },
     "execution_count": 1,
     "metadata": {},
     "output_type": "execute_result"
    }
   ],
   "source": [
    "class Solution(object):\n",
    "    def rob(self, nums):\n",
    "        \"\"\"\n",
    "        :type nums: List[int]\n",
    "        :rtype: int\n",
    "        \"\"\"\n",
    "        n = len(nums)\n",
    "        if n == 0:\n",
    "            return 0\n",
    "        dp = [0] * (n+2)\n",
    "        for i in range(2,n+2):\n",
    "            dp[i] = max(dp[i-2] + nums[i-2], dp[i-1])\n",
    "        return dp[-1]\n",
    "        \n",
    "nums = [3,2,5,1,6,7,4]\n",
    "Solution().rob(nums)"
   ]
  },
  {
   "cell_type": "code",
   "execution_count": 1,
   "metadata": {},
   "outputs": [
    {
     "data": {
      "text/plain": [
       "18"
      ]
     },
     "execution_count": 1,
     "metadata": {},
     "output_type": "execute_result"
    }
   ],
   "source": [
    "class Solution(object):\n",
    "    def rob(self, nums):\n",
    "        \"\"\"\n",
    "        :type nums: List[int]\n",
    "        :rtype: int\n",
    "        \"\"\"\n",
    "        prev, cur = 0, 0\n",
    "        for val in nums:\n",
    "            temp = cur\n",
    "            cur = max(prev + val, cur)\n",
    "            prev = temp\n",
    "        return cur\n",
    "\n",
    "nums = [3,2,5,1,6,7,4]\n",
    "Solution().rob(nums)"
   ]
  }
 ],
 "metadata": {
  "kernelspec": {
   "display_name": "Python 3",
   "language": "python",
   "name": "python3"
  },
  "language_info": {
   "codemirror_mode": {
    "name": "ipython",
    "version": 3
   },
   "file_extension": ".py",
   "mimetype": "text/x-python",
   "name": "python",
   "nbconvert_exporter": "python",
   "pygments_lexer": "ipython3",
   "version": "3.5.2"
  }
 },
 "nbformat": 4,
 "nbformat_minor": 2
}
