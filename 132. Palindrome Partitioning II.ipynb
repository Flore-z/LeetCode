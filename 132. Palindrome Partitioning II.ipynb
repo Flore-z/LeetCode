{
 "cells": [
  {
   "cell_type": "code",
   "execution_count": 38,
   "metadata": {},
   "outputs": [
    {
     "data": {
      "text/plain": [
       "1"
      ]
     },
     "execution_count": 38,
     "metadata": {},
     "output_type": "execute_result"
    }
   ],
   "source": [
    "# Time Limit Exceeded\n",
    "class Solution(object):\n",
    "    def minCut(self, s):\n",
    "        \"\"\"\n",
    "        :type s: str\n",
    "        :rtype: int\n",
    "        \"\"\"\n",
    "        if len(s) == 0:\n",
    "            return 0\n",
    "        min_n = float('Inf')\n",
    "        \n",
    "        def backtracking(s, n, min_n):\n",
    "            for i in range(1,len(s)+1):\n",
    "                if i == len(s) and s == s[::-1]:\n",
    "                    min_n = min(n, min_n)\n",
    "                else:\n",
    "                    s1 = s[:i]\n",
    "                    s2 = s[i:]\n",
    "                    if s1 == s1[::-1]:\n",
    "                        if s2 == s2[::-1]:\n",
    "                            min_n = min(n+1, min_n)\n",
    "                        else:\n",
    "                            min_n = backtracking(s2, n+1, min_n)\n",
    "            return min_n\n",
    "    \n",
    "        return backtracking(s, 0, min_n)\n",
    "    \n",
    "s = \"aab\"\n",
    "# s = \"ababababababababababababcbabababababababababababa\"\n",
    "Solution().minCut(s)"
   ]
  },
  {
   "cell_type": "code",
   "execution_count": 2,
   "metadata": {},
   "outputs": [
    {
     "data": {
      "text/plain": [
       "0"
      ]
     },
     "execution_count": 2,
     "metadata": {},
     "output_type": "execute_result"
    }
   ],
   "source": [
    "# dp\n",
    "class Solution:\n",
    "    def minCut(self, s):\n",
    "        \"\"\"\n",
    "        :type s: str\n",
    "        :rtype: int\n",
    "        \"\"\"\n",
    "        dp = [float('Inf')] * (len(s) + 1)\n",
    "        dp[0] = -1\n",
    "        for i in range(len(s)):\n",
    "            for j in range(i+1):\n",
    "                s1 = s[j:i+1]\n",
    "                if s1 == s1[::-1]:\n",
    "                    dp[i+1] = min(dp[i+1], dp[j] + 1)\n",
    "        return dp[-1]\n",
    "    \n",
    "# s = \"aab\"\n",
    "s = \"ababababababababababababcbabababababababababababa\"\n",
    "Solution().minCut(s)"
   ]
  },
  {
   "cell_type": "code",
   "execution_count": 4,
   "metadata": {},
   "outputs": [
    {
     "data": {
      "text/plain": [
       "1"
      ]
     },
     "execution_count": 4,
     "metadata": {},
     "output_type": "execute_result"
    }
   ],
   "source": [
    "# dp\n",
    "class Solution:\n",
    "    def minCut(self, s):\n",
    "        \"\"\"\n",
    "        :type s: str\n",
    "        :rtype: int\n",
    "        \"\"\"\n",
    "        n = len(s)\n",
    "        f = [[False] * n for _ in range(n)]\n",
    "        dp = [0] * (n+1)\n",
    "        for i in range(n):\n",
    "            dp[i] = n-i-1\n",
    "        dp[n] = -1\n",
    "        for i in range(n):\n",
    "            f[i][i] = True\n",
    "        for i in range(n-1, -1, -1):\n",
    "            for j in range(i, n):\n",
    "                if s[i] == s[j] and (j-i<2 or f[i+1][j-1]):\n",
    "                    f[i][j] = True\n",
    "                    dp[i] = min(dp[i], dp[j+1] + 1)\n",
    "#                     print(i,j,dp[i])\n",
    "        return dp[0]\n",
    "\n",
    "s = \"aab\"\n",
    "# s = \"ababababababababababababcbabababababababababababa\"\n",
    "Solution().minCut(s)"
   ]
  }
 ],
 "metadata": {
  "kernelspec": {
   "display_name": "Python 3",
   "language": "python",
   "name": "python3"
  },
  "language_info": {
   "codemirror_mode": {
    "name": "ipython",
    "version": 3
   },
   "file_extension": ".py",
   "mimetype": "text/x-python",
   "name": "python",
   "nbconvert_exporter": "python",
   "pygments_lexer": "ipython3",
   "version": "3.5.2"
  }
 },
 "nbformat": 4,
 "nbformat_minor": 2
}
