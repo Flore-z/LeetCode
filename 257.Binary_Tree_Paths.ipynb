{
 "cells": [
  {
   "cell_type": "code",
   "execution_count": null,
   "metadata": {
    "collapsed": true
   },
   "outputs": [],
   "source": [
    "Question:\n",
    "Given a binary tree, return all root-to-leaf paths.\n",
    "\n",
    "For example, given the following binary tree:\n",
    "   1\n",
    " /   \\\n",
    "2     3\n",
    " \\\n",
    "  5\n",
    "All root-to-leaf paths are:\n",
    "[\"1->2->5\", \"1->3\"]"
   ]
  },
  {
   "cell_type": "code",
   "execution_count": 1,
   "metadata": {},
   "outputs": [
    {
     "name": "stdout",
     "output_type": "stream",
     "text": [
      "['1->2->5', '1->3']\n"
     ]
    }
   ],
   "source": [
    "# dfs\n",
    "# Definition for a binary tree node.\n",
    "class TreeNode(object):\n",
    "    def __init__(self, x):\n",
    "        self.val = x\n",
    "        self.left = None\n",
    "        self.right = None\n",
    "\n",
    "class Solution(object):\n",
    "    def binaryTreePaths(self, root):\n",
    "        \"\"\"\n",
    "        :type root: TreeNode\n",
    "        :rtype: List[str]\n",
    "        \"\"\"\n",
    "        if not root:\n",
    "            return []\n",
    "\n",
    "        res, tmp = [], str(root.val)\n",
    "\n",
    "        def dfs(root, res, tmp):\n",
    "            if not root.left and not root.right:\n",
    "                res.append(tmp)\n",
    "                return\n",
    "\n",
    "            if root.left:\n",
    "                dfs(root.left, res, tmp + '->' + str(root.left.val))\n",
    "            if root.right:\n",
    "                dfs(root.right, res, tmp + '->' + str(root.right.val))\n",
    "\n",
    "        dfs(root, res, tmp)\n",
    "        return res\n",
    "\n",
    "root = TreeNode(1)\n",
    "root.left = TreeNode(2);p = root.left\n",
    "root.right = TreeNode(3)\n",
    "p.right = TreeNode(5)\n",
    "\n",
    "res = Solution().binaryTreePaths(root)\n",
    "print(res)"
   ]
  }
 ],
 "metadata": {
  "kernelspec": {
   "display_name": "Python 3",
   "language": "python",
   "name": "python3"
  },
  "language_info": {
   "codemirror_mode": {
    "name": "ipython",
    "version": 3
   },
   "file_extension": ".py",
   "mimetype": "text/x-python",
   "name": "python",
   "nbconvert_exporter": "python",
   "pygments_lexer": "ipython3",
   "version": "3.5.2"
  }
 },
 "nbformat": 4,
 "nbformat_minor": 2
}
