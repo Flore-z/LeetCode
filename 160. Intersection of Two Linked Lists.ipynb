{
 "cells": [
  {
   "cell_type": "code",
   "execution_count": null,
   "metadata": {
    "collapsed": true
   },
   "outputs": [],
   "source": [
    "Question:\n",
    "Write a program to find the node at which the intersection of two singly linked lists begins.\n",
    "\n",
    "For example, the following two linked lists:\n",
    "A:          a1 → a2\n",
    "                   ↘\n",
    "                     c1 → c2 → c3\n",
    "                   ↗            \n",
    "B:     b1 → b2 → b3\n",
    "begin to intersect at node c1.\n",
    "\n",
    "Notes:\n",
    "•\tIf the two linked lists have no intersection at all, return null.\n",
    "•\tThe linked lists must retain their original structure after the function returns.\n",
    "•\tYou may assume there are no cycles anywhere in the entire linked structure.\n",
    "•\tYour code should preferably run in O(n) time and use only O(1) memory. "
   ]
  },
  {
   "cell_type": "code",
   "execution_count": 11,
   "metadata": {},
   "outputs": [
    {
     "name": "stdout",
     "output_type": "stream",
     "text": [
      "4 2 6 3 5 \n",
      "\n",
      "1 8 6 3 5 \n",
      "\n"
     ]
    },
    {
     "data": {
      "text/plain": [
       "6"
      ]
     },
     "execution_count": 11,
     "metadata": {},
     "output_type": "execute_result"
    }
   ],
   "source": [
    "# Definition for singly-linked list.\n",
    "class ListNode(object):\n",
    "    def __init__(self, x):\n",
    "        self.val = x\n",
    "        self.next = None\n",
    "\n",
    "class Solution(object):\n",
    "    def getIntersectionNode(self, headA, headB):\n",
    "        \"\"\"\n",
    "        :type head1, head1: ListNode\n",
    "        :rtype: ListNode\n",
    "        \"\"\"\n",
    "        na, nb = 0, 0\n",
    "        pa, pb = headA, headB\n",
    "        while pa:\n",
    "            na += 1\n",
    "            pa = pa.next\n",
    "        while pb:\n",
    "            nb += 1\n",
    "            pb = pb.next\n",
    "            \n",
    "        pa, pb = headA, headB\n",
    "        if na > nb:\n",
    "            for i in range(na - nb):\n",
    "                pa = pa.next\n",
    "        else:\n",
    "            for i in range(nb - na):\n",
    "                pb = pb.next\n",
    "        while pa:\n",
    "            if pa == pb:\n",
    "                return pa\n",
    "            pa = pa.next\n",
    "            pb = pb.next\n",
    "            \n",
    "        return None\n",
    "            \n",
    "head1 = ListNode(4)\n",
    "p = head1;\n",
    "p.next = ListNode(2);p = p.next\n",
    "p.next = ListNode(6);p = p.next;q = p\n",
    "p.next = ListNode(3);p = p.next\n",
    "p.next = ListNode(5);p = p.next\n",
    "\n",
    "p = head1\n",
    "while p:\n",
    "    print(p.val, end=\" \")\n",
    "    p = p.next\n",
    "print(\"\\n\")\n",
    "\n",
    "head2 = ListNode(1);\n",
    "p = head2;\n",
    "p.next = ListNode(8);p = p.next\n",
    "p.next = q\n",
    "\n",
    "p = head2\n",
    "while p:\n",
    "    print(p.val, end=\" \")\n",
    "    p = p.next\n",
    "print(\"\\n\")\n",
    "\n",
    "res = Solution().getIntersectionNode(head1, head2)\n",
    "res.val"
   ]
  },
  {
   "cell_type": "code",
   "execution_count": 13,
   "metadata": {},
   "outputs": [
    {
     "name": "stdout",
     "output_type": "stream",
     "text": [
      "4 2 6 3 5 \n",
      "\n",
      "1 6 3 5 \n",
      "\n"
     ]
    },
    {
     "data": {
      "text/plain": [
       "6"
      ]
     },
     "execution_count": 13,
     "metadata": {},
     "output_type": "execute_result"
    }
   ],
   "source": [
    "class Solution(object):\n",
    "    def getIntersectionNode(self, headA, headB):\n",
    "        \"\"\"\n",
    "        :type head1, head1: ListNode\n",
    "        :rtype: ListNode\n",
    "        \"\"\"\n",
    "        # two pointers to traverse linkedlist\n",
    "        # when a pointer reaches the end, reset to other linkedlist's head\n",
    "        # second traversal will either give intersection or None\n",
    "        \n",
    "#         pointer_a, pointer_b = headA, headB\n",
    "#         while pointer_a is not pointer_b:\n",
    "#             pointer_a = headB if pointer_a is None else pointer_a.next\n",
    "#             pointer_b = headA if pointer_b is None else pointer_b.next\n",
    "#         return pointer_a\n",
    "        \n",
    "        if headA == None or headB == None:\n",
    "            return None\n",
    "        \n",
    "        pa, pb = headA, headB\n",
    "        \n",
    "        while pa is not pb:\n",
    "            if pa == None:\n",
    "                pa = headB\n",
    "            else:\n",
    "                pa = pa.next\n",
    "            \n",
    "            if pb == None:\n",
    "                pb = headA\n",
    "            else:\n",
    "                pb = pb.next\n",
    "                \n",
    "        return pa\n",
    "    \n",
    "head1 = ListNode(4)\n",
    "p = head1;\n",
    "p.next = ListNode(2);p = p.next\n",
    "p.next = ListNode(6);p = p.next;q = p\n",
    "p.next = ListNode(3);p = p.next\n",
    "p.next = ListNode(5);p = p.next\n",
    "\n",
    "p = head1\n",
    "while p:\n",
    "    print(p.val, end=\" \")\n",
    "    p = p.next\n",
    "print(\"\\n\")\n",
    "\n",
    "head2 = ListNode(1);\n",
    "p = head2;\n",
    "# p.next = ListNode(8);p = p.next\n",
    "p.next = q\n",
    "\n",
    "p = head2\n",
    "while p:\n",
    "    print(p.val, end=\" \")\n",
    "    p = p.next\n",
    "print(\"\\n\")\n",
    "\n",
    "res = Solution().getIntersectionNode(head1, head2)\n",
    "res.val"
   ]
  }
 ],
 "metadata": {
  "kernelspec": {
   "display_name": "Python 3",
   "language": "python",
   "name": "python3"
  },
  "language_info": {
   "codemirror_mode": {
    "name": "ipython",
    "version": 3
   },
   "file_extension": ".py",
   "mimetype": "text/x-python",
   "name": "python",
   "nbconvert_exporter": "python",
   "pygments_lexer": "ipython3",
   "version": "3.5.2"
  }
 },
 "nbformat": 4,
 "nbformat_minor": 2
}
