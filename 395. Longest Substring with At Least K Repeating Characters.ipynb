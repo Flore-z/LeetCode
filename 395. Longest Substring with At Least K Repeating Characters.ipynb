{
 "cells": [
  {
   "cell_type": "code",
   "execution_count": null,
   "metadata": {
    "collapsed": true
   },
   "outputs": [],
   "source": [
    "Question:\n",
    "Find the length of the longest substring T of a given string (consists of lowercase letters only) such that every \n",
    "character in T appears no less than k times.\n",
    "\n",
    "Example 1:\n",
    "Input:\n",
    "s = \"aaabb\", k = 3\n",
    "Output:\n",
    "3\n",
    "The longest substring is \"aaa\", as 'a' is repeated 3 times.\n",
    "\n",
    "Example 2:\n",
    "Input:\n",
    "s = \"ababbc\", k = 2\n",
    "Output:\n",
    "5\n",
    "The longest substring is \"ababb\", as 'a' is repeated 2 times and 'b' is repeated 3 times."
   ]
  },
  {
   "cell_type": "code",
   "execution_count": 1,
   "metadata": {},
   "outputs": [
    {
     "data": {
      "text/plain": [
       "3"
      ]
     },
     "execution_count": 1,
     "metadata": {},
     "output_type": "execute_result"
    }
   ],
   "source": [
    "# divide and conquer\n",
    "class Solution(object):\n",
    "    def longestSubstring(self, s, k):\n",
    "        \"\"\"\n",
    "        :type s: str\n",
    "        :type k: int\n",
    "        :rtype: int\n",
    "        \"\"\"\n",
    "        d = {}\n",
    "        for c in s:\n",
    "            if c not in d:\n",
    "                d[c] = 1 \n",
    "            else:\n",
    "                d[c] += 1\n",
    "        \n",
    "        res, begin = 0, 0\n",
    "        for i in range(len(s)):\n",
    "            if d[s[i]] < k:\n",
    "                res = max(res, self.longestSubstring(s[begin:i], k))\n",
    "                begin = i+1\n",
    "        \n",
    "        if begin == 0:\n",
    "            return len(s)\n",
    "        else:\n",
    "            return max(res, self.longestSubstring(s[begin:len(s)], k))\n",
    "        \n",
    "#         for char in set(s):\n",
    "#             if s.count(char) < k:\n",
    "#                 next_iter = s.split(char)\n",
    "#                 return max([self.longestSubstring(i, k) for i in next_iter])\n",
    "#         return len(s)\n",
    "        \n",
    "s = \"aaabb\"; k = 3\n",
    "Solution().longestSubstring(s, k)"
   ]
  }
 ],
 "metadata": {
  "kernelspec": {
   "display_name": "Python 3",
   "language": "python",
   "name": "python3"
  },
  "language_info": {
   "codemirror_mode": {
    "name": "ipython",
    "version": 3
   },
   "file_extension": ".py",
   "mimetype": "text/x-python",
   "name": "python",
   "nbconvert_exporter": "python",
   "pygments_lexer": "ipython3",
   "version": "3.5.2"
  }
 },
 "nbformat": 4,
 "nbformat_minor": 2
}
