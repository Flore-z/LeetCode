{
 "cells": [
  {
   "cell_type": "code",
   "execution_count": 25,
   "metadata": {},
   "outputs": [
    {
     "data": {
      "text/plain": [
       "[[3], [6, 30], [1, 2, 10, 5]]"
      ]
     },
     "execution_count": 25,
     "metadata": {},
     "output_type": "execute_result"
    }
   ],
   "source": [
    "# Definition for a binary tree node.\n",
    "class TreeNode(object):\n",
    "    def __init__(self, x):\n",
    "        self.val = x\n",
    "        self.left = None\n",
    "        self.right = None\n",
    "\n",
    "class Solution(object):\n",
    "    def levelOrder(self, root):\n",
    "        \"\"\"\n",
    "        :type root: TreeNode\n",
    "        :rtype: List[List[int]]\n",
    "        \"\"\"\n",
    "        res = []\n",
    "        if not root:\n",
    "            return []\n",
    "        stk = []\n",
    "        stk.append(root)\n",
    "        while stk:\n",
    "            stk.reverse()\n",
    "            stk2 = []\n",
    "            tmp = []\n",
    "            while stk:\n",
    "                p = stk.pop()\n",
    "                if p:\n",
    "                    tmp.append(p.val)\n",
    "                    stk2.append(p.left)\n",
    "                    stk2.append(p.right)\n",
    "            if len(tmp) != 0:\n",
    "                res.append(tmp)\n",
    "            stk = stk2\n",
    "        return res\n",
    "    \n",
    "root = TreeNode(3)\n",
    "root.left = TreeNode(6);q = root.left\n",
    "q.left = TreeNode(1);q.right = TreeNode(2)\n",
    "root.right = TreeNode(30); p = root.right\n",
    "p.left = TreeNode(10);p.right = TreeNode(5)\n",
    "\n",
    "Solution().levelOrder(root)"
   ]
  },
  {
   "cell_type": "code",
   "execution_count": null,
   "metadata": {
    "collapsed": true
   },
   "outputs": [],
   "source": [
    "# Definition for a binary tree node.\n",
    "# class TreeNode(object):\n",
    "#     def __init__(self, x):\n",
    "#         self.val = x\n",
    "#         self.left = None\n",
    "#         self.right = None\n",
    "\n",
    "class Solution(object):\n",
    "    def levelOrder(self, root):\n",
    "        \"\"\"\n",
    "        :type root: TreeNode\n",
    "        :rtype: List[List[int]]\n",
    "        \"\"\"\n",
    "        \n",
    "        if root is None or root is []:\n",
    "            return []\n",
    "        \n",
    "        queue = []\n",
    "        result = []\n",
    "        queue.append(root)\n",
    "        result.append([root.val])\n",
    "        \n",
    "        while len(queue) > 0:\n",
    "            \n",
    "            length = len(queue)\n",
    "            a1 = 0\n",
    "            Temp = []\n",
    "            while a1 < length:\n",
    "                node = queue.pop(0)\n",
    "                if node.left:\n",
    "                    queue.append(node.left)\n",
    "                    Temp.append(node.left.val)\n",
    "                if node.right:\n",
    "                    queue.append(node.right)\n",
    "                    Temp.append(node.right.val)\n",
    "                    \n",
    "                a1 += 1\n",
    "                \n",
    "            if Temp != []:\n",
    "                result.append(Temp)\n",
    "            \n",
    "        return result"
   ]
  },
  {
   "cell_type": "code",
   "execution_count": null,
   "metadata": {
    "collapsed": true
   },
   "outputs": [],
   "source": [
    "# Definition for a binary tree node.\n",
    "# class TreeNode(object):\n",
    "#     def __init__(self, x):\n",
    "#         self.val = x\n",
    "#         self.left = None\n",
    "#         self.right = None\n",
    "\n",
    "class Solution(object):\n",
    "    def levelOrder(self, root):\n",
    "        \"\"\"\n",
    "        :type root: TreeNode\n",
    "        :rtype: List[List[int]]\n",
    "        \"\"\"\n",
    "        # bfs.\n",
    "        if not root:\n",
    "            return []\n",
    "        queue = [root]\n",
    "        res = []\n",
    "        while queue:\n",
    "            tmp = [x.val for x in queue]\n",
    "            newq = []\n",
    "            for node in queue:\n",
    "                if node.left:\n",
    "                    newq.append(node.left)\n",
    "                if node.right:\n",
    "                    newq.append(node.right)\n",
    "            queue = newq\n",
    "            res.append(tmp)\n",
    "        return res"
   ]
  }
 ],
 "metadata": {
  "kernelspec": {
   "display_name": "Python 3",
   "language": "python",
   "name": "python3"
  },
  "language_info": {
   "codemirror_mode": {
    "name": "ipython",
    "version": 3
   },
   "file_extension": ".py",
   "mimetype": "text/x-python",
   "name": "python",
   "nbconvert_exporter": "python",
   "pygments_lexer": "ipython3",
   "version": "3.5.2"
  }
 },
 "nbformat": 4,
 "nbformat_minor": 2
}
