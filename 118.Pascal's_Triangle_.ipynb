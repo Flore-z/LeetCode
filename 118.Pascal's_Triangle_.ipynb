{
 "cells": [
  {
   "cell_type": "code",
   "execution_count": null,
   "metadata": {
    "collapsed": true
   },
   "outputs": [],
   "source": [
    "Question：\n",
    "Given numRows, generate the first numRows of Pascal's triangle.\n",
    "For example, given numRows = 5,\n",
    "Return\n",
    "[\n",
    "     [1],\n",
    "    [1,1],\n",
    "   [1,2,1],\n",
    "  [1,3,3,1],\n",
    " [1,4,6,4,1]\n",
    "]"
   ]
  },
  {
   "cell_type": "code",
   "execution_count": 6,
   "metadata": {},
   "outputs": [
    {
     "data": {
      "text/plain": [
       "[[1], [1, 1], [1, 2, 1], [1, 3, 3, 1]]"
      ]
     },
     "execution_count": 6,
     "metadata": {},
     "output_type": "execute_result"
    }
   ],
   "source": [
    "class Solution:\n",
    "    def generate(self, numRows):\n",
    "        \"\"\"\n",
    "        :type numRows: int\n",
    "        :rtype: List[List[int]]\n",
    "        \"\"\"\n",
    "        if numRows <= 0:\n",
    "            return []\n",
    "        res = [[1], [1,1]]\n",
    "        if numRows == 1:\n",
    "            return [[1]]\n",
    "        if numRows == 2:\n",
    "            return res\n",
    "        for i in range(2, numRows):\n",
    "            tmp = [1]\n",
    "            for j in range(i-1):\n",
    "                tmp.append(res[-1][j] + res[-1][j+1])\n",
    "            res.append(list(tmp + [1]))\n",
    "        return res\n",
    "    \n",
    "Solution().generate(4)"
   ]
  },
  {
   "cell_type": "code",
   "execution_count": 8,
   "metadata": {},
   "outputs": [
    {
     "data": {
      "text/plain": [
       "[[1], [1, 1], [1, 2, 1], [1, 3, 3, 1]]"
      ]
     },
     "execution_count": 8,
     "metadata": {},
     "output_type": "execute_result"
    }
   ],
   "source": [
    "class Solution:\n",
    "    # @return a list of lists of integers\n",
    "    def generate(self, numRows):\n",
    "        ret = []\n",
    "        for i in range(numRows):\n",
    "            ret.append([1])\n",
    "            for j in range(1,i+1):\n",
    "                if j==i:\n",
    "                    ret[i].append(1)\n",
    "                else:\n",
    "                    ret[i].append(ret[i-1][j]+ret[i-1][j-1])\n",
    "        return ret\n",
    "    \n",
    "Solution().generate(4)"
   ]
  },
  {
   "cell_type": "code",
   "execution_count": 13,
   "metadata": {},
   "outputs": [
    {
     "data": {
      "text/plain": [
       "[[1], [1, 1], [1, 2, 1], [1, 3, 3, 1]]"
      ]
     },
     "execution_count": 13,
     "metadata": {},
     "output_type": "execute_result"
    }
   ],
   "source": [
    "def generate(self, numRows):\n",
    "#     pascal = [[1]*(i+1) for i in range(numRows)]\n",
    "#     for i in range(numRows):\n",
    "#         for j in range(1,i):\n",
    "#             pascal[i][j] = pascal[i-1][j-1] + pascal[i-1][j]\n",
    "#     return pascal\n",
    "        \n",
    "        res = [[1]]\n",
    "        for i in range(1, numRows):\n",
    "            res += [map(lambda x, y: x+y, res[-1] + [0], [0] + res[-1])]\n",
    "        return res[:numRows]\n",
    "\n",
    "Solution().generate(4)"
   ]
  }
 ],
 "metadata": {
  "kernelspec": {
   "display_name": "Python 3",
   "language": "python",
   "name": "python3"
  },
  "language_info": {
   "codemirror_mode": {
    "name": "ipython",
    "version": 3
   },
   "file_extension": ".py",
   "mimetype": "text/x-python",
   "name": "python",
   "nbconvert_exporter": "python",
   "pygments_lexer": "ipython3",
   "version": "3.5.2"
  }
 },
 "nbformat": 4,
 "nbformat_minor": 2
}
