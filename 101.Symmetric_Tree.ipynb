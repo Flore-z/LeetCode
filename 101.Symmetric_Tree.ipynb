{
 "cells": [
  {
   "cell_type": "code",
   "execution_count": 9,
   "metadata": {},
   "outputs": [
    {
     "data": {
      "text/plain": [
       "False"
      ]
     },
     "execution_count": 9,
     "metadata": {},
     "output_type": "execute_result"
    }
   ],
   "source": [
    "# Definition for a binary tree node.\n",
    "class TreeNode(object):\n",
    "    def __init__(self, x):\n",
    "        self.val = x\n",
    "        self.left = None\n",
    "        self.right = None\n",
    "\n",
    "class Solution(object):\n",
    "    def isSymmetric(self, root):\n",
    "        \"\"\"\n",
    "        :type root: TreeNode\n",
    "        :rtype: bool\n",
    "        \"\"\"\n",
    "        if not root:\n",
    "            return True\n",
    "        r1 = root.left\n",
    "        r2 = root.right\n",
    "        \n",
    "        def dfs(r1, r2):\n",
    "            if not r1 and not r2:\n",
    "                return True\n",
    "            if not r1 or not r2:\n",
    "                return False\n",
    "            if r1.val != r2.val:\n",
    "                return False\n",
    "            return dfs(r1.left, r2.right) and dfs(r1.right, r2.left)\n",
    "        \n",
    "        return dfs(r1, r2)\n",
    "\n",
    "root = TreeNode(2)\n",
    "p = root\n",
    "p.left = TreeNode(3); q = p.left\n",
    "p.right = TreeNode(3); p = p.right\n",
    "p.left = TreeNode(1)\n",
    "\n",
    "Solution().isSymmetric(root)"
   ]
  },
  {
   "cell_type": "code",
   "execution_count": 15,
   "metadata": {},
   "outputs": [
    {
     "data": {
      "text/plain": [
       "True"
      ]
     },
     "execution_count": 15,
     "metadata": {},
     "output_type": "execute_result"
    }
   ],
   "source": [
    "# Definition for a binary tree node.\n",
    "class TreeNode(object):\n",
    "    def __init__(self, x):\n",
    "        self.val = x\n",
    "        self.left = None\n",
    "        self.right = None\n",
    "\n",
    "class Solution(object):\n",
    "    def isSymmetric(self, root):\n",
    "        \"\"\"\n",
    "        :type root: TreeNode\n",
    "        :rtype: bool\n",
    "        \"\"\"\n",
    "        stk = []\n",
    "        stk.append(root)\n",
    "        stk.append(root)\n",
    "        while stk:\n",
    "            p1 = stk.pop()\n",
    "            p2 = stk.pop()\n",
    "            if not p1 and not p2:\n",
    "                continue\n",
    "            if not p1 or not p2:\n",
    "                return False\n",
    "            if p1.val != p2.val:\n",
    "                return False\n",
    "            stk.append(p1.left)\n",
    "            stk.append(p2.right)\n",
    "            stk.append(p1.right)\n",
    "            stk.append(p2.left)\n",
    "        return True\n",
    "    \n",
    "root = TreeNode(2)\n",
    "p = root\n",
    "p.left = TreeNode(3); q = p.left\n",
    "p.right = TreeNode(3); p = p.right\n",
    "# p.left = TreeNode(1)\n",
    "\n",
    "Solution().isSymmetric(root)        "
   ]
  },
  {
   "cell_type": "code",
   "execution_count": null,
   "metadata": {
    "collapsed": true
   },
   "outputs": [],
   "source": []
  }
 ],
 "metadata": {
  "kernelspec": {
   "display_name": "Python 3",
   "language": "python",
   "name": "python3"
  },
  "language_info": {
   "codemirror_mode": {
    "name": "ipython",
    "version": 3
   },
   "file_extension": ".py",
   "mimetype": "text/x-python",
   "name": "python",
   "nbconvert_exporter": "python",
   "pygments_lexer": "ipython3",
   "version": "3.5.2"
  }
 },
 "nbformat": 4,
 "nbformat_minor": 2
}
