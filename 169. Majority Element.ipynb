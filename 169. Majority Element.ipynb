{
 "cells": [
  {
   "cell_type": "code",
   "execution_count": null,
   "metadata": {
    "collapsed": true
   },
   "outputs": [],
   "source": [
    "Question:\n",
    "Given an array of size n, find the majority element. The majority element is the element that appears more than \n",
    "⌊ n/2 ⌋ times.\n",
    "You may assume that the array is non-empty and the majority element always exist in the array."
   ]
  },
  {
   "cell_type": "code",
   "execution_count": 3,
   "metadata": {},
   "outputs": [
    {
     "data": {
      "text/plain": [
       "1"
      ]
     },
     "execution_count": 3,
     "metadata": {},
     "output_type": "execute_result"
    }
   ],
   "source": [
    "class Solution(object):\n",
    "    def majorityElement(self, nums):\n",
    "        \"\"\"\n",
    "        :type nums: List[int]\n",
    "        :rtype: int\n",
    "        \"\"\"\n",
    "        d, n = {}, len(nums)\n",
    "        for x in nums:\n",
    "            if x in d:\n",
    "                d[x] += 1\n",
    "            else:\n",
    "                d[x] = 1\n",
    "            if d[x] > n//2:\n",
    "                return x\n",
    "#         return max(d.keys(), key = d.get)\n",
    "        \n",
    "nums = [1,3,1,2,1,1,4,1,6]\n",
    "# nums = [1]\n",
    "Solution().majorityElement(nums)"
   ]
  },
  {
   "cell_type": "code",
   "execution_count": 4,
   "metadata": {},
   "outputs": [
    {
     "data": {
      "text/plain": [
       "1"
      ]
     },
     "execution_count": 4,
     "metadata": {},
     "output_type": "execute_result"
    }
   ],
   "source": [
    "# Moore Voting Algorithm\n",
    "class Solution(object):\n",
    "    def majorityElement(self, nums):\n",
    "        \"\"\"\n",
    "        :type nums: List[int]\n",
    "        :rtype: int\n",
    "        \"\"\"\n",
    "        candidate, count = None, 0\n",
    "        for e in nums:\n",
    "            if count == 0:\n",
    "                candidate, count = e, 1\n",
    "            elif e == candidate:\n",
    "                count += 1\n",
    "            else:\n",
    "                count -= 1\n",
    "        return candidate\n",
    "    \n",
    "nums = [1,3,1,2,1,1,4,1,6]\n",
    "# nums = [1]\n",
    "Solution().majorityElement(nums)"
   ]
  },
  {
   "cell_type": "code",
   "execution_count": 7,
   "metadata": {},
   "outputs": [
    {
     "data": {
      "text/plain": [
       "1"
      ]
     },
     "execution_count": 7,
     "metadata": {},
     "output_type": "execute_result"
    }
   ],
   "source": [
    "class Solution(object):\n",
    "    def majorityElement(self, nums):\n",
    "        \"\"\"\n",
    "        :type nums: List[int]\n",
    "        :rtype: int\n",
    "        \"\"\"\n",
    "        return sorted(nums)[len(nums)//2]\n",
    "    \n",
    "nums = [1,3,1,2,1,1,4,1,6]\n",
    "# nums = [1]\n",
    "Solution().majorityElement(nums)"
   ]
  },
  {
   "cell_type": "code",
   "execution_count": 1,
   "metadata": {},
   "outputs": [
    {
     "data": {
      "text/plain": [
       "1"
      ]
     },
     "execution_count": 1,
     "metadata": {},
     "output_type": "execute_result"
    }
   ],
   "source": [
    "# Randomization\n",
    "import random\n",
    "class Solution(object):\n",
    "    def majorityElement(self, nums):\n",
    "        \"\"\"\n",
    "        :type nums: List[int]\n",
    "        :rtype: int\n",
    "        \"\"\"\n",
    "        while 1:\n",
    "            rand = random.choice(nums)\n",
    "            c = 0\n",
    "            for m in nums:\n",
    "                if m == rand:\n",
    "                    c += 1\n",
    "                if c > len(nums)//2:\n",
    "                    return rand\n",
    "                \n",
    "nums = [1,3,1,2,1,1,4,1,6]\n",
    "# nums = [1]\n",
    "Solution().majorityElement(nums)"
   ]
  }
 ],
 "metadata": {
  "kernelspec": {
   "display_name": "Python 3",
   "language": "python",
   "name": "python3"
  },
  "language_info": {
   "codemirror_mode": {
    "name": "ipython",
    "version": 3
   },
   "file_extension": ".py",
   "mimetype": "text/x-python",
   "name": "python",
   "nbconvert_exporter": "python",
   "pygments_lexer": "ipython3",
   "version": "3.5.2"
  }
 },
 "nbformat": 4,
 "nbformat_minor": 2
}
