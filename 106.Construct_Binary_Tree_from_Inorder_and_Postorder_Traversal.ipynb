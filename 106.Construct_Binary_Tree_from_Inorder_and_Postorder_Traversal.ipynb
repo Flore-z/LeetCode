{
 "cells": [
  {
   "cell_type": "code",
   "execution_count": 13,
   "metadata": {},
   "outputs": [
    {
     "name": "stdout",
     "output_type": "stream",
     "text": [
      "1 2 3 "
     ]
    }
   ],
   "source": [
    "# Definition for a binary tree node.\n",
    "class TreeNode(object):\n",
    "    def __init__(self, x):\n",
    "        self.val = x\n",
    "        self.left = None\n",
    "        self.right = None\n",
    "\n",
    "class Solution(object):\n",
    "    def buildTree(self, inorder, postorder):\n",
    "        \"\"\"\n",
    "        :type inorder: List[int]\n",
    "        :type postorder: List[int]\n",
    "        :rtype: TreeNode\n",
    "        \"\"\"\n",
    "        def build(inorder, postorder):\n",
    "            if not inorder:\n",
    "                return None\n",
    "            root = TreeNode(postorder.pop())\n",
    "            idx = inorder.index(root.val)\n",
    "            Lleft = len(inorder[:idx])\n",
    "            root.left = build(inorder[:Lleft], postorder[:Lleft])\n",
    "            root.right = build(inorder[idx+1:], postorder[Lleft:])\n",
    "            return root\n",
    "        \n",
    "        return build(inorder, postorder)\n",
    "    \n",
    "    def preOrder(self, root):\n",
    "        if not root:\n",
    "            return\n",
    "        print(root.val, end = ' ')\n",
    "        self.preOrder(root.left)\n",
    "        self.preOrder(root.right)\n",
    "\n",
    "inorder = [2,1,3]\n",
    "postorder = [2,3,1]\n",
    "\n",
    "root = Solution().buildTree(inorder, postorder)\n",
    "Solution().preOrder(root)"
   ]
  },
  {
   "cell_type": "code",
   "execution_count": 20,
   "metadata": {},
   "outputs": [
    {
     "name": "stdout",
     "output_type": "stream",
     "text": [
      "2 1 4 3 "
     ]
    }
   ],
   "source": [
    "class Solution(object):\n",
    "    def buildTree(self, inorder, postorder):\n",
    "        \"\"\"\n",
    "        :type inorder: List[int]\n",
    "        :type postorder: List[int]\n",
    "        :rtype: TreeNode\n",
    "        \"\"\"\n",
    "        if inorder:\n",
    "            root = TreeNode(postorder.pop())\n",
    "            idx = inorder.index(root.val)\n",
    "#             root.left = self.buildTree(inorder[:idx], postorder[:idx])\n",
    "#             root.right = self.buildTree(inorder[idx+1:], postorder[idx:])\n",
    "            root.right = self.buildTree(inorder[idx+1:], postorder)\n",
    "            root.left = self.buildTree(inorder[:idx], postorder)\n",
    "            return root\n",
    "    \n",
    "    def preOrder(self, root):\n",
    "        if not root:\n",
    "            return\n",
    "        print(root.val, end = ' ')\n",
    "        self.preOrder(root.left)\n",
    "        self.preOrder(root.right)\n",
    "\n",
    "# inorder = [2,1,3]\n",
    "# postorder = [2,3,1]\n",
    "\n",
    "inorder = [1,2,3,4]\n",
    "postorder = [1,3,4,2]\n",
    "\n",
    "root = Solution().buildTree(inorder, postorder)\n",
    "Solution().preOrder(root)"
   ]
  },
  {
   "cell_type": "code",
   "execution_count": null,
   "metadata": {
    "collapsed": true
   },
   "outputs": [],
   "source": [
    "class Solution(object):\n",
    "    def buildTree(self, inorder, postorder):\n",
    "        \"\"\"\n",
    "        :type inorder: List[int]\n",
    "        :type postorder: List[int]\n",
    "        :rtype: TreeNode\n",
    "        \"\"\"\n",
    "        if not (inorder and postorder):\n",
    "            return []\n",
    "        node_index = len(postorder) - 2\n",
    "        level_index = len(postorder) - 1\n",
    "        root = TreeNode(postorder[-1])\n",
    "        node_stack = [root]\n",
    "        while node_index > -1:\n",
    "            temp_node = node_stack[-1]\n",
    "            if temp_node.val != inorder[level_index]:\n",
    "                temp_node.right = TreeNode(postorder[node_index])\n",
    "                node_stack.append(temp_node.right)\n",
    "                node_index -= 1\n",
    "            else:\n",
    "                node_stack.pop()\n",
    "                level_index -= 1\n",
    "                if not node_stack or node_stack[-1].val != inorder[level_index]:\n",
    "                    temp_node.left = TreeNode(postorder[node_index])\n",
    "                    node_stack.append(temp_node.left)\n",
    "                    node_index -= 1\n",
    "        return root"
   ]
  }
 ],
 "metadata": {
  "kernelspec": {
   "display_name": "Python 3",
   "language": "python",
   "name": "python3"
  },
  "language_info": {
   "codemirror_mode": {
    "name": "ipython",
    "version": 3
   },
   "file_extension": ".py",
   "mimetype": "text/x-python",
   "name": "python",
   "nbconvert_exporter": "python",
   "pygments_lexer": "ipython3",
   "version": "3.5.2"
  }
 },
 "nbformat": 4,
 "nbformat_minor": 2
}
