{
 "cells": [
  {
   "cell_type": "code",
   "execution_count": 2,
   "metadata": {},
   "outputs": [
    {
     "data": {
      "text/plain": [
       "[[15, 7], [9, 20], [3]]"
      ]
     },
     "execution_count": 2,
     "metadata": {},
     "output_type": "execute_result"
    }
   ],
   "source": [
    "# Definition for a binary tree node.\n",
    "class TreeNode(object):\n",
    "    def __init__(self, x):\n",
    "        self.val = x\n",
    "        self.left = None\n",
    "        self.right = None\n",
    "\n",
    "class Solution(object):\n",
    "    def levelOrderBottom(self, root):\n",
    "        \"\"\"\n",
    "        :type root: TreeNode\n",
    "        :rtype: List[List[int]]\n",
    "        \"\"\"\n",
    "        if not root:\n",
    "            return []\n",
    "        res = []\n",
    "        stk = [root]\n",
    "        while stk:\n",
    "            l = len(stk)\n",
    "            tmp = [x.val for x in stk]\n",
    "            res.append(tmp)\n",
    "            stk2 = []\n",
    "            for x in stk:\n",
    "                if x.left: stk2.append(x.left)\n",
    "                if x.right: stk2.append(x.right)\n",
    "            stk = stk2\n",
    "        return res[::-1]\n",
    "    \n",
    "root = TreeNode(3)\n",
    "root.left = TreeNode(9);q = root.left\n",
    "# q.left = TreeNode(1);q.right = TreeNode(2)\n",
    "root.right = TreeNode(20); p = root.right\n",
    "p.left = TreeNode(15);p.right = TreeNode(7)\n",
    "\n",
    "Solution().levelOrderBottom(root)"
   ]
  },
  {
   "cell_type": "code",
   "execution_count": null,
   "metadata": {
    "collapsed": true
   },
   "outputs": [],
   "source": [
    "class Solution(object):\n",
    "    def levelOrderBottom(self, root):\n",
    "        \"\"\"\n",
    "        :type root: TreeNode\n",
    "        :rtype: List[List[int]]\n",
    "        \"\"\"\n",
    "        rlist = []\n",
    "        \n",
    "        # print(\"Called levelOrderBottom\")\n",
    "        self.levelAdd(root,rlist,0)\n",
    "\n",
    "        # print(\"final print rlist is {0}\".format(rlist))\n",
    "        return rlist[::-1]\n",
    "    \n",
    "    def levelAdd(self, node, rlist, index):\n",
    "        \"\"\"\n",
    "        :type node: TreeNode\n",
    "        :type rlist: List[List[int]]\n",
    "        :type index: int\n",
    "        \"\"\"\n",
    "        #print(\"rlist is {0}\".format(rlist))\n",
    "        #print(\"length of rlist {0}\".format(len(rlist)))\n",
    "        \n",
    "        if (not node):\n",
    "            return\n",
    "        else:\n",
    "            if(len(rlist) < index+1):\n",
    "                rlist.append([node.val])\n",
    "            else:\n",
    "                # print(\"printing rlist[{0}] = {1}\".format(index,rlist[index]))\n",
    "                rlist[index].append(node.val)\n",
    "\n",
    "            if (node.left):\n",
    "                self.levelAdd(node.left,rlist,index+1)\n",
    "            if (node.right):\n",
    "                self.levelAdd(node.right,rlist,index+1)"
   ]
  }
 ],
 "metadata": {
  "kernelspec": {
   "display_name": "Python 3",
   "language": "python",
   "name": "python3"
  },
  "language_info": {
   "codemirror_mode": {
    "name": "ipython",
    "version": 3
   },
   "file_extension": ".py",
   "mimetype": "text/x-python",
   "name": "python",
   "nbconvert_exporter": "python",
   "pygments_lexer": "ipython3",
   "version": "3.5.2"
  }
 },
 "nbformat": 4,
 "nbformat_minor": 2
}
