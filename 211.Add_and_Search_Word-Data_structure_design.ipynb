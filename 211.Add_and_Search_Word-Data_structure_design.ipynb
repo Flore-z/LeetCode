{
 "cells": [
  {
   "cell_type": "code",
   "execution_count": null,
   "metadata": {
    "collapsed": true
   },
   "outputs": [],
   "source": [
    "Question：\n",
    "Design a data structure that supports the following two operations:\n",
    "void addWord(word)\n",
    "bool search(word)\n",
    "search(word) can search a literal word or a regular expression string containing only letters a-z or .. A . \n",
    "means it can represent any one letter.\n",
    "\n",
    "For example:\n",
    "addWord(\"bad\")\n",
    "addWord(\"dad\")\n",
    "addWord(\"mad\")\n",
    "search(\"pad\") -> false\n",
    "search(\"bad\") -> true\n",
    "search(\".ad\") -> true\n",
    "search(\"b..\") -> true\n",
    "\n",
    "Note:\n",
    "You may assume that all words are consist of lowercase letters a-z."
   ]
  },
  {
   "cell_type": "code",
   "execution_count": 1,
   "metadata": {},
   "outputs": [
    {
     "name": "stdout",
     "output_type": "stream",
     "text": [
      "True True True False True False True True\n"
     ]
    }
   ],
   "source": [
    "class WordDictionary:\n",
    "\n",
    "    def __init__(self):\n",
    "        \"\"\"\n",
    "        Initialize your data structure here.\n",
    "        \"\"\"\n",
    "        self.root = {}\n",
    "\n",
    "    def addWord(self, word):\n",
    "        \"\"\"\n",
    "        Adds a word into the data structure.\n",
    "        :type word: str\n",
    "        :rtype: void\n",
    "        \"\"\"\n",
    "        tmp = self.root\n",
    "        for c in word:\n",
    "            if c not in tmp:\n",
    "                tmp[c] = {}\n",
    "            tmp = tmp[c]\n",
    "        tmp['end'] = {}\n",
    "\n",
    "    def search(self, word):\n",
    "        \"\"\"\n",
    "        Returns if the word is in the data structure. A word could contain the dot character '.' to represent any one letter.\n",
    "        :type word: str\n",
    "        :rtype: bool\n",
    "        \"\"\"\n",
    "        if not word: return False\n",
    "        tmp = self.root\n",
    "\n",
    "        def dfs(i, tmp, word):\n",
    "            if i == len(word):\n",
    "                return 'end' in tmp\n",
    "            if word[i] != '.':\n",
    "                if word[i] not in tmp:\n",
    "                    return False\n",
    "                return dfs(i+1, tmp[word[i]], word)\n",
    "            else:\n",
    "                for letter in tmp:\n",
    "                    if dfs(i+1, tmp[letter], word):\n",
    "                        return True\n",
    "                return False\n",
    "\n",
    "        return dfs(0, tmp, word)\n",
    "\n",
    "# Your WordDictionary object will be instantiated and called as such:\n",
    "obj = WordDictionary()\n",
    "instruct = [\"addWord\",\"addWord\",\"search\",\"search\",\"search\",\"search\",\"search\",\"search\",\"search\",\"search\"]\n",
    "word = [[\"a\"],[\"ab\"],[\"a\"],[\"a.\"],[\"ab\"],[\".a\"],[\".b\"],[\"ab.\"],[\".\"],[\"..\"]]\n",
    "obj.addWord(word[0][0])\n",
    "obj.addWord(word[1][0])\n",
    "param_2 = obj.search(word[2][0])\n",
    "param_3 = obj.search(word[3][0])\n",
    "param_4 = obj.search(word[4][0])\n",
    "param_5 = obj.search(word[5][0])\n",
    "param_6 = obj.search(word[6][0])\n",
    "param_7 = obj.search(word[7][0])\n",
    "param_8 = obj.search(word[8][0])\n",
    "param_9 = obj.search(word[9][0])\n",
    "print(param_2,param_3,param_4,param_5,param_6,param_7,param_8,param_9)"
   ]
  },
  {
   "cell_type": "code",
   "execution_count": 3,
   "metadata": {},
   "outputs": [
    {
     "name": "stdout",
     "output_type": "stream",
     "text": [
      "True\n"
     ]
    }
   ],
   "source": [
    "class WordDictionary:\n",
    "\n",
    "    def __init__(self):\n",
    "        \"\"\"\n",
    "        Initialize your data structure here.\n",
    "        \"\"\"\n",
    "        import collections\n",
    "        self.word_dict = collections.defaultdict(list)\n",
    "        \n",
    "    def addWord(self, word):\n",
    "        \"\"\"\n",
    "        Adds a word into the data structure.\n",
    "        :type word: str\n",
    "        :rtype: void\n",
    "        \"\"\"\n",
    "        if word:\n",
    "            self.word_dict[len(word)].append(word)\n",
    "\n",
    "    def search(self, word):\n",
    "        \"\"\"\n",
    "        Returns if the word is in the data structure. A word could contain the dot character '.' to represent any one letter.\n",
    "        :type word: str\n",
    "        :rtype: bool\n",
    "        \"\"\"\n",
    "        if not word:\n",
    "            return False\n",
    "        if '.' not in word:\n",
    "            return word in self.word_dict[len(word)]\n",
    "        \n",
    "        # if '.' is in the word\n",
    "        for v in self.word_dict[len(word)]:\n",
    "            for i, ch in enumerate(word):\n",
    "                if ch != v[i] and ch != '.':\n",
    "                    break\n",
    "            else:\n",
    "                return True\n",
    "        return False\n",
    "\n",
    "# Your WordDictionary object will be instantiated and called as such:\n",
    "obj = WordDictionary()\n",
    "word = \"add\";word1 = \"a..\"\n",
    "obj.addWord(word)\n",
    "param_2 = obj.search(word1)\n",
    "print(param_2)"
   ]
  }
 ],
 "metadata": {
  "kernelspec": {
   "display_name": "Python 3",
   "language": "python",
   "name": "python3"
  },
  "language_info": {
   "codemirror_mode": {
    "name": "ipython",
    "version": 3
   },
   "file_extension": ".py",
   "mimetype": "text/x-python",
   "name": "python",
   "nbconvert_exporter": "python",
   "pygments_lexer": "ipython3",
   "version": "3.5.2"
  }
 },
 "nbformat": 4,
 "nbformat_minor": 2
}
