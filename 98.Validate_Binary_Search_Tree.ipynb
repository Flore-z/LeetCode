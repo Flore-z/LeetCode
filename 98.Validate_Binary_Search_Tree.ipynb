{
 "cells": [
  {
   "cell_type": "code",
   "execution_count": 45,
   "metadata": {},
   "outputs": [
    {
     "name": "stdout",
     "output_type": "stream",
     "text": [
      "False\n"
     ]
    },
    {
     "data": {
      "text/plain": [
       "0.3332268088342971"
      ]
     },
     "execution_count": 45,
     "metadata": {},
     "output_type": "execute_result"
    }
   ],
   "source": [
    "# 暴力遍历法:从根节点开始递归，遍历所有的节点。并且在每个节点处，分别遍历其左右子树，判断其左子树的最大值比其小，右子树的最小值比其大。\n",
    "# 时间复杂度为O(n^2)\n",
    "# 222ms\n",
    "# Definition for a binary tree node.\n",
    "class TreeNode(object):\n",
    "    def __init__(self, x):\n",
    "        self.val = x\n",
    "        self.left = None\n",
    "        self.right = None\n",
    "\n",
    "class Solution(object):\n",
    "    def isValidBST(self, root):\n",
    "        \"\"\"\n",
    "        :type root: TreeNode\n",
    "        :rtype: bool\n",
    "        \"\"\"\n",
    "        if not root: return True\n",
    "        \n",
    "        def dfsleft(root, value):\n",
    "            if root:\n",
    "                if root.val >= value: return False\n",
    "                return dfsleft(root.left, value) and dfsleft(root.right, value)\n",
    "            return True\n",
    "        \n",
    "        def dfsright(root, value):\n",
    "            if root:\n",
    "                if root.val <= value: return False\n",
    "                return dfsright(root.left, value) and dfsright(root.right, value)\n",
    "            return True\n",
    "        \n",
    "        if not dfsleft(root.left, root.val) or not dfsright(root.right, root.val):\n",
    "            return False\n",
    "        return self.isValidBST(root.left) and self.isValidBST(root.right)\n",
    "\n",
    "# root = TreeNode(2)\n",
    "# p = root\n",
    "# p.right = TreeNode(3); p = p.right\n",
    "# p.left = TreeNode(1)\n",
    "\n",
    "root = TreeNode(3)\n",
    "p = root\n",
    "p.right = TreeNode(30); p = p.right\n",
    "p.left = TreeNode(10);p = p.left\n",
    "p.right = TreeNode(45);\n",
    "\n",
    "import time\n",
    "start = time.clock()\n",
    "print(Solution().isValidBST(root))\n",
    "(time.clock() - start)*1000"
   ]
  },
  {
   "cell_type": "code",
   "execution_count": 39,
   "metadata": {
    "collapsed": true
   },
   "outputs": [],
   "source": [
    "# Definition for a binary tree node.\n",
    "# class TreeNode(object):\n",
    "#     def __init__(self, x):\n",
    "#         self.val = x\n",
    "#         self.left = None\n",
    "#         self.right = None\n",
    "\n",
    "class Solution(object):\n",
    "    def isValidBST(self, tree, lt=None, gt=None):\n",
    "        if tree is None:\n",
    "            return True\n",
    "        if lt is not None and tree.val >= lt:\n",
    "            return False\n",
    "        if gt is not None and tree.val <= gt:\n",
    "            return False\n",
    "        return self.isValidBST(tree.left, tree.val, gt) and self.isValidBST(tree.right, lt, tree.val)"
   ]
  },
  {
   "cell_type": "code",
   "execution_count": 48,
   "metadata": {},
   "outputs": [
    {
     "name": "stdout",
     "output_type": "stream",
     "text": [
      "False\n"
     ]
    },
    {
     "data": {
      "text/plain": [
       "0.33749347733191826"
      ]
     },
     "execution_count": 48,
     "metadata": {},
     "output_type": "execute_result"
    }
   ],
   "source": [
    "# 正确O(n)解法：中序遍历法\n",
    "\n",
    "# Definition for a binary tree node.\n",
    "class TreeNode(object):\n",
    "    def __init__(self, x):\n",
    "        self.val = x\n",
    "        self.left = None\n",
    "        self.right = None\n",
    "        \n",
    "class Solution(object):\n",
    "    def isValidBST(self, root):\n",
    "        \"\"\"\n",
    "        :type root: TreeNode\n",
    "        :rtype: bool\n",
    "        \"\"\"\n",
    "        prev = - float('inf')\n",
    "        stk = []\n",
    "        curr = root\n",
    "        while curr or stk:\n",
    "            if curr:\n",
    "                stk.append(curr)\n",
    "                curr = curr.left\n",
    "            else:\n",
    "                curr = stk.pop()\n",
    "                if curr.val <= prev:\n",
    "                    return False\n",
    "                prev = curr.val\n",
    "                curr = curr.right\n",
    "        return True\n",
    "\n",
    "# root = TreeNode(2)\n",
    "# p = root\n",
    "# p.right = TreeNode(4); p = p.right\n",
    "# p.left = TreeNode(3)\n",
    "\n",
    "root = TreeNode(3)\n",
    "p = root\n",
    "p.right = TreeNode(30); p = p.right\n",
    "p.left = TreeNode(10);p = p.left\n",
    "p.right = TreeNode(45);\n",
    "\n",
    "import time\n",
    "start = time.clock()\n",
    "print(Solution().isValidBST(root))\n",
    "(time.clock() - start)*1000"
   ]
  },
  {
   "cell_type": "code",
   "execution_count": 51,
   "metadata": {},
   "outputs": [
    {
     "name": "stdout",
     "output_type": "stream",
     "text": [
      "[3, 10, 45, 30]\n",
      "False\n"
     ]
    },
    {
     "data": {
      "text/plain": [
       "0.3566934855712134"
      ]
     },
     "execution_count": 51,
     "metadata": {},
     "output_type": "execute_result"
    }
   ],
   "source": [
    "# 正确O(n)解法：中序遍历法\n",
    "\n",
    "# Definition for a binary tree node.\n",
    "class TreeNode(object):\n",
    "    def __init__(self, x):\n",
    "        self.val = x\n",
    "        self.left = None\n",
    "        self.right = None\n",
    "\n",
    "class Solution(object):\n",
    "    def isValidBST(self, root):\n",
    "        \"\"\"\n",
    "        :type root: TreeNode\n",
    "        :rtype: bool\n",
    "        \"\"\"\n",
    "        if not root:\n",
    "            return True\n",
    "        \n",
    "        self.vals = []\n",
    "        self.inorder(root)\n",
    "        print(self.vals)\n",
    "        \n",
    "        for i in range(1, len(self.vals)):\n",
    "            if self.vals[i] <= self.vals[i-1]:\n",
    "                return False\n",
    "        \n",
    "        return True\n",
    "        \n",
    "    def inorder(self, node):\n",
    "        if not node:\n",
    "            return\n",
    "        self.inorder(node.left)\n",
    "        self.vals.append(node.val)\n",
    "        self.inorder(node.right)\n",
    "        \n",
    "root = TreeNode(3)\n",
    "p = root\n",
    "p.right = TreeNode(30); p = p.right\n",
    "p.left = TreeNode(10);p = p.left\n",
    "p.right = TreeNode(45);\n",
    "\n",
    "import time\n",
    "start = time.clock()\n",
    "print(Solution().isValidBST(root))\n",
    "(time.clock() - start)*1000"
   ]
  },
  {
   "cell_type": "code",
   "execution_count": null,
   "metadata": {
    "collapsed": true
   },
   "outputs": [],
   "source": []
  }
 ],
 "metadata": {
  "kernelspec": {
   "display_name": "Python 3",
   "language": "python",
   "name": "python3"
  },
  "language_info": {
   "codemirror_mode": {
    "name": "ipython",
    "version": 3
   },
   "file_extension": ".py",
   "mimetype": "text/x-python",
   "name": "python",
   "nbconvert_exporter": "python",
   "pygments_lexer": "ipython3",
   "version": "3.5.2"
  }
 },
 "nbformat": 4,
 "nbformat_minor": 2
}
