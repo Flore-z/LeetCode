{
 "cells": [
  {
   "cell_type": "code",
   "execution_count": null,
   "metadata": {
    "collapsed": true
   },
   "outputs": [],
   "source": [
    "Question:\n",
    "Given an integer n, return the number of trailing zeroes in n!.\n",
    "Note: Your solution should be in logarithmic time complexity."
   ]
  },
  {
   "cell_type": "code",
   "execution_count": null,
   "metadata": {
    "collapsed": true
   },
   "outputs": [],
   "source": [
    "# Time Limit Exceeded\n",
    "class Solution(object):\n",
    "    def trailingZeroes(self, n):\n",
    "        \"\"\"\n",
    "        :type n: int\n",
    "        :rtype: int\n",
    "        \"\"\"\n",
    "        c2, c5 = 0, 0\n",
    "        for x in range(2, n+1):\n",
    "            while x % 5 == 0 or x % 2 == 0:\n",
    "                if x > 1 and x % 5 == 0:\n",
    "                    x /= 5\n",
    "                    c5 += 1\n",
    "                if x > 1 and x % 2 == 0:\n",
    "                    x /= 2\n",
    "                    c2 += 1\n",
    "        return min(c2, c5)"
   ]
  },
  {
   "cell_type": "code",
   "execution_count": null,
   "metadata": {
    "collapsed": true
   },
   "outputs": [],
   "source": [
    "class Solution(object):\n",
    "    def trailingZeroes(self, n):\n",
    "        res = 0\n",
    "        while n:\n",
    "            n //= 5\n",
    "            res += n\n",
    "        return res"
   ]
  }
 ],
 "metadata": {
  "kernelspec": {
   "display_name": "Python 3",
   "language": "python",
   "name": "python3"
  },
  "language_info": {
   "codemirror_mode": {
    "name": "ipython",
    "version": 3
   },
   "file_extension": ".py",
   "mimetype": "text/x-python",
   "name": "python",
   "nbconvert_exporter": "python",
   "pygments_lexer": "ipython3",
   "version": "3.5.2"
  }
 },
 "nbformat": 4,
 "nbformat_minor": 2
}
