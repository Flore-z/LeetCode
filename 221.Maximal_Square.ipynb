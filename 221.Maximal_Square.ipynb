{
 "cells": [
  {
   "cell_type": "code",
   "execution_count": null,
   "metadata": {
    "collapsed": true
   },
   "outputs": [],
   "source": [
    "Question:\n",
    "Given a 2D binary matrix filled with 0's and 1's, find the largest square containing only 1's and return its \n",
    "area.\n",
    "For example, given the following matrix:\n",
    "1 0 1 0 0\n",
    "1 0 1 1 1\n",
    "1 1 1 1 1\n",
    "1 0 0 1 0\n",
    "Return 4."
   ]
  },
  {
   "cell_type": "code",
   "execution_count": 9,
   "metadata": {},
   "outputs": [
    {
     "name": "stdout",
     "output_type": "stream",
     "text": [
      "4\n"
     ]
    }
   ],
   "source": [
    "# brute force\n",
    "class Solution:\n",
    "    def maximalSquare(self, matrix):\n",
    "        \"\"\"\n",
    "        :type matrix: List[List[str]]\n",
    "        :rtype: int\n",
    "        \"\"\"\n",
    "        if not matrix: return 0\n",
    "\n",
    "        m, n = len(matrix), len(matrix[0])\n",
    "        maxr, i, j = 0, 0, 0\n",
    "        for i in range(m):\n",
    "            for j in range(n):\n",
    "                if matrix[i][j] == '1':\n",
    "                    b = 1\n",
    "                    while i+b < m and j+b < n:\n",
    "                        if '0' in matrix[i+b][j:j+b] or '0' in [x[j+b] for x in matrix[i:i+b+1]]:\n",
    "                            break\n",
    "                        b += 1\n",
    "                    maxr = max(maxr, b)\n",
    "        return maxr**2\n",
    "\n",
    "matrix = [[\"1\",\"0\",\"1\",\"0\",\"0\"],\n",
    "          [\"1\",\"0\",\"1\",\"1\",\"1\"],\n",
    "          [\"1\",\"1\",\"1\",\"1\",\"1\"],\n",
    "          [\"1\",\"0\",\"0\",\"1\",\"0\"]]\n",
    "# matrix = [[\"0\",\"1\"]]\n",
    "res = Solution().maximalSquare(matrix)\n",
    "print(res)"
   ]
  },
  {
   "cell_type": "code",
   "execution_count": 5,
   "metadata": {},
   "outputs": [
    {
     "name": "stdout",
     "output_type": "stream",
     "text": [
      "[1, 0, 1, 0, 0]\n",
      "[1, 0, 1, 1, 1]\n",
      "[1, 1, 1, 2, 2]\n",
      "[1, 0, 1, 2, 3]\n",
      "9\n"
     ]
    }
   ],
   "source": [
    "# dp, space complexity: O(mn)\n",
    "class Solution:\n",
    "    def maximalSquare(self, matrix):\n",
    "        \"\"\"\n",
    "        :type matrix: List[List[str]]\n",
    "        :rtype: int\n",
    "        \"\"\"\n",
    "        if not matrix: return 0\n",
    "        m , n = len(matrix),len(matrix[0])\n",
    "        dp = [[0 if matrix[i][j]=='0' else 1 for j in range(n)] for i in range(m)]\n",
    "\n",
    "        for i in range(1,m):\n",
    "            for j in range(1,n):\n",
    "                if matrix[i][j] =='1':\n",
    "                    dp[i][j] = min(dp[i-1][j],dp[i][j-1],dp[i-1][j-1])+1\n",
    "                else: dp[i][j] = 0\n",
    "\n",
    "        for d in dp:print(d)\n",
    "    \n",
    "        ans = max([max(i) for i in dp])\n",
    "        return ans ** 2\n",
    "\n",
    "matrix = [[\"1\",\"0\",\"1\",\"0\",\"0\"],\n",
    "          [\"1\",\"0\",\"1\",\"1\",\"1\"],\n",
    "          [\"1\",\"1\",\"1\",\"1\",\"1\"],\n",
    "          [\"1\",\"0\",\"1\",\"1\",\"1\"]]\n",
    "##matrix = [[\"0\",\"1\"]]\n",
    "res = Solution().maximalSquare(matrix)\n",
    "print(res)"
   ]
  },
  {
   "cell_type": "code",
   "execution_count": 11,
   "metadata": {},
   "outputs": [
    {
     "name": "stdout",
     "output_type": "stream",
     "text": [
      "[0, 1, 0, 1, 0, 0]\n",
      "[0, 1, 0, 1, 1, 1]\n",
      "[0, 1, 1, 1, 2, 2]\n",
      "[0, 1, 0, 1, 2, 3]\n",
      "9\n"
     ]
    }
   ],
   "source": [
    "# dp, space complexity: O(n)\n",
    "class Solution:\n",
    "    def maximalSquare(self, matrix):\n",
    "        \"\"\"\n",
    "        :type matrix: List[List[str]]\n",
    "        :rtype: int\n",
    "        \"\"\"\n",
    "        m, n = len(matrix), len(matrix[0])\n",
    "        if m == 0 or n == 0:\n",
    "            return 0\n",
    "        dp = [0] * (n+1)\n",
    "        maxr, pre = 0, 0\n",
    "        \n",
    "        for i in range(1,m+1):\n",
    "            for j in range(1, n+1):\n",
    "                tmp = dp[j]\n",
    "                if matrix[i-1][j-1] == '1':\n",
    "                    dp[j] = min(dp[j-1], pre, dp[j]) + 1\n",
    "                    maxr = max(maxr, dp[j])\n",
    "                else:\n",
    "                    dp[j] = 0\n",
    "                pre = tmp\n",
    "            print(dp)\n",
    "                \n",
    "        return maxr ** 2\n",
    "\n",
    "matrix = [[\"1\",\"0\",\"1\",\"0\",\"0\"],\n",
    "          [\"1\",\"0\",\"1\",\"1\",\"1\"],\n",
    "          [\"1\",\"1\",\"1\",\"1\",\"1\"],\n",
    "          [\"1\",\"0\",\"1\",\"1\",\"1\"]]\n",
    "res = Solution().maximalSquare(matrix)\n",
    "print(res)"
   ]
  }
 ],
 "metadata": {
  "kernelspec": {
   "display_name": "Python 3",
   "language": "python",
   "name": "python3"
  },
  "language_info": {
   "codemirror_mode": {
    "name": "ipython",
    "version": 3
   },
   "file_extension": ".py",
   "mimetype": "text/x-python",
   "name": "python",
   "nbconvert_exporter": "python",
   "pygments_lexer": "ipython3",
   "version": "3.5.2"
  }
 },
 "nbformat": 4,
 "nbformat_minor": 2
}
