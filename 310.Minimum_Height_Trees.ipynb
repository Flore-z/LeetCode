{
 "cells": [
  {
   "cell_type": "code",
   "execution_count": null,
   "metadata": {
    "collapsed": true
   },
   "outputs": [],
   "source": [
    "Question:\n",
    "For a undirected graph with tree characteristics, we can choose any node as the root. The result graph is then a\n",
    "rooted tree. Among all possible rooted trees, those with minimum height are called minimum height trees (MHTs). \n",
    "Given such a graph, write a function to find all the MHTs and return a list of their root labels.\n",
    "\n",
    "Format\n",
    "The graph contains n nodes which are labeled from 0 to n - 1. You will be given the number n and a list of \n",
    "undirected edges (each edge is a pair of labels).\n",
    "You can assume that no duplicate edges will appear in edges. Since all edges are undirected, [0, 1] is the same \n",
    "as [1, 0] and thus will not appear together in edges.\n",
    "\n",
    "Example 1:\n",
    "Given n = 4, edges = [[1, 0], [1, 2], [1, 3]]\n",
    "        0\n",
    "        |\n",
    "        1\n",
    "       / \\\n",
    "      2   3\n",
    "return [1]\n",
    "\n",
    "Example 2:\n",
    "Given n = 6, edges = [[0, 3], [1, 3], [2, 3], [4, 3], [5, 4]]\n",
    "     0  1  2\n",
    "      \\ | /\n",
    "        3\n",
    "        |\n",
    "        4\n",
    "        |\n",
    "        5\n",
    "return [3, 4]\n",
    "\n",
    "Note:\n",
    "(1) According to the definition of tree on Wikipedia: “a tree is an undirected graph in which any two vertices \n",
    "    are connected by exactly one path. In other words, any connected graph without simple cycles is a tree.”\n",
    "(2) The height of a rooted tree is the number of edges on the longest downward path between the root and a leaf."
   ]
  },
  {
   "cell_type": "code",
   "execution_count": 2,
   "metadata": {},
   "outputs": [
    {
     "name": "stdout",
     "output_type": "stream",
     "text": [
      "[3, 4]\n"
     ]
    }
   ],
   "source": [
    "# 从度为1的节点入手，每次去掉度为1的节点，最后剩下不超过2个节点是根节点\n",
    "class Solution(object):\n",
    "    def findMinHeightTrees(self, n, edges):\n",
    "        \"\"\"\n",
    "        :type n: int\n",
    "        :type edges: List[List[int]]\n",
    "        :rtype: List[int]\n",
    "        \"\"\"\n",
    "        maps = {i:[] for i in range(n)}\n",
    "        degree = {i:0 for i in range(n)}\n",
    "\n",
    "        for i, v in edges:\n",
    "            maps[i].append(v)\n",
    "            degree[i] += 1\n",
    "            maps[v].append(i)\n",
    "            degree[v] += 1\n",
    "        \n",
    "        while len(degree) > 2:\n",
    "            tmp = [i for i in degree if degree[i]==1]\n",
    "            for i in tmp:\n",
    "                degree.pop(i)\n",
    "                for x in maps[i]:\n",
    "                    degree[x] -= 1\n",
    "                    maps[x].remove(i)\n",
    "        \n",
    "        return list(degree.keys())\n",
    "            \n",
    "n = 4; edges = [[1, 0], [1, 2], [1, 3]]\n",
    "n = 6; edges = [[0, 3], [1, 3], [2, 3], [4, 3], [5, 4]]\n",
    "res = Solution().findMinHeightTrees(n, edges)\n",
    "print(res)"
   ]
  },
  {
   "cell_type": "code",
   "execution_count": 1,
   "metadata": {},
   "outputs": [
    {
     "name": "stdout",
     "output_type": "stream",
     "text": [
      "[3, 4]\n"
     ]
    }
   ],
   "source": [
    "# 另外一种写法\n",
    "class Solution(object):\n",
    "    def findMinHeightTrees(self, n, edges):\n",
    "        \"\"\"\n",
    "        :type n: int\n",
    "        :type edges: List[List[int]]\n",
    "        :rtype: List[int]\n",
    "        \"\"\"\n",
    "        if n < 2:\n",
    "            return [0]\n",
    "        \n",
    "        graph = [[] for i in range(n)]\n",
    "        for i, v in edges:\n",
    "            graph[i].append(v)\n",
    "            graph[v].append(i)\n",
    "            \n",
    "        leaves = [x for x in range(n) if len(graph[x]) == 1]\n",
    "        while n > 2:\n",
    "            n -= len(leaves)\n",
    "            new = []\n",
    "            for x in leaves:\n",
    "                i = graph[x][0]\n",
    "                graph[i].remove(x)\n",
    "                if len(graph[i]) == 1:\n",
    "                    new.append(i)\n",
    "            leaves = new\n",
    "        return leaves\n",
    "            \n",
    "n = 4; edges = [[1, 0], [1, 2], [1, 3]]\n",
    "n = 6; edges = [[0, 3], [1, 3], [2, 3], [4, 3], [5, 4]]\n",
    "res = Solution().findMinHeightTrees(n, edges)\n",
    "print(res)"
   ]
  }
 ],
 "metadata": {
  "kernelspec": {
   "display_name": "Python 3",
   "language": "python",
   "name": "python3"
  },
  "language_info": {
   "codemirror_mode": {
    "name": "ipython",
    "version": 3
   },
   "file_extension": ".py",
   "mimetype": "text/x-python",
   "name": "python",
   "nbconvert_exporter": "python",
   "pygments_lexer": "ipython3",
   "version": "3.5.2"
  }
 },
 "nbformat": 4,
 "nbformat_minor": 2
}
