{
 "cells": [
  {
   "cell_type": "code",
   "execution_count": 27,
   "metadata": {},
   "outputs": [
    {
     "data": {
      "text/plain": [
       "28"
      ]
     },
     "execution_count": 27,
     "metadata": {},
     "output_type": "execute_result"
    }
   ],
   "source": [
    "class Solution(object):\n",
    "    def uniquePaths(self, m, n):\n",
    "        \"\"\"\n",
    "        :type m: int\n",
    "        :type n: int\n",
    "        :rtype: int\n",
    "        \"\"\"\n",
    "        if m == 0 or n == 0:\n",
    "            return 0\n",
    "        x = 1\n",
    "        y = 1\n",
    "        k = min(m,n)\n",
    "        for i in range(k-1):\n",
    "            x *= k-1-i\n",
    "            y *= m+n-2-i\n",
    "        \n",
    "        return int(y/x)\n",
    "\n",
    "res = Solution().uniquePaths(3,7)\n",
    "res"
   ]
  },
  {
   "cell_type": "code",
   "execution_count": 28,
   "metadata": {},
   "outputs": [
    {
     "data": {
      "text/plain": [
       "28"
      ]
     },
     "execution_count": 28,
     "metadata": {},
     "output_type": "execute_result"
    }
   ],
   "source": [
    "class Solution(object):  \n",
    "    def uniquePaths(self, m, n):  \n",
    "        \"\"\" \n",
    "        :type m: int \n",
    "        :type n: int \n",
    "        :rtype: int \n",
    "        \"\"\"  \n",
    "        return self.findPath(m,n)     \n",
    "          \n",
    "    def findPath(self,m,n):  \n",
    "        if m==1 and n==1: return 1  \n",
    "        if m==1 : return self.findPath(m,n-1)  \n",
    "        if n==1 : return self.findPath(m-1,n) \n",
    "        return self.findPath(m-1,n) + self.findPath(m,n-1)  \n",
    "    \n",
    "res = Solution().uniquePaths(3,7)\n",
    "res"
   ]
  },
  {
   "cell_type": "code",
   "execution_count": 29,
   "metadata": {},
   "outputs": [
    {
     "data": {
      "text/plain": [
       "28"
      ]
     },
     "execution_count": 29,
     "metadata": {},
     "output_type": "execute_result"
    }
   ],
   "source": [
    "class Solution(object):\n",
    "    def uniquePaths(self, m, n):\n",
    "        \"\"\"\n",
    "        :type m: int\n",
    "        :type n: int\n",
    "        :rtype: int\n",
    "        \"\"\"\n",
    "        dp = [1 for i in range(m)]\n",
    "        for i in range(1, n):\n",
    "            #dp[0] = 1\n",
    "            for j in range(1, m):\n",
    "                dp[j] += dp[j-1]\n",
    "        return dp[-1]\n",
    "\n",
    "res = Solution().uniquePaths(3,7)\n",
    "res"
   ]
  },
  {
   "cell_type": "code",
   "execution_count": null,
   "metadata": {
    "collapsed": true
   },
   "outputs": [],
   "source": []
  }
 ],
 "metadata": {
  "kernelspec": {
   "display_name": "Python 3",
   "language": "python",
   "name": "python3"
  },
  "language_info": {
   "codemirror_mode": {
    "name": "ipython",
    "version": 3
   },
   "file_extension": ".py",
   "mimetype": "text/x-python",
   "name": "python",
   "nbconvert_exporter": "python",
   "pygments_lexer": "ipython3",
   "version": "3.4.3"
  }
 },
 "nbformat": 4,
 "nbformat_minor": 2
}
