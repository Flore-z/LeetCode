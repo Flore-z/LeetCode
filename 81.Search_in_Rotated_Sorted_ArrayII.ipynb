{
 "cells": [
  {
   "cell_type": "code",
   "execution_count": 10,
   "metadata": {},
   "outputs": [
    {
     "data": {
      "text/plain": [
       "True"
      ]
     },
     "execution_count": 10,
     "metadata": {},
     "output_type": "execute_result"
    }
   ],
   "source": [
    "class Solution(object):\n",
    "    def search(self, nums, target):\n",
    "        \"\"\"\n",
    "        :type nums: List[int]\n",
    "        :type target: int\n",
    "        :rtype: bool\n",
    "        \"\"\"\n",
    "        if not nums:\n",
    "            return False\n",
    "        l = 0\n",
    "        r = len(nums) -1\n",
    "        while l <= r:\n",
    "            mid = int((l + r)/2)\n",
    "            if nums[mid] == target:\n",
    "                return True\n",
    "            if nums[mid] > nums[l]:\n",
    "                if target >= nums[l] and target < nums[mid]:\n",
    "                    r = mid - 1\n",
    "                else:\n",
    "                    l = mid + 1\n",
    "            elif nums[mid] < nums[l]:\n",
    "                if target > nums[mid] and target <= nums[r]:\n",
    "                    l = mid + 1\n",
    "                else:\n",
    "                    r = mid - 1\n",
    "            else:\n",
    "                l += 1\n",
    "                \n",
    "        return False\n",
    "    \n",
    "nums = [4, 5, 6, 7, 0, 1, 2]\n",
    "res = Solution().search(nums, 6)\n",
    "res"
   ]
  },
  {
   "cell_type": "code",
   "execution_count": 11,
   "metadata": {},
   "outputs": [
    {
     "data": {
      "text/plain": [
       "True"
      ]
     },
     "execution_count": 11,
     "metadata": {},
     "output_type": "execute_result"
    }
   ],
   "source": [
    "class Solution(object):\n",
    "    def search(self, nums, target):\n",
    "        \"\"\"\n",
    "        :type nums: List[int]\n",
    "        :type target: int\n",
    "        :rtype: bool\n",
    "        \"\"\"\n",
    "        if len(nums) == 0:\n",
    "            return False\n",
    "\n",
    "        # find pivot\n",
    "        l, r = 0, len(nums) - 1\n",
    "        while True:\n",
    "            m = (l + r) // 2\n",
    "            if l == r:\n",
    "                pivot = l\n",
    "                break\n",
    "            if l == m:\n",
    "                pivot = r if nums[r] >= nums[l] else l\n",
    "                break\n",
    "\n",
    "            if nums[l] < nums[r]:\n",
    "                pivot = r\n",
    "                break\n",
    "            elif nums[l] > nums[r]:\n",
    "                if nums[m] <= nums[r]:\n",
    "                    r = m - 1\n",
    "                elif nums[m] >= nums[l]:\n",
    "                    l = m\n",
    "                    r -= 1\n",
    "            elif nums[l] == nums[r]:\n",
    "                if nums[l + 1] >= nums[l]:\n",
    "                    l += 1\n",
    "                else: \n",
    "                    r -= 1\n",
    "\n",
    "        # find target\n",
    "        l, r, length = 0, len(nums) - 1, len(nums)\n",
    "        while r >= l:\n",
    "            m = (l + r) // 2\n",
    "            real_m = (m + pivot + 1) % length\n",
    "            if nums[real_m] == target:\n",
    "                return True\n",
    "            elif nums[real_m] < target:\n",
    "                l = m + 1\n",
    "            elif nums[real_m] > target:\n",
    "                r = m - 1\n",
    "\n",
    "        return False\n",
    "\n",
    "nums = [4, 5, 6, 7, 0, 1, 2]\n",
    "res = Solution().search(nums, 6)\n",
    "res"
   ]
  },
  {
   "cell_type": "code",
   "execution_count": 13,
   "metadata": {},
   "outputs": [
    {
     "data": {
      "text/plain": [
       "True"
      ]
     },
     "execution_count": 13,
     "metadata": {},
     "output_type": "execute_result"
    }
   ],
   "source": [
    "class Solution(object):\n",
    "    def search(self, nums, target):\n",
    "        \"\"\"\n",
    "        :type nums: List[int]\n",
    "        :type target: int\n",
    "        :rtype: bool\n",
    "        \"\"\"\n",
    "\n",
    "        lo = 0\n",
    "        hi = len(nums) - 1\n",
    "        \n",
    "        while lo < hi:\n",
    "            mid = (lo + hi) // 2\n",
    "            if nums[mid] == target:\n",
    "                return True\n",
    "            while lo < mid and nums[lo] == nums[mid]:\n",
    "                lo += 1\n",
    "                \n",
    "            if nums[lo] <= nums[mid]:\n",
    "                if target >= nums[lo] and target < nums[mid]:\n",
    "                    hi = mid - 1\n",
    "                else:\n",
    "                    lo = mid + 1\n",
    "            else:\n",
    "                if target > nums[mid] and target <= nums[hi]:\n",
    "                    lo = mid + 1\n",
    "                else:\n",
    "                    hi = mid - 1\n",
    "        return True if target in nums[lo : lo + 1] else False\n",
    "    \n",
    "nums = [4, 5, 6, 7, 0, 1, 2]\n",
    "res = Solution().search(nums, 6)\n",
    "res"
   ]
  },
  {
   "cell_type": "code",
   "execution_count": null,
   "metadata": {
    "collapsed": true
   },
   "outputs": [],
   "source": []
  }
 ],
 "metadata": {
  "kernelspec": {
   "display_name": "Python 3",
   "language": "python",
   "name": "python3"
  },
  "language_info": {
   "codemirror_mode": {
    "name": "ipython",
    "version": 3
   },
   "file_extension": ".py",
   "mimetype": "text/x-python",
   "name": "python",
   "nbconvert_exporter": "python",
   "pygments_lexer": "ipython3",
   "version": "3.5.2"
  }
 },
 "nbformat": 4,
 "nbformat_minor": 2
}
