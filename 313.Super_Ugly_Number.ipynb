{
 "cells": [
  {
   "cell_type": "code",
   "execution_count": null,
   "metadata": {
    "collapsed": true
   },
   "outputs": [],
   "source": [
    "Question:\n",
    "Write a program to find the nth super ugly number.\n",
    "Super ugly numbers are positive numbers whose all prime factors are in the given prime list primes of size k. \n",
    "For example, [1, 2, 4, 7, 8, 13, 14, 16, 19, 26, 28, 32] is the sequence of the first 12 super ugly numbers given\n",
    "primes = [2, 7, 13, 19] of size 4.\n",
    "\n",
    "Note:\n",
    "(1) 1 is a super ugly number for any given primes.\n",
    "(2) The given numbers in primes are in ascending order.\n",
    "(3) 0 < k ≤ 100, 0 < n ≤ 106, 0 < primes[i] < 1000.\n",
    "(4) The nth super ugly number is guaranteed to fit in a 32-bit signed integer."
   ]
  },
  {
   "cell_type": "code",
   "execution_count": 28,
   "metadata": {},
   "outputs": [
    {
     "name": "stdout",
     "output_type": "stream",
     "text": [
      "26\n"
     ]
    }
   ],
   "source": [
    "# O(kn), k is the length of primes\n",
    "class Solution(object):\n",
    "    def nthSuperUglyNumber(self, n, primes):\n",
    "        \"\"\"\n",
    "        :type n: int\n",
    "        :type primes: List[int]\n",
    "        :rtype: int\n",
    "        \"\"\"\n",
    "        ugly = [1]\n",
    "        m = len(primes)\n",
    "        tag = [0]*m\n",
    "        while len(ugly) < n:\n",
    "            num, idx = ugly[tag[0]]*primes[0], 0\n",
    "            for j in range(1, m):\n",
    "                if ugly[tag[j]]*primes[j] < num:\n",
    "                    num = ugly[tag[j]]*primes[j]\n",
    "                    idx = j\n",
    "            if num > ugly[-1]:\n",
    "                ugly.append(num)\n",
    "            tag[idx] += 1\n",
    "        return ugly[-1]\n",
    "            \n",
    "n = 10; primes = [2, 7, 13, 19]\n",
    "res = Solution().nthSuperUglyNumber(n, primes)\n",
    "print(res)"
   ]
  },
  {
   "cell_type": "code",
   "execution_count": 18,
   "metadata": {},
   "outputs": [
    {
     "name": "stdout",
     "output_type": "stream",
     "text": [
      "26\n"
     ]
    }
   ],
   "source": [
    "# O(kn), k is the length of primes\n",
    "class Solution(object):\n",
    "    def nthSuperUglyNumber(self, n, primes):\n",
    "        \"\"\"\n",
    "        :type n: int\n",
    "        :type primes: List[int]\n",
    "        :rtype: int\n",
    "        \"\"\"\n",
    "        ugly = [] \n",
    "        i_list = [0] * len(primes)\n",
    "        m_list = [1] * len(primes)\n",
    "        \n",
    "        while len(ugly) < n:\n",
    "            x = min(m_list)\n",
    "            ugly += x,\n",
    "            for k in range(len(m_list)):\n",
    "                if x == m_list[k]:\n",
    "                    m_list[k] = ugly[i_list[k]] * primes[k]\n",
    "                    i_list[k] += 1\n",
    "        return ugly[-1]\n",
    "  \n",
    "n = 10; primes = [2, 7, 13, 19]\n",
    "res = Solution().nthSuperUglyNumber(n, primes)\n",
    "print(res)"
   ]
  }
 ],
 "metadata": {
  "kernelspec": {
   "display_name": "Python 3",
   "language": "python",
   "name": "python3"
  },
  "language_info": {
   "codemirror_mode": {
    "name": "ipython",
    "version": 3
   },
   "file_extension": ".py",
   "mimetype": "text/x-python",
   "name": "python",
   "nbconvert_exporter": "python",
   "pygments_lexer": "ipython3",
   "version": "3.5.2"
  }
 },
 "nbformat": 4,
 "nbformat_minor": 2
}
