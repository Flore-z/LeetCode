{
 "cells": [
  {
   "cell_type": "code",
   "execution_count": null,
   "metadata": {
    "collapsed": true
   },
   "outputs": [],
   "source": [
    "Question：\n",
    "Find all possible combinations of k numbers that add up to a number n, given that only numbers from 1 to 9 can \n",
    "used and each combination should be a unique set of numbers.\n",
    "\n",
    "Example 1:\n",
    "Input: k = 3, n = 7\n",
    "Output:\n",
    "[[1,2,4]]\n",
    "\n",
    "Example 2:\n",
    "Input: k = 3, n = 9\n",
    "Output:\n",
    "[[1,2,6], [1,3,5], [2,3,4]]"
   ]
  },
  {
   "cell_type": "code",
   "execution_count": 1,
   "metadata": {},
   "outputs": [
    {
     "name": "stdout",
     "output_type": "stream",
     "text": [
      "[[1, 2, 4]]\n"
     ]
    }
   ],
   "source": [
    "# backtracking\n",
    "class Solution:\n",
    "    def combinationSum3(self, k, n):\n",
    "        \"\"\"\n",
    "        :type k: int\n",
    "        :type n: int\n",
    "        :rtype: List[List[int]]\n",
    "        \"\"\"\n",
    "        res, tmp = [], []\n",
    "        \n",
    "        def dfs(i, tmp, k, n):\n",
    "            if k == 0:\n",
    "                res.append(list(tmp))\n",
    "                return\n",
    "            elif k > 1:\n",
    "                for m in range(i, 10):\n",
    "                    if n-m >= m+1:\n",
    "                        tmp.append(m)\n",
    "                        dfs(m+1, tmp, k-1, n-m)\n",
    "                        tmp.pop()\n",
    "                    else: break\n",
    "            else:\n",
    "                for m in range(i, 10):\n",
    "                    if m <= n <= 9:\n",
    "                        tmp.append(n)\n",
    "                        dfs(m+1, tmp, k-1, n-n)\n",
    "                        tmp.pop()\n",
    "                    break\n",
    "\n",
    "        dfs(1, tmp, k, n)\n",
    "        return res\n",
    "\n",
    "k = 3;n = 7\n",
    "##k = 3;n = 9\n",
    "res = Solution().combinationSum3(k, n)\n",
    "print(res)"
   ]
  },
  {
   "cell_type": "code",
   "execution_count": 1,
   "metadata": {},
   "outputs": [
    {
     "name": "stdout",
     "output_type": "stream",
     "text": [
      "[[1, 2, 6], [1, 3, 5], [2, 3, 4]]\n"
     ]
    }
   ],
   "source": [
    "class Solution:\n",
    "    def combinationSum3(self, k, n):\n",
    "        \"\"\"\n",
    "        :type k: int\n",
    "        :type n: int\n",
    "        :rtype: List[List[int]]\n",
    "        \"\"\"\n",
    "        def backtracking(k, n, num, tmp, res):\n",
    "            if k < 0:\n",
    "                return\n",
    "            if k == 0 and n == 0:\n",
    "                res.append(list(tmp))\n",
    "                return\n",
    "            \n",
    "            for i in range(num, 10):\n",
    "                if i > n:\n",
    "                    break\n",
    "                tmp.append(i)\n",
    "                backtracking(k-1, n-i, i+1, tmp, res)\n",
    "                tmp.pop()\n",
    "                \n",
    "        res = []\n",
    "        backtracking(k, n, 1, [], res)\n",
    "        return res\n",
    "\n",
    "k = 3;n = 7\n",
    "k = 3;n = 9\n",
    "res = Solution().combinationSum3(k, n)\n",
    "print(res)"
   ]
  }
 ],
 "metadata": {
  "kernelspec": {
   "display_name": "Python 3",
   "language": "python",
   "name": "python3"
  },
  "language_info": {
   "codemirror_mode": {
    "name": "ipython",
    "version": 3
   },
   "file_extension": ".py",
   "mimetype": "text/x-python",
   "name": "python",
   "nbconvert_exporter": "python",
   "pygments_lexer": "ipython3",
   "version": "3.5.2"
  }
 },
 "nbformat": 4,
 "nbformat_minor": 2
}
