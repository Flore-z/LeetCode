{
 "cells": [
  {
   "cell_type": "code",
   "execution_count": null,
   "metadata": {
    "collapsed": true
   },
   "outputs": [],
   "source": [
    "# BFS:\n",
    "# Definition for a undirected graph node\n",
    "class UndirectedGraphNode:\n",
    "    def __init__(self, x):\n",
    "        self.label = x\n",
    "        self.neighbors = []\n",
    "\n",
    "class Solution:\n",
    "    # @param node, a undirected graph node\n",
    "    # @return a undirected graph node\n",
    "    def cloneGraph(self, node):\n",
    "        if not node:\n",
    "            return None\n",
    "        q = [node]\n",
    "        head = UndirectedGraphNode(node.label)\n",
    "        dict = {node:head}\n",
    "        while q:\n",
    "            cur = q.pop()\n",
    "            for neighbor in cur.neighbors:\n",
    "                if neighbor in dict:\n",
    "                    dict[cur].neighbors.append(dict[neighbor])\n",
    "                else:\n",
    "                    q.append(neighbor)\n",
    "                    copy = UndirectedGraphNode(neighbor.label)\n",
    "                    dict[neighbor] = copy\n",
    "                    dict[cur].neighbors.append(copy)\n",
    "                    \n",
    "        return head"
   ]
  },
  {
   "cell_type": "code",
   "execution_count": null,
   "metadata": {
    "collapsed": true
   },
   "outputs": [],
   "source": [
    "class Solution:\n",
    "    # @param node, a undirected graph node\n",
    "    # @return a undirected graph node\n",
    "    def cloneGraph(self, node):\n",
    "        if not node:\n",
    "            return node\n",
    "        q = [node]\n",
    "        d = dict()\n",
    "        d[node] = UndirectedGraphNode(node.label)\n",
    "        while q:\n",
    "            curt = q.pop(0)\n",
    "            for neighbor in curt.neighbors:\n",
    "                if neighbor not in d:\n",
    "                    d[neighbor] = UndirectedGraphNode(neighbor.label)\n",
    "                    q.append(neighbor)\n",
    "                d[curt].neighbors.append(d[neighbor])\n",
    "        return d[node]"
   ]
  },
  {
   "cell_type": "code",
   "execution_count": null,
   "metadata": {
    "collapsed": true
   },
   "outputs": [],
   "source": [
    "# DFS:\n",
    "class Solution:\n",
    "    # @param node, a undirected graph node\n",
    "    # @return a undirected graph node\n",
    "    def cloneGraph(self, node):\n",
    "        \n",
    "        copied = dict()\n",
    "        \n",
    "        def dfs(node, copied):\n",
    "            if node in copied:\n",
    "                return copied[node]\n",
    "            \n",
    "            copy = UndirectedGraphNode(node.label)\n",
    "            copied[node] = copy\n",
    "            for nextnode in node.neighbors:\n",
    "                if nextnode in copied:\n",
    "                    copy.neighbors.append(copied[nextnode])\n",
    "                else:\n",
    "                    copy.neighbors.append(dfs(nextnode,copied))\n",
    " \n",
    "            return copied[node]\n",
    "        \n",
    "        if node:\n",
    "            return dfs(node,copied)\n",
    "        else:\n",
    "            return None"
   ]
  }
 ],
 "metadata": {
  "kernelspec": {
   "display_name": "Python 3",
   "language": "python",
   "name": "python3"
  },
  "language_info": {
   "codemirror_mode": {
    "name": "ipython",
    "version": 3
   },
   "file_extension": ".py",
   "mimetype": "text/x-python",
   "name": "python",
   "nbconvert_exporter": "python",
   "pygments_lexer": "ipython3",
   "version": "3.5.2"
  }
 },
 "nbformat": 4,
 "nbformat_minor": 2
}
