{
 "cells": [
  {
   "cell_type": "code",
   "execution_count": null,
   "metadata": {
    "collapsed": true
   },
   "outputs": [],
   "source": [
    "Question:\n",
    "Shuffle a set of numbers without duplicates.\n",
    "\n",
    "Example:\n",
    "// Init an array with set 1, 2, and 3.\n",
    "int[] nums = {1,2,3};\n",
    "Solution solution = new Solution(nums);\n",
    "\n",
    "// Shuffle the array [1,2,3] and return its result. Any permutation of [1,2,3] must equally likely to be returned.\n",
    "solution.shuffle();\n",
    "\n",
    "// Resets the array back to its original configuration [1,2,3].\n",
    "solution.reset();\n",
    "\n",
    "// Returns the random shuffling of array [1,2,3].\n",
    "solution.shuffle();"
   ]
  },
  {
   "cell_type": "code",
   "execution_count": 4,
   "metadata": {},
   "outputs": [
    {
     "name": "stdout",
     "output_type": "stream",
     "text": [
      "[1, 3, 2]\n",
      "[1, 2, 3]\n",
      "[3, 2, 1]\n"
     ]
    }
   ],
   "source": [
    "import random\n",
    "class Solution(object):\n",
    "\n",
    "    def __init__(self, nums):\n",
    "        \"\"\"\n",
    "        :type nums: List[int]\n",
    "        \"\"\"\n",
    "        self.org = nums\n",
    "        self.array = [x for x in nums]\n",
    "\n",
    "    def reset(self):\n",
    "        \"\"\"\n",
    "        Resets the array to its original configuration and return it.\n",
    "        :rtype: List[int]\n",
    "        \"\"\"\n",
    "        return self.org\n",
    "\n",
    "    def shuffle(self):\n",
    "        \"\"\"\n",
    "        Returns a random shuffling of the array.\n",
    "        :rtype: List[int]\n",
    "        \"\"\"\n",
    "        random.shuffle(self.array)\n",
    "        return self.array\n",
    "\n",
    "# Your Solution object will be instantiated and called as such:\n",
    "# obj = Solution(nums)\n",
    "# param_1 = obj.reset()\n",
    "# param_2 = obj.shuffle()\n",
    "nums = [1,2,3]\n",
    "obj = Solution(nums)\n",
    "param = obj.shuffle()\n",
    "print(param)\n",
    "param = obj.reset()\n",
    "print(param)\n",
    "param = obj.shuffle()\n",
    "print(param)"
   ]
  },
  {
   "cell_type": "code",
   "execution_count": 7,
   "metadata": {},
   "outputs": [
    {
     "name": "stdout",
     "output_type": "stream",
     "text": [
      "[3, 2, 1]\n",
      "[1, 2, 3]\n",
      "[3, 1, 2]\n"
     ]
    }
   ],
   "source": [
    "import random\n",
    "class Solution(object):\n",
    "\n",
    "    def __init__(self, nums):\n",
    "        self.nums = nums\n",
    "\n",
    "    def reset(self):\n",
    "        return self.nums\n",
    "\n",
    "    def shuffle(self):\n",
    "        shuffled = self.nums[:]\n",
    "        n = len(shuffled)\n",
    "        for i in range(n):\n",
    "            rand = random.randint(i, n - 1)\n",
    "            shuffled[i], shuffled[rand] = shuffled[rand], shuffled[i]\n",
    "        return shuffled\n",
    "    \n",
    "# Your Solution object will be instantiated and called as such:\n",
    "# obj = Solution(nums)\n",
    "# param_1 = obj.reset()\n",
    "# param_2 = obj.shuffle()\n",
    "nums = [1,2,3]\n",
    "obj = Solution(nums)\n",
    "param = obj.shuffle()\n",
    "print(param)\n",
    "param = obj.reset()\n",
    "print(param)\n",
    "param = obj.shuffle()\n",
    "print(param)"
   ]
  }
 ],
 "metadata": {
  "kernelspec": {
   "display_name": "Python 3",
   "language": "python",
   "name": "python3"
  },
  "language_info": {
   "codemirror_mode": {
    "name": "ipython",
    "version": 3
   },
   "file_extension": ".py",
   "mimetype": "text/x-python",
   "name": "python",
   "nbconvert_exporter": "python",
   "pygments_lexer": "ipython3",
   "version": "3.5.2"
  }
 },
 "nbformat": 4,
 "nbformat_minor": 2
}
