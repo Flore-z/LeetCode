{
 "cells": [
  {
   "cell_type": "code",
   "execution_count": null,
   "metadata": {
    "collapsed": true
   },
   "outputs": [],
   "source": [
    "Question：\n",
    "There are a total of n courses you have to take, labeled from 0 to n - 1.\n",
    "Some courses may have prerequisites, for example to take course 0 you have to first take course 1, which is \n",
    "expressed as a pair: [0,1]\n",
    "Given the total number of courses and a list of prerequisite pairs, is it possible for you to finish all courses?\n",
    "\n",
    "For example:\n",
    "2, [[1,0]]\n",
    "There are a total of 2 courses to take. To take course 1 you should have finished course 0. So it is possible.\n",
    "2, [[1,0],[0,1]]\n",
    "There are a total of 2 courses to take. To take course 1 you should have finished course 0, and to take course \n",
    "0 you should also have finished course 1. So it is impossible.\n",
    "\n",
    "Note:\n",
    "1.\tThe input prerequisites is a graph represented by a list of edges, not adjacency matrices. Read more about \n",
    "how a graph is represented.\n",
    "2.\tYou may assume that there are no duplicate edges in the input prerequisites."
   ]
  },
  {
   "cell_type": "code",
   "execution_count": 2,
   "metadata": {},
   "outputs": [
    {
     "data": {
      "text/plain": [
       "True"
      ]
     },
     "execution_count": 2,
     "metadata": {},
     "output_type": "execute_result"
    }
   ],
   "source": [
    "# Topological sort by BFS\n",
    "class Solution:\n",
    "    def canFinish(self, numCourses, prerequisites):\n",
    "        \"\"\"\n",
    "        :type numCourses: int\n",
    "        :type prerequisites: List[List[int]]\n",
    "        :rtype: bool\n",
    "        \"\"\"\n",
    "        course = [n for n in range(numCourses)]\n",
    "        while prerequisites:\n",
    "            no_pre = list(set(course) - set([x[0] for x in prerequisites]))\n",
    "            if no_pre == []:\n",
    "                return False\n",
    "            for n in no_pre:\n",
    "                tmp = [x for x in prerequisites if x[1] != n]\n",
    "                prerequisites = tmp\n",
    "                course.remove(n)\n",
    "        return True\n",
    "\n",
    "numCourses = 2; prerequisites = [[1,0]]\n",
    "# numCourses = 2; prerequisites = [[1,0],[0,1]]\n",
    "Solution().canFinish(numCourses, prerequisites)"
   ]
  },
  {
   "cell_type": "code",
   "execution_count": 3,
   "metadata": {},
   "outputs": [
    {
     "data": {
      "text/plain": [
       "True"
      ]
     },
     "execution_count": 3,
     "metadata": {},
     "output_type": "execute_result"
    }
   ],
   "source": [
    "# Topological sort by BFS\n",
    "class Solution:\n",
    "    def canFinish(self, numCourses, prerequisites):\n",
    "        \"\"\"\n",
    "        :type numCourses: int\n",
    "        :type prerequisites: List[List[int]]\n",
    "        :rtype: bool\n",
    "        \"\"\"\n",
    "        if numCourses <= 1:\n",
    "            return True\n",
    "        degrees = {i : 0 for i in range(numCourses)}\n",
    "        maps = {i: [] for i in range(numCourses)}\n",
    "        \n",
    "        for cur, pre in prerequisites:\n",
    "            degrees[cur] += 1\n",
    "            maps[pre].append(cur)\n",
    "        \n",
    "        stack = [i for i in degrees if degrees[i] == 0]\n",
    "        count = 0\n",
    "        while stack:\n",
    "            c = stack.pop()\n",
    "            count += 1\n",
    "            if c in maps:\n",
    "                for course in maps[c]:\n",
    "                    degrees[course] -= 1\n",
    "                    if degrees[course] == 0:\n",
    "                        stack.append(course)\n",
    "        return count == numCourses\n",
    "\n",
    "numCourses = 2; prerequisites = [[1,0]]\n",
    "# numCourses = 2; prerequisites = [[1,0],[0,1]]\n",
    "Solution().canFinish(numCourses, prerequisites)"
   ]
  }
 ],
 "metadata": {
  "kernelspec": {
   "display_name": "Python 3",
   "language": "python",
   "name": "python3"
  },
  "language_info": {
   "codemirror_mode": {
    "name": "ipython",
    "version": 3
   },
   "file_extension": ".py",
   "mimetype": "text/x-python",
   "name": "python",
   "nbconvert_exporter": "python",
   "pygments_lexer": "ipython3",
   "version": "3.5.2"
  }
 },
 "nbformat": 4,
 "nbformat_minor": 2
}
