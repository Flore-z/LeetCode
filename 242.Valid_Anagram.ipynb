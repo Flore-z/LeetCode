{
 "cells": [
  {
   "cell_type": "code",
   "execution_count": null,
   "metadata": {
    "collapsed": true
   },
   "outputs": [],
   "source": [
    "Question:\n",
    "Given two strings s and t, write a function to determine if t is an anagram of s.\n",
    "\n",
    "For example,\n",
    "s = \"anagram\", t = \"nagaram\", return true.\n",
    "s = \"rat\", t = \"car\", return false.\n",
    "\n",
    "Note:\n",
    "You may assume the string contains only lowercase alphabets.\n",
    "\n",
    "Follow up:\n",
    "What if the inputs contain unicode characters? How would you adapt your solution to such case?"
   ]
  },
  {
   "cell_type": "code",
   "execution_count": 1,
   "metadata": {},
   "outputs": [
    {
     "name": "stdout",
     "output_type": "stream",
     "text": [
      "True\n"
     ]
    }
   ],
   "source": [
    "#use hash table\n",
    "class Solution(object):\n",
    "    def isAnagram(self, s, t):\n",
    "        \"\"\"\n",
    "        :type s: str\n",
    "        :type t: str\n",
    "        :rtype: bool\n",
    "        \"\"\"\n",
    "        ms, mt = {}, {}\n",
    "        for m in s:\n",
    "            if m in ms:\n",
    "                ms[m] += 1\n",
    "            else:\n",
    "                ms[m] = 1\n",
    "\n",
    "        for m in t:\n",
    "            if m in mt:\n",
    "                mt[m] += 1\n",
    "            else:\n",
    "                mt[m] = 1\n",
    "\n",
    "        return ms == mt\n",
    "\n",
    "s = \"anagram\"; t = \"nagaram\"\n",
    "res = Solution().isAnagram(s, t)\n",
    "print(res)"
   ]
  },
  {
   "cell_type": "code",
   "execution_count": 2,
   "metadata": {},
   "outputs": [
    {
     "name": "stdout",
     "output_type": "stream",
     "text": [
      "True\n"
     ]
    }
   ],
   "source": [
    "# use set\n",
    "class Solution(object):\n",
    "    def isAnagram(self, s, t):\n",
    "        \"\"\"\n",
    "        :type s: str\n",
    "        :type t: str\n",
    "        :rtype: bool\n",
    "        \"\"\"\n",
    "        _set=set(s+t)\n",
    "        for c in _set:\n",
    "            if s.count(c)!=t.count(c):\n",
    "                return False\n",
    "        return True\n",
    "\n",
    "s = \"anagram\"; t = \"nagaram\"\n",
    "res = Solution().isAnagram(s, t)\n",
    "print(res)"
   ]
  }
 ],
 "metadata": {
  "kernelspec": {
   "display_name": "Python 3",
   "language": "python",
   "name": "python3"
  },
  "language_info": {
   "codemirror_mode": {
    "name": "ipython",
    "version": 3
   },
   "file_extension": ".py",
   "mimetype": "text/x-python",
   "name": "python",
   "nbconvert_exporter": "python",
   "pygments_lexer": "ipython3",
   "version": "3.5.2"
  }
 },
 "nbformat": 4,
 "nbformat_minor": 2
}
