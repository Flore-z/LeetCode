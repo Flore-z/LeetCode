{
 "cells": [
  {
   "cell_type": "code",
   "execution_count": 39,
   "metadata": {},
   "outputs": [
    {
     "name": "stdout",
     "output_type": "stream",
     "text": [
      "[1, 2, 3]\n"
     ]
    },
    {
     "data": {
      "text/plain": [
       "[1, 3, 2]"
      ]
     },
     "execution_count": 39,
     "metadata": {},
     "output_type": "execute_result"
    }
   ],
   "source": [
    "# Recursive solution\n",
    "\n",
    "# Definition for a binary tree node.\n",
    "class TreeNode(object):\n",
    "    def __init__(self, x):\n",
    "        self.val = x\n",
    "        self.left = None\n",
    "        self.right = None\n",
    "\n",
    "class Solution(object):\n",
    "    def inorderTraversal(self, root):\n",
    "        \"\"\"\n",
    "        :type root: TreeNode\n",
    "        :rtype: List[int]\n",
    "        \"\"\"\n",
    "        res = []\n",
    "        \n",
    "        def dfs(root, res):\n",
    "            if root == None:\n",
    "                return\n",
    "            dfs(root.left, res)\n",
    "            res.append(root.val)\n",
    "            dfs(root.right, res)\n",
    "            \n",
    "        dfs(root, res)\n",
    "        return res\n",
    "    \n",
    "    def preOrder_dfs(self, root, res):\n",
    "        if root == None:\n",
    "            return\n",
    "        res.append(root.val)\n",
    "        self.preOrder_dfs(root.left, res)\n",
    "        self.preOrder_dfs(root.right, res)\n",
    "    \n",
    "root = TreeNode(1)\n",
    "p = root\n",
    "p.right = TreeNode(2); p = p.right\n",
    "p.left = TreeNode(3)\n",
    "\n",
    "preOrder = []\n",
    "Solution().preOrder_dfs(root, preOrder)\n",
    "print( preOrder)\n",
    "res = Solution().inorderTraversal(root)\n",
    "res"
   ]
  },
  {
   "cell_type": "code",
   "execution_count": 2,
   "metadata": {},
   "outputs": [
    {
     "name": "stdout",
     "output_type": "stream",
     "text": [
      "[1, 2, 3]\n"
     ]
    },
    {
     "data": {
      "text/plain": [
       "[1, 3, 2]"
      ]
     },
     "execution_count": 2,
     "metadata": {},
     "output_type": "execute_result"
    }
   ],
   "source": [
    "# Definition for a binary tree node.\n",
    "class TreeNode(object):\n",
    "    def __init__(self, x):\n",
    "        self.val = x\n",
    "        self.left = None\n",
    "        self.right = None\n",
    "\n",
    "class Solution(object):\n",
    "    def inorderTraversal(self, root):\n",
    "        \"\"\"\n",
    "        :type root: TreeNode\n",
    "        :rtype: List[int]\n",
    "        \"\"\"\n",
    "        res = []\n",
    "        stack = []\n",
    "        while root or stack:\n",
    "            while root:\n",
    "                stack.append(root)\n",
    "                root = root.left\n",
    "            p = stack.pop()\n",
    "            res.append(p.val)\n",
    "            root = p.right\n",
    "                    \n",
    "        return res\n",
    "    \n",
    "    def preOrder_dfs(self, root, res):\n",
    "        if root == None:\n",
    "            return\n",
    "        res.append(root.val)\n",
    "        self.preOrder_dfs(root.left, res)\n",
    "        self.preOrder_dfs(root.right, res)\n",
    "    \n",
    "root = TreeNode(1)\n",
    "p = root\n",
    "p.right = TreeNode(2); p = p.right\n",
    "p.left = TreeNode(3)\n",
    "\n",
    "preOrder = []\n",
    "Solution().preOrder_dfs(root, preOrder)\n",
    "print( preOrder)\n",
    "res = Solution().inorderTraversal(root)\n",
    "res"
   ]
  },
  {
   "cell_type": "code",
   "execution_count": null,
   "metadata": {
    "collapsed": true
   },
   "outputs": [],
   "source": []
  }
 ],
 "metadata": {
  "kernelspec": {
   "display_name": "Python 3",
   "language": "python",
   "name": "python3"
  },
  "language_info": {
   "codemirror_mode": {
    "name": "ipython",
    "version": 3
   },
   "file_extension": ".py",
   "mimetype": "text/x-python",
   "name": "python",
   "nbconvert_exporter": "python",
   "pygments_lexer": "ipython3",
   "version": "3.5.2"
  }
 },
 "nbformat": 4,
 "nbformat_minor": 2
}
