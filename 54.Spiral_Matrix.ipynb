{
 "cells": [
  {
   "cell_type": "code",
   "execution_count": 4,
   "metadata": {},
   "outputs": [
    {
     "name": "stdout",
     "output_type": "stream",
     "text": [
      "[1, 2, 3, 4] \n",
      "\n",
      "[5, 6, 7, 8] \n",
      "\n",
      "[9, 10, 11, 12] \n",
      "\n",
      "[13, 14, 15, 16] \n",
      "\n",
      "[1, 2, 3, 4, 8, 12, 16, 15, 14, 13, 9, 5, 6, 7, 11, 10]\n"
     ]
    }
   ],
   "source": [
    "class Solution(object):\n",
    "    def spiralOrder(self, matrix):\n",
    "        \"\"\"\n",
    "        :type matrix: List[List[int]]\n",
    "        :rtype: List[int]\n",
    "        \"\"\"\n",
    "        if not matrix or not matrix[0]:\n",
    "            return []\n",
    "        ans = []\n",
    "        m = len(matrix)\n",
    "        n = len(matrix[0])\n",
    "        u = 0\n",
    "        d = m-1\n",
    "        l = 0\n",
    "        r = n-1\n",
    "        while u < d and l < r:\n",
    "            ans.extend(matrix[u][j] for j in range(l, r))\n",
    "            ans.extend(matrix[i][r] for i in range(u, d))\n",
    "            ans.extend(matrix[d][j] for j in range(r, l, -1))\n",
    "            ans.extend(matrix[i][l] for i in range(d, u, -1))\n",
    "            u = u+1\n",
    "            d = d-1\n",
    "            l = l+1\n",
    "            r = r-1\n",
    "        if u ==d:\n",
    "            ans.extend(matrix[u][j] for j in range(l, r+1))\n",
    "        elif l ==r:\n",
    "            ans.extend(matrix[i][l] for i in range(u, d+1))\n",
    "        return ans    \n",
    "    \n",
    "# matrix=[[1,2,3],[4,5,6]]\n",
    "# matrix=[[ 1, 2, 3 ],[ 4, 5, 6 ],[ 7, 8, 9 ]]\n",
    "# matrix=[[7],[9],[6]]\n",
    "matrix=[[1,2,3,4],[5,6,7,8],[9,10,11,12],[13,14,15,16]]\n",
    "# matrix=[[1,2,3,4,5],[6,7,8,9,10],[11,12,13,14,15],[16,17,18,19,20],[21,22,23,24,25]]\n",
    "\n",
    "for i in range(len(matrix)):\n",
    "    print(matrix[i],'\\n')\n",
    "L=Solution().spiralOrder(matrix)\n",
    "print(L)"
   ]
  },
  {
   "cell_type": "code",
   "execution_count": null,
   "metadata": {
    "collapsed": true
   },
   "outputs": [],
   "source": []
  }
 ],
 "metadata": {
  "kernelspec": {
   "display_name": "Python 3",
   "language": "python",
   "name": "python3"
  },
  "language_info": {
   "codemirror_mode": {
    "name": "ipython",
    "version": 3
   },
   "file_extension": ".py",
   "mimetype": "text/x-python",
   "name": "python",
   "nbconvert_exporter": "python",
   "pygments_lexer": "ipython3",
   "version": "3.5.2"
  }
 },
 "nbformat": 4,
 "nbformat_minor": 2
}
