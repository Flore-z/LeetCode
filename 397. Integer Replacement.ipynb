{
 "cells": [
  {
   "cell_type": "code",
   "execution_count": null,
   "metadata": {
    "collapsed": true
   },
   "outputs": [],
   "source": [
    "Question:\n",
    "Given a positive integer n and you can do operations as follow:\n",
    "1.\tIf n is even, replace n with n/2.\n",
    "2.\tIf n is odd, you can replace n with either n + 1 or n - 1.\n",
    "What is the minimum number of replacements needed for n to become 1?\n",
    "\n",
    "Example 1:\n",
    "Input:\n",
    "8\n",
    "Output:\n",
    "3\n",
    "Explanation:\n",
    "8 -> 4 -> 2 -> 1\n",
    "\n",
    "Example 2:\n",
    "Input:\n",
    "7\n",
    "Output:\n",
    "4\n",
    "Explanation:\n",
    "7 -> 8 -> 4 -> 2 -> 1\n",
    "or\n",
    "7 -> 6 -> 3 -> 2 -> 1"
   ]
  },
  {
   "cell_type": "code",
   "execution_count": 5,
   "metadata": {},
   "outputs": [
    {
     "data": {
      "text/plain": [
       "4"
      ]
     },
     "execution_count": 5,
     "metadata": {},
     "output_type": "execute_result"
    }
   ],
   "source": [
    "# If a number ends with 01, then certainly decrementing is the way to go. Otherwise, if it ends with 11, then \n",
    "# certainly incrementing is at least as good as decrementing (*011 -> *010 / *100) or even better (if there \n",
    "# are three or more 1’s). \n",
    "class Solution(object):\n",
    "    def integerReplacement(self, n):\n",
    "        \"\"\"\n",
    "        :type n: int\n",
    "        :rtype: int\n",
    "        \"\"\"\n",
    "        res = 0\n",
    "        while n != 1:\n",
    "            if n % 2 == 0:\n",
    "                n //= 2\n",
    "            else:\n",
    "##                if n == 3 or bin(n-1).count('1') < bin(n+1).count('1'):\n",
    "                if n == 3 or (n >> 1) & 1 == 0 :\n",
    "                    n -= 1\n",
    "                else:\n",
    "                    n += 1\n",
    "            res += 1\n",
    "        return res\n",
    "        \n",
    "Solution().integerReplacement(7)"
   ]
  },
  {
   "cell_type": "code",
   "execution_count": 4,
   "metadata": {},
   "outputs": [
    {
     "data": {
      "text/plain": [
       "4"
      ]
     },
     "execution_count": 4,
     "metadata": {},
     "output_type": "execute_result"
    }
   ],
   "source": [
    "# dp, recursive\n",
    "class Solution(object):\n",
    "    store = {}\n",
    "    def integerReplacement(self, n):\n",
    "        \"\"\"\n",
    "        :type n: int\n",
    "        :rtype: int\n",
    "        \"\"\"\n",
    "        if n == 1:\n",
    "            return 0\n",
    "        \n",
    "        if n % 2:\n",
    "            if n not in self.store:\n",
    "#                 self.store[n] = min(self.integerReplacement(n-1), self.integerReplacement(n+1)) + 1\n",
    "                self.store[n] = min(self.integerReplacement(n//2), self.integerReplacement(n//2+1)) + 2\n",
    "        else:\n",
    "            if n not in self.store:\n",
    "                self.store[n] = self.integerReplacement(n//2) + 1\n",
    "#         print(self.store, n)\n",
    "        return self.store[n]\n",
    "        \n",
    "Solution().integerReplacement(7)"
   ]
  }
 ],
 "metadata": {
  "kernelspec": {
   "display_name": "Python 3",
   "language": "python",
   "name": "python3"
  },
  "language_info": {
   "codemirror_mode": {
    "name": "ipython",
    "version": 3
   },
   "file_extension": ".py",
   "mimetype": "text/x-python",
   "name": "python",
   "nbconvert_exporter": "python",
   "pygments_lexer": "ipython3",
   "version": "3.5.2"
  }
 },
 "nbformat": 4,
 "nbformat_minor": 2
}
