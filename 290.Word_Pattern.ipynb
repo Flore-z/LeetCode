{
 "cells": [
  {
   "cell_type": "code",
   "execution_count": null,
   "metadata": {
    "collapsed": true
   },
   "outputs": [],
   "source": [
    "Question:\n",
    "Given a pattern and a string str, find if str follows the same pattern.\n",
    "Here follow means a full match, such that there is a bijection between a letter in pattern and a non-empty word \n",
    "in str.\n",
    "\n",
    "Examples:\n",
    "1.\tpattern = \"abba\", str = \"dog cat cat dog\" should return true.\n",
    "2.\tpattern = \"abba\", str = \"dog cat cat fish\" should return false.\n",
    "3.\tpattern = \"aaaa\", str = \"dog cat cat dog\" should return false.\n",
    "4.\tpattern = \"abba\", str = \"dog dog dog dog\" should return false.\n",
    "\n",
    "Notes:\n",
    "You may assume pattern contains only lowercase letters, and str contains lowercase letters separated by a single \n",
    "space."
   ]
  },
  {
   "cell_type": "code",
   "execution_count": 1,
   "metadata": {},
   "outputs": [
    {
     "name": "stdout",
     "output_type": "stream",
     "text": [
      "False\n"
     ]
    }
   ],
   "source": [
    "class Solution(object):\n",
    "    def wordPattern(self, pattern, str):\n",
    "        \"\"\"\n",
    "        :type pattern: str\n",
    "        :type str: str\n",
    "        :rtype: bool\n",
    "        \"\"\"\n",
    "        lst = str.split(\" \")\n",
    "        if len(pattern) != len(lst):\n",
    "            return False\n",
    "        \n",
    "        d1, d2 = {}, {}\n",
    "        for i in range(len(lst)):\n",
    "            if pattern[i] in d1:\n",
    "                if not d1[pattern[i]] == lst[i]:\n",
    "                    return False\n",
    "            else:\n",
    "                if lst[i] in d2:\n",
    "                    return False\n",
    "                d1[pattern[i]] = lst[i]\n",
    "                d2[lst[i]] = pattern[i]\n",
    "\n",
    "        return True\n",
    "\n",
    "pattern = \"abba\"; str = \"dog cat cat dog\"\n",
    "pattern = \"abba\"; str = \"dog cat cat fish\"\n",
    "pattern = \"aaaa\"; str = \"dog cat cat dog\"\n",
    "pattern = \"abba\"; str = \"dog dog dog dog\"\n",
    "res = Solution().wordPattern(pattern, str)\n",
    "print(res)"
   ]
  },
  {
   "cell_type": "code",
   "execution_count": 2,
   "metadata": {},
   "outputs": [
    {
     "name": "stdout",
     "output_type": "stream",
     "text": [
      "False\n"
     ]
    }
   ],
   "source": [
    "class Solution(object):\n",
    "    def wordPattern(self, pattern, str):\n",
    "        \"\"\"\n",
    "        :type pattern: str\n",
    "        :type str: str\n",
    "        :rtype: bool\n",
    "        \"\"\"\n",
    "        lst = str.split(\" \")\n",
    "        if len(pattern) != len(lst):\n",
    "            return False\n",
    "        \n",
    "        d = {}\n",
    "        for i in range(len(lst)):\n",
    "            if pattern[i] in d:\n",
    "                if d[pattern[i]] != lst[i]:\n",
    "                    return False\n",
    "            else:\n",
    "                if lst[i] in d.values():\n",
    "                    return False\n",
    "                d[pattern[i]] = lst[i]\n",
    "\n",
    "        return True\n",
    "\n",
    "pattern = \"abba\"; str = \"dog cat cat dog\"\n",
    "pattern = \"abba\"; str = \"dog cat cat fish\"\n",
    "pattern = \"aaaa\"; str = \"dog cat cat dog\"\n",
    "pattern = \"abba\"; str = \"dog dog dog dog\"\n",
    "res = Solution().wordPattern(pattern, str)\n",
    "print(res)"
   ]
  }
 ],
 "metadata": {
  "kernelspec": {
   "display_name": "Python 3",
   "language": "python",
   "name": "python3"
  },
  "language_info": {
   "codemirror_mode": {
    "name": "ipython",
    "version": 3
   },
   "file_extension": ".py",
   "mimetype": "text/x-python",
   "name": "python",
   "nbconvert_exporter": "python",
   "pygments_lexer": "ipython3",
   "version": "3.5.2"
  }
 },
 "nbformat": 4,
 "nbformat_minor": 2
}
