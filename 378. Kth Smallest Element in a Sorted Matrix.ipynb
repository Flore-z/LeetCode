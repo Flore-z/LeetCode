{
 "cells": [
  {
   "cell_type": "code",
   "execution_count": null,
   "metadata": {},
   "outputs": [],
   "source": [
    "Question:\n",
    "Given a n x n matrix where each of the rows and columns are sorted in ascending order, find the kth smallest \n",
    "element in the matrix.\n",
    "Note that it is the kth smallest element in the sorted order, not the kth distinct element.\n",
    "\n",
    "Example:\n",
    "matrix = [\n",
    "   [ 1,  5,  9],\n",
    "   [10, 11, 13],\n",
    "   [12, 13, 15]\n",
    "],\n",
    "k = 8,\n",
    "return 13.\n",
    "\n",
    "Note: \n",
    "You may assume k is always valid, 1 ≤ k ≤ n2."
   ]
  },
  {
   "cell_type": "code",
   "execution_count": 2,
   "metadata": {},
   "outputs": [
    {
     "data": {
      "text/plain": [
       "13"
      ]
     },
     "execution_count": 2,
     "metadata": {},
     "output_type": "execute_result"
    }
   ],
   "source": [
    "class Solution(object):\n",
    "    def kthSmallest(self, matrix, k):\n",
    "        \"\"\"\n",
    "        :type matrix: List[List[int]]\n",
    "        :type k: int\n",
    "        :rtype: int\n",
    "        \"\"\"\n",
    "        if not matrix:\n",
    "            return \n",
    "        array = []\n",
    "        for i in range(len(matrix)):\n",
    "            array += matrix[i]\n",
    "        array.sort()\n",
    "        return array[k-1]\n",
    "        \n",
    "matrix = [\n",
    "   [ 1,  5,  9],\n",
    "   [10, 11, 13],\n",
    "   [12, 13, 15]\n",
    "]\n",
    "k = 8\n",
    "Solution().kthSmallest(matrix, k)"
   ]
  },
  {
   "cell_type": "code",
   "execution_count": 1,
   "metadata": {},
   "outputs": [
    {
     "data": {
      "text/plain": [
       "13"
      ]
     },
     "execution_count": 1,
     "metadata": {},
     "output_type": "execute_result"
    }
   ],
   "source": [
    "# use heap\n",
    "class Solution(object):\n",
    "    def kthSmallest(self, matrix, k):\n",
    "        \"\"\"\n",
    "        :type matrix: List[List[int]]\n",
    "        :type k: int\n",
    "        :rtype: int\n",
    "        \"\"\"\n",
    "        from heapq import heappush, heappop\n",
    "        a = []\n",
    "        for j in range(len(matrix[0])):\n",
    "            heappush(a, (matrix[0][j], 0, j))\n",
    "            \n",
    "        count = 0\n",
    "        while count < k:\n",
    "            cur, i, j = heappop(a)\n",
    "            count += 1\n",
    "            if count == k:\n",
    "                return cur\n",
    "            if i+1 < len(matrix):\n",
    "                heappush(a, (matrix[i+1][j], i+1, j))\n",
    "        \n",
    "matrix = [\n",
    "   [ 1,  5,  9],\n",
    "   [10, 11, 13],\n",
    "   [12, 13, 15]\n",
    "]\n",
    "k = 8\n",
    "Solution().kthSmallest(matrix, k)"
   ]
  },
  {
   "cell_type": "code",
   "execution_count": 5,
   "metadata": {},
   "outputs": [
    {
     "data": {
      "text/plain": [
       "13"
      ]
     },
     "execution_count": 5,
     "metadata": {},
     "output_type": "execute_result"
    }
   ],
   "source": [
    "# binary search\n",
    "class Solution(object):\n",
    "    def kthSmallest(self, matrix, k):\n",
    "        \"\"\"\n",
    "        :type matrix: List[List[int]]\n",
    "        :type k: int\n",
    "        :rtype: int\n",
    "        \"\"\"\n",
    "        def lesseq(matrix, n):\n",
    "            i, j = len(matrix)-1, 0\n",
    "            res = 0\n",
    "            while i >= 0 and j < len(matrix[0]):\n",
    "                if matrix[i][j] > n:\n",
    "                    i -= 1\n",
    "                else:\n",
    "                    res += i+1\n",
    "                    j += 1\n",
    "            return res\n",
    "        \n",
    "        lo, hi = matrix[0][0], matrix[-1][-1]\n",
    "        count = 0\n",
    "        while lo <= hi:\n",
    "            mid = (lo + hi) // 2\n",
    "            count = lesseq(matrix, mid)\n",
    "            if count < k:\n",
    "                lo = mid + 1\n",
    "            else:\n",
    "                hi = mid - 1\n",
    "        return lo\n",
    "        \n",
    "matrix = [\n",
    "   [ 1,  5,  9],\n",
    "   [10, 11, 13],\n",
    "   [12, 13, 15]\n",
    "]\n",
    "k = 8\n",
    "Solution().kthSmallest(matrix, k)"
   ]
  }
 ],
 "metadata": {
  "kernelspec": {
   "display_name": "Python 3",
   "language": "python",
   "name": "python3"
  },
  "language_info": {
   "codemirror_mode": {
    "name": "ipython",
    "version": 3
   },
   "file_extension": ".py",
   "mimetype": "text/x-python",
   "name": "python",
   "nbconvert_exporter": "python",
   "pygments_lexer": "ipython3",
   "version": "3.5.1"
  }
 },
 "nbformat": 4,
 "nbformat_minor": 2
}
