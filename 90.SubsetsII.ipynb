{
 "cells": [
  {
   "cell_type": "code",
   "execution_count": 5,
   "metadata": {},
   "outputs": [
    {
     "name": "stdout",
     "output_type": "stream",
     "text": [
      "[[]]\n",
      "[[], [1]]\n",
      "[[], [1], [1, 1]]\n",
      "[[], [1], [1, 1], [1, 1, 2]]\n",
      "[[], [1], [1, 1], [1, 1, 2], [1, 1, 2, 2]]\n",
      "[[], [1], [1, 1], [1, 1, 2], [1, 1, 2, 2], [1, 2]]\n",
      "[[], [1], [1, 1], [1, 1, 2], [1, 1, 2, 2], [1, 2], [1, 2, 2]]\n",
      "[[], [1], [1, 1], [1, 1, 2], [1, 1, 2, 2], [1, 2], [1, 2, 2], [2]]\n",
      "[[], [1], [1, 1], [1, 1, 2], [1, 1, 2, 2], [1, 2], [1, 2, 2], [2], [2, 2]]\n"
     ]
    },
    {
     "data": {
      "text/plain": [
       "[[], [1], [1, 1], [1, 1, 2], [1, 1, 2, 2], [1, 2], [1, 2, 2], [2], [2, 2]]"
      ]
     },
     "execution_count": 5,
     "metadata": {},
     "output_type": "execute_result"
    }
   ],
   "source": [
    "# 解题思路：本题跟之前做过的一道Leetcode78. Subsets非常相似。也是列出所有子集的集合，但是两题不同之处在于这个是升级版，是可能出现重复数字的。\n",
    "# 解题的方法应该还是用DFS来处理，只不过在处理重复数字上需要一些办法。一开始想到的做法是在深度优先的循环里做一个判断，如果集合中的当前数字跟\n",
    "# 他的前一个数字是一样的，那就跳过，不把该数字加入到子集中，直接进入循环的下一步。但是在运行的过程中出错了。原因是有可能会出现以下情况，就拿\n",
    "# 题目给的例子来说吧。如果子集中已有的数字是1，则nums集合中还剩下[2,2]，如果按照nums[i]==nums[i-1]就跳出循环的话，在Python中nums[-1]等于该集\n",
    "# 合的最后一个元素，这种情况下第一个2被跳过，这样就无法出现子集[1,2,2]。后来经过尝试，增加一个判断，不仅是当前数字等于前一个数字，还要当前数\n",
    "# 字不是剩余数组中的第一个数字，才跳过，如果是第一个数字，就不跳过，这样就不会出现跳过第一个2的情况。\n",
    "\n",
    "class Solution(object):\n",
    "    def subsetsWithDup(self, nums):\n",
    "        \"\"\"\n",
    "        :type nums: List[int]\n",
    "        :rtype: List[List[int]]\n",
    "        \"\"\"\n",
    "        res = []\n",
    "        if len(nums) == 0:\n",
    "            return [[]]\n",
    "        \n",
    "        nums.sort()\n",
    "        self.dfs(res, nums, 0, [])\n",
    "        return res\n",
    "        \n",
    "    def dfs(self, res, nums, pos, tmp):\n",
    "        res.append(list(tmp))\n",
    "        print(res)\n",
    "        \n",
    "        for i in range(pos, len(nums)):\n",
    "            if i > pos and nums[i-1] == nums[i]:\n",
    "                continue\n",
    "            else:\n",
    "                tmp.append(nums[i])\n",
    "                self.dfs(res, nums, i+1, tmp)\n",
    "                tmp.pop()\n",
    "        \n",
    "# nums = [1,2,2]\n",
    "# nums = [0]\n",
    "nums = [1,1,2,2]\n",
    "res = Solution().subsetsWithDup(nums)\n",
    "res"
   ]
  },
  {
   "cell_type": "code",
   "execution_count": 54,
   "metadata": {},
   "outputs": [
    {
     "data": {
      "text/plain": [
       "[[], [1], [1, 1], [1, 1, 2], [1, 1, 2, 2], [1, 2], [1, 2, 2], [2], [2, 2]]"
      ]
     },
     "execution_count": 54,
     "metadata": {},
     "output_type": "execute_result"
    }
   ],
   "source": [
    "class Solution(object):\n",
    "    def subsetsWithDup(self, nums):\n",
    "        \"\"\"\n",
    "        :type nums: List[int]\n",
    "        :rtype: List[List[int]]\n",
    "        \"\"\"\n",
    "        res = []\n",
    "        if len(nums) == 0:\n",
    "            return [[]]\n",
    "        \n",
    "        nums.sort()\n",
    "        self.dfs(res, nums, 0, [])\n",
    "        return res\n",
    "        \n",
    "    def dfs(self, res, nums, pos, tmp):\n",
    "        if tmp not in res:\n",
    "            res.append(list(tmp))\n",
    "        \n",
    "        for i in range(pos, len(nums)):\n",
    "            tmp.append(nums[i])\n",
    "            self.dfs(res, nums, i+1, tmp)\n",
    "            tmp.pop()           \n",
    "        \n",
    "# nums = [1,2,2]\n",
    "# nums = [0]\n",
    "nums = [1,1,2,2]\n",
    "res = Solution().subsetsWithDup(nums)\n",
    "res"
   ]
  },
  {
   "cell_type": "code",
   "execution_count": 7,
   "metadata": {},
   "outputs": [
    {
     "name": "stdout",
     "output_type": "stream",
     "text": [
      "[[], [1]]\n",
      "[[], [1], [1, 1]]\n",
      "[[], [1], [1, 1], [2], [1, 2], [1, 1, 2]]\n",
      "[[], [1], [1, 1], [2], [1, 2], [1, 1, 2], [2, 2], [1, 2, 2], [1, 1, 2, 2]]\n"
     ]
    },
    {
     "data": {
      "text/plain": [
       "[[], [1], [1, 1], [2], [1, 2], [1, 1, 2], [2, 2], [1, 2, 2], [1, 1, 2, 2]]"
      ]
     },
     "execution_count": 7,
     "metadata": {},
     "output_type": "execute_result"
    }
   ],
   "source": [
    "class Solution:\n",
    "    # @param num, a list of integer\n",
    "    # @return a list of lists of integer\n",
    "    def subsetsWithDup(self, S):\n",
    "        res = [[]]\n",
    "        S.sort()\n",
    "        for i in range(len(S)):\n",
    "            if i == 0 or S[i] != S[i - 1]: \n",
    "                l = len(res)\n",
    "            length = len(res)\n",
    "            res += [item+[S[i]] for item in res[length-l:]]\n",
    "            print(res)\n",
    "\n",
    "        return res\n",
    "\n",
    "nums = [1,1,2,2]\n",
    "res = Solution().subsetsWithDup(nums)\n",
    "res"
   ]
  },
  {
   "cell_type": "code",
   "execution_count": null,
   "metadata": {
    "collapsed": true
   },
   "outputs": [],
   "source": []
  }
 ],
 "metadata": {
  "kernelspec": {
   "display_name": "Python 3",
   "language": "python",
   "name": "python3"
  },
  "language_info": {
   "codemirror_mode": {
    "name": "ipython",
    "version": 3
   },
   "file_extension": ".py",
   "mimetype": "text/x-python",
   "name": "python",
   "nbconvert_exporter": "python",
   "pygments_lexer": "ipython3",
   "version": "3.5.2"
  }
 },
 "nbformat": 4,
 "nbformat_minor": 2
}
