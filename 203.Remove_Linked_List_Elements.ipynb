{
 "cells": [
  {
   "cell_type": "code",
   "execution_count": null,
   "metadata": {
    "collapsed": true
   },
   "outputs": [],
   "source": [
    "Question:\n",
    "Remove all elements from a linked list of integers that have value val.\n",
    "Example\n",
    "Given: 1 --> 2 --> 6 --> 3 --> 4 --> 5 --> 6, val = 6\n",
    "Return: 1 --> 2 --> 3 --> 4 --> 5"
   ]
  },
  {
   "cell_type": "code",
   "execution_count": 7,
   "metadata": {},
   "outputs": [
    {
     "name": "stdout",
     "output_type": "stream",
     "text": [
      "1 1 \n",
      "\n"
     ]
    }
   ],
   "source": [
    "# Definition for singly-linked list.\n",
    "class ListNode(object):\n",
    "    def __init__(self, x):\n",
    "        self.val = x\n",
    "        self.next = None\n",
    "\n",
    "class Solution(object):\n",
    "    def removeElements(self, head, val):\n",
    "        \"\"\"\n",
    "        :type head: ListNode\n",
    "        :type val: int\n",
    "        :rtype: ListNode\n",
    "        \"\"\"\n",
    "        dummy = ListNode(0)\n",
    "        dummy.next, p = head, dummy\n",
    "        while p and p.next:\n",
    "            if p.next.val == val:\n",
    "                p.next = p.next.next\n",
    "            else:\n",
    "                p = p.next\n",
    "        return dummy.next\n",
    "        \n",
    "head = ListNode(1);p = head;\n",
    "p.next = ListNode(1);p = p.next\n",
    "# p.next = ListNode(6);p = p.next\n",
    "# p.next = ListNode(3);p = p.next\n",
    "# p.next = ListNode(4);p = p.next\n",
    "# p.next = ListNode(6)\n",
    "\n",
    "p = head\n",
    "while p:\n",
    "    print(p.val, end = \" \");p = p.next\n",
    "print(\"\\n\")\n",
    "head = Solution().removeElements(head, 1)\n",
    "p = head\n",
    "while p:\n",
    "    print(p.val, end = \" \");p = p.next"
   ]
  },
  {
   "cell_type": "code",
   "execution_count": null,
   "metadata": {
    "collapsed": true
   },
   "outputs": [],
   "source": [
    "class Solution(object):\n",
    "    def removeElements(self, head, val):\n",
    "        \"\"\"\n",
    "        :type head: ListNode\n",
    "        :type val: int\n",
    "        :rtype: ListNode\n",
    "        \"\"\"\n",
    "        helper = ListNode(0)\n",
    "        helper.next = head\n",
    "        slow = helper\n",
    "        fast = head\n",
    "        \n",
    "        while(fast):\n",
    "            if(fast.val != val):\n",
    "                slow.next = fast\n",
    "                slow = slow.next\n",
    "            fast = fast.next\n",
    "        slow.next = None\n",
    "        return helper.next"
   ]
  }
 ],
 "metadata": {
  "kernelspec": {
   "display_name": "Python 3",
   "language": "python",
   "name": "python3"
  },
  "language_info": {
   "codemirror_mode": {
    "name": "ipython",
    "version": 3
   },
   "file_extension": ".py",
   "mimetype": "text/x-python",
   "name": "python",
   "nbconvert_exporter": "python",
   "pygments_lexer": "ipython3",
   "version": "3.5.2"
  }
 },
 "nbformat": 4,
 "nbformat_minor": 2
}
