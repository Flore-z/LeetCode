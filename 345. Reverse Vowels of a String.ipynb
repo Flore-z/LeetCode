{
 "cells": [
  {
   "cell_type": "code",
   "execution_count": null,
   "metadata": {
    "collapsed": true
   },
   "outputs": [],
   "source": [
    "Question：\n",
    "Write a function that takes a string as input and reverse only the vowels of a string.\n",
    "\n",
    "Example 1:\n",
    "Given s = \"hello\", return \"holle\".\n",
    "\n",
    "Example 2:\n",
    "Given s = \"leetcode\", return \"leotcede\".\n",
    "\n",
    "Note:\n",
    "The vowels does not include the letter \"y\"."
   ]
  },
  {
   "cell_type": "code",
   "execution_count": 7,
   "metadata": {},
   "outputs": [
    {
     "data": {
      "text/plain": [
       "'Aa'"
      ]
     },
     "execution_count": 7,
     "metadata": {},
     "output_type": "execute_result"
    }
   ],
   "source": [
    "# two pointers\n",
    "class Solution(object):\n",
    "    def reverseVowels(self, s):\n",
    "        \"\"\"\n",
    "        :type s: str\n",
    "        :rtype: str\n",
    "        \"\"\"\n",
    "#         vowels = ['a','e','i','o','u','A','E','I','O','U']\n",
    "        vowels = \"aeiouAEIOU\"\n",
    "        i, j = 0, len(s)-1\n",
    "        ss, vowels = list(s), set(vowels)\n",
    "        while i < j:\n",
    "            while ss[i] not in vowels and i < j:\n",
    "                i += 1\n",
    "            while ss[j] not in vowels and i < j:\n",
    "                j -= 1\n",
    "            ss[i], ss[j] = ss[j], ss[i]\n",
    "            i, j = i+1, j-1\n",
    "        return \"\".join(ss)\n",
    "                \n",
    "s = \"hello\"\n",
    "s = \"aA\"\n",
    "Solution().reverseVowels(s)"
   ]
  },
  {
   "cell_type": "code",
   "execution_count": 10,
   "metadata": {},
   "outputs": [
    {
     "name": "stdout",
     "output_type": "stream",
     "text": [
      "[1, 2, 5, 7]\n"
     ]
    },
    {
     "data": {
      "text/plain": [
       "'leotcede'"
      ]
     },
     "execution_count": 10,
     "metadata": {},
     "output_type": "execute_result"
    }
   ],
   "source": [
    "class Solution(object):\n",
    "    \n",
    "    VOWELS = set(['a', 'e', 'i', 'o', 'u', 'A', 'E', 'I', 'O', 'U'])\n",
    "    \n",
    "    def reverseVowels(self, s):\n",
    "        \"\"\"\n",
    "        :type s: str\n",
    "        :rtype: str\n",
    "        \"\"\"\n",
    "        s_arr = list(s)\n",
    "        vowels_ind = [i for i, char in enumerate(s_arr) if char in Solution.VOWELS]\n",
    "        print(vowels_ind)\n",
    "        for i in range(len(vowels_ind) // 2):\n",
    "            tmp_char = s_arr[vowels_ind[i]]\n",
    "            s_arr[vowels_ind[i]] = s_arr[vowels_ind[len(vowels_ind) - i - 1]]\n",
    "            s_arr[vowels_ind[len(vowels_ind) - i - 1]] = tmp_char\n",
    "        \n",
    "        return ''.join(s_arr)\n",
    "    \n",
    "s = \"leetcode\"\n",
    "Solution().reverseVowels(s)"
   ]
  }
 ],
 "metadata": {
  "kernelspec": {
   "display_name": "Python 3",
   "language": "python",
   "name": "python3"
  },
  "language_info": {
   "codemirror_mode": {
    "name": "ipython",
    "version": 3
   },
   "file_extension": ".py",
   "mimetype": "text/x-python",
   "name": "python",
   "nbconvert_exporter": "python",
   "pygments_lexer": "ipython3",
   "version": "3.5.2"
  }
 },
 "nbformat": 4,
 "nbformat_minor": 2
}
