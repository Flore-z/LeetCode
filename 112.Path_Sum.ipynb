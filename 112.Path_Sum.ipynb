{
 "cells": [
  {
   "cell_type": "code",
   "execution_count": 4,
   "metadata": {},
   "outputs": [
    {
     "name": "stdout",
     "output_type": "stream",
     "text": [
      "3 9 20 15 6 7 "
     ]
    },
    {
     "data": {
      "text/plain": [
       "True"
      ]
     },
     "execution_count": 4,
     "metadata": {},
     "output_type": "execute_result"
    }
   ],
   "source": [
    "# Definition for a binary tree node.\n",
    "class TreeNode(object):\n",
    "    def __init__(self, x):\n",
    "        self.val = x\n",
    "        self.left = None\n",
    "        self.right = None\n",
    "\n",
    "class Solution(object):\n",
    "    def hasPathSum(self, root, sum):\n",
    "        \"\"\"\n",
    "        :type root: TreeNode\n",
    "        :type sum: int\n",
    "        :rtype: bool\n",
    "        \"\"\"\n",
    "        if not root:\n",
    "            return False\n",
    "        if root.val == sum and not root.left and not root.right:\n",
    "            return True\n",
    "        return self.hasPathSum(root.left, sum-root.val) or self.hasPathSum(root.right, sum-root.val)\n",
    "\n",
    "    def preOrder(self, root):\n",
    "        if not root:\n",
    "            return\n",
    "        print(root.val, end = ' ')\n",
    "        self.preOrder(root.left)\n",
    "        self.preOrder(root.right)\n",
    "        \n",
    "root = TreeNode(3)\n",
    "root.left = TreeNode(9);q = root.left\n",
    "# q.left = TreeNode(1);q.right = TreeNode(2)\n",
    "root.right = TreeNode(20); p = root.right\n",
    "p.left = TreeNode(15);p.right = TreeNode(7);\n",
    "p = p.left;p.right = TreeNode(6)\n",
    "\n",
    "Solution().preOrder(root)\n",
    "Solution().hasPathSum(root, 30)"
   ]
  },
  {
   "cell_type": "code",
   "execution_count": null,
   "metadata": {
    "collapsed": true
   },
   "outputs": [],
   "source": []
  }
 ],
 "metadata": {
  "kernelspec": {
   "display_name": "Python 3",
   "language": "python",
   "name": "python3"
  },
  "language_info": {
   "codemirror_mode": {
    "name": "ipython",
    "version": 3
   },
   "file_extension": ".py",
   "mimetype": "text/x-python",
   "name": "python",
   "nbconvert_exporter": "python",
   "pygments_lexer": "ipython3",
   "version": "3.5.2"
  }
 },
 "nbformat": 4,
 "nbformat_minor": 2
}
