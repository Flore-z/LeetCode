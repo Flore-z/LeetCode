{
 "cells": [
  {
   "cell_type": "code",
   "execution_count": 14,
   "metadata": {},
   "outputs": [
    {
     "data": {
      "text/plain": [
       "[[], [1], [2], [3], [1, 2], [1, 3], [2, 3], [1, 2, 3]]"
      ]
     },
     "execution_count": 14,
     "metadata": {},
     "output_type": "execute_result"
    }
   ],
   "source": [
    "from itertools import combinations\n",
    "class Solution(object):\n",
    "    def subsets(self, nums):\n",
    "        \"\"\"\n",
    "        :type nums: List[int]\n",
    "        :rtype: List[List[int]]\n",
    "        \"\"\"\n",
    "        if type(nums) != list:\n",
    "            return\n",
    "        \n",
    "        result = [[]]\n",
    "        for i in range(len(nums)):\n",
    "            k = i+1\n",
    "            l = list(combinations(nums,k))\n",
    "            for j in range(len(l)):\n",
    "                result.append(list(l[j]))\n",
    "                \n",
    "        return result\n",
    "\n",
    "res = Solution().subsets([1,2,3])\n",
    "res"
   ]
  },
  {
   "cell_type": "code",
   "execution_count": 16,
   "metadata": {},
   "outputs": [
    {
     "name": "stdout",
     "output_type": "stream",
     "text": [
      "[[], [1]]\n",
      "[[], [1], [2], [1, 2]]\n",
      "[[], [1], [2], [1, 2], [3], [1, 3], [2, 3], [1, 2, 3]]\n"
     ]
    },
    {
     "data": {
      "text/plain": [
       "[[], [1], [2], [1, 2], [3], [1, 3], [2, 3], [1, 2, 3]]"
      ]
     },
     "execution_count": 16,
     "metadata": {},
     "output_type": "execute_result"
    }
   ],
   "source": [
    "class Solution(object):\n",
    "    def subsets(self, nums):\n",
    "        \"\"\"\n",
    "        :type nums: List[int]\n",
    "        :rtype: List[List[int]]\n",
    "        \"\"\"\n",
    "        res = [[]]\n",
    "        for num in sorted(nums):\n",
    "            res += [item+[num] for item in res]\n",
    "            print(res)\n",
    "        return res\n",
    "\n",
    "\n",
    "res = Solution().subsets([1,2,3])\n",
    "res"
   ]
  },
  {
   "cell_type": "code",
   "execution_count": 4,
   "metadata": {},
   "outputs": [
    {
     "name": "stdout",
     "output_type": "stream",
     "text": [
      "[[]]\n",
      "[[], [1]]\n",
      "[[], [1], [1, 2]]\n",
      "[[], [1], [1, 2], [1, 2, 3]]\n",
      "[[], [1], [1, 2], [1, 2, 3], [1, 3]]\n",
      "[[], [1], [1, 2], [1, 2, 3], [1, 3], [2]]\n",
      "[[], [1], [1, 2], [1, 2, 3], [1, 3], [2], [2, 3]]\n",
      "[[], [1], [1, 2], [1, 2, 3], [1, 3], [2], [2, 3], [3]]\n"
     ]
    },
    {
     "data": {
      "text/plain": [
       "[[], [1], [1, 2], [1, 2, 3], [1, 3], [2], [2, 3], [3]]"
      ]
     },
     "execution_count": 4,
     "metadata": {},
     "output_type": "execute_result"
    }
   ],
   "source": [
    "class Solution(object):\n",
    "    def subsets(self, nums):\n",
    "        \"\"\"\n",
    "        :type nums: List[int]\n",
    "        :rtype: List[List[int]]\n",
    "        \"\"\"\n",
    "        if not nums:\n",
    "            return [[]]\n",
    "        nums.sort()\n",
    "        res =[]\n",
    "        self.dfs(res, [], nums, 0)\n",
    "        return res\n",
    "    \n",
    "    def dfs(self, res, tmp, nums, pos):\n",
    "        tmpList = list(tmp)\n",
    "        res.append(tmpList)\n",
    "        print(res)\n",
    "\n",
    "        for i in range(pos, len(nums)):\n",
    "            tmp.append(nums[i])            \n",
    "            self.dfs(res, tmp, nums, i+1)\n",
    "            tmp.pop()\n",
    "            \n",
    "res = Solution().subsets([1,2,3])\n",
    "res"
   ]
  },
  {
   "cell_type": "code",
   "execution_count": null,
   "metadata": {
    "collapsed": true
   },
   "outputs": [],
   "source": []
  }
 ],
 "metadata": {
  "kernelspec": {
   "display_name": "Python 3",
   "language": "python",
   "name": "python3"
  },
  "language_info": {
   "codemirror_mode": {
    "name": "ipython",
    "version": 3
   },
   "file_extension": ".py",
   "mimetype": "text/x-python",
   "name": "python",
   "nbconvert_exporter": "python",
   "pygments_lexer": "ipython3",
   "version": "3.5.2"
  }
 },
 "nbformat": 4,
 "nbformat_minor": 2
}
