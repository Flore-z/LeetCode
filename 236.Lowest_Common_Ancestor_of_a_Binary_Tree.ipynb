{
 "cells": [
  {
   "cell_type": "code",
   "execution_count": null,
   "metadata": {
    "collapsed": true
   },
   "outputs": [],
   "source": [
    "Question:\n",
    "Given a binary tree, find the lowest common ancestor (LCA) of two given nodes in the tree.\n",
    "\n",
    "According to the definition of LCA on Wikipedia: “The lowest common ancestor is defined between two nodes v \n",
    "and w as the lowest node in T that has both v and w as descendants (where we allow a node to be a descendant\n",
    "of itself).”\n",
    "\n",
    "        _______3______\n",
    "       /              \\\n",
    "    ___5__          ___1__\n",
    "   /      \\        /      \\\n",
    "   6      _2       0       8\n",
    "         /  \\\n",
    "         7   4\n",
    "For example, the lowest common ancestor (LCA) of nodes 5 and 1 is 3. Another example is LCA of nodes 5 and 4 is \n",
    "5, since a node can be a descendant of itself according to the LCA definition."
   ]
  },
  {
   "cell_type": "code",
   "execution_count": 1,
   "metadata": {},
   "outputs": [
    {
     "name": "stdout",
     "output_type": "stream",
     "text": [
      "2 7\n",
      "6\n"
     ]
    }
   ],
   "source": [
    "# Definition for a binary tree node.\n",
    "class TreeNode(object):\n",
    "    def __init__(self, x):\n",
    "        self.val = x\n",
    "        self.left = None\n",
    "        self.right = None\n",
    "\n",
    "class Solution(object):\n",
    "    def lowestCommonAncestor(self, root, p, q):\n",
    "        \"\"\"\n",
    "        :type root: TreeNode\n",
    "        :type p: TreeNode\n",
    "        :type q: TreeNode\n",
    "        :rtype: TreeNode\n",
    "        \"\"\"\n",
    "        def isIn(root, p):\n",
    "            if not root:\n",
    "                return False\n",
    "            if root == p:\n",
    "                return True\n",
    "            return isIn(root.left, p) or isIn(root.right, p)\n",
    "\n",
    "        if isIn(p, q):\n",
    "            return p\n",
    "        if isIn(q, p):\n",
    "            return q\n",
    "            \n",
    "        while root:\n",
    "            if not root or root == p or root == q:\n",
    "                return root\n",
    "            if isIn(root.left, p) and isIn(root.left, q):\n",
    "                root = root.left\n",
    "            elif isIn(root.right, p) and isIn(root.right, q):\n",
    "                root = root.right\n",
    "            else:\n",
    "                return root\n",
    "        \n",
    "root = TreeNode(6)\n",
    "root.left = TreeNode(2);p = root.left;a = p\n",
    "root.right = TreeNode(8);q = root.right\n",
    "p.left = TreeNode(0)\n",
    "p.right = TreeNode(4);p = p.right\n",
    "q.left = TreeNode(7);b = q.left\n",
    "q.right = TreeNode(9)\n",
    "p.left = TreeNode(3)\n",
    "p.right = TreeNode(5)\n",
    "\n",
    "p, q = a, b\n",
    "print(p.val, q.val)\n",
    "res = Solution().lowestCommonAncestor(root, p, q)\n",
    "print(res.val)"
   ]
  },
  {
   "cell_type": "code",
   "execution_count": 3,
   "metadata": {},
   "outputs": [
    {
     "name": "stdout",
     "output_type": "stream",
     "text": [
      "5 8\n",
      "3\n"
     ]
    }
   ],
   "source": [
    "# Definition for a binary tree node.\n",
    "class TreeNode(object):\n",
    "    def __init__(self, x):\n",
    "        self.val = x\n",
    "        self.left = None\n",
    "        self.right = None\n",
    "\n",
    "class Solution(object):\n",
    "    def lowestCommonAncestor(self, root, p, q):\n",
    "        \"\"\"\n",
    "        :type root: TreeNode\n",
    "        :type p: TreeNode\n",
    "        :type q: TreeNode\n",
    "        :rtype: TreeNode\n",
    "        \"\"\"\n",
    "        if root == None:\n",
    "            return None\n",
    "        if root == p or root ==q :\n",
    "            return root\n",
    "        left = self.lowestCommonAncestor(root.left, p, q)\n",
    "        right = self.lowestCommonAncestor(root.right, p ,q)\n",
    "        if left and right:\n",
    "            return root\n",
    "        if left:\n",
    "            return left\n",
    "        else:\n",
    "            return right\n",
    "\n",
    "root = TreeNode(3)\n",
    "root.left = TreeNode(5);p = root.left;a = p\n",
    "root.right = TreeNode(1);q = root.right\n",
    "p.left = TreeNode(6)\n",
    "p.right = TreeNode(2);p = p.right\n",
    "q.left = TreeNode(0)\n",
    "q.right = TreeNode(8);b = q.right\n",
    "p.left = TreeNode(7)\n",
    "p.right = TreeNode(4)\n",
    "\n",
    "p, q = a, b\n",
    "print(p.val, q.val)\n",
    "res = Solution().lowestCommonAncestor(root, p, q)\n",
    "print(res.val)"
   ]
  }
 ],
 "metadata": {
  "kernelspec": {
   "display_name": "Python 3",
   "language": "python",
   "name": "python3"
  },
  "language_info": {
   "codemirror_mode": {
    "name": "ipython",
    "version": 3
   },
   "file_extension": ".py",
   "mimetype": "text/x-python",
   "name": "python",
   "nbconvert_exporter": "python",
   "pygments_lexer": "ipython3",
   "version": "3.5.2"
  }
 },
 "nbformat": 4,
 "nbformat_minor": 2
}
