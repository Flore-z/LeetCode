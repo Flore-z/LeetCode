{
 "cells": [
  {
   "cell_type": "code",
   "execution_count": 8,
   "metadata": {},
   "outputs": [
    {
     "data": {
      "text/plain": [
       "[[3], [30, 6], [1, 2, 10, 5]]"
      ]
     },
     "execution_count": 8,
     "metadata": {},
     "output_type": "execute_result"
    }
   ],
   "source": [
    "# Definition for a binary tree node.\n",
    "class TreeNode(object):\n",
    "    def __init__(self, x):\n",
    "        self.val = x\n",
    "        self.left = None\n",
    "        self.right = None\n",
    "\n",
    "class Solution(object):\n",
    "    def zigzagLevelOrder(self, root):\n",
    "        \"\"\"\n",
    "        :type root: TreeNode\n",
    "        :rtype: List[List[int]]\n",
    "        \"\"\"\n",
    "        if not root:\n",
    "            return []\n",
    "        res = []\n",
    "        stk = [root]\n",
    "        leftFlg = 0\n",
    "        while stk:\n",
    "            tmp = [x.val for x in stk]\n",
    "            l = len(tmp)\n",
    "            while  l> 0:\n",
    "                p = stk.pop(0)\n",
    "                if p.left:\n",
    "                    stk.append(p.left)\n",
    "                if p.right:\n",
    "                    stk.append(p.right)\n",
    "                l -= 1\n",
    "            if leftFlg:\n",
    "                tmp.reverse()\n",
    "            leftFlg = 1 - leftFlg\n",
    "            if tmp != []:\n",
    "                res.append(tmp)\n",
    "\n",
    "        return res\n",
    "    \n",
    "root = TreeNode(3)\n",
    "root.left = TreeNode(6);q = root.left\n",
    "q.left = TreeNode(1);q.right = TreeNode(2)\n",
    "root.right = TreeNode(30); p = root.right\n",
    "p.left = TreeNode(10);p.right = TreeNode(5)\n",
    "\n",
    "Solution().zigzagLevelOrder(root)\n",
    "            "
   ]
  },
  {
   "cell_type": "code",
   "execution_count": null,
   "metadata": {
    "collapsed": true
   },
   "outputs": [],
   "source": [
    "# Definition for a binary tree node.\n",
    "# class TreeNode(object):\n",
    "#     def __init__(self, x):\n",
    "#         self.val = x\n",
    "#         self.left = None\n",
    "#         self.right = None\n",
    "\n",
    "class Solution(object):\n",
    "    def zigzagLevelOrder(self, root):\n",
    "        \"\"\"\n",
    "        :type root: TreeNode\n",
    "        :rtype: List[List[int]]\n",
    "        \"\"\"\n",
    "        if not root: return []\n",
    "        result = []\n",
    "        level = [root]\n",
    "        even = 0\n",
    "        while level:\n",
    "            if even: result.append([n.val for n in level][::-1])\n",
    "            else: result.append([n.val for n in level])\n",
    "            even = 1 - even\n",
    "            level = [child for n in level for child in (n.left, n.right) if child]\n",
    "        return result"
   ]
  }
 ],
 "metadata": {
  "kernelspec": {
   "display_name": "Python 3",
   "language": "python",
   "name": "python3"
  },
  "language_info": {
   "codemirror_mode": {
    "name": "ipython",
    "version": 3
   },
   "file_extension": ".py",
   "mimetype": "text/x-python",
   "name": "python",
   "nbconvert_exporter": "python",
   "pygments_lexer": "ipython3",
   "version": "3.5.2"
  }
 },
 "nbformat": 4,
 "nbformat_minor": 2
}
