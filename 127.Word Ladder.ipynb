{
 "cells": [
  {
   "cell_type": "code",
   "execution_count": null,
   "metadata": {
    "collapsed": true
   },
   "outputs": [],
   "source": [
    "Question：\n",
    "Given two words (beginWord and endWord), and a dictionary's word list, find the length of shortest transformation \n",
    "sequence from beginWord to endWord, such that:\n",
    "1.\tOnly one letter can be changed at a time.\n",
    "2.\tEach transformed word must exist in the word list. Note that beginWord is not a transformed word.\n",
    "For example,\n",
    "Given:\n",
    "beginWord = \"hit\"\n",
    "endWord = \"cog\"\n",
    "wordList = [\"hot\",\"dot\",\"dog\",\"lot\",\"log\",\"cog\"]\n",
    "As one shortest transformation is \"hit\" -> \"hot\" -> \"dot\" -> \"dog\" -> \"cog\",\n",
    "return its length 5.\n",
    "Note:\n",
    "•\tReturn 0 if there is no such transformation sequence.\n",
    "•\tAll words have the same length.\n",
    "•\tAll words contain only lowercase alphabetic characters.\n",
    "•\tYou may assume no duplicates in the word list.\n",
    "•\tYou may assume beginWord and endWord are non-empty and are not the same."
   ]
  },
  {
   "cell_type": "code",
   "execution_count": 1,
   "metadata": {},
   "outputs": [
    {
     "data": {
      "text/plain": [
       "5"
      ]
     },
     "execution_count": 1,
     "metadata": {},
     "output_type": "execute_result"
    }
   ],
   "source": [
    "# Time Limit Exceeded\n",
    "class Solution:\n",
    "    def ladderLength(self, beginWord, endWord, wordList):\n",
    "        \"\"\"\n",
    "        :type beginWord: str\n",
    "        :type endWord: str\n",
    "        :type wordList: List[str]\n",
    "        :rtype: int\n",
    "        \"\"\"\n",
    "        if endWord not in wordList:\n",
    "            return 0\n",
    "        q = [beginWord]\n",
    "        if beginWord in wordList:\n",
    "            wordList.remove(beginWord)\n",
    "        ch = 'abcdefghijklmnopqrstuvwxyz'\n",
    "        dist = 1\n",
    "        while q:\n",
    "            for k in range(len(q)):\n",
    "                word = q.pop(0)   # 注意：从队列头部取字符串\n",
    "                for i in range(len(word)):\n",
    "                    tmp = word\n",
    "                    for j in range(len(ch)):\n",
    "                        if tmp[i] != ch[j]:\n",
    "                            tmp = tmp[:i] + ch[j] + tmp[i+1:]\n",
    "                        if tmp == endWord:\n",
    "                            return dist + 1\n",
    "                        if tmp in wordList:\n",
    "                            wordList.remove(tmp)\n",
    "                            q.append(tmp)\n",
    "            dist += 1\n",
    "        return 0\n",
    "    \n",
    "beginWord = \"hit\"\n",
    "endWord = \"cog\"\n",
    "wordList = [\"hot\",\"dot\",\"dog\",\"lot\",\"log\",\"cog\"]\n",
    "\n",
    "# beginWord = \"hot\"\n",
    "# endWord = \"dog\"\n",
    "# wordList = [\"hot\",\"cog\",\"dog\",\"tot\",\"hog\",\"hop\",\"pot\",\"dot\"]\n",
    "\n",
    "# beginWord = \"hot\"\n",
    "# endWord = \"dog\"\n",
    "# wordList = [\"hot\",\"dog\"]\n",
    "\n",
    "Solution().ladderLength(beginWord, endWord, wordList)"
   ]
  },
  {
   "cell_type": "code",
   "execution_count": 2,
   "metadata": {},
   "outputs": [
    {
     "data": {
      "text/plain": [
       "11"
      ]
     },
     "execution_count": 2,
     "metadata": {},
     "output_type": "execute_result"
    }
   ],
   "source": [
    "class Solution:\n",
    "    def ladderLength(self, beginWord, endWord, wordList):\n",
    "        \"\"\"\n",
    "        :type beginWord: str\n",
    "        :type endWord: str\n",
    "        :type wordList: List[str]\n",
    "        :rtype: int\n",
    "        \"\"\"\n",
    "        wordList = set(wordList)\n",
    "        visited = set()\n",
    "        visited.add(beginWord)\n",
    "        dist = 1\n",
    "\n",
    "        while endWord not in visited:\n",
    "            temp = set()\n",
    "            for word in visited:\n",
    "                for i in range(len(word)):\n",
    "                    chars = list(word)\n",
    "                    for j in range(ord('a'), ord('z') + 1):\n",
    "                        chars[i] = chr(j)\n",
    "                        newWord = ''.join(chars)\n",
    "                        if newWord in wordList:\n",
    "                            temp.add(newWord)\n",
    "                            wordList.remove(newWord)\n",
    "            dist += 1\n",
    "            if len(temp) == 0: # if 0, it never gets to the endWord\n",
    "                return 0\n",
    "            visited = temp\n",
    "        return dist\n",
    "\n",
    "# beginWord = \"hit\"\n",
    "# endWord = \"cog\"\n",
    "# wordList = [\"hot\",\"dot\",\"dog\",\"lot\",\"log\",\"cog\"]\n",
    "\n",
    "# beginWord = \"hot\"\n",
    "# endWord = \"dog\"\n",
    "# wordList = [\"hot\",\"cog\",\"dog\",\"tot\",\"hog\",\"hop\",\"pot\",\"dot\"]\n",
    "\n",
    "# beginWord = \"hot\"\n",
    "# endWord = \"dog\"\n",
    "# wordList = [\"hot\",\"dog\"]\n",
    "\n",
    "Solution().ladderLength(beginWord, endWord, wordList)"
   ]
  }
 ],
 "metadata": {
  "kernelspec": {
   "display_name": "Python 3",
   "language": "python",
   "name": "python3"
  },
  "language_info": {
   "codemirror_mode": {
    "name": "ipython",
    "version": 3
   },
   "file_extension": ".py",
   "mimetype": "text/x-python",
   "name": "python",
   "nbconvert_exporter": "python",
   "pygments_lexer": "ipython3",
   "version": "3.5.2"
  }
 },
 "nbformat": 4,
 "nbformat_minor": 2
}
