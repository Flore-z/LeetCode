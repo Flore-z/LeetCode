{
 "cells": [
  {
   "cell_type": "code",
   "execution_count": null,
   "metadata": {
    "collapsed": true
   },
   "outputs": [],
   "source": [
    "Question:\n",
    "Additive number is a string whose digits can form additive sequence.\n",
    "A valid additive sequence should contain at least three numbers. Except for the first two numbers, each \n",
    "subsequent number in the sequence must be the sum of the preceding two.\n",
    "\n",
    "For example:\n",
    "\"112358\" is an additive number because the digits can form an additive sequence: 1, 1, 2, 3, 5, 8.\n",
    "1 + 1 = 2, 1 + 2 = 3, 2 + 3 = 5, 3 + 5 = 8\n",
    "\"199100199\" is also an additive number, the additive sequence is: 1, 99, 100, 199.\n",
    "1 + 99 = 100, 99 + 100 = 199\n",
    "\n",
    "Note: Numbers in the additive sequence cannot have leading zeros, so sequence 1, 2, 03 or 1, 02, 3 is invalid.\n",
    "Given a string containing only digits '0'-'9', write a function to determine if it's an additive number.\n",
    "\n",
    "Follow up:\n",
    "How would you handle overflow for very large input integers?"
   ]
  },
  {
   "cell_type": "code",
   "execution_count": 1,
   "metadata": {},
   "outputs": [
    {
     "name": "stdout",
     "output_type": "stream",
     "text": [
      "True\n"
     ]
    }
   ],
   "source": [
    "# 用索引i,j划分前两个数，函数isAdditive判断i、j构成的划分能否构成加法序列\n",
    "class Solution(object):\n",
    "    def isAdditiveNumber(self, num):\n",
    "        \"\"\"\n",
    "        :type num: str\n",
    "        :rtype: bool\n",
    "        \"\"\"\n",
    "        if len(num) < 3:\n",
    "            return False\n",
    "\n",
    "        def isAdditive(num, i, j):\n",
    "            if (num[0] == '0' and i>1) or (num[i] == '0' and j-i>1) or \\\n",
    "            (num[j] == '0' and len(num)-j>1):\n",
    "                return False\n",
    "            x, y = int(num[:i]), int(num[i:j])\n",
    "            k = j\n",
    "            while k < len(num):\n",
    "                y = x + y\n",
    "                x = y - x\n",
    "                sum = str(y)\n",
    "##                print(x,y,num[j:j+len(sum)])\n",
    "                if num[j:j+len(sum)] != sum:\n",
    "                    return False\n",
    "                k += len(sum)\n",
    "                j = k\n",
    "            return True\n",
    "\n",
    "        for i in range(1,len(num)//2+1):\n",
    "            for j in range(i+1, len(num)-i+1):\n",
    "                if isAdditive(num, i, j):\n",
    "                    return True\n",
    "        return False\n",
    "                \n",
    "num = \"112358\"\n",
    "num = \"199100199\"\n",
    "num = \"123\"\n",
    "res = Solution().isAdditiveNumber(num)\n",
    "print(res)"
   ]
  }
 ],
 "metadata": {
  "kernelspec": {
   "display_name": "Python 3",
   "language": "python",
   "name": "python3"
  },
  "language_info": {
   "codemirror_mode": {
    "name": "ipython",
    "version": 3
   },
   "file_extension": ".py",
   "mimetype": "text/x-python",
   "name": "python",
   "nbconvert_exporter": "python",
   "pygments_lexer": "ipython3",
   "version": "3.5.2"
  }
 },
 "nbformat": 4,
 "nbformat_minor": 2
}
