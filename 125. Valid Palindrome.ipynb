{
 "cells": [
  {
   "cell_type": "code",
   "execution_count": null,
   "metadata": {
    "collapsed": true
   },
   "outputs": [],
   "source": [
    "Question：\n",
    "Given a string, determine if it is a palindrome, considering only alphanumeric characters and ignoring cases.\n",
    "For example,\n",
    "\"A man, a plan, a canal: Panama\" is a palindrome.\n",
    "\"race a car\" is not a palindrome.\n",
    "Note:\n",
    "Have you consider that the string might be empty? This is a good question to ask during an interview.\n",
    "For the purpose of this problem, we define empty string as valid palindrome."
   ]
  },
  {
   "cell_type": "code",
   "execution_count": 14,
   "metadata": {},
   "outputs": [
    {
     "data": {
      "text/plain": [
       "False"
      ]
     },
     "execution_count": 14,
     "metadata": {},
     "output_type": "execute_result"
    }
   ],
   "source": [
    "class Solution:\n",
    "    def isPalindrome(self, s):\n",
    "        \"\"\"\n",
    "        :type s: str\n",
    "        :rtype: bool\n",
    "        \"\"\"\n",
    "        if s == \"\":\n",
    "            return True\n",
    "        s = s.lower()\n",
    "        n = len(s)\n",
    "        head = 0;rear = n-1\n",
    "        while head < rear:\n",
    "            while not s[head].isalnum() and head < rear:\n",
    "                head += 1\n",
    "            while not s[rear].isalnum() and rear > head:\n",
    "                rear -= 1\n",
    "            if head < rear and s[head] != s[rear]:\n",
    "                return False\n",
    "            else:\n",
    "                head += 1\n",
    "                rear -= 1\n",
    "            \n",
    "        return True\n",
    "    \n",
    "# s = \"A man, a plan, a canal: Panama\"\n",
    "s = \"race a car\"\n",
    "Solution().isPalindrome(s)"
   ]
  },
  {
   "cell_type": "code",
   "execution_count": 15,
   "metadata": {},
   "outputs": [
    {
     "data": {
      "text/plain": [
       "True"
      ]
     },
     "execution_count": 15,
     "metadata": {},
     "output_type": "execute_result"
    }
   ],
   "source": [
    "class Solution:\n",
    "    def isPalindrome(self, s):\n",
    "        \"\"\"\n",
    "        :type s: str\n",
    "        :rtype: bool\n",
    "        \"\"\"\n",
    "        s=s.lower()\n",
    "        low=0\n",
    "        high=len(s)-1\n",
    "        mid=low+(high-low)/2\n",
    "        if s is None:\n",
    "            return False\n",
    "        if len(s)==1:\n",
    "            return True\n",
    "        \n",
    "        while(low<=high):\n",
    "            if ((s[low] >='a' and s[low]<='z')or(s[low] >='0' and s[low]<='9')) :\n",
    "                pass\n",
    "            else:\n",
    "                low+=1\n",
    "                continue\n",
    "            if ((s[high] >='a' and s[high]<='z') or (s[high] >='0' and s[high]<='9')):\n",
    "                pass\n",
    "            else:\n",
    "                high-=1\n",
    "                continue\n",
    "            if s[low]==s[high]:\n",
    "                low+=1\n",
    "                high-=1\n",
    "            else:\n",
    "                return False\n",
    "        return True\n",
    "    \n",
    "s = \"A man, a plan, a canal: Panama\"\n",
    "# s = \"race a car\"\n",
    "Solution().isPalindrome(s)"
   ]
  },
  {
   "cell_type": "code",
   "execution_count": 17,
   "metadata": {},
   "outputs": [
    {
     "data": {
      "text/plain": [
       "True"
      ]
     },
     "execution_count": 17,
     "metadata": {},
     "output_type": "execute_result"
    }
   ],
   "source": [
    "from string import punctuation\n",
    "class Solution:\n",
    "    def isPalindrome(self, s):\n",
    "        \"\"\"\n",
    "        :type s: str\n",
    "        :rtype: bool\n",
    "        \"\"\"\n",
    "        if s == \"\":\n",
    "            return True\n",
    "        s = s.replace(\" \",\"\").casefold()   # lower() is only useful to ASCII, casefold is also useful to Unicode\n",
    "        for p in punctuation:\n",
    "            s = s.replace(p,\"\").casefold()\n",
    "        if s == s[::-1]:\n",
    "            return True\n",
    "        return False\n",
    "    \n",
    "s = \"A man, a plan, a canal: Panama\"\n",
    "# s = \"race a car\"\n",
    "Solution().isPalindrome(s)"
   ]
  }
 ],
 "metadata": {
  "kernelspec": {
   "display_name": "Python 3",
   "language": "python",
   "name": "python3"
  },
  "language_info": {
   "codemirror_mode": {
    "name": "ipython",
    "version": 3
   },
   "file_extension": ".py",
   "mimetype": "text/x-python",
   "name": "python",
   "nbconvert_exporter": "python",
   "pygments_lexer": "ipython3",
   "version": "3.5.2"
  }
 },
 "nbformat": 4,
 "nbformat_minor": 2
}
