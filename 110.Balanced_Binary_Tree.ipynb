{
 "cells": [
  {
   "cell_type": "code",
   "execution_count": 17,
   "metadata": {},
   "outputs": [
    {
     "name": "stdout",
     "output_type": "stream",
     "text": [
      "3 9 20 15 6 7 "
     ]
    },
    {
     "data": {
      "text/plain": [
       "False"
      ]
     },
     "execution_count": 17,
     "metadata": {},
     "output_type": "execute_result"
    }
   ],
   "source": [
    "# Definition for a binary tree node.\n",
    "class TreeNode(object):\n",
    "    def __init__(self, x):\n",
    "        self.val = x\n",
    "        self.left = None\n",
    "        self.right = None\n",
    "\n",
    "class Solution(object):\n",
    "    def isBalanced(self, root):\n",
    "        \"\"\"\n",
    "        :type root: TreeNode\n",
    "        :rtype: bool\n",
    "        \"\"\"\n",
    "        if not root:\n",
    "            return True\n",
    "        \n",
    "        def depth(root):\n",
    "            if not root:\n",
    "                return 0\n",
    "            return max(depth(root.left), depth(root.right)) + 1\n",
    "        \n",
    "        def helper(root):\n",
    "            if not root:\n",
    "                return True\n",
    "            ld = depth(root.left)\n",
    "            rd = depth(root.right)\n",
    "            if abs(ld - rd) > 1:\n",
    "                return False\n",
    "            return helper(root.left) and helper(root.right)\n",
    "        \n",
    "        return helper(root)\n",
    "    \n",
    "    def preOrder(self, root):\n",
    "        if not root:\n",
    "            return\n",
    "        print(root.val, end = ' ')\n",
    "        self.preOrder(root.left)\n",
    "        self.preOrder(root.right)\n",
    "    \n",
    "root = TreeNode(3)\n",
    "root.left = TreeNode(9);q = root.left\n",
    "# q.left = TreeNode(1);q.right = TreeNode(2)\n",
    "root.right = TreeNode(20); p = root.right\n",
    "p.left = TreeNode(15);p.right = TreeNode(7);\n",
    "p = p.left;p.right = TreeNode(6)\n",
    "\n",
    "Solution().preOrder(root)\n",
    "Solution().isBalanced(root)"
   ]
  },
  {
   "cell_type": "code",
   "execution_count": 23,
   "metadata": {},
   "outputs": [
    {
     "name": "stdout",
     "output_type": "stream",
     "text": [
      "3 9 20 15 7 "
     ]
    },
    {
     "data": {
      "text/plain": [
       "True"
      ]
     },
     "execution_count": 23,
     "metadata": {},
     "output_type": "execute_result"
    }
   ],
   "source": [
    "# Definition for a binary tree node.\n",
    "# class TreeNode(object):\n",
    "#     def __init__(self, x):\n",
    "#         self.val = x\n",
    "#         self.left = None\n",
    "#         self.right = None\n",
    "\n",
    "def get_heights(t):    \n",
    "    if not t:\n",
    "        return 0\n",
    "    \n",
    "    left = get_heights(t.left)\n",
    "    right = get_heights(t.right)\n",
    "    if left == -1 or right == -1:\n",
    "        return -1\n",
    "    if abs(left - right) > 1:\n",
    "        return -1\n",
    "    return max(left, right) + 1\n",
    "\n",
    "def preOrder(root):\n",
    "    if not root:\n",
    "        return\n",
    "    print(root.val, end = ' ')\n",
    "    preOrder(root.left)\n",
    "    preOrder(root.right)\n",
    "\n",
    "class Solution(object):\n",
    "    def isBalanced(self, root):\n",
    "        \"\"\"\n",
    "        :type root: TreeNode\n",
    "        :rtype: bool\n",
    "        \"\"\"\n",
    "        depth = get_heights(root)\n",
    "        return depth != -1\n",
    "    \n",
    "root = TreeNode(3)\n",
    "root.left = TreeNode(9);q = root.left\n",
    "# q.left = TreeNode(1);q.right = TreeNode(2)\n",
    "root.right = TreeNode(20); p = root.right\n",
    "p.left = TreeNode(15);p.right = TreeNode(7);\n",
    "# p = p.left;p.right = TreeNode(6)\n",
    "\n",
    "preOrder(root)\n",
    "Solution().isBalanced(root)"
   ]
  }
 ],
 "metadata": {
  "kernelspec": {
   "display_name": "Python 3",
   "language": "python",
   "name": "python3"
  },
  "language_info": {
   "codemirror_mode": {
    "name": "ipython",
    "version": 3
   },
   "file_extension": ".py",
   "mimetype": "text/x-python",
   "name": "python",
   "nbconvert_exporter": "python",
   "pygments_lexer": "ipython3",
   "version": "3.5.2"
  }
 },
 "nbformat": 4,
 "nbformat_minor": 2
}
