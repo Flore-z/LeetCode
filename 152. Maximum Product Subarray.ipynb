{
 "cells": [
  {
   "cell_type": "code",
   "execution_count": null,
   "metadata": {
    "collapsed": true
   },
   "outputs": [],
   "source": [
    "Question:\n",
    "Find the contiguous subarray within an array (containing at least one number) which has the largest product.\n",
    "For example, given the array [2,3,-2,4],the contiguous subarray [2,3] has the largest product = 6."
   ]
  },
  {
   "cell_type": "code",
   "execution_count": 13,
   "metadata": {},
   "outputs": [
    {
     "data": {
      "text/plain": [
       "24"
      ]
     },
     "execution_count": 13,
     "metadata": {},
     "output_type": "execute_result"
    }
   ],
   "source": [
    "# Time Limit Exceed\n",
    "class Solution(object):\n",
    "    def maxProduct(self, nums):\n",
    "        \"\"\"\n",
    "        :type nums: List[int]\n",
    "        :rtype: int\n",
    "        \"\"\"\n",
    "        if not nums:\n",
    "            return 0\n",
    "        n, maxpd = len(nums), - float(\"inf\")\n",
    "        for i in range(n):\n",
    "            product = nums[i]\n",
    "            for j in range(i+1, n):\n",
    "                product *= nums[j]\n",
    "                maxpd = max(maxpd, product)\n",
    "        return maxpd\n",
    "        \n",
    "nums = [2,3,-2,4]\n",
    "# nums = [-1,-1]\n",
    "nums = [-2,3,-4]\n",
    "Solution().maxProduct(nums)"
   ]
  },
  {
   "cell_type": "code",
   "execution_count": 25,
   "metadata": {},
   "outputs": [
    {
     "data": {
      "text/plain": [
       "24"
      ]
     },
     "execution_count": 25,
     "metadata": {},
     "output_type": "execute_result"
    }
   ],
   "source": [
    "class Solution(object):\n",
    "    def maxProduct(self, nums):\n",
    "        \"\"\"\n",
    "        :type nums: List[int]\n",
    "        :rtype: int\n",
    "        \"\"\"\n",
    "        if not nums:\n",
    "            return  0\n",
    "        n = len(nums)\n",
    "        dpmin, dpmax = [nums[0]] + [0]*(n-1), [nums[0]] + [0]*(n-1)\n",
    "        for i in range(1, n): \n",
    "            tmp = dpmax[i-1]\n",
    "            dpmax[i] = max(dpmax[i-1] * nums[i], nums[i])\n",
    "            dpmax[i] = max(dpmin[i-1] * nums[i], dpmax[i])\n",
    "            dpmin[i] = min(dpmin[i-1] * nums[i], nums[i])\n",
    "            dpmin[i] = min(tmp * nums[i], dpmin[i])\n",
    "            \n",
    "        return max(dpmax)\n",
    "     \n",
    "nums = [2,3,-2,4]\n",
    "# nums = [-1,-1]\n",
    "nums = [-2,3,-4]\n",
    "Solution().maxProduct(nums)"
   ]
  },
  {
   "cell_type": "code",
   "execution_count": 28,
   "metadata": {},
   "outputs": [
    {
     "data": {
      "text/plain": [
       "24"
      ]
     },
     "execution_count": 28,
     "metadata": {},
     "output_type": "execute_result"
    }
   ],
   "source": [
    "class Solution(object):\n",
    "    def maxProduct(self, nums):\n",
    "        \"\"\"\n",
    "        :type nums: List[int]\n",
    "        :rtype: int\n",
    "        \"\"\"\n",
    "        imax = imin = best = nums[0]\n",
    "\n",
    "        for num in nums[1:]:\n",
    "            if num < 0:\n",
    "                imax, imin = imin, imax\n",
    "            imax = max(num, imax*num)\n",
    "            imin = min(num, imin*num)\n",
    "            if imax > best:\n",
    "                best = imax\n",
    "\n",
    "        return best\n",
    "\n",
    "nums = [2,3,-2,4]\n",
    "# nums = [-1,-1]\n",
    "nums = [-2,3,-4]\n",
    "Solution().maxProduct(nums)"
   ]
  }
 ],
 "metadata": {
  "kernelspec": {
   "display_name": "Python 3",
   "language": "python",
   "name": "python3"
  },
  "language_info": {
   "codemirror_mode": {
    "name": "ipython",
    "version": 3
   },
   "file_extension": ".py",
   "mimetype": "text/x-python",
   "name": "python",
   "nbconvert_exporter": "python",
   "pygments_lexer": "ipython3",
   "version": "3.5.2"
  }
 },
 "nbformat": 4,
 "nbformat_minor": 2
}
