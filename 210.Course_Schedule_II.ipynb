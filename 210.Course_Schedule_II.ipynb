{
 "cells": [
  {
   "cell_type": "code",
   "execution_count": null,
   "metadata": {
    "collapsed": true
   },
   "outputs": [],
   "source": [
    "Question：\n",
    "There are a total of n courses you have to take, labeled from 0 to n - 1.\n",
    "Some courses may have prerequisites, for example to take course 0 you have to first take course 1, which is \n",
    "expressed as a pair: [0,1]\n",
    "Given the total number of courses and a list of prerequisite pairs, return the ordering of courses you should \n",
    "take to finish all courses.\n",
    "There may be multiple correct orders, you just need to return one of them. If it is impossible to finish all \n",
    "courses, return an empty array.\n",
    "\n",
    "For example:\n",
    "2, [[1,0]]\n",
    "There are a total of 2 courses to take. To take course 1 you should have finished course 0. So the correct \n",
    "course order is [0,1]\n",
    "4, [[1,0],[2,0],[3,1],[3,2]]\n",
    "There are a total of 4 courses to take. To take course 3 you should have finished both courses 1 and 2. Both \n",
    "courses 1 and 2 should be taken after you finished course 0. So one correct course order is [0,1,2,3]. Another \n",
    "correct ordering is[0,2,1,3].\n",
    "\n",
    "Note:\n",
    "1.\tThe input prerequisites is a graph represented by a list of edges, not adjacency matrices. Read more about \n",
    "how a graph is represented.\n",
    "2.\tYou may assume that there are no duplicate edges in the input prerequisites."
   ]
  },
  {
   "cell_type": "code",
   "execution_count": 1,
   "metadata": {},
   "outputs": [
    {
     "name": "stdout",
     "output_type": "stream",
     "text": [
      "[]\n"
     ]
    }
   ],
   "source": [
    "# BFS\n",
    "class Solution:\n",
    "    def findOrder(self, numCourses, prerequisites):\n",
    "        \"\"\"\n",
    "        :type numCourses: int\n",
    "        :type prerequisites: List[List[int]]\n",
    "        :rtype: List[int]\n",
    "        \"\"\"\n",
    "        maps = {i:[] for i in range(numCourses)}\n",
    "        degree = {i:0 for i in range(numCourses)}\n",
    "        for cur, pre in prerequisites:\n",
    "            degree[cur] += 1\n",
    "            maps[pre].append(cur)\n",
    "\n",
    "        res = []\n",
    "        while len(res) < numCourses:\n",
    "            nopre = [cur for cur in degree if degree[cur]==0]\n",
    "            if not nopre:\n",
    "                return []\n",
    "            res += nopre\n",
    "            for pre in nopre:\n",
    "                del degree[pre]\n",
    "                for cur in maps[pre]:\n",
    "                    degree[cur] -= 1\n",
    "        return res\n",
    "\n",
    "numCourses = 2; prerequisites = [[1,0],[0,1]]\n",
    "##numCourses = 4; prerequisites = [[1,0],[2,0],[3,1],[3,2]]\n",
    "res = Solution().findOrder(numCourses, prerequisites)\n",
    "print(res)"
   ]
  },
  {
   "cell_type": "code",
   "execution_count": 2,
   "metadata": {},
   "outputs": [
    {
     "name": "stdout",
     "output_type": "stream",
     "text": [
      "[]\n"
     ]
    }
   ],
   "source": [
    "# BFS\n",
    "class Solution:\n",
    "    def findOrder(self, numCourses, prerequisites):\n",
    "        \"\"\"\n",
    "        :type numCourses: int\n",
    "        :type prerequisites: List[List[int]]\n",
    "        :rtype: List[int]\n",
    "        \"\"\"\n",
    "        maps = {i:[] for i in range(numCourses)}\n",
    "        degree = {i:0 for i in range(numCourses)}\n",
    "        for cur, pre in prerequisites:\n",
    "            degree[cur] += 1\n",
    "            maps[pre].append(cur)\n",
    "\n",
    "        res = []\n",
    "        nopre = [n for n in degree if degree[n]==0]\n",
    "        while nopre:\n",
    "            res += nopre\n",
    "            tmp = []\n",
    "            for pre in nopre:\n",
    "                for cur in maps[pre]:\n",
    "                    degree[cur] -= 1\n",
    "                    if degree[cur] == 0:\n",
    "                        tmp.append(cur)\n",
    "            nopre = tmp\n",
    "        return res if len(res) == numCourses else []\n",
    "\n",
    "numCourses = 2; prerequisites = [[1,0],[0,1]]\n",
    "##numCourses = 4; prerequisites = [[1,0],[2,0],[3,1],[3,2]]\n",
    "res = Solution().findOrder(numCourses, prerequisites)\n",
    "print(res)"
   ]
  }
 ],
 "metadata": {
  "kernelspec": {
   "display_name": "Python 3",
   "language": "python",
   "name": "python3"
  },
  "language_info": {
   "codemirror_mode": {
    "name": "ipython",
    "version": 3
   },
   "file_extension": ".py",
   "mimetype": "text/x-python",
   "name": "python",
   "nbconvert_exporter": "python",
   "pygments_lexer": "ipython3",
   "version": "3.5.2"
  }
 },
 "nbformat": 4,
 "nbformat_minor": 2
}
