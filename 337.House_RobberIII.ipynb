{
 "cells": [
  {
   "cell_type": "code",
   "execution_count": null,
   "metadata": {
    "collapsed": true
   },
   "outputs": [],
   "source": [
    "Question：\n",
    "The thief has found himself a new place for his thievery again. There is only one entrance to this area, called \n",
    "the \"root.\" Besides the root, each house has one and only one parent house. After a tour, the smart thief \n",
    "realized that \"all houses in this place forms a binary tree\". It will automatically contact the police if two \n",
    "directly-linked houses were broken into on the same night.\n",
    "Determine the maximum amount of money the thief can rob tonight without alerting the police.\n",
    "\n",
    "Example 1:\n",
    "     3\n",
    "    / \\\n",
    "   2   3\n",
    "    \\   \\ \n",
    "     3   1\n",
    "Maximum amount of money the thief can rob = 3 + 3 + 1 = 7.\n",
    "\n",
    "Example 2:\n",
    "     3\n",
    "    / \\\n",
    "   4   5\n",
    "  / \\   \\ \n",
    " 1   3   1\n",
    "Maximum amount of money the thief can rob = 4 + 5 = 9."
   ]
  },
  {
   "cell_type": "code",
   "execution_count": 1,
   "metadata": {},
   "outputs": [
    {
     "name": "stdout",
     "output_type": "stream",
     "text": [
      "7\n"
     ]
    }
   ],
   "source": [
    "# dfs and dp\n",
    "# Definition for a binary tree node.\n",
    "class TreeNode(object):\n",
    "    def __init__(self, x):\n",
    "        self.val = x\n",
    "        self.left = None\n",
    "        self.right = None\n",
    "\n",
    "class Solution(object):\n",
    "    def rob(self, root):\n",
    "        \"\"\"\n",
    "        :type root: TreeNode\n",
    "        :rtype: int\n",
    "        \"\"\"\n",
    "        if not root:\n",
    "            return 0\n",
    "\n",
    "        def dfs(root):\n",
    "            if not root:\n",
    "                return [0]*2\n",
    "            resl = dfs(root.left)\n",
    "            resr = dfs(root.right)\n",
    "            res = [root.val + resl[1] + resr[1], \\\n",
    "                   max(resl[0], resl[1]) + max(resr[0], resr[1])]\n",
    "            # pick current node and not pidk current node\n",
    "            return res\n",
    "\n",
    "        res = dfs(root)\n",
    "        return max(res[0], res[1])\n",
    "\n",
    "root = TreeNode(3)\n",
    "root.left = TreeNode(2);p = root.left\n",
    "root.right = TreeNode(3);q = root.right\n",
    "p.right = TreeNode(3);q.right = TreeNode(1)\n",
    "res = Solution().rob(root)\n",
    "print(res)"
   ]
  }
 ],
 "metadata": {
  "kernelspec": {
   "display_name": "Python 3",
   "language": "python",
   "name": "python3"
  },
  "language_info": {
   "codemirror_mode": {
    "name": "ipython",
    "version": 3
   },
   "file_extension": ".py",
   "mimetype": "text/x-python",
   "name": "python",
   "nbconvert_exporter": "python",
   "pygments_lexer": "ipython3",
   "version": "3.5.2"
  }
 },
 "nbformat": 4,
 "nbformat_minor": 2
}
