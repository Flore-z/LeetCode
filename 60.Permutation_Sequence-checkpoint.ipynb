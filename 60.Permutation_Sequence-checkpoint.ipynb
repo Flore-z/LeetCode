{
 "cells": [
  {
   "cell_type": "code",
   "execution_count": 3,
   "metadata": {},
   "outputs": [
    {
     "data": {
      "text/plain": [
       "'132'"
      ]
     },
     "execution_count": 3,
     "metadata": {},
     "output_type": "execute_result"
    }
   ],
   "source": [
    "import functools as ft\n",
    "class Solution(object):\n",
    "    def getPermutation(self, n, k):\n",
    "        \"\"\"\n",
    "        :type n: int\n",
    "        :type k: int\n",
    "        :rtype: str\n",
    "        \"\"\"\n",
    "        res = ''\n",
    "        m = n\n",
    "        num = [x for x in range(1,n+1)]\n",
    "   #     print(num)\n",
    "        while len(num) > 0:\n",
    "            if m > 1:\n",
    "                fac = ft.reduce(lambda x,y: x*y, range(1,m))\n",
    "                s = int((k-1)/fac)\n",
    "                res += '%d' % num[s]\n",
    "                del num[s]\n",
    "          #      print(num)\n",
    "                k %= fac\n",
    "                m -= 1\n",
    "            else:\n",
    "                res += '%d' % num[0]\n",
    "                del num[0]\n",
    "        return res\n",
    "\n",
    "res = Solution().getPermutation(3, 2)\n",
    "res"
   ]
  },
  {
   "cell_type": "code",
   "execution_count": 7,
   "metadata": {},
   "outputs": [
    {
     "data": {
      "text/plain": [
       "'1243'"
      ]
     },
     "execution_count": 7,
     "metadata": {},
     "output_type": "execute_result"
    }
   ],
   "source": [
    "class Solution(object):\n",
    "    def getPermutation(self, n, k):\n",
    "        \"\"\"\n",
    "        :type n: int\n",
    "        :type k: int\n",
    "        :rtype: str\n",
    "        \"\"\"\n",
    "        res = ''\n",
    "        m = n\n",
    "        num = [x for x in range(1,n+1)]\n",
    "        while len(num) > 1:\n",
    "            fac = ft.reduce(lambda x,y: x*y, range(1,m))\n",
    "            s = int((k-1)/fac)\n",
    "            res += str(num[s])\n",
    "            del num[s]\n",
    "            k = k % fac\n",
    "            m -= 1\n",
    "                \n",
    "        res += str(num[0])\n",
    "        return res\n",
    "    \n",
    "res = Solution().getPermutation(4, 2)\n",
    "res"
   ]
  },
  {
   "cell_type": "code",
   "execution_count": null,
   "metadata": {
    "collapsed": true
   },
   "outputs": [],
   "source": []
  }
 ],
 "metadata": {
  "kernelspec": {
   "display_name": "Python 3",
   "language": "python",
   "name": "python3"
  },
  "language_info": {
   "codemirror_mode": {
    "name": "ipython",
    "version": 3
   },
   "file_extension": ".py",
   "mimetype": "text/x-python",
   "name": "python",
   "nbconvert_exporter": "python",
   "pygments_lexer": "ipython3",
   "version": "3.4.3"
  }
 },
 "nbformat": 4,
 "nbformat_minor": 2
}
