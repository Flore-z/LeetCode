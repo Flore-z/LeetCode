{
 "cells": [
  {
   "cell_type": "code",
   "execution_count": null,
   "metadata": {
    "collapsed": true
   },
   "outputs": [],
   "source": [
    "Question:\n",
    "Given a range [m, n] where 0 <= m <= n <= 2147483647, return the bitwise AND of all numbers in this range, \n",
    "inclusive.\n",
    "For example, given the range [5, 7], you should return 4."
   ]
  },
  {
   "cell_type": "code",
   "execution_count": 5,
   "metadata": {},
   "outputs": [
    {
     "name": "stdout",
     "output_type": "stream",
     "text": [
      "4\n"
     ]
    }
   ],
   "source": [
    "# 求 m 与 n 二进制编码中相同的前缀\n",
    "class Solution:\n",
    "    def rangeBitwiseAnd(self, m, n):\n",
    "        \"\"\"\n",
    "        :type m: int\n",
    "        :type n: int\n",
    "        :rtype: int\n",
    "        \"\"\"\n",
    "        res = 0\n",
    "        for i in range(31, -1, -1):\n",
    "            a = n & (1<<i)\n",
    "            b = m & (1<<i)\n",
    "            if a and b:\n",
    "                res += 1 << i\n",
    "            elif a or b:\n",
    "                return res            \n",
    "        return res\n",
    "\n",
    "#         d = 0x7FFFFFFF\n",
    "#         while m & d != n & d:\n",
    "#             d <<= 1\n",
    "#         return m & d\n",
    "    \n",
    "m = 5;n = 7\n",
    "m = 6;n = 12\n",
    "m = 20000;n = 2147483647\n",
    "res = Solution().rangeBitwiseAnd(m, n)\n",
    "print(res)"
   ]
  },
  {
   "cell_type": "code",
   "execution_count": null,
   "metadata": {
    "collapsed": true
   },
   "outputs": [],
   "source": [
    "class Solution(object):\n",
    "    def rangeBitwiseAnd(self, m, n):\n",
    "        \"\"\"\n",
    "        :type m: int\n",
    "        :type n: int\n",
    "        :rtype: int\n",
    "        \"\"\"\n",
    "        while m < n:\n",
    "            n &= n - 1\n",
    "        return n"
   ]
  }
 ],
 "metadata": {
  "kernelspec": {
   "display_name": "Python 3",
   "language": "python",
   "name": "python3"
  },
  "language_info": {
   "codemirror_mode": {
    "name": "ipython",
    "version": 3
   },
   "file_extension": ".py",
   "mimetype": "text/x-python",
   "name": "python",
   "nbconvert_exporter": "python",
   "pygments_lexer": "ipython3",
   "version": "3.5.2"
  }
 },
 "nbformat": 4,
 "nbformat_minor": 2
}
