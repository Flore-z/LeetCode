{
 "cells": [
  {
   "cell_type": "code",
   "execution_count": 19,
   "metadata": {},
   "outputs": [
    {
     "data": {
      "text/plain": [
       "0"
      ]
     },
     "execution_count": 19,
     "metadata": {},
     "output_type": "execute_result"
    }
   ],
   "source": [
    "class Solution(object):\n",
    "    def findMin(self, nums):\n",
    "        \"\"\"\n",
    "        :type nums: List[int]\n",
    "        :rtype: int\n",
    "        \"\"\"\n",
    "#         return min(nums)\n",
    "        n = len(nums)\n",
    "        l, h = 0, n-1\n",
    "        while l < h:\n",
    "            mid = int((l + h)/2)\n",
    "            if nums[mid] > nums[h]:\n",
    "                l = mid + 1\n",
    "            else:\n",
    "                h = mid\n",
    "        return nums[l]\n",
    "    \n",
    "nums = [4, 5, 6, 7, 0, 1, 2, 3]\n",
    "# nums = [3, 1, 2]\n",
    "# nums = [1, 2]\n",
    "Solution().findMin(nums)"
   ]
  }
 ],
 "metadata": {
  "kernelspec": {
   "display_name": "Python 3",
   "language": "python",
   "name": "python3"
  },
  "language_info": {
   "codemirror_mode": {
    "name": "ipython",
    "version": 3
   },
   "file_extension": ".py",
   "mimetype": "text/x-python",
   "name": "python",
   "nbconvert_exporter": "python",
   "pygments_lexer": "ipython3",
   "version": "3.5.2"
  }
 },
 "nbformat": 4,
 "nbformat_minor": 2
}
