{
 "cells": [
  {
   "cell_type": "code",
   "execution_count": null,
   "metadata": {
    "collapsed": true
   },
   "outputs": [],
   "source": [
    "Question：\n",
    "Implement a trie with insert, search, and startsWith methods.\n",
    "Note:\n",
    "You may assume that all inputs are consist of lowercase letters a-z."
   ]
  },
  {
   "cell_type": "code",
   "execution_count": 3,
   "metadata": {},
   "outputs": [
    {
     "name": "stdout",
     "output_type": "stream",
     "text": [
      "True True\n"
     ]
    }
   ],
   "source": [
    " class Trie(object):\n",
    "\n",
    "    def __init__(self):\n",
    "        self.root = TrieNode()\n",
    "\n",
    "    def insert(self, word):\n",
    "        \"\"\"\n",
    "        Inserts a word into the trie.\n",
    "        :type word: str\n",
    "        :rtype: void\n",
    "        \"\"\"\n",
    "        if len(word) == 0:\n",
    "            return\n",
    "        tmp = self.root\n",
    "        for i in range(len(word)):\n",
    "            if word[i] not in tmp.child:\n",
    "                tmp.child[word[i]] = TrieNode()\n",
    "            tmp = tmp.child[word[i]]\n",
    "        tmp.isend = True\n",
    "\n",
    "    def search(self, word):\n",
    "        \"\"\"\n",
    "        Returns if the word is in the trie.\n",
    "        :type word: str\n",
    "        :rtype: bool\n",
    "        \"\"\"\n",
    "        if not self.startsWith(word):\n",
    "            return False\n",
    "        tmp = self.root\n",
    "        for i in range(len(word)):\n",
    "            tmp = tmp.child[word[i]]\n",
    "        return True if tmp.isend else False\n",
    "\n",
    "    def startsWith(self, prefix):\n",
    "        \"\"\"\n",
    "        Returns if there is any word in the trie that starts with the given prefix.\n",
    "        :type prefix: str\n",
    "        :rtype: bool\n",
    "        \"\"\"\n",
    "        tmp = self.root\n",
    "        for i in range(len(prefix)):\n",
    "            if prefix[i] not in tmp.child:\n",
    "                return False\n",
    "            tmp = tmp.child[prefix[i]]\n",
    "        return True\n",
    "\n",
    "class TrieNode:\n",
    "    def __init__(self):\n",
    "        \"\"\"\n",
    "        Initialize your data structure here.\n",
    "        \"\"\"\n",
    "        self.ch = None\n",
    "        self.isend = False\n",
    "        self.child = {}\n",
    "\n",
    "# Your Trie object will be instantiated and called as such:\n",
    "obj = Trie()\n",
    "word = \"string\";prefix = \"str\"\n",
    "obj.insert(word)\n",
    "param_2 = obj.search(word)\n",
    "param_3 = obj.startsWith(prefix)\n",
    "print(param_2, param_3)"
   ]
  },
  {
   "cell_type": "code",
   "execution_count": 4,
   "metadata": {},
   "outputs": [
    {
     "name": "stdout",
     "output_type": "stream",
     "text": [
      "True True\n"
     ]
    }
   ],
   "source": [
    "class Trie(object):\n",
    "\n",
    "    def __init__(self):\n",
    "        \"\"\"\n",
    "        Initialize your data structure here.\n",
    "        \"\"\"\n",
    "        self.word_dict = {}\n",
    "\n",
    "    def insert(self, word):\n",
    "        \"\"\"\n",
    "        Inserts a word into the trie.\n",
    "        :type word: str\n",
    "        :rtype: void\n",
    "        \"\"\"\n",
    "        d = self.word_dict\n",
    "        for c in word:\n",
    "            if c not in d:\n",
    "                d[c] = {}\n",
    "            d = d[c]\n",
    "        d['W'] = {}\n",
    "        \n",
    "    def search(self, word):\n",
    "        \"\"\"\n",
    "        Returns if the word is in the trie.\n",
    "        :type word: str\n",
    "        :rtype: bool\n",
    "        \"\"\"\n",
    "        d = self.word_dict\n",
    "        for c in word:\n",
    "            if c not in d:\n",
    "                return False\n",
    "            d = d[c]\n",
    "        return 'W' in d\n",
    "\n",
    "    def startsWith(self, prefix):\n",
    "        \"\"\"\n",
    "        Returns if there is any word in the trie that starts with the given prefix.\n",
    "        :type prefix: str\n",
    "        :rtype: bool\n",
    "        \"\"\"\n",
    "        d = self.word_dict\n",
    "        for c in prefix:\n",
    "            if c not in d:\n",
    "                return False\n",
    "            d = d[c]\n",
    "        return True\n",
    "    \n",
    "# Your Trie object will be instantiated and called as such:\n",
    "obj = Trie()\n",
    "word = \"string\";prefix = \"str\"\n",
    "obj.insert(word)\n",
    "param_2 = obj.search(word)\n",
    "param_3 = obj.startsWith(prefix)\n",
    "print(param_2, param_3)"
   ]
  }
 ],
 "metadata": {
  "kernelspec": {
   "display_name": "Python 3",
   "language": "python",
   "name": "python3"
  },
  "language_info": {
   "codemirror_mode": {
    "name": "ipython",
    "version": 3
   },
   "file_extension": ".py",
   "mimetype": "text/x-python",
   "name": "python",
   "nbconvert_exporter": "python",
   "pygments_lexer": "ipython3",
   "version": "3.5.2"
  }
 },
 "nbformat": 4,
 "nbformat_minor": 2
}
