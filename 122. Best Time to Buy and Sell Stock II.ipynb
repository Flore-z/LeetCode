{
 "cells": [
  {
   "cell_type": "code",
   "execution_count": null,
   "metadata": {
    "collapsed": true
   },
   "outputs": [],
   "source": [
    "Question：\n",
    "Say you have an array for which the ith element is the price of a given stock on day i.\n",
    "Design an algorithm to find the maximum profit. You may complete as many transactions as you like \n",
    "(ie, buy one and sell one share of the stock multiple times). However, you may not engage in multiple \n",
    "transactions at the same time (ie, you must sell the stock before you buy again)."
   ]
  },
  {
   "cell_type": "code",
   "execution_count": 2,
   "metadata": {},
   "outputs": [
    {
     "data": {
      "text/plain": [
       "7"
      ]
     },
     "execution_count": 2,
     "metadata": {},
     "output_type": "execute_result"
    }
   ],
   "source": [
    "class Solution:\n",
    "    def maxProfit(self, prices):\n",
    "        \"\"\"\n",
    "        :type prices: List[int]\n",
    "        :rtype: int\n",
    "        \"\"\"\n",
    "        if not prices:\n",
    "            return 0\n",
    "        profit = 0\n",
    "        for i in range(1, len(prices)):\n",
    "            if prices[i] > prices[i-1]:\n",
    "                profit += prices[i] - prices[i-1] \n",
    "                \n",
    "        return profit\n",
    "    \n",
    "prices = [7, 1, 5, 3, 6, 4]\n",
    "# prices = [7, 6, 4, 3, 1]\n",
    "Solution().maxProfit(prices)"
   ]
  },
  {
   "cell_type": "code",
   "execution_count": 1,
   "metadata": {},
   "outputs": [
    {
     "data": {
      "text/plain": [
       "7"
      ]
     },
     "execution_count": 1,
     "metadata": {},
     "output_type": "execute_result"
    }
   ],
   "source": [
    "class Solution:\n",
    "    def maxProfit(self, prices):\n",
    "        \"\"\"\n",
    "        :type prices: List[int]\n",
    "        :rtype: int\n",
    "        \"\"\"\n",
    "        if not prices:\n",
    "            return 0\n",
    "        \n",
    "        max_profit = 0\n",
    "        current_profit = 0\n",
    "        current_low = prices[0]\n",
    "        \n",
    "        for price in prices:\n",
    "            if current_profit < price - current_low:\n",
    "                current_profit = price - current_low\n",
    "                continue\n",
    "                \n",
    "            max_profit += current_profit\n",
    "            current_profit = 0\n",
    "            current_low = price\n",
    "            \n",
    "        return max_profit + current_profit\n",
    "        \n",
    "prices = [7, 1, 5, 3, 6, 4]\n",
    "# prices = [7, 6, 4, 3, 1]\n",
    "Solution().maxProfit(prices)"
   ]
  }
 ],
 "metadata": {
  "kernelspec": {
   "display_name": "Python 3",
   "language": "python",
   "name": "python3"
  },
  "language_info": {
   "codemirror_mode": {
    "name": "ipython",
    "version": 3
   },
   "file_extension": ".py",
   "mimetype": "text/x-python",
   "name": "python",
   "nbconvert_exporter": "python",
   "pygments_lexer": "ipython3",
   "version": "3.5.2"
  }
 },
 "nbformat": 4,
 "nbformat_minor": 2
}
