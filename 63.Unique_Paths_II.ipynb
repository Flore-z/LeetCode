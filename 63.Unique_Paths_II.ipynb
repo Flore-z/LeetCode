{
 "cells": [
  {
   "cell_type": "code",
   "execution_count": 38,
   "metadata": {},
   "outputs": [
    {
     "name": "stdout",
     "output_type": "stream",
     "text": [
      "[1, 0, 1, 1]\n",
      "[1, 1, 0, 1]\n",
      "[0, 1, 1, 1]\n",
      "\n",
      "\n",
      "[1, 0, 0, 0]\n",
      "[1, 1, 0, 1]\n",
      "[0, 1, 1, 1]\n",
      "\n",
      "\n",
      "[1, 0, 0, 0]\n",
      "[1, 1, 0, 0]\n",
      "[0, 1, 1, 1]\n"
     ]
    },
    {
     "data": {
      "text/plain": [
       "1"
      ]
     },
     "execution_count": 38,
     "metadata": {},
     "output_type": "execute_result"
    }
   ],
   "source": [
    "class Solution(object):\n",
    "    def uniquePathsWithObstacles(self, obstacleGrid):\n",
    "        \"\"\"\n",
    "        :type obstacleGrid: List[List[int]]\n",
    "        :rtype: int\n",
    "        \"\"\"\n",
    "        x = len(obstacleGrid)\n",
    "        y = len(obstacleGrid[0])\n",
    "        dp = obstacleGrid\n",
    "        for i in range(x):\n",
    "            dp[i] = [1-j for j in obstacleGrid[i]]    \n",
    "            \n",
    "        for i in range(x):\n",
    "            print(dp[i])\n",
    "            \n",
    "        for j in range(y):\n",
    "            if dp[0][j] == 0:\n",
    "                dp[0][j:] = [0 for k in range(j,y)]\n",
    "                break\n",
    "        for i in range(x):\n",
    "            if dp[i][0] == 0:\n",
    "                for k in range(i,x):\n",
    "                    dp[k][0] = 0\n",
    "                break\n",
    "        \n",
    "        print('\\n')\n",
    "        for i in range(x):\n",
    "            print(dp[i])\n",
    "        \n",
    "        for i in range(1,x):\n",
    "            for j in range(1,y):\n",
    "                if dp[i][j] == 0:\n",
    "                    continue\n",
    "                dp[i][j] = dp[i-1][j] + dp[i][j-1]\n",
    "        \n",
    "        print('\\n')\n",
    "        for i in range(x):\n",
    "            print(dp[i])\n",
    "        \n",
    "        return dp[-1][-1]\n",
    "\n",
    "#obstacleGrid = [[0,0,0],[0,1,0],[0,0,0]]\n",
    "#obstacleGrid = [[0,0],[1,1],[0,0]]\n",
    "obstacleGrid = [[0,1,0,0],[0,0,1,0],[1,0,0,0]]\n",
    "res = Solution().uniquePathsWithObstacles(obstacleGrid)\n",
    "res\n",
    "        "
   ]
  },
  {
   "cell_type": "code",
   "execution_count": null,
   "metadata": {
    "collapsed": true
   },
   "outputs": [],
   "source": []
  }
 ],
 "metadata": {
  "kernelspec": {
   "display_name": "Python 3",
   "language": "python",
   "name": "python3"
  },
  "language_info": {
   "codemirror_mode": {
    "name": "ipython",
    "version": 3
   },
   "file_extension": ".py",
   "mimetype": "text/x-python",
   "name": "python",
   "nbconvert_exporter": "python",
   "pygments_lexer": "ipython3",
   "version": "3.4.3"
  }
 },
 "nbformat": 4,
 "nbformat_minor": 2
}
