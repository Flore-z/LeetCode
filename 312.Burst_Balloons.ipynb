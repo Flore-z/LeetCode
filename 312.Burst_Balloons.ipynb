{
 "cells": [
  {
   "cell_type": "code",
   "execution_count": null,
   "metadata": {
    "collapsed": true
   },
   "outputs": [],
   "source": [
    "Question:\n",
    "Given n balloons, indexed from 0 to n-1. Each balloon is painted with a number on it represented by array nums. \n",
    "You are asked to burst all the balloons. If the you burst balloon i you will get nums[left] * nums[i] * \n",
    "nums[right] coins. Here left and right are adjacent indices of i. After the burst, the left and right then \n",
    "becomes adjacent.\n",
    "Find the maximum coins you can collect by bursting the balloons wisely.\n",
    "\n",
    "Note: \n",
    "(1) You may imagine nums[-1] = nums[n] = 1. They are not real therefore you can not burst them.\n",
    "(2) 0 ≤ n ≤ 500, 0 ≤ nums[i] ≤ 100\n",
    "\n",
    "Example:\n",
    "Given [3, 1, 5, 8]\n",
    "Return 167\n",
    "    nums = [3,1,5,8] --> [3,5,8] -->   [3,8]   -->  [8]  --> []\n",
    "   coins =  3*1*5      +  3*5*8    +  1*3*8      + 1*8*1   = 167"
   ]
  },
  {
   "cell_type": "code",
   "execution_count": 2,
   "metadata": {},
   "outputs": [
    {
     "name": "stdout",
     "output_type": "stream",
     "text": [
      "[0, 0, 3, 30, 159, 167]\n",
      "[0, 0, 0, 15, 135, 159]\n",
      "[0, 0, 0, 0, 40, 48]\n",
      "[0, 0, 0, 0, 0, 40]\n",
      "[0, 0, 0, 0, 0, 0]\n",
      "[0, 0, 0, 0, 0, 0]\n",
      "167\n"
     ]
    }
   ],
   "source": [
    "# 假设第i个气球最后破，那么i左边和右边的气球不会相互影响\n",
    "# 将nums首尾各添两个元素1，dp[i][j]表示下标范围[i+1,j-1]的最大值\n",
    "class Solution(object):\n",
    "    def maxCoins(self, nums):\n",
    "        \"\"\"\n",
    "        :type nums: List[int]\n",
    "        :rtype: int\n",
    "        \"\"\"\n",
    "        newnums = [1] + [i for i in nums] + [1]\n",
    "        n = len(newnums)\n",
    "        dp = [[0]*n for _ in range(n)]\n",
    "        for k in range(2, n):\n",
    "            for left in range(n-k):\n",
    "                right = left + k\n",
    "                for i in range(left+1, right):\n",
    "                    dp[left][right] = max(dp[left][right],\n",
    "                        newnums[left]*newnums[i]*newnums[right] +\n",
    "                        dp[left][i] + dp[i][right])\n",
    "        for i in range(n):\n",
    "            print(dp[i])\n",
    "        return dp[0][n-1]\n",
    "            \n",
    "nums = [3, 1, 5, 8]\n",
    "##nums = [9,76,64,21,97,60]\n",
    "res = Solution().maxCoins(nums)\n",
    "print(res)"
   ]
  }
 ],
 "metadata": {
  "kernelspec": {
   "display_name": "Python 3",
   "language": "python",
   "name": "python3"
  },
  "language_info": {
   "codemirror_mode": {
    "name": "ipython",
    "version": 3
   },
   "file_extension": ".py",
   "mimetype": "text/x-python",
   "name": "python",
   "nbconvert_exporter": "python",
   "pygments_lexer": "ipython3",
   "version": "3.5.2"
  }
 },
 "nbformat": 4,
 "nbformat_minor": 2
}
