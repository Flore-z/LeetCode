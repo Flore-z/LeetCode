{
 "cells": [
  {
   "cell_type": "code",
   "execution_count": null,
   "metadata": {
    "collapsed": true
   },
   "outputs": [],
   "source": [
    "Question:\n",
    "A peak element is an element that is greater than its neighbors.\n",
    "Given an input array where num[i] ≠ num[i+1], find a peak element and return its index.\n",
    "The array may contain multiple peaks, in that case return the index to any one of the peaks is fine.\n",
    "You may imagine that num[-1] = num[n] = -∞.\n",
    "For example, in array [1, 2, 3, 1], 3 is a peak element and your function should return the index number 2.\n",
    "Note:\n",
    "Your solution should be in logarithmic complexity."
   ]
  },
  {
   "cell_type": "code",
   "execution_count": 6,
   "metadata": {},
   "outputs": [
    {
     "data": {
      "text/plain": [
       "2"
      ]
     },
     "execution_count": 6,
     "metadata": {},
     "output_type": "execute_result"
    }
   ],
   "source": [
    "# O(n)\n",
    "class Solution(object):\n",
    "    def findPeakElement(self, nums):\n",
    "        \"\"\"\n",
    "        :type nums: List[int]\n",
    "        :rtype: int\n",
    "        \"\"\"\n",
    "        n = len(nums)\n",
    "        if n == 0 or n == 1:\n",
    "            return 0\n",
    "        for i in range(1, n-1):\n",
    "            if nums[i] > nums[i-1] and nums[i] > nums[i+1]:\n",
    "                return i\n",
    "        if nums[0] > nums[1]:\n",
    "            return 0\n",
    "        if nums[n-1] > nums[n-2]:\n",
    "            return n-1\n",
    "        \n",
    "nums = [1, 2, 3, 1]\n",
    "Solution().findPeakElement(nums)"
   ]
  },
  {
   "cell_type": "code",
   "execution_count": 5,
   "metadata": {},
   "outputs": [
    {
     "data": {
      "text/plain": [
       "2"
      ]
     },
     "execution_count": 5,
     "metadata": {},
     "output_type": "execute_result"
    }
   ],
   "source": [
    "# log2(n) binary search\n",
    "class Solution(object):\n",
    "    def findPeakElement(self, nums):\n",
    "        \"\"\"\n",
    "        :type nums: List[int]\n",
    "        :rtype: int\n",
    "        \"\"\"\n",
    "        n = len(nums)\n",
    "        if n == 0 or n == 1:\n",
    "            return 0\n",
    "        l, r = 0, n-1\n",
    "        \n",
    "        def binary(nums, l, r):\n",
    "            if l == r:\n",
    "                return l\n",
    "            mid = int((l + r)/2)\n",
    "            if nums[mid] > nums[mid + 1]:\n",
    "                return binary(nums, l, mid)\n",
    "            else:\n",
    "                return binary(nums, mid+1, r)\n",
    "                    \n",
    "        return binary(nums, 0, n-1)\n",
    "        \n",
    "#         n = len(nums)\n",
    "#         if n == 0 or n == 1:\n",
    "#             return 0\n",
    "#         l, r = 0, n-1\n",
    "#         while l <= r:\n",
    "#             if l == r:\n",
    "#                 return l\n",
    "#             mid = int((l + r)/2)\n",
    "#             if nums[mid] > nums[mid + 1]:\n",
    "#                 r = mid\n",
    "#             else:\n",
    "#                 l = mid + 1\n",
    "        \n",
    "nums = [1, 2, 3, 1]\n",
    "Solution().findPeakElement(nums)"
   ]
  }
 ],
 "metadata": {
  "kernelspec": {
   "display_name": "Python 3",
   "language": "python",
   "name": "python3"
  },
  "language_info": {
   "codemirror_mode": {
    "name": "ipython",
    "version": 3
   },
   "file_extension": ".py",
   "mimetype": "text/x-python",
   "name": "python",
   "nbconvert_exporter": "python",
   "pygments_lexer": "ipython3",
   "version": "3.5.2"
  }
 },
 "nbformat": 4,
 "nbformat_minor": 2
}
