{
 "cells": [
  {
   "cell_type": "code",
   "execution_count": 6,
   "metadata": {},
   "outputs": [
    {
     "data": {
      "text/plain": [
       "2"
      ]
     },
     "execution_count": 6,
     "metadata": {},
     "output_type": "execute_result"
    }
   ],
   "source": [
    "# O(n)\n",
    "class Solution(object):\n",
    "    def findPeakElement(self, nums):\n",
    "        \"\"\"\n",
    "        :type nums: List[int]\n",
    "        :rtype: int\n",
    "        \"\"\"\n",
    "        n = len(nums)\n",
    "        if n == 0 or n == 1:\n",
    "            return 0\n",
    "        for i in range(1, n-1):\n",
    "            if nums[i] > nums[i-1] and nums[i] > nums[i+1]:\n",
    "                return i\n",
    "        if nums[0] > nums[1]:\n",
    "            return 0\n",
    "        if nums[n-1] > nums[n-2]:\n",
    "            return n-1\n",
    "        \n",
    "nums = [1, 2, 3, 1]\n",
    "Solution().findPeakElement(nums)"
   ]
  },
  {
   "cell_type": "code",
   "execution_count": 5,
   "metadata": {},
   "outputs": [
    {
     "data": {
      "text/plain": [
       "2"
      ]
     },
     "execution_count": 5,
     "metadata": {},
     "output_type": "execute_result"
    }
   ],
   "source": [
    "# log2(n) binary search\n",
    "class Solution(object):\n",
    "    def findPeakElement(self, nums):\n",
    "        \"\"\"\n",
    "        :type nums: List[int]\n",
    "        :rtype: int\n",
    "        \"\"\"\n",
    "        n = len(nums)\n",
    "        if n == 0 or n == 1:\n",
    "            return 0\n",
    "        l, r = 0, n-1\n",
    "        \n",
    "        def binary(nums, l, r):\n",
    "            if l == r:\n",
    "                return l\n",
    "            mid = int((l + r)/2)\n",
    "            if nums[mid] > nums[mid + 1]:\n",
    "                return binary(nums, l, mid)\n",
    "            else:\n",
    "                return binary(nums, mid+1, r)\n",
    "                    \n",
    "        return binary(nums, 0, n-1)\n",
    "        \n",
    "#         n = len(nums)\n",
    "#         if n == 0 or n == 1:\n",
    "#             return 0\n",
    "#         l, r = 0, n-1\n",
    "#         while l <= r:\n",
    "#             if l == r:\n",
    "#                 return l\n",
    "#             mid = int((l + r)/2)\n",
    "#             if nums[mid] > nums[mid + 1]:\n",
    "#                 r = mid\n",
    "#             else:\n",
    "#                 l = mid + 1\n",
    "        \n",
    "nums = [1, 2, 3, 1]\n",
    "Solution().findPeakElement(nums)"
   ]
  },
  {
   "cell_type": "code",
   "execution_count": 10,
   "metadata": {},
   "outputs": [
    {
     "data": {
      "text/plain": [
       "2"
      ]
     },
     "execution_count": 10,
     "metadata": {},
     "output_type": "execute_result"
    }
   ],
   "source": [
    "# log2(n)\n",
    "class Solution(object):\n",
    "    def findPeakElement(self, nums):\n",
    "        \"\"\"\n",
    "        :type nums: List[int]\n",
    "        :rtype: int\n",
    "        \"\"\"\n",
    "        \n",
    "        \n",
    "nums = [1, 2, 3, 1]\n",
    "# nums = [3, 2, 1, 0]\n",
    "Solution().findPeakElement(nums)"
   ]
  },
  {
   "cell_type": "code",
   "execution_count": null,
   "metadata": {
    "collapsed": true
   },
   "outputs": [],
   "source": [
    "class Solution(object):\n",
    "    def findPeakElement(self, nums):\n",
    "        \"\"\"\n",
    "        :type nums: List[int]\n",
    "        :rtype: int\n",
    "        \"\"\"\n",
    "        \n",
    "        was_increasing = True\n",
    "        for i in range(len(nums) - 1):\n",
    "            if was_increasing and nums[i] > nums[i+1]:\n",
    "                return i\n",
    "            was_increasing = nums[i] < nums[i+1]\n",
    "        \n",
    "        return len(nums)-1"
   ]
  }
 ],
 "metadata": {
  "kernelspec": {
   "display_name": "Python 3",
   "language": "python",
   "name": "python3"
  },
  "language_info": {
   "codemirror_mode": {
    "name": "ipython",
    "version": 3
   },
   "file_extension": ".py",
   "mimetype": "text/x-python",
   "name": "python",
   "nbconvert_exporter": "python",
   "pygments_lexer": "ipython3",
   "version": "3.5.2"
  }
 },
 "nbformat": 4,
 "nbformat_minor": 2
}
