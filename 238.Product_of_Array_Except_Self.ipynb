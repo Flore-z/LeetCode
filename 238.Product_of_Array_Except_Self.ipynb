{
 "cells": [
  {
   "cell_type": "code",
   "execution_count": null,
   "metadata": {
    "collapsed": true
   },
   "outputs": [],
   "source": [
    "Question:\n",
    "Given an array of n integers where n > 1, nums, return an array output such that output[i] is equal to the \n",
    "product of all the elements of nums except nums[i].\n",
    "Solve it without division and in O(n).\n",
    "\n",
    "For example, given [1,2,3,4], return [24,12,8,6].\n",
    "\n",
    "Follow up:\n",
    "Could you solve it with constant space complexity? \n",
    "(Note: The output array does not count as extra space for the purpose of space complexity analysis.)"
   ]
  },
  {
   "cell_type": "code",
   "execution_count": 1,
   "metadata": {},
   "outputs": [
    {
     "name": "stdout",
     "output_type": "stream",
     "text": [
      "[0, 0]\n"
     ]
    }
   ],
   "source": [
    "class Solution(object):\n",
    "    def productExceptSelf(self, nums):\n",
    "        \"\"\"\n",
    "        :type nums: List[int]\n",
    "        :rtype: List[int]\n",
    "        \"\"\"\n",
    "        pre, post = [1]*len(nums), [1]*len(nums)\n",
    "        for i in range(1, len(nums)):\n",
    "            pre[i] = nums[i-1] * pre[i-1]\n",
    "        for i in range(len(nums)-2, -1, -1):\n",
    "            post[i] = nums[i+1] * post[i+1]\n",
    "            \n",
    "        output = [0]*len(nums)\n",
    "        output[0], output[-1] = post[0], pre[-1]\n",
    "        for i in range(1, len(nums)-1):\n",
    "            output[i] = pre[i] * post[i]\n",
    "            \n",
    "        return output\n",
    "\n",
    "nums = [1,2,3,4]\n",
    "nums = [0,0]\n",
    "res = Solution().productExceptSelf(nums)\n",
    "print(res)"
   ]
  },
  {
   "cell_type": "code",
   "execution_count": 2,
   "metadata": {},
   "outputs": [
    {
     "name": "stdout",
     "output_type": "stream",
     "text": [
      "[24, 12, 8, 6]\n"
     ]
    }
   ],
   "source": [
    "# 根据0的个数\n",
    "class Solution(object):\n",
    "    def productExceptSelf(self, nums):\n",
    "        \"\"\"\n",
    "        :type nums: List[int]\n",
    "        :rtype: List[int]\n",
    "        \"\"\"\n",
    "        def product(nums, i, j):\n",
    "            p = 1\n",
    "            for k in range(i, j+1):\n",
    "                p *= nums[k]\n",
    "            return p\n",
    "        \n",
    "        n = len(nums)\n",
    "        c0 = nums.count(0)\n",
    "        if c0 > 1:\n",
    "            return [0]*n\n",
    "        elif c0 == 1:\n",
    "            i = nums.index(0)\n",
    "            res = [0]*n\n",
    "            res[i] = product(nums, 0, i-1) * product(nums, i+1, n-1)\n",
    "            return res\n",
    "        else:\n",
    "            whole = product(nums, 0, n-1)\n",
    "            return [whole//nums[i] for i in range(n)]\n",
    "            \n",
    "\n",
    "nums = [1,2,3,4]\n",
    "##nums = [0,0]\n",
    "res = Solution().productExceptSelf(nums)\n",
    "print(res)"
   ]
  },
  {
   "cell_type": "code",
   "execution_count": 3,
   "metadata": {},
   "outputs": [
    {
     "name": "stdout",
     "output_type": "stream",
     "text": [
      "[24, 12, 8, 6]\n"
     ]
    }
   ],
   "source": [
    "# constant space complexity\n",
    "class Solution(object):\n",
    "    def productExceptSelf(self, nums):\n",
    "        \"\"\"\n",
    "        :type nums: List[int]\n",
    "        :rtype: List[int]\n",
    "        \"\"\"\n",
    "        arr = [1]*len(nums)\n",
    "        product = 1\n",
    "        \n",
    "        for i in range(0,len(nums)):\n",
    "            arr[i] = product\n",
    "            product = product*nums[i]\n",
    "        \n",
    "        product = 1\n",
    "        for j in range(len(nums)-1,-1,-1):\n",
    "            arr[j] = product*arr[j]\n",
    "            product = product*nums[j]\n",
    "            \n",
    "        return arr\n",
    "            \n",
    "\n",
    "nums = [1,2,3,4]\n",
    "##nums = [0,0]\n",
    "res = Solution().productExceptSelf(nums)\n",
    "print(res)"
   ]
  }
 ],
 "metadata": {
  "kernelspec": {
   "display_name": "Python 3",
   "language": "python",
   "name": "python3"
  },
  "language_info": {
   "codemirror_mode": {
    "name": "ipython",
    "version": 3
   },
   "file_extension": ".py",
   "mimetype": "text/x-python",
   "name": "python",
   "nbconvert_exporter": "python",
   "pygments_lexer": "ipython3",
   "version": "3.5.2"
  }
 },
 "nbformat": 4,
 "nbformat_minor": 2
}
