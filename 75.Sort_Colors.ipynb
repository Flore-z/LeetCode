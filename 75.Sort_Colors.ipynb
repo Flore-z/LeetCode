{
 "cells": [
  {
   "cell_type": "code",
   "execution_count": 7,
   "metadata": {},
   "outputs": [
    {
     "data": {
      "text/plain": [
       "[0, 0, 1, 1, 1, 2, 2, 2]"
      ]
     },
     "execution_count": 7,
     "metadata": {},
     "output_type": "execute_result"
    }
   ],
   "source": [
    "class Solution(object):\n",
    "    def sortColors(self, nums):\n",
    "        \"\"\"\n",
    "        :type nums: List[int]\n",
    "        :rtype: void Do not return anything, modify nums in-place instead.\n",
    "        \"\"\"\n",
    "        if nums== []:\n",
    "            return \n",
    "        p0 = 0; p2 = len(nums) - 1\n",
    "        i = 0\n",
    "        while i <= p2:\n",
    "            if nums[i] == 2:\n",
    "                nums[i], nums[p2] = nums[p2], nums[i]\n",
    "                p2 -= 1\n",
    "            elif nums[i] == 0:\n",
    "                nums[i], nums[p0] = nums[p0], nums[i]\n",
    "                p0 +=1\n",
    "                i += 1\n",
    "            else:\n",
    "                i += 1       \n",
    "                \n",
    "nums = [0,2,1,1,2,0,2,1]\n",
    "Solution().sortColors(nums)        \n",
    "nums"
   ]
  },
  {
   "cell_type": "code",
   "execution_count": null,
   "metadata": {
    "collapsed": true
   },
   "outputs": [],
   "source": []
  }
 ],
 "metadata": {
  "kernelspec": {
   "display_name": "Python 3",
   "language": "python",
   "name": "python3"
  },
  "language_info": {
   "codemirror_mode": {
    "name": "ipython",
    "version": 3
   },
   "file_extension": ".py",
   "mimetype": "text/x-python",
   "name": "python",
   "nbconvert_exporter": "python",
   "pygments_lexer": "ipython3",
   "version": "3.5.2"
  }
 },
 "nbformat": 4,
 "nbformat_minor": 2
}
