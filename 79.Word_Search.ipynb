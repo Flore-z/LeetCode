{
 "cells": [
  {
   "cell_type": "code",
   "execution_count": 133,
   "metadata": {},
   "outputs": [
    {
     "name": "stdout",
     "output_type": "stream",
     "text": [
      "[0, 0, 0, 0] \n",
      "\n",
      "[0, 0, 0, 0] \n",
      "\n",
      "[0, 0, 0, 0] \n",
      "\n",
      "0 0\n",
      "[1, 1, 1, 0] \n",
      "\n",
      "[0, 0, 1, 0] \n",
      "\n",
      "[0, 1, 1, 0] \n",
      "\n"
     ]
    },
    {
     "data": {
      "text/plain": [
       "True"
      ]
     },
     "execution_count": 133,
     "metadata": {},
     "output_type": "execute_result"
    }
   ],
   "source": [
    "class Solution(object):\n",
    "    def exist(self, board, word):\n",
    "        \"\"\"\n",
    "        :type board: List[List[str]]\n",
    "        :type word: str\n",
    "        :rtype: bool\n",
    "        \"\"\"\n",
    "        if not board:\n",
    "            return False\n",
    "        if not word:\n",
    "            return True\n",
    "        visit = [] \n",
    "        for i in range(len(board)):\n",
    "            visit.append([0] * len(board[0]))\n",
    "        self.print_(visit)\n",
    "        for i in range(len(board)):\n",
    "            for j in range(len(board[0])):\n",
    "                if self.dfs(board, word, visit, i, j, 0):\n",
    "                    print(i,j)\n",
    "                    self.print_(visit)\n",
    "                    return True\n",
    "        return False\n",
    "        \n",
    "    def dfs(self, board, word, visit, i, j, k = 0):\n",
    "        if board[i][j] == word[k] and visit[i][j] == 0:\n",
    "            visit[i][j] = 1\n",
    "            if k == len(word) - 1:\n",
    "                return True\n",
    "            if k < len(word) - 1:\n",
    "                if j < len(board[0]) - 1 and self.dfs(board, word, visit, i, j+1, k+1):   #right\n",
    "                    return True\n",
    "                if i < len(board) - 1 and self.dfs(board, word, visit, i+1, j, k+1):      #down\n",
    "                    return True\n",
    "                if j > 0 and self.dfs(board, word, visit, i, j-1, k+1):              #left\n",
    "                    return True\n",
    "                if i > 0 and self.dfs(board, word, visit, i-1, j, k+1):              #up\n",
    "                    return True\n",
    "            visit[i][j] = 0\n",
    "            return False\n",
    "        return False\n",
    "    \n",
    "    def print_(self, board):\n",
    "        for i in range(len(board)):\n",
    "            print(board[i], '\\n')\n",
    "                \n",
    "board =[\n",
    "  ['A','B','C','E'],\n",
    "  ['S','F','C','S'],\n",
    "  ['A','D','E','E']\n",
    "]\n",
    "word = \"ABCCED\"\n",
    "#word = \"SEE\"\n",
    "#word = \"ABCB\"\n",
    "\n",
    "Solution().exist(board, word)"
   ]
  },
  {
   "cell_type": "code",
   "execution_count": 89,
   "metadata": {},
   "outputs": [
    {
     "name": "stdout",
     "output_type": "stream",
     "text": [
      "['A', 'B', 'C', 'E'] \n",
      "\n",
      "['S', 'F', 'C', 'S'] \n",
      "\n",
      "['A', 'D', 'E', 'E'] \n",
      "\n",
      "['A', 'B', 'C', 'E'] \n",
      "\n",
      "['S', 'F', 'C', ' '] \n",
      "\n",
      "['A', 'D', ' ', ' '] \n",
      "\n"
     ]
    },
    {
     "data": {
      "text/plain": [
       "True"
      ]
     },
     "execution_count": 89,
     "metadata": {},
     "output_type": "execute_result"
    }
   ],
   "source": [
    "class Solution(object):\n",
    "    def exist(self, board, word):\n",
    "        if not word:\n",
    "            return True\n",
    "        if not board:\n",
    "            return False\n",
    "        self.print_(board)\n",
    "        for i in range(len(board)):\n",
    "            for j in range(len(board[0])):\n",
    "                if self.exist_helper(board, word, i, j):\n",
    "                    self.print_(board)\n",
    "                    return True\n",
    "        return False\n",
    "\n",
    "    def exist_helper(self, board, word, i, j):\n",
    "        if board[i][j] == word[0]:\n",
    "            board[i][j] = \" \"           # indicate used cell\n",
    "            if not word[1:]:\n",
    "                return True\n",
    "            # check all adjacent cells\n",
    "            if i > 0 and self.exist_helper(board, word[1:], i-1, j):\n",
    "                return True\n",
    "            if i < len(board)-1 and self.exist_helper(board, word[1:], i+1, j):\n",
    "                return True\n",
    "            if j > 0 and self.exist_helper(board, word[1:], i, j-1):\n",
    "                return True\n",
    "            if j < len(board[0])-1 and self.exist_helper(board, word[1:], i, j+1):\n",
    "                return True\n",
    "            board[i][j] = word[0]        # update the cell to its original value\n",
    "            return False\n",
    "        else:\n",
    "            return False\n",
    "        \n",
    "    def print_(self, board):\n",
    "        for i in range(len(board)):\n",
    "            print(board[i], '\\n')\n",
    "        \n",
    "board =[\n",
    "  ['A','B','C','E'],\n",
    "  ['S','F','C','S'],\n",
    "  ['A','D','E','E']\n",
    "]\n",
    "word = \"ABCCED\"\n",
    "word = \"SEE\"\n",
    "#word = \"ABCB\"\n",
    "\n",
    "Solution().exist(board, word)"
   ]
  },
  {
   "cell_type": "code",
   "execution_count": 65,
   "metadata": {},
   "outputs": [
    {
     "name": "stdout",
     "output_type": "stream",
     "text": [
      "{(0, 1): False, (1, 2): False, (0, 0): False, (2, 2): False, (0, 2): False, (2, 1): False}\n"
     ]
    },
    {
     "data": {
      "text/plain": [
       "True"
      ]
     },
     "execution_count": 65,
     "metadata": {},
     "output_type": "execute_result"
    }
   ],
   "source": [
    "class Solution:\n",
    "    # @param board, a list of lists of 1 length string\n",
    "    # @param word, a string\n",
    "    # @return a boolean\n",
    "    # 3:42\n",
    "    def exist(self, board, word):\n",
    "        visited = {}\n",
    "\n",
    "        for i in range(len(board)):\n",
    "            for j in range(len(board[0])):\n",
    "                if self.getWords(board, word, i, j, visited):\n",
    "                    print(visited)\n",
    "                    return True\n",
    "        \n",
    "        return False\n",
    "\n",
    "    def getWords(self, board, word, i, j, visited, pos = 0):\n",
    "        if pos == len(word):\n",
    "            return True\n",
    "\n",
    "        if i < 0 or i == len(board) or j < 0 or j == len(board[0]) or visited.get((i, j)) or word[pos] != board[i][j]:\n",
    "            return False\n",
    "\n",
    "        visited[(i, j)] = True\n",
    "        res = self.getWords(board, word, i, j + 1, visited, pos + 1) \\\n",
    "                or self.getWords(board, word, i, j - 1, visited, pos + 1) \\\n",
    "                or self.getWords(board, word, i + 1, j, visited, pos + 1) \\\n",
    "                or self.getWords(board, word, i - 1, j, visited, pos + 1)\n",
    "        visited[(i, j)] = False\n",
    "\n",
    "        return res\n",
    "        \n",
    "    def print_(self, board):\n",
    "        for i in range(len(board)):\n",
    "            print(board[i], '\\n')\n",
    "        \n",
    "board =[\n",
    "  ['A','B','C','E'],\n",
    "  ['S','F','C','S'],\n",
    "  ['A','D','E','E']\n",
    "]\n",
    "word = \"ABCCED\"\n",
    "#word = \"SEE\"\n",
    "#word = \"ABCB\"\n",
    "\n",
    "Solution().exist(board, word)"
   ]
  },
  {
   "cell_type": "code",
   "execution_count": 4,
   "metadata": {},
   "outputs": [
    {
     "data": {
      "text/plain": [
       "False"
      ]
     },
     "execution_count": 4,
     "metadata": {},
     "output_type": "execute_result"
    }
   ],
   "source": [
    "class Solution(object):\n",
    "    def exist(self, board, word):\n",
    "        \"\"\"\n",
    "        :type board: List[List[str]]\n",
    "        :type word: str\n",
    "        :rtype: bool\n",
    "        \"\"\"\n",
    "        \n",
    "        def preCheck():\n",
    "            preDict = {}\n",
    "    \n",
    "            for i in word:\n",
    "                if i in preDict: preDict[i]+=1\n",
    "                else: preDict[i] = 1\n",
    "            \n",
    "            for i in board:\n",
    "                for j in i:\n",
    "                    if j in preDict and preDict[j]>0: preDict[j]-=1\n",
    "            for i in preDict.values():\n",
    "                if i>0: return False\n",
    "            return True\n",
    "                    \n",
    "        def helper(wordIdx, x, y):\n",
    "            if board[x][y] != word[wordIdx]: return False\n",
    "            elif wordIdx == l-1: return True\n",
    "            else:\n",
    "                wordIdx += 1\n",
    "                tempChar = board[x][y]\n",
    "                board[x][y] = None\n",
    "                for d in [(0,1),(0,-1),(1,0),(-1,0)]:\n",
    "                    xNext = x+d[0]\n",
    "                    yNext = y+d[1]\n",
    "                    if -1<xNext<m and -1<yNext<n and board[xNext][yNext]: \n",
    "                        if helper(wordIdx, xNext, yNext): return True\n",
    "                board[x][y] = tempChar\n",
    "                return False\n",
    "        \n",
    "        if not board: return False\n",
    "        if not word: return True\n",
    "    \n",
    "        if not preCheck(): return False\n",
    "        m = len(board)\n",
    "        n = len(board[0])\n",
    "        l = len(word)\n",
    "        for i in range(m):\n",
    "            for j in range(n):\n",
    "                if helper(0,i,j): return True\n",
    "    \n",
    "        return False\n",
    "\n",
    "board =[\n",
    "  ['A','B','C','E'],\n",
    "  ['S','F','C','S'],\n",
    "  ['A','D','E','E']\n",
    "]\n",
    "word = \"ABCCED\"\n",
    "#word = \"SEE\"\n",
    "#word = \"ABCB\"\n",
    "\n",
    "Solution().exist(board, word)"
   ]
  },
  {
   "cell_type": "code",
   "execution_count": null,
   "metadata": {
    "collapsed": true
   },
   "outputs": [],
   "source": []
  }
 ],
 "metadata": {
  "kernelspec": {
   "display_name": "Python 3",
   "language": "python",
   "name": "python3"
  },
  "language_info": {
   "codemirror_mode": {
    "name": "ipython",
    "version": 3
   },
   "file_extension": ".py",
   "mimetype": "text/x-python",
   "name": "python",
   "nbconvert_exporter": "python",
   "pygments_lexer": "ipython3",
   "version": "3.5.2"
  }
 },
 "nbformat": 4,
 "nbformat_minor": 2
}
