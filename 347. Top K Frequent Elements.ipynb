{
 "cells": [
  {
   "cell_type": "code",
   "execution_count": null,
   "metadata": {
    "collapsed": true
   },
   "outputs": [],
   "source": [
    "Question：\n",
    "Given a non-empty array of integers, return the k most frequent elements.\n",
    "\n",
    "For example,\n",
    "Given [1,1,1,2,2,3] and k = 2, return [1,2].\n",
    "\n",
    "Note: \n",
    "You may assume k is always valid, 1 ≤ k ≤ number of unique elements.\n",
    "Your algorithm's time complexity must be better than O(n log n), where n is the array's size."
   ]
  },
  {
   "cell_type": "code",
   "execution_count": 2,
   "metadata": {},
   "outputs": [
    {
     "data": {
      "text/plain": [
       "[1, 2]"
      ]
     },
     "execution_count": 2,
     "metadata": {},
     "output_type": "execute_result"
    }
   ],
   "source": [
    "class Solution(object):\n",
    "    def topKFrequent(self, nums, k):\n",
    "        \"\"\"\n",
    "        :type nums: List[int]\n",
    "        :type k: int\n",
    "        :rtype: List[int]\n",
    "        \"\"\"\n",
    "        if not nums:\n",
    "            return []\n",
    "        maps = {}\n",
    "        for n in nums:\n",
    "            if n in maps:\n",
    "                maps[n] += 1\n",
    "            else:\n",
    "                maps[n] = 1\n",
    "                \n",
    "        res = []\n",
    "        maps = sorted(maps.items(), key = lambda x:x[1], reverse = True)\n",
    "        for i in range(k):\n",
    "            res.append(maps[i][0])\n",
    "        return res\n",
    "    \n",
    "nums = [1,1,1,2,2,3]; k = 2\n",
    "Solution().topKFrequent(nums, k)"
   ]
  },
  {
   "cell_type": "code",
   "execution_count": 1,
   "metadata": {},
   "outputs": [
    {
     "data": {
      "text/plain": [
       "[1, 2]"
      ]
     },
     "execution_count": 1,
     "metadata": {},
     "output_type": "execute_result"
    }
   ],
   "source": [
    "# use heap\n",
    "import heapq;\n",
    "\n",
    "class Solution(object):\n",
    "    def topKFrequent(self, nums, k):\n",
    "        \"\"\"\n",
    "        :type nums: List[int]\n",
    "        :type k: int\n",
    "        :rtype: List[int]\n",
    "        \"\"\"\n",
    "        freq = {}\n",
    "        freq_heap = []\n",
    "        for num in nums:\n",
    "            if num in freq:\n",
    "                freq[num] += 1\n",
    "            else:\n",
    "                freq[num] = 1\n",
    "            \n",
    "        for key in freq.keys():\n",
    "            heapq.heappush(freq_heap,(-freq[key],key))\n",
    "        topk = []\n",
    "        for i in range(0,k):\n",
    "            topk.append(heapq.heappop(freq_heap)[1])\n",
    "        return topk\n",
    "    \n",
    "nums = [1,1,1,2,2,3]; k = 2\n",
    "Solution().topKFrequent(nums, k)"
   ]
  }
 ],
 "metadata": {
  "kernelspec": {
   "display_name": "Python 3",
   "language": "python",
   "name": "python3"
  },
  "language_info": {
   "codemirror_mode": {
    "name": "ipython",
    "version": 3
   },
   "file_extension": ".py",
   "mimetype": "text/x-python",
   "name": "python",
   "nbconvert_exporter": "python",
   "pygments_lexer": "ipython3",
   "version": "3.5.2"
  }
 },
 "nbformat": 4,
 "nbformat_minor": 2
}
