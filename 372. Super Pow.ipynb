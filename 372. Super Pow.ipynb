{
 "cells": [
  {
   "cell_type": "code",
   "execution_count": null,
   "metadata": {
    "collapsed": true
   },
   "outputs": [],
   "source": [
    "Question：\n",
    "Your task is to calculate ab mod 1337 where a is a positive integer and b is an extremely large positive integer \n",
    "given in the form of an array.\n",
    "\n",
    "Example1:\n",
    "a = 2\n",
    "b = [3]\n",
    "Result: 8\n",
    "    \n",
    "Example2:\n",
    "a = 2\n",
    "b = [1,0]\n",
    "Result: 1024"
   ]
  },
  {
   "cell_type": "code",
   "execution_count": 2,
   "metadata": {},
   "outputs": [
    {
     "data": {
      "text/plain": [
       "1024"
      ]
     },
     "execution_count": 2,
     "metadata": {},
     "output_type": "execute_result"
    }
   ],
   "source": [
    "# use the function pow(x,y,z)\n",
    "class Solution(object):\n",
    "    def superPow(self, a, b):\n",
    "        \"\"\"\n",
    "        :type a: int\n",
    "        :type b: List[int]\n",
    "        :rtype: int\n",
    "        \"\"\"\n",
    "        return pow(a, int(''.join(map(str, b))),1337)\n",
    "    \n",
    "a = 2;b = [1,0]\n",
    "Solution().superPow(a,b)"
   ]
  },
  {
   "cell_type": "code",
   "execution_count": 1,
   "metadata": {},
   "outputs": [
    {
     "data": {
      "text/plain": [
       "1024"
      ]
     },
     "execution_count": 1,
     "metadata": {},
     "output_type": "execute_result"
    }
   ],
   "source": [
    "# Suppose f(a, b) calculates a^b % k; Then translate above formula to using f :\n",
    "# f(a,1234567) = f(a, 1234560) * f(a, 7) % k = f(f(a, 123456),10) * f(a,7) % k\n",
    "class Solution(object):\n",
    "    def superPow(self, a, b):\n",
    "        \"\"\"\n",
    "        :type a: int\n",
    "        :type b: List[int]\n",
    "        :rtype: int\n",
    "        \"\"\"\n",
    "        base = 1337\n",
    "        def powmod(a, n):   # 0<=n<=10\n",
    "            a %= base\n",
    "            res = 1\n",
    "            for i in range(n):\n",
    "                res = (res*a) % base\n",
    "            return res\n",
    "        \n",
    "        if not b:\n",
    "            return 1\n",
    "        last = b.pop()\n",
    "        return powmod(self.superPow(a, b), 10) * powmod(a, last) % base\n",
    "    \n",
    "a = 2;b = [1,0]\n",
    "Solution().superPow(a,b)"
   ]
  },
  {
   "cell_type": "code",
   "execution_count": null,
   "metadata": {
    "collapsed": true
   },
   "outputs": [],
   "source": [
    "class Solution(object):\n",
    "    def superPow(self, a, b):\n",
    "        \"\"\"\n",
    "        :type a: int\n",
    "        :type b: List[int]\n",
    "        :rtype: int\n",
    "        \"\"\"\n",
    "        b = int(''.join(map(str, b)))\n",
    "        solution = 1\n",
    "        while b > 0:\n",
    "            if (b & 1) == 1:\n",
    "                solution *= a\n",
    "            a *= a\n",
    "            b >>= 1\n",
    "            a %= 1337\n",
    "            solution %= 1337\n",
    "        return solution"
   ]
  }
 ],
 "metadata": {
  "kernelspec": {
   "display_name": "Python 3",
   "language": "python",
   "name": "python3"
  },
  "language_info": {
   "codemirror_mode": {
    "name": "ipython",
    "version": 3
   },
   "file_extension": ".py",
   "mimetype": "text/x-python",
   "name": "python",
   "nbconvert_exporter": "python",
   "pygments_lexer": "ipython3",
   "version": "3.5.2"
  }
 },
 "nbformat": 4,
 "nbformat_minor": 2
}
