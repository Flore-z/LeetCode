{
 "cells": [
  {
   "cell_type": "code",
   "execution_count": null,
   "metadata": {
    "collapsed": true
   },
   "outputs": [],
   "source": [
    "Question:\n",
    "Say you have an array for which the ith element is the price of a given stock on day i.\n",
    "Design an algorithm to find the maximum profit. You may complete as many transactions as you like \n",
    "(ie, buy one and sell one share of the stock multiple times) with the following restrictions:\n",
    "•\tYou may not engage in multiple transactions at the same time \n",
    "    (ie, you must sell the stock before you buy again).\n",
    "•\tAfter you sell your stock, you cannot buy stock on next day. (ie, cooldown 1 day)\n",
    "\n",
    "Example:\n",
    "prices = [1, 2, 3, 0, 2]\n",
    "maxProfit = 3\n",
    "transactions = [buy, sell, cooldown, buy, sell]"
   ]
  },
  {
   "cell_type": "code",
   "execution_count": 1,
   "metadata": {},
   "outputs": [
    {
     "name": "stdout",
     "output_type": "stream",
     "text": [
      "3\n"
     ]
    }
   ],
   "source": [
    "# 对一天的状态有：buy买入，sell卖出，cooldown冷却。\n",
    "# 但是对于这一天是否持股只有两种状态：持股状态（buy），没有持股状态（sell，cooldown）。\n",
    "# 对于当天持股状态时，至当天的为止的最大利润有两种可能：\n",
    "# 1、今天没有买入，跟昨天持股状态一样；\n",
    "# 2、今天买入，昨天是冷却期，利润是前天卖出股票时候得到的利润减去今天股票的价钱。 二者取最大值。\n",
    "# # 对于当天未持股状态，至当天为止的最大利润有两种可能：\n",
    "# 1、今天没有卖出，跟昨天未持股状态一样；\n",
    "# 2、昨天持有股票，今天卖出了，利润是昨天持有股票时候的利润加上今天股票的价钱。 二者取最大值。\n",
    "# 直至最后一天的状态应该是卖出状态。最终利润为sell[-1];\n",
    "class Solution(object):\n",
    "    def maxProfit(self, prices):\n",
    "        \"\"\"\n",
    "        :type prices: List[int]\n",
    "        :rtype: int\n",
    "        \"\"\"\n",
    "        if not prices:\n",
    "            return 0\n",
    "        n = len(prices)\n",
    "        buy, sell = [0]*(n+2), [0]*(n+2)\n",
    "        buy[2] = -prices[0]\n",
    "        for i in range(3, n+2):\n",
    "            buy[i] = max(buy[i-1], sell[i-2] - prices[i-2])\n",
    "            sell[i] = max(sell[i-1], buy[i-1] + prices[i-2])\n",
    "        return sell[-1]\n",
    "\n",
    "prices = [1, 2, 3, 0, 2]\n",
    "res = Solution().maxProfit(prices)\n",
    "print(res)"
   ]
  },
  {
   "cell_type": "code",
   "execution_count": 2,
   "metadata": {},
   "outputs": [
    {
     "name": "stdout",
     "output_type": "stream",
     "text": [
      "3\n"
     ]
    }
   ],
   "source": [
    "# space complexity: O(1)\n",
    "class Solution(object):\n",
    "    def maxProfit(self, prices):\n",
    "        \"\"\"\n",
    "        :type prices: List[int]\n",
    "        :rtype: int\n",
    "        \"\"\"\n",
    "        if len(prices) < 2:\n",
    "            return 0\n",
    "        pre_sell, sell, buy = 0, 0, -float(\"inf\")\n",
    "        for num in prices:\n",
    "            pre_buy = buy\n",
    "            buy = max(buy, pre_sell - num)\n",
    "            pre_sell = sell\n",
    "            sell = max(pre_sell, pre_buy + num)\n",
    "        return sell\n",
    "            \n",
    "prices = [1, 2, 3, 0, 2]\n",
    "res = Solution().maxProfit(prices)\n",
    "print(res)"
   ]
  }
 ],
 "metadata": {
  "kernelspec": {
   "display_name": "Python 3",
   "language": "python",
   "name": "python3"
  },
  "language_info": {
   "codemirror_mode": {
    "name": "ipython",
    "version": 3
   },
   "file_extension": ".py",
   "mimetype": "text/x-python",
   "name": "python",
   "nbconvert_exporter": "python",
   "pygments_lexer": "ipython3",
   "version": "3.5.2"
  }
 },
 "nbformat": 4,
 "nbformat_minor": 2
}
