{
 "cells": [
  {
   "cell_type": "code",
   "execution_count": 7,
   "metadata": {},
   "outputs": [
    {
     "name": "stdout",
     "output_type": "stream",
     "text": [
      "1 1 2 2 3 4 4\n",
      "1 2 3 4\n"
     ]
    }
   ],
   "source": [
    "# Definition for singly-linked list.\n",
    "class ListNode(object):\n",
    "    def __init__(self, x):\n",
    "        self.val = x\n",
    "        self.next = None\n",
    "\n",
    "class Solution(object):\n",
    "    def deleteDuplicates(self, head):\n",
    "        \"\"\"\n",
    "        :type head: ListNode\n",
    "        :rtype: ListNode\n",
    "        \"\"\"\n",
    "        if not head:\n",
    "            return head\n",
    "        \n",
    "        p1 = head\n",
    "        p2 = head\n",
    "        while p2:\n",
    "            if p2.next and p2.val == p2.next.val:\n",
    "                while p2 and p2.next and p2.val == p2.next.val:\n",
    "                    p2 = p2.next\n",
    "                p2 = p2.next\n",
    "                p1.next = p2\n",
    "                p1 = p1.next\n",
    "            else:\n",
    "                p1 = p1.next\n",
    "                p2 = p2.next\n",
    "                \n",
    "        return head\n",
    "        \n",
    "    def printf(self, head):\n",
    "        p = head\n",
    "        while p:\n",
    "            if p.next == None:\n",
    "                print(p.val)\n",
    "            else:\n",
    "                print(p.val, end=\" \")\n",
    "            p = p.next\n",
    "        \n",
    "head = ListNode(1);\n",
    "p = head;\n",
    "p.next = ListNode(1);p = p.next;\n",
    "p.next = ListNode(2);p = p.next\n",
    "p.next = ListNode(2);p = p.next\n",
    "p.next = ListNode(3);p = p.next\n",
    "p.next = ListNode(4);p = p.next\n",
    "p.next = ListNode(4);p = p.next\n",
    "\n",
    "Solution().printf(head)\n",
    "\n",
    "head = Solution().deleteDuplicates(head)\n",
    "Solution().printf(head)"
   ]
  },
  {
   "cell_type": "code",
   "execution_count": 10,
   "metadata": {},
   "outputs": [
    {
     "name": "stdout",
     "output_type": "stream",
     "text": [
      "1 1 2 2 3 4 4\n",
      "1 2 3 4\n"
     ]
    }
   ],
   "source": [
    "# Definition for singly-linked list.\n",
    "class ListNode(object):\n",
    "    def __init__(self, x):\n",
    "        self.val = x\n",
    "        self.next = None\n",
    "\n",
    "class Solution(object):\n",
    "    def deleteDuplicates(self, head):\n",
    "        \"\"\"\n",
    "        :type head: ListNode\n",
    "        :rtype: ListNode\n",
    "        \"\"\"\n",
    "        temp = slow = head\n",
    "        con = set()\n",
    "        while temp:\n",
    "            if temp.val in con:\n",
    "                slow.next = temp.next\n",
    "                temp = slow.next\n",
    "            else:\n",
    "                con.add(temp.val)\n",
    "                slow = temp\n",
    "                temp = temp.next\n",
    "        return head\n",
    "    \n",
    "    def printf(self, head):\n",
    "        p = head\n",
    "        while p:\n",
    "            if p.next == None:\n",
    "                print(p.val)\n",
    "            else:\n",
    "                print(p.val, end=\" \")\n",
    "            p = p.next\n",
    "    \n",
    "head = ListNode(1);\n",
    "p = head;\n",
    "p.next = ListNode(1);p = p.next;\n",
    "p.next = ListNode(2);p = p.next\n",
    "p.next = ListNode(2);p = p.next\n",
    "p.next = ListNode(3);p = p.next\n",
    "p.next = ListNode(4);p = p.next\n",
    "p.next = ListNode(4);p = p.next\n",
    "\n",
    "Solution().printf(head)\n",
    "\n",
    "head = Solution().deleteDuplicates(head)\n",
    "Solution().printf(head)"
   ]
  },
  {
   "cell_type": "code",
   "execution_count": null,
   "metadata": {
    "collapsed": true
   },
   "outputs": [],
   "source": [
    "# Definition for singly-linked list.\n",
    "# class ListNode(object):\n",
    "#     def __init__(self, x):\n",
    "#         self.val = x\n",
    "#         self.next = None\n",
    "\n",
    "class Solution(object):\n",
    "    def deleteDuplicates(self, head):\n",
    "        \"\"\"\n",
    "        :type head: ListNode\n",
    "        :rtype: ListNode\n",
    "        \"\"\"\n",
    "        \n",
    "        curr = head\n",
    "        \n",
    "        while curr is not None and curr.next is not None:\n",
    "            if curr.val == curr.next.val:\n",
    "                curr.next = curr.next.next\n",
    "            \n",
    "            else:\n",
    "                curr = curr.next\n",
    "                \n",
    "        return head"
   ]
  }
 ],
 "metadata": {
  "kernelspec": {
   "display_name": "Python 3",
   "language": "python",
   "name": "python3"
  },
  "language_info": {
   "codemirror_mode": {
    "name": "ipython",
    "version": 3
   },
   "file_extension": ".py",
   "mimetype": "text/x-python",
   "name": "python",
   "nbconvert_exporter": "python",
   "pygments_lexer": "ipython3",
   "version": "3.5.2"
  }
 },
 "nbformat": 4,
 "nbformat_minor": 2
}
