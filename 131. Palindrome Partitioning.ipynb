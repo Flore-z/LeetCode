{
 "cells": [
  {
   "cell_type": "code",
   "execution_count": 58,
   "metadata": {},
   "outputs": [
    {
     "data": {
      "text/plain": [
       "[['a', 'a', 'b'], ['aa', 'b']]"
      ]
     },
     "execution_count": 58,
     "metadata": {},
     "output_type": "execute_result"
    }
   ],
   "source": [
    "# backtracking\n",
    "class Solution:\n",
    "    def partition(self, s):\n",
    "        \"\"\"\n",
    "        :type s: str\n",
    "        :rtype: List[List[str]]\n",
    "        \"\"\"\n",
    "        if len(s) == 0:\n",
    "            return []\n",
    "        res = []\n",
    "        \n",
    "        def backtracking(s, tmp, res):\n",
    "            for i in range(1,len(s)+1):\n",
    "                if i == len(s) and s == s[::-1]:\n",
    "                    tmp.append(s)\n",
    "                    res.append(list(tmp))\n",
    "                    tmp.pop()\n",
    "                else:\n",
    "                    s1 = s[:i]\n",
    "                    s2 = s[i:]\n",
    "                    if s1 == s1[::-1]:\n",
    "                        tmp.append(s1)\n",
    "                        backtracking(s2, tmp, res)\n",
    "                        tmp.pop()\n",
    "                        \n",
    "        backtracking(s, [], res)\n",
    "        return res\n",
    "    \n",
    "#         if not s:\n",
    "#             return []\n",
    "#         res = []\n",
    "#         def backtracking(s, pos, tmp, res):\n",
    "#             if pos == len(s):\n",
    "#                 res.append(list(tmp))\n",
    "#                 return\n",
    "\n",
    "#             for i in range(pos, len(s)):\n",
    "#                 if s[pos:i+1] == s[pos:i+1][::-1]:\n",
    "#                     tmp.append(s[pos:i+1])\n",
    "#                     backtracking(s, i+1, tmp, res)\n",
    "#                     tmp.pop()\n",
    "\n",
    "#         backtracking(s, 0, [], res)\n",
    "#         return res\n",
    "\n",
    "s = \"aab\"\n",
    "# s = \"bbb\"\n",
    "Solution().partition(s)"
   ]
  },
  {
   "cell_type": "code",
   "execution_count": 7,
   "metadata": {},
   "outputs": [
    {
     "data": {
      "text/plain": [
       "[['aa', 'b'], ['a', 'a', 'b']]"
      ]
     },
     "execution_count": 7,
     "metadata": {},
     "output_type": "execute_result"
    }
   ],
   "source": [
    "# dp,判断s[j:i+1]是不是回文\n",
    "class Solution(object):\n",
    "    def partition(self, s):\n",
    "        \"\"\"\n",
    "        :type s: str\n",
    "        :rtype: List[List[str]]\n",
    "        \"\"\"\n",
    "        res=[[[]]]\n",
    "        l=len(s)\n",
    "        check=[[False]*l for i in range(l)] \n",
    "        for i in range(len(s)):\n",
    "            current=[]\n",
    "            for j in range(i+1):\n",
    "                if s[j]==s[i] and (i-j<2 or check[i-1][j+1]):\n",
    "                    check[i][j]=True\n",
    "                    for k in res[j]:\n",
    "                        current.append(k+[s[j:i+1]])\n",
    "            res.append(current)\n",
    "        return res[-1]\n",
    "\n",
    "s = \"aab\"\n",
    "# s = \"bbb\"\n",
    "Solution().partition(s)"
   ]
  }
 ],
 "metadata": {
  "kernelspec": {
   "display_name": "Python 3",
   "language": "python",
   "name": "python3"
  },
  "language_info": {
   "codemirror_mode": {
    "name": "ipython",
    "version": 3
   },
   "file_extension": ".py",
   "mimetype": "text/x-python",
   "name": "python",
   "nbconvert_exporter": "python",
   "pygments_lexer": "ipython3",
   "version": "3.5.2"
  }
 },
 "nbformat": 4,
 "nbformat_minor": 2
}
