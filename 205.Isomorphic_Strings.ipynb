{
 "cells": [
  {
   "cell_type": "code",
   "execution_count": null,
   "metadata": {
    "collapsed": true
   },
   "outputs": [],
   "source": [
    "Question:\n",
    "Given two strings s and t, determine if they are isomorphic.\n",
    "Two strings are isomorphic if the characters in s can be replaced to get t.\n",
    "All occurrences of a character must be replaced with another character while preserving the order of characters.\n",
    "No two characters may map to the same character but a character may map to itself.\n",
    "\n",
    "For example,\n",
    "Given \"egg\", \"add\", return true.\n",
    "Given \"foo\", \"bar\", return false.\n",
    "Given \"paper\", \"title\", return true.\n",
    "\n",
    "Note:\n",
    "You may assume both s and t have the same length"
   ]
  },
  {
   "cell_type": "code",
   "execution_count": 1,
   "metadata": {},
   "outputs": [
    {
     "name": "stdout",
     "output_type": "stream",
     "text": [
      "True\n"
     ]
    }
   ],
   "source": [
    "class Solution:\n",
    "    def isIsomorphic(self, s, t):\n",
    "        \"\"\"\n",
    "        :type s: str\n",
    "        :type t: str\n",
    "        :rtype: bool\n",
    "        \"\"\"\n",
    "        mapst = {}\n",
    "        for i in range(len(s)):\n",
    "            if s[i] not in mapst:\n",
    "                if t[i] in list(mapst.values()):\n",
    "                    return False\n",
    "                mapst[s[i]] = t[i]\n",
    "            elif mapst[s[i]] != t[i]:\n",
    "                return False\n",
    "        \n",
    "        return True    \n",
    "\n",
    "s = \"egg\"; t = \"add\"\n",
    "#s = \"foo\"; t = \"bar\"\n",
    "#s = \"paper\"; t = \"title\"\n",
    "res = Solution().isIsomorphic(s, t)\n",
    "print(res)"
   ]
  },
  {
   "cell_type": "code",
   "execution_count": 1,
   "metadata": {},
   "outputs": [
    {
     "name": "stdout",
     "output_type": "stream",
     "text": [
      "False\n"
     ]
    }
   ],
   "source": [
    "class Solution(object):\n",
    "    def isIsomorphic(self, s, t):\n",
    "        \"\"\"\n",
    "        :type s: str\n",
    "        :type t: str\n",
    "        :rtype: bool\n",
    "        \"\"\"\n",
    "        return len(set(zip(s, t))) == len(set(s)) == len(set(t))\n",
    "    \n",
    "s = \"foo\"; t = \"bar\"\n",
    "res = Solution().isIsomorphic(s, t)\n",
    "print(res)"
   ]
  }
 ],
 "metadata": {
  "kernelspec": {
   "display_name": "Python 3",
   "language": "python",
   "name": "python3"
  },
  "language_info": {
   "codemirror_mode": {
    "name": "ipython",
    "version": 3
   },
   "file_extension": ".py",
   "mimetype": "text/x-python",
   "name": "python",
   "nbconvert_exporter": "python",
   "pygments_lexer": "ipython3",
   "version": "3.5.2"
  }
 },
 "nbformat": 4,
 "nbformat_minor": 2
}
