{
 "cells": [
  {
   "cell_type": "code",
   "execution_count": null,
   "metadata": {
    "collapsed": true
   },
   "outputs": [],
   "source": [
    "Question:\n",
    "Given an integer array nums, find the sum of the elements between indices i and j (i ≤ j), inclusive.\n",
    "The update(i, val) function modifies nums by updating the element at index i to val.\n",
    "\n",
    "Example:\n",
    "Given nums = [1, 3, 5]\n",
    "sumRange(0, 2) -> 9\n",
    "update(1, 2)\n",
    "sumRange(0, 2) -> 8\n",
    "\n",
    "Note:\n",
    "1.\tThe array is only modifiable by the update function.\n",
    "2.\tYou may assume the number of calls to update and sumRange function is distributed evenly."
   ]
  },
  {
   "cell_type": "code",
   "execution_count": 3,
   "metadata": {},
   "outputs": [
    {
     "name": "stdout",
     "output_type": "stream",
     "text": [
      "6\n",
      "32\n"
     ]
    }
   ],
   "source": [
    "# Time Limit Exceeded\n",
    "class NumArray(object):\n",
    "\n",
    "    def __init__(self, nums):\n",
    "        \"\"\"\n",
    "        :type nums: List[int]\n",
    "        \"\"\"\n",
    "        self.nums = nums\n",
    "        self.sum = [0]*(len(nums)+1)\n",
    "        for i in range(1, len(nums)+1):\n",
    "            self.sum[i] = self.sum[i-1] + nums[i-1]\n",
    "\n",
    "    def update(self, i, val):\n",
    "        \"\"\"\n",
    "        :type i: int\n",
    "        :type val: int\n",
    "        :rtype: void\n",
    "        \"\"\"\n",
    "        change = self.nums[i] - val\n",
    "        self.nums[i] = val\n",
    "        for j in range(i+1, len(self.sum)):\n",
    "            self.sum[j] -= change\n",
    "\n",
    "    def sumRange(self, i, j):\n",
    "        \"\"\"\n",
    "        :type i: int\n",
    "        :type j: int\n",
    "        :rtype: int\n",
    "        \"\"\"\n",
    "        return self.sum[j+1] - self.sum[i]\n",
    "\n",
    "# Your NumArray object will be instantiated and called as such:\n",
    "nums = [7,2,7,2,0]\n",
    "obj = NumArray(nums)\n",
    "i, val = 4, 6\n",
    "obj.update(i,val)\n",
    "i, val = 0, 2\n",
    "obj.update(i,val)\n",
    "i, val = 0, 9\n",
    "obj.update(i,val)\n",
    "i, j = 4, 4\n",
    "param_2 = obj.sumRange(i,j)\n",
    "print(param_2)\n",
    "i, val = 3, 8\n",
    "obj.update(i,val)\n",
    "i, j = 0, 4\n",
    "param_2 = obj.sumRange(i,j)\n",
    "print(param_2)"
   ]
  },
  {
   "cell_type": "code",
   "execution_count": 17,
   "metadata": {},
   "outputs": [
    {
     "name": "stdout",
     "output_type": "stream",
     "text": [
      "6\n",
      "32\n"
     ]
    }
   ],
   "source": [
    "# 用树状数组实现\n",
    "class NumArray(object):\n",
    "\n",
    "    def __init__(self, nums):\n",
    "        \"\"\"\n",
    "        :type nums: List[int]\n",
    "        \"\"\"\n",
    "        self.nums = nums\n",
    "        self.c = [0]*len(nums)\n",
    "        for i in range(len(nums)):\n",
    "            if (i+1) % 2 == 1:\n",
    "                self.c[i] = nums[i]\n",
    "            else:\n",
    "                n = self.lowbit(i+1)\n",
    "                self.c[i] = sum(nums[i-n+1:i+1])\n",
    "#         print(self.c)\n",
    "\n",
    "    def update(self, i, val):\n",
    "        \"\"\"\n",
    "        :type i: int\n",
    "        :type val: int\n",
    "        :rtype: void\n",
    "        \"\"\"\n",
    "        change = val - self.nums[i]\n",
    "        self.nums[i] = val\n",
    "        while i < len(self.c):\n",
    "            self.c[i] += change\n",
    "            i += self.lowbit(i+1)\n",
    "#         print(self.c)\n",
    "\n",
    "    def sumRange(self, i, j):\n",
    "        \"\"\"\n",
    "        :type i: int\n",
    "        :type j: int\n",
    "        :rtype: int\n",
    "        \"\"\"\n",
    "        return self.sum(j) - self.sum(i-1)\n",
    "        \n",
    "    def lowbit(self, n):\n",
    "        return n & -n\n",
    "    \n",
    "    def sum(self, i):\n",
    "        res = 0\n",
    "        while i >= 0:\n",
    "            res += self.c[i]\n",
    "            i -= self.lowbit(i+1)\n",
    "        return res\n",
    "\n",
    "# Your NumArray object will be instantiated and called as such:\n",
    "nums = [7,2,7,2,0]\n",
    "obj = NumArray(nums)\n",
    "i, val = 4, 6\n",
    "obj.update(i,val)\n",
    "i, val = 0, 2\n",
    "obj.update(i,val)\n",
    "i, val = 0, 9\n",
    "obj.update(i,val)\n",
    "i, j = 4, 4\n",
    "param_2 = obj.sumRange(i,j)\n",
    "print(param_2)\n",
    "i, val = 3, 8\n",
    "obj.update(i,val)\n",
    "i, j = 0, 4\n",
    "param_2 = obj.sumRange(i,j)\n",
    "print(param_2)"
   ]
  }
 ],
 "metadata": {
  "kernelspec": {
   "display_name": "Python 3",
   "language": "python",
   "name": "python3"
  },
  "language_info": {
   "codemirror_mode": {
    "name": "ipython",
    "version": 3
   },
   "file_extension": ".py",
   "mimetype": "text/x-python",
   "name": "python",
   "nbconvert_exporter": "python",
   "pygments_lexer": "ipython3",
   "version": "3.5.2"
  }
 },
 "nbformat": 4,
 "nbformat_minor": 2
}
