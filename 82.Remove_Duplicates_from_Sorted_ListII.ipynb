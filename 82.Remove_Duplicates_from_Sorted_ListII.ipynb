{
 "cells": [
  {
   "cell_type": "code",
   "execution_count": 36,
   "metadata": {},
   "outputs": [
    {
     "name": "stdout",
     "output_type": "stream",
     "text": [
      "1 2 3 3 4 4 5\n",
      "1 2 5\n"
     ]
    }
   ],
   "source": [
    "# Definition for singly-linked list.\n",
    "class ListNode(object):\n",
    "    def __init__(self, x):\n",
    "        self.val = x\n",
    "        self.next = None\n",
    "\n",
    "class Solution(object):\n",
    "\n",
    "    def deleteDuplicates(self, head):\n",
    "        \"\"\"\n",
    "        :type head: ListNode\n",
    "        :rtype: ListNode\n",
    "        \"\"\"\n",
    "        if head == None or head.next == None:\n",
    "            return head\n",
    "        p = head\n",
    "        p1 = head\n",
    "        p2 = head\n",
    "        n = 1\n",
    "        while p2.next:\n",
    "            if p2.val == p2.next.val:\n",
    "                n += 1\n",
    "            p2 = p2.next\n",
    "            if p2.val != p1.val:\n",
    "                if n < 2:\n",
    "                    p = p1\n",
    "                    p1 = p1.next\n",
    "                p1.val = p2.val\n",
    "                n = 1\n",
    "        \n",
    "        if n >= 2:\n",
    "            if p2.val == head.val:\n",
    "                head = None\n",
    "            p.next = None\n",
    "        else:\n",
    "            p1.next = None\n",
    "        return head\n",
    "\"\"\"\n",
    "head = ListNode(1);\n",
    "p = head;\n",
    "p.next = ListNode(1);p = p.next;\n",
    "p.next = ListNode(1);p = p.next\n",
    "p.next = ListNode(2);p = p.next\n",
    "p.next = ListNode(3);p = p.next\n",
    "\"\"\"\n",
    "head = ListNode(1);\n",
    "p = head;\n",
    "p.next = ListNode(2);p = p.next;\n",
    "p.next = ListNode(3);p = p.next\n",
    "p.next = ListNode(3);p = p.next\n",
    "p.next = ListNode(4);p = p.next\n",
    "p.next = ListNode(4);p = p.next\n",
    "p.next = ListNode(5);p = p.next\n",
    "\n",
    "p = head\n",
    "while p:\n",
    "    if p.next == None:\n",
    "        print(p.val)\n",
    "    else:\n",
    "        print(p.val, end=\" \")\n",
    "    p = p.next\n",
    "\n",
    "\n",
    "head = Solution().deleteDuplicates(head)\n",
    "p = head\n",
    "if 1:\n",
    "    while p:\n",
    "        if p.next == None:\n",
    "            print(p.val)\n",
    "        else:\n",
    "            print(p.val, end=\" \")\n",
    "        p = p.next\n"
   ]
  },
  {
   "cell_type": "code",
   "execution_count": 27,
   "metadata": {},
   "outputs": [
    {
     "name": "stdout",
     "output_type": "stream",
     "text": [
      "1 1 1 2 3\n",
      "2 3\n"
     ]
    }
   ],
   "source": [
    "# Definition for singly-linked list.\n",
    "class ListNode(object):\n",
    "    def __init__(self, x):\n",
    "        self.val = x\n",
    "        self.next = None\n",
    "        \n",
    "class Solution(object):\n",
    "    def deleteDuplicates(self, head):\n",
    "        \"\"\"\n",
    "        :type head: ListNode\n",
    "        :rtype: ListNode\n",
    "        \"\"\"\n",
    "        head0 = pre = ListNode(0)\n",
    "        head0.next = head\n",
    "        while head and head.next:\n",
    "            if head.val == head.next.val:\n",
    "                while head and head.next and head.val == head.next.val:\n",
    "                    head = head.next\n",
    "                head = head.next\n",
    "                pre.next = head\n",
    "            else:\n",
    "                pre = pre.next\n",
    "                head = head.next\n",
    "        return head0.next\n",
    "\n",
    "\n",
    "head = ListNode(1);\n",
    "p = head;\n",
    "p.next = ListNode(1);p = p.next;\n",
    "p.next = ListNode(1);p = p.next\n",
    "p.next = ListNode(2);p = p.next\n",
    "p.next = ListNode(3);p = p.next\n",
    "\"\"\"\n",
    "head = ListNode(1);\n",
    "p = head;\n",
    "p.next = ListNode(2);p = p.next;\n",
    "p.next = ListNode(3);p = p.next\n",
    "p.next = ListNode(3);p = p.next\n",
    "p.next = ListNode(4);p = p.next\n",
    "p.next = ListNode(4);p = p.next\n",
    "p.next = ListNode(5);p = p.next\n",
    "\"\"\"\n",
    "p = head\n",
    "while p:\n",
    "    if p.next == None:\n",
    "        print(p.val)\n",
    "    else:\n",
    "        print(p.val, end=\" \")\n",
    "    p = p.next\n",
    "\n",
    "\n",
    "head = Solution().deleteDuplicates(head)\n",
    "p = head\n",
    "if 1:\n",
    "    while p:\n",
    "        if p.next == None:\n",
    "            print(p.val)\n",
    "        else:\n",
    "            print(p.val, end=\" \")\n",
    "        p = p.next"
   ]
  },
  {
   "cell_type": "code",
   "execution_count": 35,
   "metadata": {},
   "outputs": [
    {
     "name": "stdout",
     "output_type": "stream",
     "text": [
      "0\n",
      "1\n"
     ]
    }
   ],
   "source": [
    "# Definition for singly-linked list.\n",
    "class ListNode(object):\n",
    "    def __init__(self, x):\n",
    "        self.val = x\n",
    "        self.next = None\n",
    "\n",
    "p = ListNode(0)\n",
    "p.next = ListNode(1)\n",
    "q = p.next\n",
    "q = None\n",
    "#p.next = None\n",
    "while p:\n",
    "    print(p.val)\n",
    "    p = p.next"
   ]
  },
  {
   "cell_type": "code",
   "execution_count": null,
   "metadata": {
    "collapsed": true
   },
   "outputs": [],
   "source": []
  }
 ],
 "metadata": {
  "kernelspec": {
   "display_name": "Python 3",
   "language": "python",
   "name": "python3"
  },
  "language_info": {
   "codemirror_mode": {
    "name": "ipython",
    "version": 3
   },
   "file_extension": ".py",
   "mimetype": "text/x-python",
   "name": "python",
   "nbconvert_exporter": "python",
   "pygments_lexer": "ipython3",
   "version": "3.5.2"
  }
 },
 "nbformat": 4,
 "nbformat_minor": 2
}
