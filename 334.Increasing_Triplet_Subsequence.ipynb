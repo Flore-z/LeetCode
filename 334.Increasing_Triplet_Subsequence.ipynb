{
 "cells": [
  {
   "cell_type": "code",
   "execution_count": null,
   "metadata": {
    "collapsed": true
   },
   "outputs": [],
   "source": [
    "Question：\n",
    "Given an unsorted array return whether an increasing subsequence of length 3 exists or not in the array.\n",
    "Formally the function should:\n",
    "Return true if there exists i, j, k \n",
    "such that arr[i] < arr[j] < arr[k] given 0 ≤ i < j < k ≤ n-1 else return false.\n",
    "Your algorithm should run in O(n) time complexity and O(1) space complexity.\n",
    "\n",
    "Examples:\n",
    "Given [1, 2, 3, 4, 5],\n",
    "return true.\n",
    "Given [5, 4, 3, 2, 1],\n",
    "return false."
   ]
  },
  {
   "cell_type": "code",
   "execution_count": 3,
   "metadata": {},
   "outputs": [
    {
     "name": "stdout",
     "output_type": "stream",
     "text": [
      "True\n"
     ]
    }
   ],
   "source": [
    "# 可转化为先找长度为2的递增序列（记为min,middle）然后再判断后面是否有比middle更大的数\n",
    "class Solution(object):\n",
    "    def increasingTriplet(self, nums):\n",
    "        \"\"\"\n",
    "        :type nums: List[int]\n",
    "        :rtype: bool\n",
    "        \"\"\"\n",
    "        if len(nums) < 3:\n",
    "            return False\n",
    "        \n",
    "        min = middle = float('inf')\n",
    "        for x in nums:\n",
    "            if x <= min:\n",
    "                min = x\n",
    "            elif x <= middle:\n",
    "                middle = x\n",
    "            else:\n",
    "                return True\n",
    "        return False\n",
    "\n",
    "nums = [2,1,5,0,4,6]\n",
    "##nums = [5, 4, 3, 2, 1]\n",
    "##nums = [5,1,5,5,2,5,4]\n",
    "res = Solution().increasingTriplet(nums)\n",
    "print(res)"
   ]
  }
 ],
 "metadata": {
  "kernelspec": {
   "display_name": "Python 3",
   "language": "python",
   "name": "python3"
  },
  "language_info": {
   "codemirror_mode": {
    "name": "ipython",
    "version": 3
   },
   "file_extension": ".py",
   "mimetype": "text/x-python",
   "name": "python",
   "nbconvert_exporter": "python",
   "pygments_lexer": "ipython3",
   "version": "3.5.2"
  }
 },
 "nbformat": 4,
 "nbformat_minor": 2
}
