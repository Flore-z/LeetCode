{
 "cells": [
  {
   "cell_type": "raw",
   "metadata": {
    "collapsed": true
   },
   "source": [
    "Question:\n",
    "Given a string array words, find the maximum value of length(word[i]) * length(word[j]) where the two words do \n",
    "not share common letters. You may assume that each word will contain only lower case letters. If no such two \n",
    "words exist, return 0.\n",
    "\n",
    "Example 1:\n",
    "Given [\"abcw\", \"baz\", \"foo\", \"bar\", \"xtfn\", \"abcdef\"]\n",
    "Return 16\n",
    "The two words can be \"abcw\", \"xtfn\".\n",
    "\n",
    "Example 2:\n",
    "Given [\"a\", \"ab\", \"abc\", \"d\", \"cd\", \"bcd\", \"abcd\"]\n",
    "Return 4\n",
    "The two words can be \"ab\", \"cd\".\n",
    "\n",
    "Example 3:\n",
    "Given [\"a\", \"aa\", \"aaa\", \"aaaa\"]\n",
    "Return 0\n",
    "No such pair of words."
   ]
  },
  {
   "cell_type": "code",
   "execution_count": 3,
   "metadata": {},
   "outputs": [
    {
     "name": "stdout",
     "output_type": "stream",
     "text": [
      "16\n"
     ]
    }
   ],
   "source": [
    "# 将第i个字母转换成pow(2,i-1)，将各单词转换成整数，用位运算判断两个单词是否有相同字母\n",
    "class Solution(object):\n",
    "def maxProduct(self, words):\n",
    "    \"\"\"\n",
    "    :type words: List[str]\n",
    "    :rtype: int\n",
    "    \"\"\"\n",
    "    import string\n",
    "    letter = {s:0 for s in string.ascii_lowercase}\n",
    "    for s in letter:\n",
    "        letter[s] = pow(2, ord(s)-97)\n",
    "\n",
    "    trans = [0]*len(words)\n",
    "    for i in range(len(words)):\n",
    "        for s in words[i]:\n",
    "            if not trans[i] & letter[s]:\n",
    "                trans[i] += letter[s]\n",
    "    res = 0\n",
    "    for i in range(len(words)-1):\n",
    "        for j in range(i+1, len(words)):\n",
    "            if not trans[i] & trans[j]:\n",
    "                res = max(len(words[i])*len(words[j]), res)\n",
    "    return res\n",
    "            \n",
    "words = [\"abcw\", \"baz\", \"foo\", \"bar\", \"xtfn\", \"abcdef\"]\n",
    "res = Solution().maxProduct(words)\n",
    "print(res)"
   ]
  },
  {
   "cell_type": "code",
   "execution_count": 4,
   "metadata": {},
   "outputs": [
    {
     "name": "stdout",
     "output_type": "stream",
     "text": [
      "16\n"
     ]
    }
   ],
   "source": [
    "# 将第i个字母转换成pow(2,i-1)，将各单词转换成整数，用位运算判断两个单词是否有相同字母\n",
    "class Solution(object):\n",
    "    def maxProduct(self, words):\n",
    "        \"\"\"\n",
    "        :type words: List[str]\n",
    "        :rtype: int\n",
    "        \"\"\"\n",
    "        trans = []\n",
    "        for word in words:\n",
    "            trans.append(sum(pow(2, ord(s)-97) for s in set(word)))\n",
    "\n",
    "        res = 0\n",
    "        for i in range(len(words)-1):\n",
    "            for j in range(i+1, len(words)):\n",
    "                if not trans[i] & trans[j]:\n",
    "                    res = max(len(words[i])*len(words[j]), res)\n",
    "        return res\n",
    "            \n",
    "words = [\"abcw\", \"baz\", \"foo\", \"bar\", \"xtfn\", \"abcdef\"]\n",
    "res = Solution().maxProduct(words)\n",
    "print(res)"
   ]
  }
 ],
 "metadata": {
  "kernelspec": {
   "display_name": "Python 3",
   "language": "python",
   "name": "python3"
  },
  "language_info": {
   "codemirror_mode": {
    "name": "ipython",
    "version": 3
   },
   "file_extension": ".py",
   "mimetype": "text/x-python",
   "name": "python",
   "nbconvert_exporter": "python",
   "pygments_lexer": "ipython3",
   "version": "3.5.2"
  }
 },
 "nbformat": 4,
 "nbformat_minor": 2
}
