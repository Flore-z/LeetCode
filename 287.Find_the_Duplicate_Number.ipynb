{
 "cells": [
  {
   "cell_type": "code",
   "execution_count": null,
   "metadata": {
    "collapsed": true
   },
   "outputs": [],
   "source": [
    "Question:\n",
    "Given an array nums containing n + 1 integers where each integer is between 1 and n (inclusive), prove that at \n",
    "least one duplicate number must exist. Assume that there is only one duplicate number, find the duplicate one.\n",
    "Note:\n",
    "1.\tYou must not modify the array (assume the array is read only).\n",
    "2.\tYou must use only constant, O(1) extra space.\n",
    "3.\tYour runtime complexity should be less than O(n2).\n",
    "4.\tThere is only one duplicate number in the array, but it could be repeated more than once."
   ]
  },
  {
   "cell_type": "code",
   "execution_count": 1,
   "metadata": {},
   "outputs": [
    {
     "name": "stdout",
     "output_type": "stream",
     "text": [
      "2\n"
     ]
    }
   ],
   "source": [
    "# use set\n",
    "class Solution(object):\n",
    "    def findDuplicate(self, nums):\n",
    "        \"\"\"\n",
    "        :type nums: List[int]\n",
    "        :rtype: int\n",
    "        \"\"\"\n",
    "        n = len(set(nums))\n",
    "        length = len(nums)\n",
    "        tmp = sum(nums) - sum(set(nums))\n",
    "        return tmp // (length - n)\n",
    "\n",
    "nums = [2,1,4,3,1,5,1]\n",
    "nums = [3,2,2,2,4]\n",
    "res = Solution().findDuplicate(nums)\n",
    "print(res)"
   ]
  },
  {
   "cell_type": "code",
   "execution_count": 2,
   "metadata": {},
   "outputs": [
    {
     "name": "stdout",
     "output_type": "stream",
     "text": [
      "2\n"
     ]
    }
   ],
   "source": [
    "# Cycle Detection, use two points\n",
    "class Solution(object):\n",
    "    def findDuplicate(self, nums):\n",
    "        \"\"\"\n",
    "        :type nums: List[int]\n",
    "        :rtype: int\n",
    "        \"\"\"\n",
    "        slow, fast = nums[0], nums[nums[0]]\n",
    "        while slow != fast:\n",
    "            slow = nums[slow]\n",
    "            fast = nums[nums[fast]]\n",
    "\n",
    "        res = 0\n",
    "        while res != slow:\n",
    "            res = nums[res]\n",
    "            slow = nums[slow]\n",
    "\n",
    "        return res\n",
    "\n",
    "nums = [2,1,4,3,1,5,1]\n",
    "nums = [3,2,2,2,4]\n",
    "nums = [1,3,4,2,2]\n",
    "res = Solution().findDuplicate(nums)\n",
    "print(res)"
   ]
  }
 ],
 "metadata": {
  "kernelspec": {
   "display_name": "Python 3",
   "language": "python",
   "name": "python3"
  },
  "language_info": {
   "codemirror_mode": {
    "name": "ipython",
    "version": 3
   },
   "file_extension": ".py",
   "mimetype": "text/x-python",
   "name": "python",
   "nbconvert_exporter": "python",
   "pygments_lexer": "ipython3",
   "version": "3.5.2"
  }
 },
 "nbformat": 4,
 "nbformat_minor": 2
}
