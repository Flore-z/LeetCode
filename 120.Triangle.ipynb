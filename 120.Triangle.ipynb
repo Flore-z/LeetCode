{
 "cells": [
  {
   "cell_type": "code",
   "execution_count": null,
   "metadata": {
    "collapsed": true
   },
   "outputs": [],
   "source": [
    "Question：\n",
    "Given a triangle, find the minimum path sum from top to bottom. Each step you may move to adjacent numbers on \n",
    "the row below.\n",
    "For example, given the following triangle\n",
    "[\n",
    "     [2],\n",
    "    [3,4],\n",
    "   [6,5,7],\n",
    "  [4,1,8,3]\n",
    "]\n",
    "The minimum path sum from top to bottom is 11 (i.e., 2 + 3 + 5 + 1 = 11).\n",
    "Note:\n",
    "Bonus point if you are able to do this using only O(n) extra space, where n is the total number of rows in the \n",
    "triangle."
   ]
  },
  {
   "cell_type": "code",
   "execution_count": 1,
   "metadata": {},
   "outputs": [
    {
     "data": {
      "text/plain": [
       "11"
      ]
     },
     "execution_count": 1,
     "metadata": {},
     "output_type": "execute_result"
    }
   ],
   "source": [
    "# dp, from bottom to top\n",
    "class Solution:\n",
    "    def minimumTotal(self, triangle):\n",
    "        \"\"\"\n",
    "        :type triangle: List[List[int]]\n",
    "        :rtype: int\n",
    "        \"\"\"\n",
    "        n = len(triangle)\n",
    "        dp = triangle[n-1]\n",
    "        for i in range(n-2, -1, -1):\n",
    "            for j in range(i+1):\n",
    "                dp[j] = min(dp[j], dp[j+1]) + triangle[i][j]\n",
    "        \n",
    "        return dp[0]\n",
    "    \n",
    "triangle = [[2], [3,4], [6,5,7], [4,1,8,3]]\n",
    "Solution().minimumTotal(triangle)"
   ]
  },
  {
   "cell_type": "code",
   "execution_count": 4,
   "metadata": {},
   "outputs": [
    {
     "data": {
      "text/plain": [
       "11"
      ]
     },
     "execution_count": 4,
     "metadata": {},
     "output_type": "execute_result"
    }
   ],
   "source": [
    "# dp, from bottom to top\n",
    "class Solution:\n",
    "    def minimumTotal(self, triangle):\n",
    "        result = [0 for i in range(0, len(triangle) + 1)]\n",
    "        for row in triangle[::-1]:\n",
    "            for i in range(0, len(row)):\n",
    "                result[i] = row[i] + min(result[i], result[i + 1])\n",
    "        return result[0]\n",
    "    \n",
    "triangle = [[2], [3,4], [6,5,7], [4,1,8,3]]\n",
    "Solution().minimumTotal(triangle)"
   ]
  }
 ],
 "metadata": {
  "kernelspec": {
   "display_name": "Python 3",
   "language": "python",
   "name": "python3"
  },
  "language_info": {
   "codemirror_mode": {
    "name": "ipython",
    "version": 3
   },
   "file_extension": ".py",
   "mimetype": "text/x-python",
   "name": "python",
   "nbconvert_exporter": "python",
   "pygments_lexer": "ipython3",
   "version": "3.5.2"
  }
 },
 "nbformat": 4,
 "nbformat_minor": 2
}
