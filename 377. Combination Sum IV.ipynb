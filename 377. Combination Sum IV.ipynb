{
 "cells": [
  {
   "cell_type": "code",
   "execution_count": null,
   "metadata": {
    "collapsed": true
   },
   "outputs": [],
   "source": [
    "Question:\n",
    "Given an integer array with all positive numbers and no duplicates, find the number of possible combinations that\n",
    "add up to a positive integer target.\n",
    "\n",
    "Example:\n",
    "nums = [1, 2, 3]\n",
    "target = 4\n",
    "The possible combination ways are:\n",
    "(1, 1, 1, 1)\n",
    "(1, 1, 2)\n",
    "(1, 2, 1)\n",
    "(1, 3)\n",
    "(2, 1, 1)\n",
    "(2, 2)\n",
    "(3, 1)\n",
    "Note that different sequences are counted as different combinations.\n",
    "Therefore the output is 7.\n",
    "\n",
    "Follow up:\n",
    "What if negative numbers are allowed in the given array?\n",
    "How does it change the problem?\n",
    "What limitation we need to add to the question to allow negative numbers?"
   ]
  },
  {
   "cell_type": "code",
   "execution_count": 2,
   "metadata": {},
   "outputs": [
    {
     "name": "stdout",
     "output_type": "stream",
     "text": [
      "[1, 1, 2, 4, 7]\n"
     ]
    },
    {
     "data": {
      "text/plain": [
       "7"
      ]
     },
     "execution_count": 2,
     "metadata": {},
     "output_type": "execute_result"
    }
   ],
   "source": [
    "# dp\n",
    "class Solution(object):\n",
    "    def combinationSum4(self, nums, target):\n",
    "        \"\"\"\n",
    "        :type nums: List[int]\n",
    "        :type target: int\n",
    "        :rtype: int\n",
    "        \"\"\"\n",
    "        dp = [1] + [0]*target\n",
    "        for i in range(1, target+1):\n",
    "            for n in nums:\n",
    "                if i - n >= 0:\n",
    "                    dp[i] += dp[i-n]\n",
    "        print(dp)\n",
    "        return dp[-1]\n",
    "        \n",
    "nums = [1, 2, 3]\n",
    "target = 4\n",
    "Solution().combinationSum4(nums, target)"
   ]
  },
  {
   "cell_type": "code",
   "execution_count": 3,
   "metadata": {},
   "outputs": [
    {
     "data": {
      "text/plain": [
       "7"
      ]
     },
     "execution_count": 3,
     "metadata": {},
     "output_type": "execute_result"
    }
   ],
   "source": [
    "# recursive method\n",
    "class Solution(object):\n",
    "    def combinationSum4(self, nums, target):\n",
    "        \"\"\"\n",
    "        :type nums: List[int]\n",
    "        :type target: int\n",
    "        :rtype: int\n",
    "        \"\"\"\n",
    "        if target == 0:\n",
    "            return 1\n",
    "        res = 0\n",
    "        for n in nums:\n",
    "            if target - n >= 0:\n",
    "                res += self.combinationSum4(nums, target - n)\n",
    "        return res\n",
    "        \n",
    "nums = [1, 2, 3]\n",
    "target = 4\n",
    "Solution().combinationSum4(nums, target)"
   ]
  }
 ],
 "metadata": {
  "kernelspec": {
   "display_name": "Python 3",
   "language": "python",
   "name": "python3"
  },
  "language_info": {
   "codemirror_mode": {
    "name": "ipython",
    "version": 3
   },
   "file_extension": ".py",
   "mimetype": "text/x-python",
   "name": "python",
   "nbconvert_exporter": "python",
   "pygments_lexer": "ipython3",
   "version": "3.5.2"
  }
 },
 "nbformat": 4,
 "nbformat_minor": 2
}
