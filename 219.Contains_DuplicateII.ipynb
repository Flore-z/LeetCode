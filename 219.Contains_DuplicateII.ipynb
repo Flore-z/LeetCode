{
 "cells": [
  {
   "cell_type": "code",
   "execution_count": null,
   "metadata": {
    "collapsed": true
   },
   "outputs": [],
   "source": [
    "Question:\n",
    "Given an array of integers and an integer k, find out whether there are two distinct indices i and j in the \n",
    "array such that nums[i] = nums[j] and the absolute difference between i and j is at most k."
   ]
  },
  {
   "cell_type": "code",
   "execution_count": 1,
   "metadata": {},
   "outputs": [
    {
     "data": {
      "text/plain": [
       "True"
      ]
     },
     "execution_count": 1,
     "metadata": {},
     "output_type": "execute_result"
    }
   ],
   "source": [
    "# Time Limit Exceeded\n",
    "class Solution:\n",
    "    def containsNearbyDuplicate(self, nums, k):\n",
    "        \"\"\"\n",
    "        :type nums: List[int]\n",
    "        :type k: int\n",
    "        :rtype: bool\n",
    "        \"\"\"\n",
    "        for i in range(max(len(nums)-k, 1)):\n",
    "            if len(nums[i: i+k+1]) != len(set(nums[i: i+k+1])):\n",
    "                return True\n",
    "        return False\n",
    "    \n",
    "nums = [1,3,2,5,4,3,5]; k = 3\n",
    "# nums = [1,3,2,5,4,3,6]; k = 3\n",
    "nums = [99,99]; k = 2\n",
    "Solution().containsNearbyDuplicate(nums, k)"
   ]
  },
  {
   "cell_type": "code",
   "execution_count": 5,
   "metadata": {},
   "outputs": [
    {
     "data": {
      "text/plain": [
       "True"
      ]
     },
     "execution_count": 5,
     "metadata": {},
     "output_type": "execute_result"
    }
   ],
   "source": [
    "# hash table\n",
    "class Solution:\n",
    "    def containsNearbyDuplicate(self, nums, k):\n",
    "        \"\"\"\n",
    "        :type nums: List[int]\n",
    "        :type k: int\n",
    "        :rtype: bool\n",
    "        \"\"\"\n",
    "        import collections\n",
    "        d = collections.defaultdict(list)\n",
    "        for i in range(len(nums)):\n",
    "            if nums[i] in d:\n",
    "                if i - d[nums[i]][-1] <= k:\n",
    "                    return True\n",
    "            d[nums[i]].append(i)\n",
    "        return False\n",
    "    \n",
    "#         indexes = {}\n",
    "#         for i,n in enumerate(nums):\n",
    "#             if n in indexes and abs(indexes[n] - i) <= k:\n",
    "#                 return True\n",
    "#             indexes[n] = i\n",
    "#         return False\n",
    "            \n",
    "nums = [1,3,2,5,4,3,5]; k = 3\n",
    "# nums = [1,3,2,5,4,3,6]; k = 3\n",
    "nums = [99,99]; k = 1\n",
    "Solution().containsNearbyDuplicate(nums, k)"
   ]
  }
 ],
 "metadata": {
  "kernelspec": {
   "display_name": "Python 3",
   "language": "python",
   "name": "python3"
  },
  "language_info": {
   "codemirror_mode": {
    "name": "ipython",
    "version": 3
   },
   "file_extension": ".py",
   "mimetype": "text/x-python",
   "name": "python",
   "nbconvert_exporter": "python",
   "pygments_lexer": "ipython3",
   "version": "3.5.2"
  }
 },
 "nbformat": 4,
 "nbformat_minor": 2
}
