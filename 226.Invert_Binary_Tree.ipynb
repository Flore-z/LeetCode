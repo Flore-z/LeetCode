{
 "cells": [
  {
   "cell_type": "code",
   "execution_count": null,
   "metadata": {
    "collapsed": true
   },
   "outputs": [],
   "source": [
    "Question:\n",
    "Invert a binary tree.\n",
    "     4\n",
    "   /   \\\n",
    "  2     7\n",
    " / \\   / \\\n",
    "1   3 6   9\n",
    "to\n",
    "     4\n",
    "   /   \\\n",
    "  7     2\n",
    " / \\   / \\\n",
    "9   6 3   1"
   ]
  },
  {
   "cell_type": "code",
   "execution_count": 1,
   "metadata": {},
   "outputs": [
    {
     "name": "stdout",
     "output_type": "stream",
     "text": [
      "[4]\n",
      "[7, 2]\n",
      "[9, 6, 3, 1]\n"
     ]
    }
   ],
   "source": [
    "# Recursive\n",
    "# Definition for a binary tree node.\n",
    "class TreeNode(object):\n",
    "    def __init__(self, x):\n",
    "        self.val = x\n",
    "        self.left = None\n",
    "        self.right = None\n",
    "\n",
    "class Solution(object):\n",
    "    def invertTree(self, root):\n",
    "        \"\"\"\n",
    "        :type root: TreeNode\n",
    "        :rtype: TreeNode\n",
    "        \"\"\"\n",
    "        if root:\n",
    "            tmp = root.left\n",
    "            root.left = root.right\n",
    "            root.right = tmp\n",
    "            self.invertTree(root.left)\n",
    "            self.invertTree(root.right)\n",
    "        return root\n",
    "    \n",
    "root = TreeNode(4)\n",
    "root.left = TreeNode(2);p = root.left\n",
    "root.right = TreeNode(7);q = root.right\n",
    "p.left = TreeNode(1);p.right = TreeNode(3)\n",
    "q.left = TreeNode(6);q.right = TreeNode(9)\n",
    "\n",
    "root = Solution().invertTree(root)\n",
    "q = [root]\n",
    "while q:\n",
    "    print([x.val for x in q])\n",
    "    tmp = []\n",
    "    while q:\n",
    "        p = q.pop(0)\n",
    "        if p.left: tmp.append(p.left)\n",
    "        if p.right: tmp.append(p.right)\n",
    "    q = tmp"
   ]
  },
  {
   "cell_type": "code",
   "execution_count": 3,
   "metadata": {},
   "outputs": [
    {
     "name": "stdout",
     "output_type": "stream",
     "text": [
      "[4]\n",
      "[7, 2]\n",
      "[9, 6, 3, 1]\n"
     ]
    }
   ],
   "source": [
    "# Iterative\n",
    "# Definition for a binary tree node.\n",
    "class TreeNode(object):\n",
    "    def __init__(self, x):\n",
    "        self.val = x\n",
    "        self.left = None\n",
    "        self.right = None\n",
    "\n",
    "class Solution(object):\n",
    "    def invertTree(self, root):\n",
    "        \"\"\"\n",
    "        :type root: TreeNode\n",
    "        :rtype: TreeNode\n",
    "        \"\"\"\n",
    "        if not root:\n",
    "            return root\n",
    "        q = [root]\n",
    "        while q:\n",
    "            cur = q.pop()\n",
    "            cur.left, cur.right = cur.right, cur.left\n",
    "            if cur.left: q.append(cur.left)\n",
    "            if cur.right: q.append(cur.right)\n",
    "        return root\n",
    "    \n",
    "root = TreeNode(4)\n",
    "root.left = TreeNode(2);p = root.left\n",
    "root.right = TreeNode(7);q = root.right\n",
    "p.left = TreeNode(1);p.right = TreeNode(3)\n",
    "q.left = TreeNode(6);q.right = TreeNode(9)\n",
    "\n",
    "root = Solution().invertTree(root)\n",
    "q = [root]\n",
    "while q:\n",
    "    print([x.val for x in q])\n",
    "    tmp = []\n",
    "    while q:\n",
    "        p = q.pop(0)\n",
    "        if p.left: tmp.append(p.left)\n",
    "        if p.right: tmp.append(p.right)\n",
    "    q = tmp"
   ]
  }
 ],
 "metadata": {
  "kernelspec": {
   "display_name": "Python 3",
   "language": "python",
   "name": "python3"
  },
  "language_info": {
   "codemirror_mode": {
    "name": "ipython",
    "version": 3
   },
   "file_extension": ".py",
   "mimetype": "text/x-python",
   "name": "python",
   "nbconvert_exporter": "python",
   "pygments_lexer": "ipython3",
   "version": "3.5.2"
  }
 },
 "nbformat": 4,
 "nbformat_minor": 2
}
