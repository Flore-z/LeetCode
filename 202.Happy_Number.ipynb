{
 "cells": [
  {
   "cell_type": "code",
   "execution_count": null,
   "metadata": {
    "collapsed": true
   },
   "outputs": [],
   "source": [
    "Question:\n",
    "Write an algorithm to determine if a number is \"happy\".\n",
    "A happy number is a number defined by the following process: Starting with any positive integer, replace the \n",
    "number by the sum of the squares of its digits, and repeat the process until the number equals 1 \n",
    "(where it will stay), or it loops endlessly in a cycle which does not include 1. Those numbers for which this\n",
    "process ends in 1 are happy numbers.\n",
    "\n",
    "Example: 19 is a happy number\n",
    "•\t12 + 92 = 82\n",
    "•\t82 + 22 = 68\n",
    "•\t62 + 82 = 100\n",
    "•\t12 + 02 + 02 = 1"
   ]
  },
  {
   "cell_type": "code",
   "execution_count": 3,
   "metadata": {},
   "outputs": [
    {
     "data": {
      "text/plain": [
       "True"
      ]
     },
     "execution_count": 3,
     "metadata": {},
     "output_type": "execute_result"
    }
   ],
   "source": [
    "class Solution(object):\n",
    "    def isHappy(self, n):\n",
    "        \"\"\"\n",
    "        :type n: int\n",
    "        :rtype: bool\n",
    "        \"\"\"\n",
    "        if n < 1: return False\n",
    "        store = []\n",
    "        while n != 1:\n",
    "            tmp = 0\n",
    "            while n:\n",
    "                tmp += (n % 10) ** 2\n",
    "                n //= 10\n",
    "            if tmp in store:\n",
    "                return False\n",
    "            else:\n",
    "                store.append(tmp)\n",
    "            n = tmp\n",
    "        return True\n",
    "        \n",
    "n = 19\n",
    "Solution().isHappy(n)"
   ]
  }
 ],
 "metadata": {
  "kernelspec": {
   "display_name": "Python 3",
   "language": "python",
   "name": "python3"
  },
  "language_info": {
   "codemirror_mode": {
    "name": "ipython",
    "version": 3
   },
   "file_extension": ".py",
   "mimetype": "text/x-python",
   "name": "python",
   "nbconvert_exporter": "python",
   "pygments_lexer": "ipython3",
   "version": "3.5.2"
  }
 },
 "nbformat": 4,
 "nbformat_minor": 2
}
