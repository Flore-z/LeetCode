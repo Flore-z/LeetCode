{
 "cells": [
  {
   "cell_type": "code",
   "execution_count": null,
   "metadata": {
    "collapsed": true
   },
   "outputs": [],
   "source": [
    "Question：\n",
    "Given a non-empty string s and a dictionary wordDict containing a list of non-empty words, add spaces in s to construct a sentence where each word is a valid dictionary word. You may assume the dictionary does not contain duplicate words.\n",
    "Return all such possible sentences.\n",
    "For example, given\n",
    "s = \"catsanddog\",\n",
    "dict = [\"cat\", \"cats\", \"and\", \"sand\", \"dog\"].\n",
    "A solution is [\"cats and dog\", \"cat sand dog\"]."
   ]
  },
  {
   "cell_type": "code",
   "execution_count": 25,
   "metadata": {},
   "outputs": [
    {
     "data": {
      "text/plain": [
       "['cat sand dog', 'cats and dog']"
      ]
     },
     "execution_count": 25,
     "metadata": {},
     "output_type": "execute_result"
    }
   ],
   "source": [
    "# Time Limit Exceeded\n",
    "class Solution(object):\n",
    "    def wordBreak(self, s, wordDict):\n",
    "        \"\"\"\n",
    "        :type s: str\n",
    "        :type wordDict: List[str]\n",
    "        :rtype: List[str]\n",
    "        \"\"\"\n",
    "        res = []\n",
    "        def dfs(s, dict, tmp, res):\n",
    "            if s == \"\":\n",
    "                res.append(\" \".join(list(tmp)))\n",
    "            for i in range(len(s)):\n",
    "                if s[:i+1] in dict:\n",
    "                    tmp.append(s[:i+1])\n",
    "                    dfs(s[i+1:], dict, tmp, res)\n",
    "                    tmp.pop()\n",
    "                    \n",
    "        dfs(s, wordDict, [], res)\n",
    "        return res\n",
    "\n",
    "s = \"catsanddog\"\n",
    "dict = [\"cat\", \"cats\", \"and\", \"sand\", \"dog\"]\n",
    "\n",
    "Solution().wordBreak(s, dict)"
   ]
  },
  {
   "cell_type": "code",
   "execution_count": 1,
   "metadata": {},
   "outputs": [
    {
     "data": {
      "text/plain": [
       "['cat sand dog', 'cats and dog']"
      ]
     },
     "execution_count": 1,
     "metadata": {},
     "output_type": "execute_result"
    }
   ],
   "source": [
    "# O(n^3)\n",
    "# 125ms\n",
    "class Solution(object):\n",
    "    def wordBreak(self, s, wordDict):\n",
    "        \"\"\"\n",
    "        :type s: str\n",
    "        :type wordDict: List[str]\n",
    "        :rtype: List[str]\n",
    "        \"\"\"\n",
    "        def isb(s,dict):\n",
    "            n = len(s)\n",
    "            dp = [True] + [False]*n\n",
    "            for i in range(n):\n",
    "                for j in range(i+1):\n",
    "                    if dp[j] and s[j:i+1] in dict:\n",
    "                        dp[i+1] = True\n",
    "                        break\n",
    "            return dp[-1]\n",
    "\n",
    "        wordDict = set(wordDict)\n",
    "        res, tmp = [], \"\"\n",
    "        if s in wordDict:\n",
    "            res.append(s)\n",
    "        for i in range(len(s)):\n",
    "            tmp += s[i]\n",
    "            if tmp in wordDict:\n",
    "                if isb(s[i+1:], wordDict):\n",
    "                    tmp2 = self.wordBreak(s[i+1:], wordDict)\n",
    "                    for ss in tmp2:\n",
    "                        res.append(tmp + \" \" + ss)\n",
    "                        \n",
    "        return res\n",
    "\n",
    "s = \"catsanddog\"\n",
    "dict = [\"cat\", \"cats\", \"and\", \"sand\", \"dog\"]\n",
    "Solution().wordBreak(s, dict)"
   ]
  },
  {
   "cell_type": "code",
   "execution_count": 30,
   "metadata": {},
   "outputs": [
    {
     "data": {
      "text/plain": [
       "['cat sand dog', 'cats and dog']"
      ]
     },
     "execution_count": 30,
     "metadata": {},
     "output_type": "execute_result"
    }
   ],
   "source": [
    "class Solution(object):\n",
    "    def wordBreak(self, s, wordDict):\n",
    "        \"\"\"\n",
    "        :type s: str\n",
    "        :type wordDict: List[str]\n",
    "        :rtype: List[str]\n",
    "        \"\"\"\n",
    "        res = []\n",
    "        if not s:\n",
    "            return res\n",
    "        for word in wordDict:\n",
    "            if not s.startswith(word):\n",
    "                continue\n",
    "            if s == word:\n",
    "                res.append(word)\n",
    "            else:\n",
    "                tmp = self.wordBreak(s[len(word):], wordDict)\n",
    "                for w in tmp:\n",
    "                    res.append(word + \" \" + w)\n",
    "        return res\n",
    "            \n",
    "s = \"catsanddog\"\n",
    "dict = [\"cat\", \"cats\", \"and\", \"sand\", \"dog\"]\n",
    "\n",
    "Solution().wordBreak(s, dict)"
   ]
  }
 ],
 "metadata": {
  "kernelspec": {
   "display_name": "Python 3",
   "language": "python",
   "name": "python3"
  },
  "language_info": {
   "codemirror_mode": {
    "name": "ipython",
    "version": 3
   },
   "file_extension": ".py",
   "mimetype": "text/x-python",
   "name": "python",
   "nbconvert_exporter": "python",
   "pygments_lexer": "ipython3",
   "version": "3.5.2"
  }
 },
 "nbformat": 4,
 "nbformat_minor": 2
}
