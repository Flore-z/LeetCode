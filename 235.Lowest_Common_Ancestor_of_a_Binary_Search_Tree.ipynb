{
 "cells": [
  {
   "cell_type": "code",
   "execution_count": 1,
   "metadata": {},
   "outputs": [
    {
     "name": "stdout",
     "output_type": "stream",
     "text": [
      "2 7\n",
      "6\n"
     ]
    }
   ],
   "source": [
    "# note: this is a BST\n",
    "# Definition for a binary tree node.\n",
    "class TreeNode(object):\n",
    "    def __init__(self, x):\n",
    "        self.val = x\n",
    "        self.left = None\n",
    "        self.right = None\n",
    "\n",
    "class Solution(object):\n",
    "    def lowestCommonAncestor(self, root, p, q):\n",
    "        \"\"\"\n",
    "        :type root: TreeNode\n",
    "        :type p: TreeNode\n",
    "        :type q: TreeNode\n",
    "        :rtype: TreeNode\n",
    "        \"\"\"\n",
    "        if root == p or root == q:\n",
    "            return root\n",
    "        if p.val < root.val:\n",
    "            if q.val > root.val:\n",
    "                return root\n",
    "            else:\n",
    "                return self.lowestCommonAncestor(root.left, p, q)\n",
    "        else:\n",
    "            if q.val < root.val:\n",
    "                return root\n",
    "            else:\n",
    "                return self.lowestCommonAncestor(root.right, p, q)\n",
    "        \n",
    "root = TreeNode(6)\n",
    "root.left = TreeNode(2);p = root.left;a = p\n",
    "root.right = TreeNode(8);q = root.right\n",
    "p.left = TreeNode(0)\n",
    "p.right = TreeNode(4);p = p.right\n",
    "q.left = TreeNode(7);b = q.left\n",
    "q.right = TreeNode(9)\n",
    "p.left = TreeNode(3)\n",
    "p.right = TreeNode(5)\n",
    "\n",
    "p, q = a, b\n",
    "print(p.val, q.val)\n",
    "res = Solution().lowestCommonAncestor(root, p, q)\n",
    "print(res.val)"
   ]
  },
  {
   "cell_type": "code",
   "execution_count": 2,
   "metadata": {},
   "outputs": [
    {
     "name": "stdout",
     "output_type": "stream",
     "text": [
      "2 7\n",
      "6\n"
     ]
    }
   ],
   "source": [
    "# Definition for a binary tree node.\n",
    "class TreeNode(object):\n",
    "    def __init__(self, x):\n",
    "        self.val = x\n",
    "        self.left = None\n",
    "        self.right = None\n",
    "\n",
    "class Solution(object):\n",
    "    def lowestCommonAncestor(self, root, p, q):\n",
    "        \"\"\"\n",
    "        :type root: TreeNode\n",
    "        :type p: TreeNode\n",
    "        :type q: TreeNode\n",
    "        :rtype: TreeNode\n",
    "        \"\"\"\n",
    "        if not root:\n",
    "            return root\n",
    "        while root:\n",
    "            if root.val > p.val and root.val > q.val:\n",
    "                root = root.left\n",
    "            elif root.val < p.val and root.val < q.val:\n",
    "                root = root.right\n",
    "            else:\n",
    "                return root\n",
    "            \n",
    "root = TreeNode(6)\n",
    "root.left = TreeNode(2);p = root.left;a = p\n",
    "root.right = TreeNode(8);q = root.right\n",
    "p.left = TreeNode(0)\n",
    "p.right = TreeNode(4);p = p.right\n",
    "q.left = TreeNode(7);b = q.left\n",
    "q.right = TreeNode(9)\n",
    "p.left = TreeNode(3)\n",
    "p.right = TreeNode(5)\n",
    "\n",
    "p, q = a, b\n",
    "print(p.val, q.val)\n",
    "res = Solution().lowestCommonAncestor(root, p, q)\n",
    "print(res.val)"
   ]
  }
 ],
 "metadata": {
  "kernelspec": {
   "display_name": "Python 3",
   "language": "python",
   "name": "python3"
  },
  "language_info": {
   "codemirror_mode": {
    "name": "ipython",
    "version": 3
   },
   "file_extension": ".py",
   "mimetype": "text/x-python",
   "name": "python",
   "nbconvert_exporter": "python",
   "pygments_lexer": "ipython3",
   "version": "3.5.2"
  }
 },
 "nbformat": 4,
 "nbformat_minor": 2
}
