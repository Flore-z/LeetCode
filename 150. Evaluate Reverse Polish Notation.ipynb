{
 "cells": [
  {
   "cell_type": "code",
   "execution_count": 3,
   "metadata": {},
   "outputs": [
    {
     "data": {
      "text/plain": [
       "6"
      ]
     },
     "execution_count": 3,
     "metadata": {},
     "output_type": "execute_result"
    }
   ],
   "source": [
    "# Time Limit Exceeded\n",
    "class Solution:\n",
    "    def evalRPN(self, tokens):\n",
    "        \"\"\"\n",
    "        :type tokens: List[str]\n",
    "        :rtype: int\n",
    "        \"\"\"\n",
    "        res, i, n, s = 0, 0, len(tokens), tokens\n",
    "        if n == 1:\n",
    "            return int(s[0])\n",
    "        while i<n:\n",
    "            if s[i] == \"+\":\n",
    "                res = int(s[i-2]) + int(s[i-1])\n",
    "                s = s[:i-2] + [res] + s[i+1:]\n",
    "                n -= 2\n",
    "                i -= 1\n",
    "            elif s[i] == \"-\":\n",
    "                res = int(s[i-2]) - int(s[i-1])\n",
    "                s = s[:i-2] + [res] + s[i+1:]\n",
    "                n -= 2\n",
    "                i -= 1\n",
    "            elif s[i] == \"*\":\n",
    "                res = int(s[i-2]) * int(s[i-1])\n",
    "                s = s[:i-2] + [res] + s[i+1:]\n",
    "                n -= 2\n",
    "                i -= 1\n",
    "            elif s[i] == \"/\":\n",
    "                res = int(int(s[i-2]) / int(s[i-1]))  # python3\n",
    "#                 res = int(s[i-2])/int(s[i-1]) if ((int(s[i-2])>=0 and int(s[i-1])>0) or (int(s[i-2])<=0 and int(s[i-1])<0)) else -(abs(int(s[i-2]))/abs(int(s[i-1])))\n",
    "                s = s[:i-2] + [res] + s[i+1:]\n",
    "                n -= 2\n",
    "                i -= 1\n",
    "            else:\n",
    "                i += 1\n",
    "        return res\n",
    "    \n",
    "# tokens = [\"2\", \"1\", \"+\", \"3\", \"*\"]\n",
    "tokens = [\"4\", \"13\", \"5\", \"/\", \"+\"] \n",
    "# tokens = [\"10\",\"6\",\"9\",\"3\",\"+\",\"-11\",\"*\",\"/\",\"*\",\"17\",\"+\",\"5\",\"+\"]\n",
    "Solution().evalRPN(tokens)"
   ]
  },
  {
   "cell_type": "code",
   "execution_count": 4,
   "metadata": {},
   "outputs": [
    {
     "data": {
      "text/plain": [
       "0"
      ]
     },
     "execution_count": 4,
     "metadata": {},
     "output_type": "execute_result"
    }
   ],
   "source": [
    "class Solution(object):\n",
    "    def evalRPN(self, tokens):\n",
    "        \"\"\"\n",
    "        :type tokens: List[str]\n",
    "        :rtype: int\n",
    "        \"\"\"\n",
    "        q = []\n",
    "        for x in tokens:\n",
    "            if x == \"+\":\n",
    "                a,b = q.pop(), q.pop()\n",
    "                q.append(int(a) + int(b))\n",
    "            elif x == \"-\":\n",
    "                a,b = q.pop(), q.pop()\n",
    "                q.append(int(b) - int(a))\n",
    "            elif x == \"*\":\n",
    "                a,b = q.pop(), q.pop()\n",
    "                q.append(int(a) * int(b))\n",
    "            elif  x == \"/\":\n",
    "                a,b = q.pop(), q.pop()\n",
    "                q.append(int(int(b) / int(a)))\n",
    "            else:\n",
    "                q.append(x)\n",
    "        res = int(q[-1])\n",
    "        return res\n",
    "    \n",
    "tokens = [\"2\", \"1\", \"+\", \"3\", \"*\"]\n",
    "tokens = [\"4\", \"13\", \"5\", \"/\", \"+\"] \n",
    "tokens = [\"10\",\"6\",\"9\",\"3\",\"+\",\"-11\",\"*\",\"/\",\"*\",\"17\",\"+\",\"5\",\"+\"]\n",
    "Solution().evalRPN(tokens)"
   ]
  },
  {
   "cell_type": "code",
   "execution_count": 1,
   "metadata": {},
   "outputs": [
    {
     "data": {
      "text/plain": [
       "22"
      ]
     },
     "execution_count": 1,
     "metadata": {},
     "output_type": "execute_result"
    }
   ],
   "source": [
    "# 思路：使用堆栈实现：操作数入栈；遇到操作符时，操作数出栈，求值，将结果入栈；当一遍后，栈顶就是表达式的值\n",
    "class Solution:\n",
    "    def evalRPN(self, tokens):\n",
    "        \"\"\"\n",
    "        :type tokens: List[str]\n",
    "        :rtype: int\n",
    "        \"\"\"\n",
    "        import operator\n",
    "        operator_ = {\n",
    "            \"+\": operator.add,\n",
    "            \"-\": operator.sub,\n",
    "            \"*\": operator.mul,\n",
    "            \"/\": operator.floordiv\n",
    "        }\n",
    "        stack = []\n",
    "        for item in tokens:\n",
    "            if item in ['+', '-', '*', '/']:\n",
    "                op2 = stack.pop()\n",
    "                op1 = stack.pop()\n",
    "#                 print(op1, item, op2)\n",
    "                if item == '/':\n",
    "                    result = (int(op1 / op2))\n",
    "#                     result = op1/op2 if (op1 >= 0 and op2 > 0) or (op1 < 0 and op2 < 0) else -(abs(op1) / abs(op2)) # python2\n",
    "                else:\n",
    "                    result = operator_[item](op1, op2)\n",
    "                stack.append(result)\n",
    "            else:\n",
    "                stack.append(int(item))\n",
    "        res = stack.pop()\n",
    "        return res\n",
    "\n",
    "# tokens = [\"4\", \"13\", \"5\", \"/\", \"+\"] \n",
    "tokens = [\"10\",\"6\",\"9\",\"3\",\"+\",\"-11\",\"*\",\"/\",\"*\",\"17\",\"+\",\"5\",\"+\"]\n",
    "Solution().evalRPN(tokens)"
   ]
  },
  {
   "cell_type": "code",
   "execution_count": 1,
   "metadata": {},
   "outputs": [
    {
     "data": {
      "text/plain": [
       "22"
      ]
     },
     "execution_count": 1,
     "metadata": {},
     "output_type": "execute_result"
    }
   ],
   "source": [
    "# fastest\n",
    "class Solution(object):\n",
    "    def evalRPN(self, tokens):\n",
    "        \"\"\"\n",
    "        :type tokens: List[str]\n",
    "        :rtype: int\n",
    "        \"\"\"\n",
    "        import operator\n",
    "        ret = 0\n",
    "        stack = []\n",
    "        for t in tokens:\n",
    "            if len(t) > 1 or t[0].isdigit():\n",
    "                stack.append(int(t))\n",
    "            else:\n",
    "                val1 = stack.pop()\n",
    "                val2 = stack.pop()\n",
    "                if t == \"+\":\n",
    "                    stack.append(val1+val2)\n",
    "                elif t == \"-\":\n",
    "                    stack.append(val2-val1)\n",
    "                elif t == \"*\":\n",
    "                    stack.append(val1*val2)\n",
    "                else:\n",
    "                    stack.append(int(operator.truediv(val2, val1)))\n",
    "        if len(stack) == 0:\n",
    "            return 0\n",
    "        return stack[-1]\n",
    "\n",
    "# tokens = [\"2\", \"1\", \"+\", \"3\", \"*\"]\n",
    "# tokens = [\"4\", \"13\", \"5\", \"/\", \"+\"] \n",
    "tokens = [\"10\",\"6\",\"9\",\"3\",\"+\",\"-11\",\"*\",\"/\",\"*\",\"17\",\"+\",\"5\",\"+\"]\n",
    "Solution().evalRPN(tokens)"
   ]
  },
  {
   "cell_type": "code",
   "execution_count": 2,
   "metadata": {},
   "outputs": [
    {
     "data": {
      "text/plain": [
       "22"
      ]
     },
     "execution_count": 2,
     "metadata": {},
     "output_type": "execute_result"
    }
   ],
   "source": [
    "class Solution(object):\n",
    "    def evalRPN(self, tokens):\n",
    "        \"\"\"\n",
    "        :type tokens: List[str]\n",
    "        :rtype: int\n",
    "        \"\"\"\n",
    "        st = []\n",
    "        ops = '+-*/'\n",
    "        for t in tokens:\n",
    "            if t in ops and len(t) == 1:\n",
    "                b = st.pop()\n",
    "                a = st.pop()\n",
    "                if t == '+':\n",
    "                    st.append(a + b)\n",
    "                elif t == '-':\n",
    "                    st.append(a - b)\n",
    "                elif t == '*':\n",
    "                    st.append(a * b)\n",
    "                else:\n",
    "                    st.append(int(float(a) / b))\n",
    "            else:\n",
    "                st.append(int(t))\n",
    "        return st[-1]\n",
    "\n",
    "# tokens = [\"2\", \"1\", \"+\", \"3\", \"*\"]\n",
    "# tokens = [\"4\", \"13\", \"5\", \"/\", \"+\"] \n",
    "tokens = [\"10\",\"6\",\"9\",\"3\",\"+\",\"-11\",\"*\",\"/\",\"*\",\"17\",\"+\",\"5\",\"+\"]\n",
    "Solution().evalRPN(tokens)"
   ]
  }
 ],
 "metadata": {
  "kernelspec": {
   "display_name": "Python 3",
   "language": "python",
   "name": "python3"
  },
  "language_info": {
   "codemirror_mode": {
    "name": "ipython",
    "version": 3
   },
   "file_extension": ".py",
   "mimetype": "text/x-python",
   "name": "python",
   "nbconvert_exporter": "python",
   "pygments_lexer": "ipython3",
   "version": "3.5.2"
  }
 },
 "nbformat": 4,
 "nbformat_minor": 2
}
