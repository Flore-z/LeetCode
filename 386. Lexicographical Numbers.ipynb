{
 "cells": [
  {
   "cell_type": "code",
   "execution_count": null,
   "metadata": {
    "collapsed": true
   },
   "outputs": [],
   "source": [
    "Question:\n",
    "Given an integer n, return 1 - n in lexicographical order.\n",
    "For example, given 13, return: [1,10,11,12,13,2,3,4,5,6,7,8,9].\n",
    "Please optimize your algorithm to use less time and space. The input size may be as large as 5,000,000."
   ]
  },
  {
   "cell_type": "code",
   "execution_count": 1,
   "metadata": {},
   "outputs": [
    {
     "data": {
      "text/plain": [
       "[1, 10, 2, 3, 4, 5, 6, 7, 8, 9]"
      ]
     },
     "execution_count": 1,
     "metadata": {},
     "output_type": "execute_result"
    }
   ],
   "source": [
    "class Solution(object):\n",
    "    def lexicalOrder(self, n):\n",
    "        \"\"\"\n",
    "        :type n: int\n",
    "        :rtype: List[int]\n",
    "        \"\"\"\n",
    "        return sorted(range(1,n+1), key=str)\n",
    "        \n",
    "Solution().lexicalOrder(10)"
   ]
  },
  {
   "cell_type": "code",
   "execution_count": 7,
   "metadata": {},
   "outputs": [
    {
     "data": {
      "text/plain": [
       "[1, 10, 2, 3, 4, 5, 6, 7, 8, 9]"
      ]
     },
     "execution_count": 7,
     "metadata": {},
     "output_type": "execute_result"
    }
   ],
   "source": [
    "class Solution(object):\n",
    "    def lexicalOrder(self, n):\n",
    "        \"\"\"\n",
    "        :type n: int\n",
    "        :rtype: List[int]\n",
    "        \"\"\"\n",
    "        res = [0] * n\n",
    "        cur = 1\n",
    "        for i in range(n):\n",
    "            res[i] = cur\n",
    "            if cur * 10 <= n:\n",
    "                cur *= 10\n",
    "            elif cur < n and cur % 10 < 9:\n",
    "                cur += 1\n",
    "            else:\n",
    "                while cur//10 % 10 == 9:\n",
    "                    cur //= 10\n",
    "                cur = cur//10 + 1\n",
    "#             print(res)\n",
    "        return res\n",
    "    \n",
    "Solution().lexicalOrder(10)"
   ]
  }
 ],
 "metadata": {
  "kernelspec": {
   "display_name": "Python 3",
   "language": "python",
   "name": "python3"
  },
  "language_info": {
   "codemirror_mode": {
    "name": "ipython",
    "version": 3
   },
   "file_extension": ".py",
   "mimetype": "text/x-python",
   "name": "python",
   "nbconvert_exporter": "python",
   "pygments_lexer": "ipython3",
   "version": "3.5.2"
  }
 },
 "nbformat": 4,
 "nbformat_minor": 2
}
