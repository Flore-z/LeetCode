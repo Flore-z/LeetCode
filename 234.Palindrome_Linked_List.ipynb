{
 "cells": [
  {
   "cell_type": "code",
   "execution_count": null,
   "metadata": {
    "collapsed": true
   },
   "outputs": [],
   "source": [
    "Question:\n",
    "Given a singly linked list, determine if it is a palindrome.\n",
    "Follow up:\n",
    "Could you do it in O(n) time and O(1) space?"
   ]
  },
  {
   "cell_type": "code",
   "execution_count": 3,
   "metadata": {},
   "outputs": [
    {
     "name": "stdout",
     "output_type": "stream",
     "text": [
      "False\n"
     ]
    }
   ],
   "source": [
    "# Definition for singly-linked list.\n",
    "class ListNode(object):\n",
    "    def __init__(self, x):\n",
    "        self.val = x\n",
    "        self.next = None\n",
    "\n",
    "class Solution(object):\n",
    "    def isPalindrome(self, head):\n",
    "        \"\"\"\n",
    "        :type head: ListNode\n",
    "        :rtype: bool\n",
    "        \"\"\"\n",
    "        n, p = 0, head\n",
    "        while p:\n",
    "            p = p.next\n",
    "            n += 1\n",
    "\n",
    "        half, p = n // 2, head\n",
    "        for i in range(half):\n",
    "            p = p.next\n",
    "\n",
    "        pre = None\n",
    "        while p:\n",
    "            q = p.next\n",
    "            p.next = pre\n",
    "            pre = p\n",
    "            p = q\n",
    "        head2 = pre\n",
    "\n",
    "        p, q = head, head2\n",
    "        for i in range(half):\n",
    "            if p.val != q.val:\n",
    "                return False\n",
    "            p, q = p.next, q.next\n",
    "\n",
    "        return True\n",
    "\n",
    "head = ListNode(1)\n",
    "head.next = ListNode(1);p = head.next\n",
    "p.next = ListNode(2);p = p.next\n",
    "p.next = ListNode(1);p = p.next\n",
    "##p.next = ListNode(1)\n",
    "\n",
    "res = Solution().isPalindrome(head)\n",
    "print(res)"
   ]
  },
  {
   "cell_type": "code",
   "execution_count": 2,
   "metadata": {},
   "outputs": [
    {
     "name": "stdout",
     "output_type": "stream",
     "text": [
      "False\n"
     ]
    }
   ],
   "source": [
    "# 快慢指针\n",
    "# Definition for singly-linked list.\n",
    "class ListNode(object):\n",
    "    def __init__(self, x):\n",
    "        self.val = x\n",
    "        self.next = None\n",
    "\n",
    "class Solution(object):\n",
    "    def isPalindrome(self, head):\n",
    "        \"\"\"\n",
    "        :type head: ListNode\n",
    "        :rtype: bool\n",
    "        \"\"\"\n",
    "        if not head or not head.next:\n",
    "            return True\n",
    "        slow = fast = head\n",
    "        while fast and fast.next:\n",
    "            slow = slow.next\n",
    "            fast = fast.next.next\n",
    "            \n",
    "        def reverse(node):\n",
    "            prev = None\n",
    "            curr = node\n",
    "            while curr:\n",
    "                tmp = curr\n",
    "                curr = curr.next\n",
    "                tmp.next = prev\n",
    "                prev = tmp\n",
    "            return prev\n",
    "        \n",
    "        node = reverse(slow)\n",
    "        while node:\n",
    "            if head.val != node.val:\n",
    "                return False\n",
    "            head = head.next\n",
    "            node = node.next\n",
    "        return True\n",
    "\n",
    "head = ListNode(1)\n",
    "head.next = ListNode(1);p = head.next\n",
    "p.next = ListNode(2);p = p.next\n",
    "p.next = ListNode(1);p = p.next\n",
    "##p.next = ListNode(1)\n",
    "\n",
    "res = Solution().isPalindrome(head)\n",
    "print(res)"
   ]
  }
 ],
 "metadata": {
  "kernelspec": {
   "display_name": "Python 3",
   "language": "python",
   "name": "python3"
  },
  "language_info": {
   "codemirror_mode": {
    "name": "ipython",
    "version": 3
   },
   "file_extension": ".py",
   "mimetype": "text/x-python",
   "name": "python",
   "nbconvert_exporter": "python",
   "pygments_lexer": "ipython3",
   "version": "3.5.2"
  }
 },
 "nbformat": 4,
 "nbformat_minor": 2
}
