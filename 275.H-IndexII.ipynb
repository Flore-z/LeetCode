{
 "cells": [
  {
   "cell_type": "code",
   "execution_count": null,
   "metadata": {
    "collapsed": true
   },
   "outputs": [],
   "source": [
    "Question:\n",
    "Follow up for H-Index: What if the citations array is sorted in ascending order? Could you optimize your \n",
    "algorithm?"
   ]
  },
  {
   "cell_type": "code",
   "execution_count": 2,
   "metadata": {},
   "outputs": [
    {
     "name": "stdout",
     "output_type": "stream",
     "text": [
      "3\n"
     ]
    }
   ],
   "source": [
    "# binary search\n",
    "class Solution(object):\n",
    "    def hIndex(self, citations):\n",
    "        \"\"\"\n",
    "        :type citations: List[int]\n",
    "        :rtype: int\n",
    "        \"\"\"\n",
    "        i, j = 0, len(citations)-1\n",
    "        res, n = 0, len(citations)\n",
    "        while i <= j:\n",
    "            mid = (i+j)//2\n",
    "            if citations[mid] >= n - mid:\n",
    "                res = n - mid\n",
    "                j = mid - 1\n",
    "            elif citations[mid] < n - mid:\n",
    "                i = mid + 1\n",
    "\n",
    "        return res\n",
    "    \n",
    "##        while i <= j:\n",
    "##            mid = (i+j)//2\n",
    "##            if citations[mid] == n-mid:\n",
    "##                return n-mid\n",
    "##            elif citations[mid] < n-mid:\n",
    "##                i = mid + 1\n",
    "##            else:\n",
    "##                j = mid - 1\n",
    "##        return n-j-1\n",
    "        \n",
    "\n",
    "citations = [0, 1, 3, 5, 6]\n",
    "# citations = [100]\n",
    "res = Solution().hIndex(citations)\n",
    "print(res)"
   ]
  }
 ],
 "metadata": {
  "kernelspec": {
   "display_name": "Python 3",
   "language": "python",
   "name": "python3"
  },
  "language_info": {
   "codemirror_mode": {
    "name": "ipython",
    "version": 3
   },
   "file_extension": ".py",
   "mimetype": "text/x-python",
   "name": "python",
   "nbconvert_exporter": "python",
   "pygments_lexer": "ipython3",
   "version": "3.5.2"
  }
 },
 "nbformat": 4,
 "nbformat_minor": 2
}
