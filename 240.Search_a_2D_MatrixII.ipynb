{
 "cells": [
  {
   "cell_type": "code",
   "execution_count": null,
   "metadata": {
    "collapsed": true
   },
   "outputs": [],
   "source": [
    "Question:\n",
    "Write an efficient algorithm that searches for a value in an m x n matrix. This matrix has the following \n",
    "properties:\n",
    "Integers in each row are sorted in ascending from left to right.\n",
    "Integers in each column are sorted in ascending from top to bottom.\n",
    "\n",
    "For example,\n",
    "Consider the following matrix:\n",
    "[\n",
    "  [1,   4,  7, 11, 15],\n",
    "  [2,   5,  8, 12, 19],\n",
    "  [3,   6,  9, 16, 22],\n",
    "  [10, 13, 14, 17, 24],\n",
    "  [18, 21, 23, 26, 30]\n",
    "]\n",
    "Given target = 5, return true.\n",
    "Given target = 20, return false."
   ]
  },
  {
   "cell_type": "code",
   "execution_count": 1,
   "metadata": {},
   "outputs": [
    {
     "name": "stdout",
     "output_type": "stream",
     "text": [
      "True\n"
     ]
    }
   ],
   "source": [
    "# 二分查找\n",
    "class Solution(object):\n",
    "    def searchMatrix(self, matrix, target):\n",
    "        \"\"\"\n",
    "        :type matrix: List[List[int]]\n",
    "        :type target: int\n",
    "        :rtype: bool\n",
    "        \"\"\"\n",
    "        if not matrix or not matrix[0]:\n",
    "            return False\n",
    "        n, m = len(matrix), len(matrix[0])\n",
    "        for i in range(n):\n",
    "            if matrix[i][0] <= target <= matrix[i][-1]:\n",
    "                l, h = 0, m-1\n",
    "                while l <= h:\n",
    "                    mid = (l+h) // 2\n",
    "                    if matrix[i][mid] == target:\n",
    "                        return True\n",
    "                    elif matrix[i][mid] < target:\n",
    "                        l = mid + 1\n",
    "                    else:\n",
    "                        h = mid - 1\n",
    "            elif matrix[i][0] > target:\n",
    "                break\n",
    "\n",
    "        return False\n",
    "            \n",
    "matrix = [\n",
    "  [1,   4,  7, 11, 15],\n",
    "  [2,   5,  8, 12, 19],\n",
    "  [3,   6,  9, 16, 22],\n",
    "  [10, 13, 14, 17, 24],\n",
    "  [18, 21, 23, 26, 30]\n",
    "]\n",
    "target = 5\n",
    "res = Solution().searchMatrix(matrix, target)\n",
    "print(res)"
   ]
  },
  {
   "cell_type": "code",
   "execution_count": 4,
   "metadata": {},
   "outputs": [
    {
     "name": "stdout",
     "output_type": "stream",
     "text": [
      "False\n"
     ]
    }
   ],
   "source": [
    "# 从右上角开始，若matrix[i][j]>target，说明第j列没有target；若matrix[i][j]<target，说明第i行没有target\n",
    "class Solution(object):\n",
    "    def searchMatrix(self, matrix, target):\n",
    "        \"\"\"\n",
    "        :type matrix: List[List[int]]\n",
    "        :type target: int\n",
    "        :rtype: bool\n",
    "        \"\"\"\n",
    "        if not matrix or not matrix[0]:\n",
    "            return False\n",
    "        n, m = len(matrix), len(matrix[0])\n",
    "        i, j = 0, m-1\n",
    "        while i < n and j >= 0:\n",
    "            if matrix[i][j] == target:\n",
    "                return True\n",
    "            elif matrix[i][j] < target:\n",
    "                i += 1\n",
    "            else:\n",
    "                j -= 1\n",
    "        return False\n",
    "            \n",
    "matrix = [\n",
    "  [1,   4,  7, 11, 15],\n",
    "  [2,   5,  8, 12, 19],\n",
    "  [3,   6,  9, 16, 22],\n",
    "  [10, 13, 14, 17, 24],\n",
    "  [18, 21, 23, 26, 30]\n",
    "]\n",
    "target = 20\n",
    "res = Solution().searchMatrix(matrix, target)\n",
    "print(res)"
   ]
  }
 ],
 "metadata": {
  "kernelspec": {
   "display_name": "Python 3",
   "language": "python",
   "name": "python3"
  },
  "language_info": {
   "codemirror_mode": {
    "name": "ipython",
    "version": 3
   },
   "file_extension": ".py",
   "mimetype": "text/x-python",
   "name": "python",
   "nbconvert_exporter": "python",
   "pygments_lexer": "ipython3",
   "version": "3.5.2"
  }
 },
 "nbformat": 4,
 "nbformat_minor": 2
}
