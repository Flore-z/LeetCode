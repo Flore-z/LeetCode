{
 "cells": [
  {
   "cell_type": "code",
   "execution_count": 9,
   "metadata": {},
   "outputs": [
    {
     "name": "stdout",
     "output_type": "stream",
     "text": [
      "1 2 3 4 5 6 7 8 \n",
      "\n",
      "4 2 1 3 6 5 7 8 "
     ]
    }
   ],
   "source": [
    "# Definition for a binary tree node.\n",
    "class TreeNode(object):\n",
    "    def __init__(self, x):\n",
    "        self.val = x\n",
    "        self.left = None\n",
    "        self.right = None\n",
    "\n",
    "class Solution(object):\n",
    "    def sortedArrayToBST(self, nums):\n",
    "        \"\"\"\n",
    "        :type nums: List[int]\n",
    "        :rtype: TreeNode\n",
    "        \"\"\"\n",
    "        if not nums:\n",
    "            return None\n",
    "        \n",
    "        l = int((len(nums) - 1)/2)\n",
    "#         l = int(len(nums) / 2)\n",
    "        root = TreeNode(nums[l])\n",
    "        root.left = self.sortedArrayToBST(nums[:l])\n",
    "        root.right = self.sortedArrayToBST(nums[l+1:])\n",
    "        return root\n",
    "    \n",
    "    def inOrder(self, root):\n",
    "        if not root:\n",
    "            return\n",
    "        self.inOrder(root.left)\n",
    "        print(root.val, end = ' ')\n",
    "        self.inOrder(root.right)\n",
    "        \n",
    "    def preOrder(self, root):\n",
    "        if not root:\n",
    "            return\n",
    "        print(root.val, end = ' ')\n",
    "        self.preOrder(root.left)\n",
    "        self.preOrder(root.right)\n",
    "    \n",
    "nums = [1,2,3,4,5,6,7,8]\n",
    "root = Solution().sortedArrayToBST(nums)\n",
    "Solution().inOrder(root)\n",
    "print(\"\\n\")\n",
    "Solution().preOrder(root)"
   ]
  },
  {
   "cell_type": "code",
   "execution_count": 8,
   "metadata": {},
   "outputs": [
    {
     "name": "stdout",
     "output_type": "stream",
     "text": [
      "1 2 3 4 5 6 7 8 \n",
      "\n",
      "4 2 1 3 6 5 7 8 "
     ]
    }
   ],
   "source": [
    "class Solution(object):\n",
    "    def sortedArrayToBST(self, nums):\n",
    "        \"\"\"\n",
    "        :type nums: List[int]\n",
    "        :rtype: TreeNode\n",
    "        \"\"\"\n",
    "        def convert(nums,start,end):\n",
    "            if start>end:\n",
    "                return None\n",
    "            else:\n",
    "                mid=(end+start)//2\n",
    "                t=TreeNode(nums[mid])\n",
    "                t.left=convert(nums,start,mid-1)\n",
    "                t.right=convert(nums,mid+1,end)\n",
    "                return t\n",
    "        \n",
    "        if len(nums) ==0:\n",
    "            return None \n",
    "        \n",
    "        return convert(nums, 0, len(nums)-1)\n",
    "    \n",
    "    def inOrder(self, root):\n",
    "        if not root:\n",
    "            return\n",
    "        self.inOrder(root.left)\n",
    "        print(root.val, end = ' ')\n",
    "        self.inOrder(root.right)\n",
    "        \n",
    "    def preOrder(self, root):\n",
    "        if not root:\n",
    "            return\n",
    "        print(root.val, end = ' ')\n",
    "        self.preOrder(root.left)\n",
    "        self.preOrder(root.right)\n",
    "    \n",
    "nums = [1,2,3,4,5,6,7,8]\n",
    "root = Solution().sortedArrayToBST(nums)\n",
    "Solution().inOrder(root)\n",
    "print(\"\\n\")\n",
    "Solution().preOrder(root)"
   ]
  }
 ],
 "metadata": {
  "kernelspec": {
   "display_name": "Python 3",
   "language": "python",
   "name": "python3"
  },
  "language_info": {
   "codemirror_mode": {
    "name": "ipython",
    "version": 3
   },
   "file_extension": ".py",
   "mimetype": "text/x-python",
   "name": "python",
   "nbconvert_exporter": "python",
   "pygments_lexer": "ipython3",
   "version": "3.5.2"
  }
 },
 "nbformat": 4,
 "nbformat_minor": 2
}
