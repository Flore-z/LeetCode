{
 "cells": [
  {
   "cell_type": "code",
   "execution_count": null,
   "metadata": {},
   "outputs": [],
   "source": [
    "Question:\n",
    "Given an encoded string, return it's decoded string.\n",
    "The encoding rule is: k[encoded_string], where the encoded_string inside the square brackets is being repeated \n",
    "exactly k times. Note that k is guaranteed to be a positive integer.\n",
    "You may assume that the input string is always valid; No extra white spaces, square brackets are well-formed, etc.\n",
    "Furthermore, you may assume that the original data does not contain any digits and that digits are only for those\n",
    "repeat numbers, k. For example, there won't be input like 3a or 2[4].\n",
    "\n",
    "Examples:\n",
    "s = \"3[a]2[bc]\", return \"aaabcbc\".\n",
    "s = \"3[a2[c]]\", return \"accaccacc\".\n",
    "s = \"2[abc]3[cd]ef\", return \"abcabccdcdcdef\"."
   ]
  },
  {
   "cell_type": "code",
   "execution_count": 1,
   "metadata": {},
   "outputs": [
    {
     "data": {
      "text/plain": [
       "'aaabcbc'"
      ]
     },
     "execution_count": 1,
     "metadata": {},
     "output_type": "execute_result"
    }
   ],
   "source": [
    "class Solution(object):\n",
    "    def decodeString(self, s):\n",
    "        \"\"\"\n",
    "        :type s: str\n",
    "        :rtype: str\n",
    "        \"\"\"\n",
    "        stk = [['', 1]]\n",
    "        num = ''\n",
    "        for c in s:\n",
    "            if c.isdigit():\n",
    "                num += c\n",
    "            elif c == '[':\n",
    "                stk.append(['', int(num)])\n",
    "                num = ''\n",
    "            elif c == ']':\n",
    "                ss, count = stk.pop()\n",
    "                stk[-1][0] += ss*count\n",
    "            else:\n",
    "                stk[-1][0] += c\n",
    "        return stk[-1][0]\n",
    "        \n",
    "s = \"3[a]2[bc]\"\n",
    "Solution().decodeString(s)"
   ]
  }
 ],
 "metadata": {
  "kernelspec": {
   "display_name": "Python 3",
   "language": "python",
   "name": "python3"
  },
  "language_info": {
   "codemirror_mode": {
    "name": "ipython",
    "version": 3
   },
   "file_extension": ".py",
   "mimetype": "text/x-python",
   "name": "python",
   "nbconvert_exporter": "python",
   "pygments_lexer": "ipython3",
   "version": "3.5.1"
  }
 },
 "nbformat": 4,
 "nbformat_minor": 2
}
