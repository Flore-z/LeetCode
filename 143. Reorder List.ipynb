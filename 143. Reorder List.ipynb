{
 "cells": [
  {
   "cell_type": "code",
   "execution_count": null,
   "metadata": {
    "collapsed": true
   },
   "outputs": [],
   "source": [
    "Question:\n",
    "Given a singly linked list L: L0→L1→…→Ln-1→Ln,\n",
    "reorder it to: L0→Ln→L1→Ln-1→L2→Ln-2→…\n",
    "\n",
    "You must do this in-place without altering the nodes' values.\n",
    "\n",
    "For example,\n",
    "Given {1,2,3,4}, reorder it to {1,4,2,3}."
   ]
  },
  {
   "cell_type": "code",
   "execution_count": 6,
   "metadata": {},
   "outputs": [
    {
     "name": "stdout",
     "output_type": "stream",
     "text": [
      "1 2 3 4 5 \n",
      "\n",
      "1 5 2 4 3 "
     ]
    }
   ],
   "source": [
    "class ListNode:\n",
    "    def __init__(self,x):\n",
    "        self.val = x\n",
    "        self.next = None\n",
    "\n",
    "class Solution(object):\n",
    "    def reorderList(self, head):\n",
    "        if not head:\n",
    "            return\n",
    "        \n",
    "        n, p = 0, head\n",
    "        while p:\n",
    "            p = p.next\n",
    "            n += 1\n",
    "\n",
    "        p, m = head, int(n/2)\n",
    "        for i in range(m):\n",
    "            p = p.next\n",
    "        mid = p.next\n",
    "        p.next = None\n",
    "        p, pre = mid, None\n",
    "        while p:\n",
    "            q = p.next\n",
    "            p.next = pre\n",
    "            pre = p\n",
    "            p = q\n",
    "\n",
    "        p1, p2 = head, pre\n",
    "        while p2:\n",
    "            q = p2.next\n",
    "            p2.next = p1.next\n",
    "            p1.next = p2\n",
    "            p1 = p2.next\n",
    "            p2 = q\n",
    "\n",
    "head = ListNode(1);p = head\n",
    "p.next = ListNode(2)\n",
    "p = p.next;p.next = ListNode(3)\n",
    "p = p.next;p.next = ListNode(4);q = p\n",
    "p = p.next;p.next = ListNode(5)\n",
    "\n",
    "# head = None\n",
    "p = head\n",
    "while p:\n",
    "    print(p.val, end = \" \")\n",
    "    p = p.next\n",
    "print('\\n')\n",
    "Solution().reorderList(head)\n",
    "p = head\n",
    "while p:\n",
    "    print(p.val, end = \" \")\n",
    "    p = p.next"
   ]
  },
  {
   "cell_type": "code",
   "execution_count": 7,
   "metadata": {},
   "outputs": [
    {
     "name": "stdout",
     "output_type": "stream",
     "text": [
      "1 2 3 4 5 \n",
      "\n",
      "1 5 2 4 3 "
     ]
    }
   ],
   "source": [
    "class Solution(object):\n",
    "    def reorderList(self, head):\n",
    "        if not head: return\n",
    "        # ensure the first part has the same or one more node\n",
    "        fast, slow = head, head\n",
    "        while fast and fast.next:\n",
    "            slow = slow.next\n",
    "            fast = fast.next.next\n",
    "        # reverse the second half\n",
    "        cur, pre = slow.next, None\n",
    "        slow.next = None\n",
    "        while cur:\n",
    "            next = cur.next\n",
    "            cur.next = pre\n",
    "            pre = cur\n",
    "            cur = next\n",
    "        # combine head part and node part\n",
    "        p = head\n",
    "        while pre:\n",
    "            tmp = pre.next\n",
    "            pre.next = p.next\n",
    "            p.next = pre\n",
    "            p = p.next.next\n",
    "            pre = tmp\n",
    "            \n",
    "head = ListNode(1);p = head\n",
    "p.next = ListNode(2)\n",
    "p = p.next;p.next = ListNode(3)\n",
    "p = p.next;p.next = ListNode(4);q = p\n",
    "p = p.next;p.next = ListNode(5)\n",
    "\n",
    "# head = None\n",
    "p = head\n",
    "while p:\n",
    "    print(p.val, end = \" \")\n",
    "    p = p.next\n",
    "print('\\n')\n",
    "Solution().reorderList(head)\n",
    "p = head\n",
    "while p:\n",
    "    print(p.val, end = \" \")\n",
    "    p = p.next"
   ]
  }
 ],
 "metadata": {
  "kernelspec": {
   "display_name": "Python 3",
   "language": "python",
   "name": "python3"
  },
  "language_info": {
   "codemirror_mode": {
    "name": "ipython",
    "version": 3
   },
   "file_extension": ".py",
   "mimetype": "text/x-python",
   "name": "python",
   "nbconvert_exporter": "python",
   "pygments_lexer": "ipython3",
   "version": "3.5.2"
  }
 },
 "nbformat": 4,
 "nbformat_minor": 2
}
