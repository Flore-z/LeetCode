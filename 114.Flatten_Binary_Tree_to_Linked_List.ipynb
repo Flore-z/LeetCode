{
 "cells": [
  {
   "cell_type": "markdown",
   "metadata": {},
   "source": [
    "Question:\n",
    "Given a binary tree, flatten it to a linked list in-place.\n",
    "For example,\n",
    "Given\n",
    "         1\n",
    "        / \\\n",
    "       2   5\n",
    "      / \\   \\\n",
    "     3   4   6\n",
    "The flattened tree should look like:\n",
    "   1\n",
    "    \\\n",
    "     2\n",
    "      \\\n",
    "       3\n",
    "        \\\n",
    "         4\n",
    "          \\\n",
    "           5\n",
    "            \\\n",
    "             6\n",
    "Hints:\n",
    "If you notice carefully in the flattened tree, each node's right child points to the next node of a pre-order\n",
    "traversal."
   ]
  },
  {
   "cell_type": "code",
   "execution_count": 4,
   "metadata": {},
   "outputs": [
    {
     "name": "stdout",
     "output_type": "stream",
     "text": [
      "1 2 3 4 5 6 \n",
      "\n",
      "1 2 3 4 5 6 "
     ]
    }
   ],
   "source": [
    "# recursive\n",
    "# Definition for a binary tree node.\n",
    "class TreeNode(object):\n",
    "    def __init__(self, x):\n",
    "        self.val = x\n",
    "        self.left = None\n",
    "        self.right = None\n",
    "\n",
    "class Solution(object):\n",
    "    def flatten(self, root):\n",
    "        \"\"\"\n",
    "        :type root: TreeNode\n",
    "        :rtype: void Do not return anything, modify root in-place instead.\n",
    "        \"\"\"\n",
    "        if not root:\n",
    "            return\n",
    "        if root.left:\n",
    "            p = root.left\n",
    "            while p.right:\n",
    "                p = p.right           \n",
    "            p.right = root.right        # p为左子树的最右端\n",
    "            root.right = root.left\n",
    "            root.left = None\n",
    "        self.flatten(root.right)\n",
    "        \n",
    "    def preOrder(self, root):\n",
    "        if not root:\n",
    "            return\n",
    "        print(root.val, end = ' ')\n",
    "        self.preOrder(root.left)\n",
    "        self.preOrder(root.right)\n",
    "        \n",
    "root = TreeNode(1)\n",
    "root.left = TreeNode(2);q = root.left\n",
    "q.left = TreeNode(3);q.right = TreeNode(4)\n",
    "root.right = TreeNode(5); p = root.right\n",
    "p.right = TreeNode(6)\n",
    "\n",
    "Solution().preOrder(root);print(\"\\n\")\n",
    "Solution().flatten(root)\n",
    "while root:\n",
    "    print(root.val, end = \" \")\n",
    "    root = root.right"
   ]
  },
  {
   "cell_type": "code",
   "execution_count": 1,
   "metadata": {},
   "outputs": [
    {
     "name": "stdout",
     "output_type": "stream",
     "text": [
      "1 2 3 4 5 6 \n",
      "\n",
      "1 2 3 4 5 6 "
     ]
    }
   ],
   "source": [
    "# iterative\n",
    "# Definition for a binary tree node.\n",
    "class TreeNode(object):\n",
    "    def __init__(self, x):\n",
    "        self.val = x\n",
    "        self.left = None\n",
    "        self.right = None\n",
    "\n",
    "class Solution(object):\n",
    "    def flatten(self, root):\n",
    "        \"\"\"\n",
    "        :type root: TreeNode\n",
    "        :rtype: void Do not return anything, modify root in-place instead.\n",
    "        \"\"\"\n",
    "        if not root:\n",
    "            return\n",
    "        while root:\n",
    "            if root.left:\n",
    "                cur = root.left\n",
    "                while cur.right:\n",
    "                    cur = cur.right     \n",
    "                cur.right = root.right     # cur为左子树的最右端\n",
    "                root.right = root.left\n",
    "                root.left = None\n",
    "            root = root.right\n",
    "        \n",
    "    def preOrder(self, root):\n",
    "        if not root:\n",
    "            return\n",
    "        print(root.val, end = ' ')\n",
    "        self.preOrder(root.left)\n",
    "        self.preOrder(root.right)\n",
    "        \n",
    "root = TreeNode(1)\n",
    "root.left = TreeNode(2);q = root.left\n",
    "q.left = TreeNode(3);q.right = TreeNode(4)\n",
    "root.right = TreeNode(5); p = root.right\n",
    "p.right = TreeNode(6)\n",
    "\n",
    "Solution().preOrder(root);print(\"\\n\")\n",
    "Solution().flatten(root)\n",
    "while root:\n",
    "    print(root.val, end = \" \")\n",
    "    root = root.right"
   ]
  }
 ],
 "metadata": {
  "kernelspec": {
   "display_name": "Python 3",
   "language": "python",
   "name": "python3"
  },
  "language_info": {
   "codemirror_mode": {
    "name": "ipython",
    "version": 3
   },
   "file_extension": ".py",
   "mimetype": "text/x-python",
   "name": "python",
   "nbconvert_exporter": "python",
   "pygments_lexer": "ipython3",
   "version": "3.5.2"
  }
 },
 "nbformat": 4,
 "nbformat_minor": 2
}
