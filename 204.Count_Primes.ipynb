{
 "cells": [
  {
   "cell_type": "code",
   "execution_count": null,
   "metadata": {
    "collapsed": true
   },
   "outputs": [],
   "source": [
    "Question:\n",
    "Count the number of prime numbers less than a non-negative number, n."
   ]
  },
  {
   "cell_type": "code",
   "execution_count": null,
   "metadata": {
    "collapsed": true
   },
   "outputs": [],
   "source": [
    "# Time Limit Exceeded\n",
    "class Solution:\n",
    "    def countPrimes(self, n):\n",
    "        \"\"\"\n",
    "        :type n: int\n",
    "        :rtype: int\n",
    "        \"\"\"\n",
    "        def isPrime(n):\n",
    "            sqrt = int(pow(n,0.5))\n",
    "            for i in range(2,sqrt+1):\n",
    "                if n % i == 0:\n",
    "                    return False\n",
    "            return True\n",
    "\n",
    "        if n <= 2:\n",
    "            return 0\n",
    "        count = 1\n",
    "        for i in range(3, n, 2):\n",
    "            if isPrime(i):\n",
    "                count += 1\n",
    "        return count\n",
    "\n",
    "n = 999983\n",
    "n = 2\n",
    "res = Solution().countPrimes(n)\n",
    "print(res)"
   ]
  },
  {
   "cell_type": "code",
   "execution_count": 1,
   "metadata": {},
   "outputs": [
    {
     "name": "stdout",
     "output_type": "stream",
     "text": [
      "78497\n"
     ]
    }
   ],
   "source": [
    "# Sieve of Eeatosthese\n",
    "class Solution:\n",
    "    def countPrimes(self, n):\n",
    "        \"\"\"\n",
    "        :type n: int\n",
    "        :rtype: int\n",
    "        \"\"\"\n",
    "        import math\n",
    "        if n <= 2:\n",
    "            return 0\n",
    "        flag = [1]*n\n",
    "        flag[:2] =[0]*2\n",
    "        for i in range(4, n, 2):\n",
    "            flag[i] = 0\n",
    "\n",
    "        sqrt = int(math.sqrt(n))\n",
    "        for i in range(3,n):\n",
    "            if flag[i] == 1:\n",
    "                if i > sqrt: break\n",
    "                j = 2\n",
    "                while i*j < n:\n",
    "                    flag[i*j] = 0\n",
    "                    j += 1\n",
    "\n",
    "        count = flag.count(1)\n",
    "        return count\n",
    "\n",
    "n = 999983\n",
    "#n = 16\n",
    "res = Solution().countPrimes(n)\n",
    "print(res)"
   ]
  },
  {
   "cell_type": "code",
   "execution_count": 1,
   "metadata": {},
   "outputs": [
    {
     "data": {
      "text/plain": [
       "3"
      ]
     },
     "execution_count": 1,
     "metadata": {},
     "output_type": "execute_result"
    }
   ],
   "source": [
    "import math\n",
    "class Solution(object):\n",
    "    def countPrimes(self, n):\n",
    "        \"\"\"\n",
    "        :type n: int\n",
    "        :rtype: int\n",
    "        \"\"\"\n",
    "        if n <= 2:\n",
    "            return 0\n",
    "        \n",
    "        tag = [1]*n\n",
    "        tag[:2] = [0]*2\n",
    "        sqrt = int(math.sqrt(n))\n",
    "        for i in range(2, sqrt+1):\n",
    "            if tag[i]:\n",
    "#                 j = i\n",
    "#                 while i*j < n:\n",
    "#                     tag[i*j] = 0\n",
    "#                     j += 1\n",
    "                tag[i*i : n : i] = [0]*len(tag[i*i : n : i])\n",
    "        return sum(tag)\n",
    "    \n",
    "Solution().countPrimes(7)"
   ]
  }
 ],
 "metadata": {
  "kernelspec": {
   "display_name": "Python 3",
   "language": "python",
   "name": "python3"
  },
  "language_info": {
   "codemirror_mode": {
    "name": "ipython",
    "version": 3
   },
   "file_extension": ".py",
   "mimetype": "text/x-python",
   "name": "python",
   "nbconvert_exporter": "python",
   "pygments_lexer": "ipython3",
   "version": "3.5.2"
  }
 },
 "nbformat": 4,
 "nbformat_minor": 2
}
