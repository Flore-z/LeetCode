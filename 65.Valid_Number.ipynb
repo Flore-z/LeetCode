{
 "cells": [
  {
   "cell_type": "code",
   "execution_count": 21,
   "metadata": {},
   "outputs": [
    {
     "data": {
      "text/plain": [
       "False"
      ]
     },
     "execution_count": 21,
     "metadata": {},
     "output_type": "execute_result"
    }
   ],
   "source": [
    "class Solution(object):\n",
    "    def isNumber(self, s):\n",
    "        \"\"\"\n",
    "        :type s: str\n",
    "        :rtype: bool\n",
    "        \"\"\"\n",
    "        s = s.strip()\n",
    "        if len(s)==0:\n",
    "            return False\n",
    "        \n",
    "        L = s.split('e')\n",
    "        if len(L)>2:\n",
    "            return False\n",
    "        for x in L:\n",
    "            if len(x)==0:\n",
    "                return False\n",
    "            for y in x:\n",
    "                if y<'0' or y>'9':\n",
    "                    return False\n",
    "            return True\n",
    "        \n",
    "        L = s.split('.')\n",
    "        if len(L)!=2:\n",
    "            return False\n",
    "        if len(L[0])==0 or (len(L[0])==1 and L[0]=='0'):\n",
    "            for x in L[1]:\n",
    "                if x<'0' or x>'9':\n",
    "                    return False\n",
    "            return True\n",
    "        else:\n",
    "            if L[0][0]=='0':\n",
    "                return False\n",
    "            for x in L:\n",
    "                for y in x:\n",
    "                    if y<'0' or y>'9':\n",
    "                        return False\n",
    "        return True\n",
    "\n",
    "s='.1 '\n",
    "res = Solution().isNumber(s)\n",
    "res"
   ]
  },
  {
   "cell_type": "code",
   "execution_count": 22,
   "metadata": {},
   "outputs": [
    {
     "data": {
      "text/plain": [
       "True"
      ]
     },
     "execution_count": 22,
     "metadata": {},
     "output_type": "execute_result"
    }
   ],
   "source": [
    "class Solution(object):  \n",
    "    def isNumber(self, s):  \n",
    "        \"\"\" \n",
    "        :type s: str \n",
    "        :rtype: bool \n",
    "        \"\"\"  \n",
    "        try:  \n",
    "            num = float(s)  \n",
    "        except:  \n",
    "            return False  \n",
    "        return True  \n",
    "\n",
    "s='.1 '\n",
    "res = Solution().isNumber(s)\n",
    "res"
   ]
  },
  {
   "cell_type": "code",
   "execution_count": null,
   "metadata": {
    "collapsed": true
   },
   "outputs": [],
   "source": []
  }
 ],
 "metadata": {
  "kernelspec": {
   "display_name": "Python 3",
   "language": "python",
   "name": "python3"
  },
  "language_info": {
   "codemirror_mode": {
    "name": "ipython",
    "version": 3
   },
   "file_extension": ".py",
   "mimetype": "text/x-python",
   "name": "python",
   "nbconvert_exporter": "python",
   "pygments_lexer": "ipython3",
   "version": "3.4.3"
  }
 },
 "nbformat": 4,
 "nbformat_minor": 2
}
