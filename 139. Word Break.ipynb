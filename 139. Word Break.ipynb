{
 "cells": [
  {
   "cell_type": "code",
   "execution_count": null,
   "metadata": {
    "collapsed": true
   },
   "outputs": [],
   "source": [
    "Question：\n",
    "Given a non-empty string s and a dictionary wordDict containing a list of non-empty words, determine if s can be\n",
    "segmented into a space-separated sequence of one or more dictionary words. You may assume the dictionary does not\n",
    "contain duplicate words.\n",
    "\n",
    "For example, given\n",
    "s = \"leetcode\",\n",
    "dict = [\"leet\", \"code\"].\n",
    "Return true because \"leetcode\" can be segmented as \"leet code\"."
   ]
  },
  {
   "cell_type": "code",
   "execution_count": 11,
   "metadata": {},
   "outputs": [
    {
     "data": {
      "text/plain": [
       "True"
      ]
     },
     "execution_count": 11,
     "metadata": {},
     "output_type": "execute_result"
    }
   ],
   "source": [
    "# Time Limit Exceeded\n",
    "class Solution(object):\n",
    "    def wordBreak(self, s, wordDict):\n",
    "        \"\"\"\n",
    "        :type s: str\n",
    "        :type wordDict: List[str]\n",
    "        :rtype: bool\n",
    "        \"\"\"\n",
    "        if s == \"\":\n",
    "            return True\n",
    "        for i in range(1, len(s) + 1):\n",
    "            if s[:i] in wordDict:\n",
    "                if self.wordBreak(s[i:], wordDict):\n",
    "                    return True\n",
    "        return False\n",
    "        \n",
    "s = \"leetcode\"\n",
    "dict = [\"leet\", \"code\"]\n",
    "Solution().wordBreak(s,dict)"
   ]
  },
  {
   "cell_type": "code",
   "execution_count": 3,
   "metadata": {},
   "outputs": [
    {
     "data": {
      "text/plain": [
       "True"
      ]
     },
     "execution_count": 3,
     "metadata": {},
     "output_type": "execute_result"
    }
   ],
   "source": [
    "# dp\n",
    "class Solution(object):\n",
    "    def wordBreak(self, s, wordDict):\n",
    "        \"\"\"\n",
    "        :type s: str\n",
    "        :type wordDict: List[str]\n",
    "        :rtype: bool\n",
    "        \"\"\"\n",
    "        n = len(s)\n",
    "        dp = [True] + [False]*n\n",
    "        for i in range(n):\n",
    "            for j in range(i+1):\n",
    "                if dp[j] and s[j:i+1] in wordDict:\n",
    "                    dp[i+1] = True\n",
    "                    break\n",
    "        return dp[-1]\n",
    "    \n",
    "s = \"leetcode\"\n",
    "dict = [\"leet\", \"code\"]\n",
    "Solution().wordBreak(s,dict)"
   ]
  },
  {
   "cell_type": "code",
   "execution_count": 12,
   "metadata": {},
   "outputs": [
    {
     "data": {
      "text/plain": [
       "True"
      ]
     },
     "execution_count": 12,
     "metadata": {},
     "output_type": "execute_result"
    }
   ],
   "source": [
    "class Solution(object):\n",
    "    def wordBreak(self, s, wordDict):\n",
    "        dp =[False]*(len(s)+1)\n",
    "        dp[0]=True\n",
    "        #0 1 2 3 4 5\n",
    "        for i in range(1,len(s)+1):\n",
    "            for w in wordDict:\n",
    "                if i >= len(w) and dp[i-len(w)] and s[i-len(w):i] == w:\n",
    "                    dp[i]=True\n",
    "                    break\n",
    "                    \n",
    "        return dp[-1]\n",
    "    \n",
    "s = \"leetcode\"\n",
    "dict = [\"leet\", \"code\"]\n",
    "Solution().wordBreak(s,dict)"
   ]
  },
  {
   "cell_type": "code",
   "execution_count": null,
   "metadata": {
    "collapsed": true
   },
   "outputs": [],
   "source": []
  }
 ],
 "metadata": {
  "kernelspec": {
   "display_name": "Python 3",
   "language": "python",
   "name": "python3"
  },
  "language_info": {
   "codemirror_mode": {
    "name": "ipython",
    "version": 3
   },
   "file_extension": ".py",
   "mimetype": "text/x-python",
   "name": "python",
   "nbconvert_exporter": "python",
   "pygments_lexer": "ipython3",
   "version": "3.5.2"
  }
 },
 "nbformat": 4,
 "nbformat_minor": 2
}
