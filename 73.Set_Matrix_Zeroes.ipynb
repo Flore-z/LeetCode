{
 "cells": [
  {
   "cell_type": "code",
   "execution_count": 11,
   "metadata": {},
   "outputs": [
    {
     "name": "stdout",
     "output_type": "stream",
     "text": [
      "[1, 2, 3]\n",
      "[0, 5, 6]\n",
      "[7, 8, 9]\n",
      "\n",
      "\n",
      "[0, 2, 3]\n",
      "[0, 0, 0]\n",
      "[0, 8, 9]\n"
     ]
    }
   ],
   "source": [
    "class Solution(object):\n",
    "    def setZeroes(self, matrix):\n",
    "        \"\"\"\n",
    "        :type matrix: List[List[int]]\n",
    "        :rtype: void Do not return anything, modify matrix in-place \n",
    "         instead.\n",
    "        \"\"\"\n",
    "        m = len(matrix)\n",
    "        n = len(matrix[0])\n",
    "        lm = []; ln = []\n",
    "        if m != 0:\n",
    "            for i in range(m):\n",
    "                for j in range(n):\n",
    "                    if matrix[i][j] == 0:\n",
    "                        lm.append(i)\n",
    "                        ln.append(j)\n",
    "                    \n",
    "            for i in lm:\n",
    "                matrix[i] = [0 for x in matrix[i]]\n",
    "            for j in ln:\n",
    "                for k in range(m):\n",
    "                    matrix[k][j] = 0\n",
    "\n",
    "matrix = [[1,2,3],[0,5,6],[7,8,9]]\n",
    "for x in matrix:\n",
    "    print(x)\n",
    "print('\\n')\n",
    "Solution().setZeroes(matrix)\n",
    "for x in matrix:\n",
    "    print(x)"
   ]
  },
  {
   "cell_type": "code",
   "execution_count": null,
   "metadata": {
    "collapsed": true
   },
   "outputs": [],
   "source": []
  }
 ],
 "metadata": {
  "kernelspec": {
   "display_name": "Python 3",
   "language": "python",
   "name": "python3"
  },
  "language_info": {
   "codemirror_mode": {
    "name": "ipython",
    "version": 3
   },
   "file_extension": ".py",
   "mimetype": "text/x-python",
   "name": "python",
   "nbconvert_exporter": "python",
   "pygments_lexer": "ipython3",
   "version": "3.5.2"
  }
 },
 "nbformat": 4,
 "nbformat_minor": 2
}
