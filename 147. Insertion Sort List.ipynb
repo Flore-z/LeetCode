{
 "cells": [
  {
   "cell_type": "code",
   "execution_count": null,
   "metadata": {
    "collapsed": true
   },
   "outputs": [],
   "source": [
    "Question:\n",
    "Sort a linked list using insertion sort."
   ]
  },
  {
   "cell_type": "code",
   "execution_count": 3,
   "metadata": {},
   "outputs": [
    {
     "name": "stdout",
     "output_type": "stream",
     "text": [
      "3 2 1 1 2 3 "
     ]
    }
   ],
   "source": [
    "# Definition for singly-linked list.\n",
    "class ListNode(object):\n",
    "    def __init__(self, x):\n",
    "        self.val = x\n",
    "        self.next = None\n",
    "\n",
    "class Solution(object):\n",
    "    def insertionSortList(self, head):\n",
    "        \"\"\"\n",
    "        :type head: ListNode\n",
    "        :rtype: ListNode\n",
    "        \"\"\"\n",
    "        if not head:\n",
    "            return head\n",
    "        h = ListNode(0)\n",
    "        h.next, p = head, head\n",
    "        while p:\n",
    "            if p.next and p.next.val < p.val:\n",
    "                pre = h\n",
    "                while pre != p:\n",
    "                    if pre.next.val >= p.next.val:\n",
    "                        q = ListNode(p.next.val)\n",
    "                        q.next = pre.next\n",
    "                        pre.next = q\n",
    "                        p.next = p.next.next\n",
    "                        break\n",
    "                    else:\n",
    "                        pre = pre.next\n",
    "            else:\n",
    "                p = p.next\n",
    "        return h.next\n",
    "\n",
    "head = ListNode(3);p = head\n",
    "p.next = ListNode(2)\n",
    "p = p.next;p.next = ListNode(1)\n",
    "#p = p.next;p.next = ListNode(4);q = p\n",
    "#p = p.next;p.next = ListNode(5)\n",
    "\n",
    "# head = None\n",
    "p = head\n",
    "while p:\n",
    "    print(p.val, end=\" \")\n",
    "    p = p.next\n",
    "head = Solution().insertionSortList(head)\n",
    "p = head\n",
    "while p:\n",
    "    print(p.val, end=\" \")\n",
    "    p = p.next"
   ]
  },
  {
   "cell_type": "code",
   "execution_count": 2,
   "metadata": {},
   "outputs": [
    {
     "name": "stdout",
     "output_type": "stream",
     "text": [
      "3 2 1 1 2 3 "
     ]
    }
   ],
   "source": [
    "# Definition for singly-linked list.\n",
    "class ListNode(object):\n",
    "    def __init__(self, x):\n",
    "        self.val = x\n",
    "        self.next = None\n",
    "\n",
    "class Solution(object):\n",
    "    def insertionSortList(self, head):\n",
    "        \"\"\"\n",
    "        :type head: ListNode\n",
    "        :rtype: ListNode\n",
    "        \"\"\"\n",
    "        if not head or not head.next:\n",
    "            return head\n",
    "        \n",
    "        dummy = ListNode(0)\n",
    "        dummy.next, p = head, head\n",
    "\n",
    "        while p.next:\n",
    "            if p.next.val < p.val:\n",
    "                pre = dummy\n",
    "                while pre.next.val <= p.next.val:\n",
    "                    pre = pre.next\n",
    "                tmp = p.next\n",
    "                p.next = p.next.next\n",
    "                tmp.next = pre.next\n",
    "                pre.next = tmp\n",
    "            else:\n",
    "                p = p.next\n",
    "\n",
    "        return dummy.next\n",
    "    \n",
    "head = ListNode(3);p = head\n",
    "p.next = ListNode(2)\n",
    "p = p.next;p.next = ListNode(1)\n",
    "#p = p.next;p.next = ListNode(4);q = p\n",
    "#p = p.next;p.next = ListNode(5)\n",
    "\n",
    "# head = None\n",
    "p = head\n",
    "while p:\n",
    "    print(p.val, end=\" \")\n",
    "    p = p.next\n",
    "head = Solution().insertionSortList(head)\n",
    "p = head\n",
    "while p:\n",
    "    print(p.val, end=\" \")\n",
    "    p = p.next"
   ]
  },
  {
   "cell_type": "code",
   "execution_count": 3,
   "metadata": {},
   "outputs": [
    {
     "name": "stdout",
     "output_type": "stream",
     "text": [
      "2 3 4 "
     ]
    }
   ],
   "source": [
    "# Definition for singly-linked list.\n",
    "class ListNode(object):\n",
    "    def __init__(self, x):\n",
    "        self.val = x\n",
    "        self.next = None\n",
    "\n",
    "class Solution(object):\n",
    "    def insertionSortList(self, head):\n",
    "        \"\"\"\n",
    "        :type head: ListNode\n",
    "        :rtype: ListNode\n",
    "        \"\"\"\n",
    "        if not head or not head.next:\n",
    "            return\n",
    "        \n",
    "        res = []\n",
    "        p = head\n",
    "        while p:\n",
    "            res.append(p)\n",
    "            p = p.next\n",
    "        res = sorted(res, key=lambda x:x.val)\n",
    "        for i in range(len(res)-1):\n",
    "            res[i].next = res[i+1]\n",
    "        res[-1].next = None\n",
    "        return res[0]\n",
    "    \n",
    "head = ListNode(3)\n",
    "head.next = ListNode(2)\n",
    "head.next.next = ListNode(4)\n",
    "\n",
    "head = Solution().insertionSortList(head)\n",
    "p = head\n",
    "while p:\n",
    "    print(p.val, end=\" \")\n",
    "    p = p.next"
   ]
  }
 ],
 "metadata": {
  "kernelspec": {
   "display_name": "Python 3",
   "language": "python",
   "name": "python3"
  },
  "language_info": {
   "codemirror_mode": {
    "name": "ipython",
    "version": 3
   },
   "file_extension": ".py",
   "mimetype": "text/x-python",
   "name": "python",
   "nbconvert_exporter": "python",
   "pygments_lexer": "ipython3",
   "version": "3.5.2"
  }
 },
 "nbformat": 4,
 "nbformat_minor": 2
}
