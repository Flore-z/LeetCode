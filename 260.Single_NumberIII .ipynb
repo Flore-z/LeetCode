{
 "cells": [
  {
   "cell_type": "code",
   "execution_count": null,
   "metadata": {
    "collapsed": true
   },
   "outputs": [],
   "source": [
    "Question:\n",
    "Given an array of numbers nums, in which exactly two elements appear only once and all the other elements \n",
    "appear exactly twice. Find the two elements that appear only once.\n",
    "\n",
    "For example:\n",
    "Given nums = [1, 2, 1, 3, 2, 5], return [3, 5].\n",
    "\n",
    "Note:\n",
    "1.\tThe order of the result is not important. So in the above example, [5, 3] is also correct.\n",
    "2.\tYour algorithm should run in linear runtime complexity. Could you implement it using only constant space \n",
    "complexity?"
   ]
  },
  {
   "cell_type": "code",
   "execution_count": 1,
   "metadata": {},
   "outputs": [
    {
     "name": "stdout",
     "output_type": "stream",
     "text": [
      "[5, 3]\n"
     ]
    }
   ],
   "source": [
    "class Solution(object):\n",
    "    def singleNumber(self, nums):\n",
    "        \"\"\"\n",
    "        :type nums: List[int]\n",
    "        :rtype: List[int]\n",
    "        \"\"\"\n",
    "        n = nums[0]\n",
    "        for i in range(1, len(nums)):\n",
    "            n ^= nums[i]\n",
    "\n",
    "        bit = 1\n",
    "        while n % 2 == 0:\n",
    "            n >>= 1\n",
    "            bit <<= 1\n",
    "\n",
    "##        bit = n & -n\n",
    "\n",
    "        res1, res2 = 0, 0\n",
    "        for num in nums:\n",
    "            if num & bit == 0:\n",
    "                res1 ^= num\n",
    "            else:\n",
    "                res2 ^= num\n",
    "\n",
    "        return [res1, res2]\n",
    "        \n",
    "nums = [1, 2, 1, 3, 2, 5]\n",
    "res = Solution().singleNumber(nums)\n",
    "print(res)"
   ]
  }
 ],
 "metadata": {
  "kernelspec": {
   "display_name": "Python 3",
   "language": "python",
   "name": "python3"
  },
  "language_info": {
   "codemirror_mode": {
    "name": "ipython",
    "version": 3
   },
   "file_extension": ".py",
   "mimetype": "text/x-python",
   "name": "python",
   "nbconvert_exporter": "python",
   "pygments_lexer": "ipython3",
   "version": "3.5.2"
  }
 },
 "nbformat": 4,
 "nbformat_minor": 2
}
