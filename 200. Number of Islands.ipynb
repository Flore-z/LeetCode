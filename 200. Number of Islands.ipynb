{
 "cells": [
  {
   "cell_type": "code",
   "execution_count": null,
   "metadata": {
    "collapsed": true
   },
   "outputs": [],
   "source": [
    "Question:\n",
    "Given a 2d grid map of '1's (land) and '0's (water), count the number of islands. An island is surrounded by \n",
    "water and is formed by connecting adjacent lands horizontally or vertically. You may assume all four edges of \n",
    "the grid are all surrounded by water.\n",
    "\n",
    "Example 1:\n",
    "11110\n",
    "11010\n",
    "11000\n",
    "00000\n",
    "Answer: 1\n",
    "    \n",
    "Example 2:\n",
    "11000\n",
    "11000\n",
    "00100\n",
    "00011\n",
    "Answer: 3"
   ]
  },
  {
   "cell_type": "code",
   "execution_count": 5,
   "metadata": {},
   "outputs": [
    {
     "name": "stdout",
     "output_type": "stream",
     "text": [
      "['1', '1', '0', '0', '0'] \n",
      "\n",
      "['1', '1', '0', '0', '0'] \n",
      "\n",
      "['0', '0', '1', '0', '0'] \n",
      "\n",
      "['0', '0', '0', '1', '1'] \n",
      "\n"
     ]
    },
    {
     "data": {
      "text/plain": [
       "3"
      ]
     },
     "execution_count": 5,
     "metadata": {},
     "output_type": "execute_result"
    }
   ],
   "source": [
    "# DFS\n",
    "class Solution:\n",
    "    def numIslands(self, grid):\n",
    "        \"\"\"\n",
    "        :type grid: List[List[str]]\n",
    "        :rtype: int\n",
    "        \"\"\" \n",
    "        def search(grid, i, j):\n",
    "            if i < 0 or i >= m or j < 0 or j >= n:\n",
    "                return \n",
    "            if grid[i][j] == '1':\n",
    "                grid[i][j] = '0'\n",
    "                search(grid, i-1, j)\n",
    "                search(grid, i, j-1)\n",
    "                search(grid, i+1, j)\n",
    "                search(grid, i, j+1)\n",
    "            \n",
    "        if grid == []:\n",
    "            return 0\n",
    "        m, n = len(grid), len(grid[0])\n",
    "        count = 0\n",
    "        for i in range(m):\n",
    "            for j in range(n):\n",
    "                if grid[i][j] == '1':\n",
    "                    search(grid, i, j)\n",
    "                    count += 1\n",
    "        return count\n",
    "        \n",
    "grid = [['1','1','1','1','0'],['1','1','0','1','0'],['1','1','0','0','0'],['0','0','0','0','0']]   \n",
    "grid = [['1','1','0','0','0'],['1','1','0','0','0'],['0','0','1','0','0'],['0','0','0','1','1']]\n",
    "for i in range(len(grid)):\n",
    "    print(grid[i], '\\n')\n",
    "Solution().numIslands(grid)"
   ]
  }
 ],
 "metadata": {
  "kernelspec": {
   "display_name": "Python 3",
   "language": "python",
   "name": "python3"
  },
  "language_info": {
   "codemirror_mode": {
    "name": "ipython",
    "version": 3
   },
   "file_extension": ".py",
   "mimetype": "text/x-python",
   "name": "python",
   "nbconvert_exporter": "python",
   "pygments_lexer": "ipython3",
   "version": "3.5.2"
  }
 },
 "nbformat": 4,
 "nbformat_minor": 2
}
