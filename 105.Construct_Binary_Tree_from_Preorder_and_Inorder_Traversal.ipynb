{
 "cells": [
  {
   "cell_type": "code",
   "execution_count": 26,
   "metadata": {},
   "outputs": [
    {
     "name": "stdout",
     "output_type": "stream",
     "text": [
      "1 2 3 "
     ]
    }
   ],
   "source": [
    "# Definition for a binary tree node.\n",
    "class TreeNode(object):\n",
    "    def __init__(self, x):\n",
    "        self.val = x\n",
    "        self.left = None\n",
    "        self.right = None\n",
    "\n",
    "class Solution(object):\n",
    "    def buildTree(self, preorder, inorder):\n",
    "        \"\"\"\n",
    "        :type preorder: List[int]\n",
    "        :type inorder: List[int]\n",
    "        :rtype: TreeNode\n",
    "        \"\"\"\n",
    "        if preorder == []:\n",
    "            return None\n",
    "        root = TreeNode(preorder[0])\n",
    "        \n",
    "        def build(preorder, inorder, root):\n",
    "            idx = inorder.index(root.val)\n",
    "            if preorder != []:\n",
    "                if preorder[:len(inorder[:idx])] != []:\n",
    "                    root.left = TreeNode(preorder[0])\n",
    "                    idx2 = inorder.index(root.left.val)\n",
    "                    build(preorder[1:], inorder[:idx], root.left)\n",
    "                if inorder[idx+1:] != []:\n",
    "                    idx2 = len(inorder[:idx])\n",
    "                    root.right = TreeNode(preorder[idx2])\n",
    "                    build(preorder[idx2+1:], inorder[idx+1:], root.right)\n",
    "            \n",
    "        build(preorder[1:], inorder, root)\n",
    "        return root\n",
    "        \n",
    "    def preOrder(self, root):\n",
    "        if not root:\n",
    "            return\n",
    "        print(root.val, end = ' ')\n",
    "        self.preOrder(root.left)\n",
    "        self.preOrder(root.right)\n",
    "\n",
    "preorder = [1,2,3]\n",
    "inorder = [2,3,1]\n",
    "# preorder = [1,2,4,3]\n",
    "# inorder = [4,2,1,3]\n",
    "root = Solution().buildTree(preorder, inorder)\n",
    "Solution().preOrder(root)"
   ]
  },
  {
   "cell_type": "code",
   "execution_count": 28,
   "metadata": {},
   "outputs": [
    {
     "name": "stdout",
     "output_type": "stream",
     "text": [
      "1 2 3 "
     ]
    }
   ],
   "source": [
    "class Solution(object):\n",
    "    def buildTree(self, preorder, inorder):\n",
    "        \"\"\"\n",
    "        :type preorder: List[int]\n",
    "        :type inorder: List[int]\n",
    "        :rtype: TreeNode\n",
    "        \"\"\"\n",
    "        if not preorder:\n",
    "            return []\n",
    "        \n",
    "        def construct(prd, ind):\n",
    "            if not prd:\n",
    "                return None\n",
    "\n",
    "            root = TreeNode(prd[0])\n",
    "            \n",
    "            cut = ind.index(root.val)\n",
    "            left_in = ind[:cut]\n",
    "            lenl = len(left_in)\n",
    "            #if lenl>0:\n",
    "            left_pre = prd[1:1+lenl]\n",
    "            root.left = construct(left_pre,left_in)\n",
    "\n",
    "            right_in = ind[cut+1:]\n",
    "            lenr = len(right_in)\n",
    "            #if lenr>0:\n",
    "            right_pre = prd[1+lenl:]\n",
    "            root.right = construct(right_pre, right_in)\n",
    "            \n",
    "            return root\n",
    "         \n",
    "        root = construct(preorder, inorder)\n",
    "        return root\n",
    "        \n",
    "    def preOrder(self, root):\n",
    "        if not root:\n",
    "            return\n",
    "        print(root.val, end = ' ')\n",
    "        self.preOrder(root.left)\n",
    "        self.preOrder(root.right)\n",
    "    \n",
    "preorder = [1,2,3]\n",
    "inorder = [2,3,1]\n",
    "# preorder = [1,2,4,3]\n",
    "# inorder = [4,2,1,3]\n",
    "root = Solution().buildTree(preorder, inorder)\n",
    "Solution().preOrder(root)"
   ]
  },
  {
   "cell_type": "code",
   "execution_count": null,
   "metadata": {
    "collapsed": true
   },
   "outputs": [],
   "source": [
    "class Solution(object):\n",
    "    def buildTree(self, preorder, inorder):\n",
    "        \"\"\"\n",
    "        :type preorder: List[int]\n",
    "        :type inorder: List[int]\n",
    "        :rtype: TreeNode\n",
    "        \"\"\"\n",
    "        if inorder:\n",
    "            ind = inorder.index(preorder.pop(0))\n",
    "            node = TreeNode(inorder[ind])\n",
    "            node.left = self.buildTree(preorder, inorder[:ind])\n",
    "            node.right = self.buildTree(preorder, inorder[ind+1:])\n",
    "            return node"
   ]
  },
  {
   "cell_type": "code",
   "execution_count": 8,
   "metadata": {},
   "outputs": [
    {
     "name": "stdout",
     "output_type": "stream",
     "text": [
      "1\n",
      "2\n",
      "1 2 3 "
     ]
    }
   ],
   "source": [
    "class TreeNode(object):\n",
    "    def __init__(self, x):\n",
    "        self.val = x\n",
    "        self.left = None\n",
    "        self.right = None\n",
    "        \n",
    "class Solution(object):\n",
    "    def buildTree(self, preorder, inorder):\n",
    "        \"\"\"\n",
    "        :type preorder: List[int]\n",
    "        :type inorder: List[int]\n",
    "        :rtype: TreeNode\n",
    "        \"\"\"\n",
    "        s = [TreeNode(None)] # dummy first node\n",
    "        \n",
    "        pi = ii = 0\n",
    "        pl = len(preorder)\n",
    "        il = len(inorder)\n",
    "        \n",
    "        while pi < pl and ii < il:\n",
    "            node = TreeNode(preorder[pi])\n",
    "            pi += 1\n",
    "            if s[-1].val != None and s[-1].val == inorder[ii]:\n",
    "                while s[-1] != None and s[-1].val == inorder[ii]:\n",
    "                    parent = s.pop()\n",
    "                    ii += 1\n",
    "                parent.right = node                \n",
    "            else:\n",
    "                s[-1].left = node\n",
    "            s.append(node)\n",
    "        \n",
    "        return s[0].left\n",
    "    \n",
    "    def preOrder(self, root):\n",
    "        if not root:\n",
    "            return\n",
    "        print(root.val, end = ' ')\n",
    "        self.preOrder(root.left)\n",
    "        self.preOrder(root.right)\n",
    "    \n",
    "preorder = [1,2,3]\n",
    "inorder = [2,3,1]\n",
    "# preorder = [1,2,4,3]\n",
    "# inorder = [4,2,1,3]\n",
    "root = Solution().buildTree(preorder, inorder)\n",
    "Solution().preOrder(root)"
   ]
  },
  {
   "cell_type": "code",
   "execution_count": null,
   "metadata": {
    "collapsed": true
   },
   "outputs": [],
   "source": []
  }
 ],
 "metadata": {
  "kernelspec": {
   "display_name": "Python 3",
   "language": "python",
   "name": "python3"
  },
  "language_info": {
   "codemirror_mode": {
    "name": "ipython",
    "version": 3
   },
   "file_extension": ".py",
   "mimetype": "text/x-python",
   "name": "python",
   "nbconvert_exporter": "python",
   "pygments_lexer": "ipython3",
   "version": "3.5.2"
  }
 },
 "nbformat": 4,
 "nbformat_minor": 2
}
