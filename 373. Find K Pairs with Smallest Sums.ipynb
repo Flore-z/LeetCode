{
 "cells": [
  {
   "cell_type": "code",
   "execution_count": null,
   "metadata": {
    "collapsed": true
   },
   "outputs": [],
   "source": [
    "Question：\n",
    "You are given two integer arrays nums1 and nums2 sorted in ascending order and an integer k.\n",
    "Define a pair (u,v) which consists of one element from the first array and one element from the second array.\n",
    "Find the k pairs (u1,v1),(u2,v2) ...(uk,vk) with the smallest sums.\n",
    "\n",
    "Example 1:\n",
    "Given nums1 = [1,7,11], nums2 = [2,4,6],  k = 3\n",
    "Return: [1,2],[1,4],[1,6]\n",
    "The first 3 pairs are returned from the sequence:\n",
    "[1,2],[1,4],[1,6],[7,2],[7,4],[11,2],[7,6],[11,4],[11,6]\n",
    "\n",
    "Example 2:\n",
    "Given nums1 = [1,1,2], nums2 = [1,2,3],  k = 2\n",
    "Return: [1,1],[1,1]\n",
    "The first 2 pairs are returned from the sequence:\n",
    "[1,1],[1,1],[1,2],[2,1],[1,2],[2,2],[1,3],[1,3],[2,3]\n",
    "\n",
    "Example 3:\n",
    "Given nums1 = [1,2], nums2 = [3],  k = 3 \n",
    "Return: [1,3],[2,3]\n",
    "All possible pairs are returned from the sequence:\n",
    "[1,3],[2,3]"
   ]
  },
  {
   "cell_type": "code",
   "execution_count": 2,
   "metadata": {},
   "outputs": [
    {
     "data": {
      "text/plain": [
       "[[1, 3], [2, 3]]"
      ]
     },
     "execution_count": 2,
     "metadata": {},
     "output_type": "execute_result"
    }
   ],
   "source": [
    "# Memory Limit Exceeded\n",
    "class Solution(object):\n",
    "    def kSmallestPairs(self, nums1, nums2, k):\n",
    "        \"\"\"\n",
    "        :type nums1: List[int]\n",
    "        :type nums2: List[int]\n",
    "        :type k: int\n",
    "        :rtype: List[List[int]]\n",
    "        \"\"\"\n",
    "        if not nums1 or not nums2:\n",
    "            return []\n",
    "\n",
    "        seq = []\n",
    "        for x in nums1:\n",
    "            for y in nums2:\n",
    "                seq.append((x+y, [x,y]))\n",
    "        seq.sort()\n",
    "        return [x[1] for x in seq[:k]]\n",
    "    \n",
    "nums1 = [1,7,11]; nums2 = [2,4,6];  k = 3\n",
    "nums1 = [1,1,2]; nums2 = [1,2,3];  k = 2\n",
    "nums1 = [1,2]; nums2 = [3];  k = 3 \n",
    "Solution().kSmallestPairs(nums1, nums2, k)"
   ]
  },
  {
   "cell_type": "code",
   "execution_count": 9,
   "metadata": {},
   "outputs": [
    {
     "data": {
      "text/plain": [
       "[[1, 2], [1, 4], [1, 6]]"
      ]
     },
     "execution_count": 9,
     "metadata": {},
     "output_type": "execute_result"
    }
   ],
   "source": [
    "class Solution(object):\n",
    "    def kSmallestPairs(self, nums1, nums2, k):\n",
    "        \"\"\"\n",
    "        :type nums1: List[int]\n",
    "        :type nums2: List[int]\n",
    "        :type k: int\n",
    "        :rtype: List[List[int]]\n",
    "        \"\"\"\n",
    "        if not nums1 or not nums2:\n",
    "            return []\n",
    "\n",
    "        from heapq import heappush, heappop\n",
    "        q, res = [], []\n",
    "        for i in range(len(nums1)):\n",
    "            heappush(q, (nums1[i]+nums2[0], nums1[i], nums2[0], 0))\n",
    "        \n",
    "        while k and q:\n",
    "            s, cur1, cur2, i = heappop(q)\n",
    "            res.append([cur1, cur2])\n",
    "            k -= 1\n",
    "            if i < len(nums2)-1:\n",
    "                heappush(q, (cur1+nums2[i+1], cur1, nums2[i+1], i+1))\n",
    "        return res\n",
    "    \n",
    "nums1 = [1,7,11]; nums2 = [2,4,6];  k = 3\n",
    "# nums1 = [1,1,2]; nums2 = [1,2,3];  k = 2\n",
    "# nums1 = [1,2]; nums2 = [3];  k = 3 \n",
    "Solution().kSmallestPairs(nums1, nums2, k)"
   ]
  }
 ],
 "metadata": {
  "kernelspec": {
   "display_name": "Python 3",
   "language": "python",
   "name": "python3"
  },
  "language_info": {
   "codemirror_mode": {
    "name": "ipython",
    "version": 3
   },
   "file_extension": ".py",
   "mimetype": "text/x-python",
   "name": "python",
   "nbconvert_exporter": "python",
   "pygments_lexer": "ipython3",
   "version": "3.5.2"
  }
 },
 "nbformat": 4,
 "nbformat_minor": 2
}
