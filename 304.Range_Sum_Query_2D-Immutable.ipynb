{
 "cells": [
  {
   "cell_type": "code",
   "execution_count": null,
   "metadata": {
    "collapsed": true
   },
   "outputs": [],
   "source": [
    "Question:\n",
    "Given a 2D matrix matrix, find the sum of the elements inside the rectangle defined by its upper left corner \n",
    "(row1, col1) and lower right corner (row2, col2).\n",
    " \n",
    "Example:\n",
    "Given matrix = [\n",
    "  [3, 0, 1, 4, 2],\n",
    "  [5, 6, 3, 2, 1],\n",
    "  [1, 2, 0, 1, 5],\n",
    "  [4, 1, 0, 1, 7],\n",
    "  [1, 0, 3, 0, 5]\n",
    "]\n",
    "sumRegion(2, 1, 4, 3) -> 8\n",
    "sumRegion(1, 1, 2, 2) -> 11\n",
    "sumRegion(1, 2, 2, 4) -> 12\n",
    "\n",
    "Note:\n",
    "1.\tYou may assume that the matrix does not change.\n",
    "2.\tThere are many calls to sumRegion function.\n",
    "3.\tYou may assume that row1 ≤ row2 and col1 ≤ col2."
   ]
  },
  {
   "cell_type": "code",
   "execution_count": 4,
   "metadata": {},
   "outputs": [
    {
     "name": "stdout",
     "output_type": "stream",
     "text": [
      "8\n"
     ]
    }
   ],
   "source": [
    "# 建一个数组sum缓存[0][0]到[i][j]的和，每行看做一维计算\n",
    "class NumMatrix(object):\n",
    "\n",
    "    def __init__(self, matrix):\n",
    "        \"\"\"\n",
    "        :type matrix: List[List[int]]\n",
    "        \"\"\"\n",
    "        if not matrix:\n",
    "            return None\n",
    "        m, n = len(matrix), len(matrix[0])\n",
    "        self.sum = []\n",
    "        for i in range(m):\n",
    "            self.sum.append([0]*(n+1))\n",
    "            for j in range(n):\n",
    "                self.sum[i][j+1] = self.sum[i][j] + matrix[i][j]\n",
    "\n",
    "    def sumRegion(self, row1, col1, row2, col2):\n",
    "        \"\"\"\n",
    "        :type row1: int\n",
    "        :type col1: int\n",
    "        :type row2: int\n",
    "        :type col2: int\n",
    "        :rtype: int\n",
    "        \"\"\"\n",
    "        res = 0\n",
    "        for i in range(row1, row2+1):\n",
    "            res += self.sum[i][col2+1] - self.sum[i][col1]\n",
    "        return res\n",
    "\n",
    "# Your NumMatrix object will be instantiated and called as such:\n",
    "matrix = [\n",
    "  [3, 0, 1, 4, 2],\n",
    "  [5, 6, 3, 2, 1],\n",
    "  [1, 2, 0, 1, 5],\n",
    "  [4, 1, 0, 1, 7],\n",
    "  [1, 0, 3, 0, 5]\n",
    "]\n",
    "obj = NumMatrix(matrix)\n",
    "row1,col1,row2,col2 = 2, 1, 4, 3\n",
    "param_1 = obj.sumRegion(row1,col1,row2,col2)\n",
    "print(param_1)"
   ]
  },
  {
   "cell_type": "code",
   "execution_count": 15,
   "metadata": {},
   "outputs": [
    {
     "name": "stdout",
     "output_type": "stream",
     "text": [
      "8\n"
     ]
    }
   ],
   "source": [
    "# 建一个数组sum缓存[0][0]到[i][j]的和\n",
    "# self.sum[i+1][j+1] = matrix[i][j] + self.sum[i][j+1] + self.sum[i+1][j] - self.sum[i][j]\n",
    "class NumMatrix(object):\n",
    "\n",
    "    def __init__(self, matrix):\n",
    "        \"\"\"\n",
    "        :type matrix: List[List[int]]\n",
    "        \"\"\"\n",
    "        if not matrix or not matrix[0]:\n",
    "            return None\n",
    "        m, n = len(matrix), len(matrix[0])\n",
    "        self.sum = [[0]*(n+1)]\n",
    "        for i in range(m):\n",
    "            self.sum.append([0]*(n+1))\n",
    "            for j in range(n):\n",
    "                self.sum[i+1][j+1] = matrix[i][j] + self.sum[i][j+1] + self.sum[i+1][j] - self.sum[i][j]\n",
    "\n",
    "    def sumRegion(self, row1, col1, row2, col2):\n",
    "        \"\"\"\n",
    "        :type row1: int\n",
    "        :type col1: int\n",
    "        :type row2: int\n",
    "        :type col2: int\n",
    "        :rtype: int\n",
    "        \"\"\"\n",
    "        return self.sum[row2+1][col2+1] - self.sum[row2+1][col1] - self.sum[row1][col2+1] + self.sum[row1][col1]\n",
    "\n",
    "# Your NumMatrix object will be instantiated and called as such:\n",
    "matrix = [\n",
    "  [3, 0, 1, 4, 2],\n",
    "  [5, 6, 3, 2, 1],\n",
    "  [1, 2, 0, 1, 5],\n",
    "  [4, 1, 0, 1, 7],\n",
    "  [1, 0, 3, 0, 5]\n",
    "]\n",
    "obj = NumMatrix(matrix)\n",
    "row1,col1,row2,col2 = 2, 1, 4, 3\n",
    "# row1,col1,row2,col2 = 1, 1, 2, 2\n",
    "# row1,col1,row2,col2 = 1, 2, 2, 4\n",
    "param_1 = obj.sumRegion(row1,col1,row2,col2)\n",
    "print(param_1)"
   ]
  }
 ],
 "metadata": {
  "kernelspec": {
   "display_name": "Python 3",
   "language": "python",
   "name": "python3"
  },
  "language_info": {
   "codemirror_mode": {
    "name": "ipython",
    "version": 3
   },
   "file_extension": ".py",
   "mimetype": "text/x-python",
   "name": "python",
   "nbconvert_exporter": "python",
   "pygments_lexer": "ipython3",
   "version": "3.5.2"
  }
 },
 "nbformat": 4,
 "nbformat_minor": 2
}
