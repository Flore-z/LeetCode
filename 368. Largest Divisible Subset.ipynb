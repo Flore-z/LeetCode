{
 "cells": [
  {
   "cell_type": "code",
   "execution_count": null,
   "metadata": {
    "collapsed": true
   },
   "outputs": [],
   "source": [
    "Question:\n",
    "Given a set of distinct positive integers, find the largest subset such that every pair (Si, Sj) of elements in \n",
    "this subset satisfies: Si % Sj = 0 or Sj % Si = 0.\n",
    "If there are multiple solutions, return any subset is fine.\n",
    "\n",
    "Example 1:\n",
    "nums: [1,2,3]\n",
    "Result: [1,2] (of course, [1,3] will also be ok)\n",
    "\n",
    "Example 2:\n",
    "nums: [1,2,4,8]\n",
    "Result: [1,2,4,8]"
   ]
  },
  {
   "cell_type": "code",
   "execution_count": 14,
   "metadata": {},
   "outputs": [
    {
     "name": "stdout",
     "output_type": "stream",
     "text": [
      "[[2], [3], [2, 4], [2, 4, 8], [3, 9]]\n"
     ]
    },
    {
     "data": {
      "text/plain": [
       "[2, 4, 8]"
      ]
     },
     "execution_count": 14,
     "metadata": {},
     "output_type": "execute_result"
    }
   ],
   "source": [
    "# dp\n",
    "class Solution(object):\n",
    "    def largestDivisibleSubset(self, nums):\n",
    "        \"\"\"\n",
    "        :type nums: List[int]\n",
    "        :rtype: List[int]\n",
    "        \"\"\"\n",
    "        nums.sort()\n",
    "        i = 0\n",
    "        while i<len(nums) and nums[i] == 0:\n",
    "            i += 1\n",
    "        newnums = nums[i:]\n",
    "        \n",
    "        if not newnums:\n",
    "            return []\n",
    "        \n",
    "        dp = [[x] for x in newnums]\n",
    "        pos = 0\n",
    "        for i in range(1, len(newnums)):\n",
    "            for j in range(i-1, -1, -1):\n",
    "                if newnums[i] % newnums[j] == 0:\n",
    "                    if len(dp[i]) < len(dp[j])+1:\n",
    "                        dp[i] = dp[j] + [newnums[i]]\n",
    "            if len(dp[pos]) < len(dp[i]):\n",
    "                pos = i\n",
    "        print(dp)\n",
    "        return dp[pos]\n",
    "        \n",
    "nums = [1,2,3]\n",
    "nums = [1,2,4,8]\n",
    "nums = [2,3,4,9,8]\n",
    "Solution().largestDivisibleSubset(nums)"
   ]
  }
 ],
 "metadata": {
  "kernelspec": {
   "display_name": "Python 3",
   "language": "python",
   "name": "python3"
  },
  "language_info": {
   "codemirror_mode": {
    "name": "ipython",
    "version": 3
   },
   "file_extension": ".py",
   "mimetype": "text/x-python",
   "name": "python",
   "nbconvert_exporter": "python",
   "pygments_lexer": "ipython3",
   "version": "3.5.2"
  }
 },
 "nbformat": 4,
 "nbformat_minor": 2
}
