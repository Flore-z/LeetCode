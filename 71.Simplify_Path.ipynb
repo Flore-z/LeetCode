{
 "cells": [
  {
   "cell_type": "code",
   "execution_count": 22,
   "metadata": {},
   "outputs": [
    {
     "data": {
      "text/plain": [
       "'/c'"
      ]
     },
     "execution_count": 22,
     "metadata": {},
     "output_type": "execute_result"
    }
   ],
   "source": [
    "class Solution(object):\n",
    "    def simplifyPath(self, path):\n",
    "        \"\"\"\n",
    "        :type path: str\n",
    "        :rtype: str\n",
    "        \"\"\"\n",
    "        if len(path) == 0:\n",
    "            return path\n",
    "        L = path.split('/')\n",
    "        stack = []\n",
    "        for x in L:\n",
    "            if x == '':\n",
    "                continue\n",
    "            if x == '..':\n",
    "                if stack != []:\n",
    "                    stack.pop()\n",
    "            elif x != '.':\n",
    "                stack.append(x)\n",
    "                \n",
    "        res = ''\n",
    "        if stack == []:\n",
    "            return res + '/'\n",
    "        for x in stack:\n",
    "            res += '/' + x\n",
    "        return res\n",
    "\n",
    "res = Solution().simplifyPath(\"/a/./b/../../c/\")\n",
    "# res = Solution().simplifyPath(\"/home//foo/\")\n",
    "res"
   ]
  },
  {
   "cell_type": "code",
   "execution_count": null,
   "metadata": {
    "collapsed": true
   },
   "outputs": [],
   "source": []
  }
 ],
 "metadata": {
  "kernelspec": {
   "display_name": "Python 3",
   "language": "python",
   "name": "python3"
  },
  "language_info": {
   "codemirror_mode": {
    "name": "ipython",
    "version": 3
   },
   "file_extension": ".py",
   "mimetype": "text/x-python",
   "name": "python",
   "nbconvert_exporter": "python",
   "pygments_lexer": "ipython3",
   "version": "3.4.3"
  }
 },
 "nbformat": 4,
 "nbformat_minor": 2
}
