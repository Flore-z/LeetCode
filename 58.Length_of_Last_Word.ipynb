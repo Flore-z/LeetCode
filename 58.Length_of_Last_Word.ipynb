{
 "cells": [
  {
   "cell_type": "code",
   "execution_count": 15,
   "metadata": {},
   "outputs": [
    {
     "data": {
      "text/plain": [
       "5"
      ]
     },
     "execution_count": 15,
     "metadata": {},
     "output_type": "execute_result"
    }
   ],
   "source": [
    "class Solution(object):\n",
    "    def lengthOfLastWord(self, s):\n",
    "        \"\"\"\n",
    "        :type s: str\n",
    "        :rtype: int\n",
    "        \"\"\"\n",
    "        if len(s) == 0:\n",
    "            return 0\n",
    "        \n",
    "        count = 0\n",
    "        for i in range(len(s)-1,-1,-1):\n",
    "            if s[i] != ' ':\n",
    "                count += 1\n",
    "            if s[i] == ' ' and count == 0:\n",
    "                continue\n",
    "            if s[i] == ' ' and count != 0:\n",
    "                break\n",
    "        \n",
    "        return count\n",
    "\n",
    "s = 'hello world '\n",
    "length = Solution().lengthOfLastWord(s)\n",
    "length\n",
    "                "
   ]
  },
  {
   "cell_type": "code",
   "execution_count": 24,
   "metadata": {},
   "outputs": [
    {
     "data": {
      "text/plain": [
       "0"
      ]
     },
     "execution_count": 24,
     "metadata": {},
     "output_type": "execute_result"
    }
   ],
   "source": [
    "class Solution(object):\n",
    "    def lengthOfLastWord(self, s):\n",
    "        \"\"\"\n",
    "        :type s: str\n",
    "        :rtype: int\n",
    "        \"\"\"\n",
    "    #    if not s:\n",
    "    #        return 0\n",
    "        \n",
    "        L = s.split()\n",
    "        if not L:\n",
    "            return 0\n",
    "        else :\n",
    "            return len(L[-1])\n",
    "    \n",
    "#s = 'hello world '\n",
    "s = ' '\n",
    "length = Solution().lengthOfLastWord(s)\n",
    "length"
   ]
  },
  {
   "cell_type": "code",
   "execution_count": null,
   "metadata": {
    "collapsed": true
   },
   "outputs": [],
   "source": []
  }
 ],
 "metadata": {
  "kernelspec": {
   "display_name": "Python 3",
   "language": "python",
   "name": "python3"
  },
  "language_info": {
   "codemirror_mode": {
    "name": "ipython",
    "version": 3
   },
   "file_extension": ".py",
   "mimetype": "text/x-python",
   "name": "python",
   "nbconvert_exporter": "python",
   "pygments_lexer": "ipython3",
   "version": "3.4.3"
  }
 },
 "nbformat": 4,
 "nbformat_minor": 2
}
