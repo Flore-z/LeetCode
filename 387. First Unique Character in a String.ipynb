{
 "cells": [
  {
   "cell_type": "code",
   "execution_count": null,
   "metadata": {
    "collapsed": true
   },
   "outputs": [],
   "source": [
    "Question:\n",
    "Given a string, find the first non-repeating character in it and return it's index. If it doesn't exist, \n",
    "return -1.\n",
    "\n",
    "Examples:\n",
    "s = \"leetcode\"\n",
    "return 0.\n",
    "s = \"loveleetcode\",\n",
    "return 2.\n",
    "\n",
    "Note: You may assume the string contain only lowercase letters."
   ]
  },
  {
   "cell_type": "code",
   "execution_count": 4,
   "metadata": {},
   "outputs": [
    {
     "data": {
      "text/plain": [
       "2"
      ]
     },
     "execution_count": 4,
     "metadata": {},
     "output_type": "execute_result"
    }
   ],
   "source": [
    "# hash table\n",
    "class Solution(object):\n",
    "    def firstUniqChar(self, s):\n",
    "        \"\"\"\n",
    "        :type s: str\n",
    "        :rtype: int\n",
    "        \"\"\"\n",
    "        d = {}\n",
    "        a = set()\n",
    "        for i in range(len(s)):\n",
    "            if s[i] in d:\n",
    "                del d[s[i]]\n",
    "                a.add(s[i])\n",
    "            elif s[i] not in a:\n",
    "                d[s[i]] = i\n",
    "        if not d:\n",
    "            return -1\n",
    "        return sorted(d.items(), key = lambda x:x[1])[0][1]\n",
    "    \n",
    "#         import collections\n",
    "#         cnts = collections.defaultdict(lambda: 0)\n",
    "#         for c in s:\n",
    "#             cnts[c] += 1\n",
    "#         for i, c in enumerate(s):\n",
    "#             if cnts[c] == 1:\n",
    "#                 return i\n",
    "#         return -1\n",
    "        \n",
    "s = \"leetcode\"\n",
    "s = \"loveleetcode\"\n",
    "Solution().firstUniqChar(s)"
   ]
  }
 ],
 "metadata": {
  "kernelspec": {
   "display_name": "Python 3",
   "language": "python",
   "name": "python3"
  },
  "language_info": {
   "codemirror_mode": {
    "name": "ipython",
    "version": 3
   },
   "file_extension": ".py",
   "mimetype": "text/x-python",
   "name": "python",
   "nbconvert_exporter": "python",
   "pygments_lexer": "ipython3",
   "version": "3.5.2"
  }
 },
 "nbformat": 4,
 "nbformat_minor": 2
}
