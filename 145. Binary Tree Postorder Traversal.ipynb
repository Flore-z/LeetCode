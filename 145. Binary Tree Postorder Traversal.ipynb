{
 "cells": [
  {
   "cell_type": "code",
   "execution_count": null,
   "metadata": {
    "collapsed": true
   },
   "outputs": [],
   "source": [
    "Question:\n",
    "Given a binary tree, return the postorder traversal of its nodes' values.\n",
    "For example:\n",
    "Given binary tree {1,#,2,3},\n",
    "   1\n",
    "    \\\n",
    "     2\n",
    "    /\n",
    "   3\n",
    "return [3,2,1]."
   ]
  },
  {
   "cell_type": "code",
   "execution_count": 12,
   "metadata": {},
   "outputs": [
    {
     "data": {
      "text/plain": [
       "[2, 1, 3]"
      ]
     },
     "execution_count": 12,
     "metadata": {},
     "output_type": "execute_result"
    }
   ],
   "source": [
    "# Definition for a binary tree node.\n",
    "class TreeNode(object):\n",
    "    def __init__(self, x):\n",
    "        self.val = x\n",
    "        self.left = None\n",
    "        self.right = None\n",
    "\n",
    "class Solution(object):\n",
    "    def postorderTraversal(self, root):\n",
    "        \"\"\"\n",
    "        :type root: TreeNode\n",
    "        :rtype: List[int]\n",
    "        \"\"\"\n",
    "        if not root:\n",
    "            return []\n",
    "        res, q = [], [root]\n",
    "        pre = None\n",
    "        while q:\n",
    "            root = q[-1]\n",
    "            if (not root.left and not root.right) or (pre and root.left == pre) or (pre and root.right == pre):\n",
    "                q.pop()\n",
    "                res.append(root.val)\n",
    "                pre = root   \n",
    "            else:\n",
    "                if root.right: q.append(root.right)\n",
    "                if root.left: q.append(root.left)\n",
    "        return res\n",
    "    \n",
    "root = TreeNode(3)\n",
    "p = root\n",
    "# p.right = TreeNode(2); p = p.right\n",
    "p.left = TreeNode(1);p = p.left\n",
    "p.right = TreeNode(2)\n",
    "\n",
    "Solution().postorderTraversal(root)"
   ]
  },
  {
   "cell_type": "code",
   "execution_count": 13,
   "metadata": {},
   "outputs": [
    {
     "data": {
      "text/plain": [
       "[2, 1, 3]"
      ]
     },
     "execution_count": 13,
     "metadata": {},
     "output_type": "execute_result"
    }
   ],
   "source": [
    "# 按root->right->left的顺序将node值存入，最后reverse\n",
    "class Solution(object):\n",
    "    def postorderTraversal(self, root):\n",
    "        \"\"\"\n",
    "        :type root: TreeNode\n",
    "        :rtype: List[int]\n",
    "        \"\"\"\n",
    "        if not root:\n",
    "            return []\n",
    "        res, q = [], [root]\n",
    "        while q:\n",
    "            root = q.pop()\n",
    "            res.append(root.val)\n",
    "            if root.left:\n",
    "                q.append(root.left)\n",
    "            if root.right:\n",
    "                q.append(root.right)\n",
    "        return res[::-1]\n",
    "    \n",
    "#         node = root\n",
    "#         result = []\n",
    "#         stack = []\n",
    "#         while len(stack) > 0 or node:\n",
    "#             if node:\n",
    "#                 stack.append(node)\n",
    "#                 result.append(node.val)\n",
    "#                 node = node.right\n",
    "#             else:\n",
    "#                 node = stack.pop()\n",
    "#                 node = node.left\n",
    "#         result.reverse()\n",
    "#         return result\n",
    "    \n",
    "root = TreeNode(3)\n",
    "p = root\n",
    "# p.right = TreeNode(2); p = p.right\n",
    "p.left = TreeNode(1);p = p.left\n",
    "p.right = TreeNode(2)\n",
    "\n",
    "Solution().postorderTraversal(root)"
   ]
  }
 ],
 "metadata": {
  "kernelspec": {
   "display_name": "Python 3",
   "language": "python",
   "name": "python3"
  },
  "language_info": {
   "codemirror_mode": {
    "name": "ipython",
    "version": 3
   },
   "file_extension": ".py",
   "mimetype": "text/x-python",
   "name": "python",
   "nbconvert_exporter": "python",
   "pygments_lexer": "ipython3",
   "version": "3.5.2"
  }
 },
 "nbformat": 4,
 "nbformat_minor": 2
}
