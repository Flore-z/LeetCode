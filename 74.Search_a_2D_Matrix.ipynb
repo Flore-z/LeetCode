{
 "cells": [
  {
   "cell_type": "code",
   "execution_count": 5,
   "metadata": {},
   "outputs": [
    {
     "data": {
      "text/plain": [
       "True"
      ]
     },
     "execution_count": 5,
     "metadata": {},
     "output_type": "execute_result"
    }
   ],
   "source": [
    "class Solution(object):  \n",
    "    def searchMatrix(self, matrix, target):  \n",
    "        \"\"\" \n",
    "        :type matrix: List[List[int]] \n",
    "        :type target: int \n",
    "        :rtype: bool \n",
    "        \"\"\"  \n",
    "        if len(matrix)==0 or len(matrix[0])==0:\n",
    "            return False\n",
    "        col, row = 0, len(matrix) - 1  \n",
    "        while col < len(matrix[0]) and row >= 0 :  \n",
    "            if matrix[row][col] > target : \n",
    "                row -= 1  \n",
    "            elif matrix[row][col] < target : \n",
    "                col += 1  \n",
    "            else : \n",
    "                return True  \n",
    "        return False  \n",
    "\n",
    "matrix = [\n",
    "  [1,   3,  5,  7],\n",
    "  [10, 11, 16, 20],\n",
    "  [23, 30, 34, 50]\n",
    "]\n",
    "target = 10\n",
    "res = Solution().searchMatrix(matrix, target)\n",
    "res"
   ]
  },
  {
   "cell_type": "code",
   "execution_count": 8,
   "metadata": {},
   "outputs": [
    {
     "data": {
      "text/plain": [
       "True"
      ]
     },
     "execution_count": 8,
     "metadata": {},
     "output_type": "execute_result"
    }
   ],
   "source": [
    "class Solution(object):\n",
    "    def searchMatrix(self, matrix, target):\n",
    "        \"\"\"\n",
    "        :type matrix: List[List[int]]\n",
    "        :type target: int\n",
    "        :rtype: bool\n",
    "        \"\"\"\n",
    "        for row in matrix:\n",
    "            if row and row[-1] >= target:\n",
    "                for n in row:\n",
    "                    if n == target:\n",
    "                        return True\n",
    "                return False\n",
    "                \n",
    "        return False\n",
    "\n",
    "matrix = [\n",
    "  [1,   3,  5,  7],\n",
    "  [10, 11, 16, 20],\n",
    "  [23, 30, 34, 50]\n",
    "]\n",
    "target = 10\n",
    "res = Solution().searchMatrix(matrix, target)\n",
    "res"
   ]
  },
  {
   "cell_type": "code",
   "execution_count": null,
   "metadata": {
    "collapsed": true
   },
   "outputs": [],
   "source": []
  }
 ],
 "metadata": {
  "kernelspec": {
   "display_name": "Python 3",
   "language": "python",
   "name": "python3"
  },
  "language_info": {
   "codemirror_mode": {
    "name": "ipython",
    "version": 3
   },
   "file_extension": ".py",
   "mimetype": "text/x-python",
   "name": "python",
   "nbconvert_exporter": "python",
   "pygments_lexer": "ipython3",
   "version": "3.4.3"
  }
 },
 "nbformat": 4,
 "nbformat_minor": 2
}
