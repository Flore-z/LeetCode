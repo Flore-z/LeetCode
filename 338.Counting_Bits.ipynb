{
 "cells": [
  {
   "cell_type": "code",
   "execution_count": null,
   "metadata": {
    "collapsed": true
   },
   "outputs": [],
   "source": [
    "Question：\n",
    "Given a non negative integer number num. For every numbers i in the range 0 ≤ i ≤ num calculate the number of \n",
    "1's in their binary representation and return them as an array.\n",
    "\n",
    "Example:\n",
    "For num = 5 you should return [0,1,1,2,1,2].\n",
    "\n",
    "Follow up:\n",
    "1.It is very easy to come up with a solution with run time O(n*sizeof(integer)). But can you do it in linear time\n",
    "O(n) /possibly in a single pass?\n",
    "2.Space complexity should be O(n).\n",
    "3.Can you do it like a boss? Do it without using any builtin function like __builtin_popcount in c++ or in any \n",
    "other language."
   ]
  },
  {
   "cell_type": "code",
   "execution_count": 2,
   "metadata": {},
   "outputs": [
    {
     "name": "stdout",
     "output_type": "stream",
     "text": [
      "[0, 1, 1, 2, 1, 2, 2, 3, 1]\n"
     ]
    }
   ],
   "source": [
    "# dp and bit manipulation\n",
    "class Solution(object):\n",
    "    def countBits(self, num):\n",
    "        \"\"\"\n",
    "        :type num: int\n",
    "        :rtype: List[int]\n",
    "        \"\"\"\n",
    "        if num <= 0 :\n",
    "            return [0]\n",
    "        result  = [0]*(num+1)\n",
    "        for i in range(1,num+1):\n",
    "            result[i] = result[i&(i-1)] + 1  # i&i-1消掉最低位的1\n",
    "        return result       \n",
    "        \n",
    "res = Solution().countBits(8)\n",
    "print(res)"
   ]
  },
  {
   "cell_type": "code",
   "execution_count": 4,
   "metadata": {},
   "outputs": [
    {
     "name": "stdout",
     "output_type": "stream",
     "text": [
      "[0, 1, 1, 2, 1, 2, 2, 3, 1]\n"
     ]
    }
   ],
   "source": [
    "# dp and bit manipulation\n",
    "class Solution(object):\n",
    "    def countBits(self, num):\n",
    "        \"\"\"\n",
    "        :type num: int\n",
    "        :rtype: List[int]\n",
    "        \"\"\"\n",
    "        res = [0]\n",
    "        for x in range(1, num+1):\n",
    "            res.append(res[x//2] + x % 2)\n",
    "        return res    \n",
    "        \n",
    "res = Solution().countBits(8)\n",
    "print(res)"
   ]
  }
 ],
 "metadata": {
  "kernelspec": {
   "display_name": "Python 3",
   "language": "python",
   "name": "python3"
  },
  "language_info": {
   "codemirror_mode": {
    "name": "ipython",
    "version": 3
   },
   "file_extension": ".py",
   "mimetype": "text/x-python",
   "name": "python",
   "nbconvert_exporter": "python",
   "pygments_lexer": "ipython3",
   "version": "3.5.2"
  }
 },
 "nbformat": 4,
 "nbformat_minor": 2
}
