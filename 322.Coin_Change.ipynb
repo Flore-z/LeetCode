{
 "cells": [
  {
   "cell_type": "code",
   "execution_count": null,
   "metadata": {
    "collapsed": true
   },
   "outputs": [],
   "source": [
    "Question:\n",
    "You are given coins of different denominations and a total amount of money amount. Write a function to compute \n",
    "the fewest number of coins that you need to make up that amount. If that amount of money cannot be made up by \n",
    "any combination of the coins, return -1.\n",
    "\n",
    "Example 1:\n",
    "coins = [1, 2, 5], amount = 11\n",
    "return 3 (11 = 5 + 5 + 1)\n",
    "\n",
    "Example 2:\n",
    "coins = [2], amount = 3\n",
    "return -1.\n",
    "\n",
    "Note:\n",
    "You may assume that you have an infinite number of each kind of coin."
   ]
  },
  {
   "cell_type": "code",
   "execution_count": 1,
   "metadata": {},
   "outputs": [
    {
     "name": "stdout",
     "output_type": "stream",
     "text": [
      "20\n"
     ]
    }
   ],
   "source": [
    "# dp time:O(n*m)\n",
    "class Solution(object):\n",
    "    def coinChange(self, coins, amount):\n",
    "        \"\"\"\n",
    "        :type coins: List[int]\n",
    "        :type amount: int\n",
    "        :rtype: int\n",
    "        \"\"\"\n",
    "        start = min(coins)\n",
    "        dp = [-1]*(amount+1)\n",
    "        dp[0] = 0\n",
    "        for i in range(start, amount+1):\n",
    "            tmp = [dp[i-x] for x in coins if i-x >= 0 and dp[i-x] != -1]\n",
    "            if tmp != []:\n",
    "                dp[i] = min(tmp) + 1\n",
    "        return dp[-1]\n",
    "        \n",
    "coins = [1, 2, 5];amount = 11\n",
    "##coins = [2];amount = 3\n",
    "coins = [186,419,83,408];amount = 6249\n",
    "res = Solution().coinChange(coins, amount)\n",
    "print(res)"
   ]
  }
 ],
 "metadata": {
  "kernelspec": {
   "display_name": "Python 3",
   "language": "python",
   "name": "python3"
  },
  "language_info": {
   "codemirror_mode": {
    "name": "ipython",
    "version": 3
   },
   "file_extension": ".py",
   "mimetype": "text/x-python",
   "name": "python",
   "nbconvert_exporter": "python",
   "pygments_lexer": "ipython3",
   "version": "3.5.2"
  }
 },
 "nbformat": 4,
 "nbformat_minor": 2
}
