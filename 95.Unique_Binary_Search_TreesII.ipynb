{
 "cells": [
  {
   "cell_type": "code",
   "execution_count": 62,
   "metadata": {},
   "outputs": [
    {
     "name": "stdout",
     "output_type": "stream",
     "text": [
      "1 2 3 \n",
      "\n",
      "1 3 2 \n",
      "\n",
      "2 1 3 \n",
      "\n",
      "3 1 2 \n",
      "\n",
      "3 2 1 \n",
      "\n"
     ]
    }
   ],
   "source": [
    "# Definition for a binary tree node.\n",
    "class TreeNode(object):\n",
    "    def __init__(self, x):\n",
    "        self.val = x\n",
    "        self.left = None\n",
    "        self.right = None\n",
    "\n",
    "class Solution(object):\n",
    "    def generateTrees(self, n):\n",
    "        \"\"\"\n",
    "        :type n: int\n",
    "        :rtype: List[TreeNode]\n",
    "        \"\"\"\n",
    "        if n == 0:\n",
    "            return []\n",
    "        def BTrees(start, end):\n",
    "            res = []\n",
    "            if start > end:\n",
    "                return [None]\n",
    "            elif start == end:\n",
    "                return [TreeNode(start)]\n",
    "            else:\n",
    "                for i in range(start, end+1):\n",
    "                    left = BTrees(start, i-1)\n",
    "                    right = BTrees(i+1, end)\n",
    "                    for l in left:\n",
    "                        for r in right:\n",
    "                            root = TreeNode(i)\n",
    "                            root.left = l\n",
    "                            root.right = r\n",
    "                            res.append(root)\n",
    "            return res\n",
    "        \n",
    "        return BTrees(1, n)\n",
    "        \n",
    "    def preOrder(self, root, res):\n",
    "        if not root:\n",
    "            return\n",
    "        print(root.val, end = ' ')\n",
    "        self.preOrder(root.left, res)\n",
    "        self.preOrder(root.right, res)\n",
    "    \n",
    "res = Solution().generateTrees(3)\n",
    "for node in res:\n",
    "    Solution().preOrder(node, [])\n",
    "    print('\\n')"
   ]
  },
  {
   "cell_type": "code",
   "execution_count": 57,
   "metadata": {},
   "outputs": [
    {
     "name": "stdout",
     "output_type": "stream",
     "text": [
      "\n",
      "\n"
     ]
    }
   ],
   "source": [
    "class TreeNode:\n",
    "    def __init__(self, x):\n",
    "        self.val = x\n",
    "        self.left = None\n",
    "        self.right = None\n",
    "\n",
    "class Solution(object):\n",
    "    def generateTrees(self, n):\n",
    "        \"\"\"\n",
    "        :type n: int\n",
    "        :rtype: List[TreeNode]\n",
    "        \"\"\"\n",
    "        if n == 0:\n",
    "            return [None]\n",
    "        return self.dfs(1, n+1)\n",
    "        \n",
    "    def dfs(self, start, end):\n",
    "        if start == end:\n",
    "            return None\n",
    "        result = []\n",
    "        for i in range(start, end):\n",
    "            for l in self.dfs(start, i) or [None]:\n",
    "                for r in self.dfs(i+1, end) or [None]:\n",
    "                    node = TreeNode(i)\n",
    "                    node.left, node.right  = l, r\n",
    "                    result.append(node)\n",
    "        return result\n",
    "    \n",
    "    def preOrder(self, root, res):\n",
    "        if root == None: return\n",
    "        print(root.val, end = ' ')\n",
    "        self.preOrder(root.left, res)\n",
    "        self.preOrder(root.right, res)\n",
    "    \n",
    "res = Solution().generateTrees(0)\n",
    "for node in res:\n",
    "    Solution().preOrder(node, [])\n",
    "    print('\\n')"
   ]
  },
  {
   "cell_type": "code",
   "execution_count": 74,
   "metadata": {},
   "outputs": [
    {
     "name": "stdout",
     "output_type": "stream",
     "text": [
      "1 2 \n",
      "\n",
      "2 1 \n",
      "\n"
     ]
    }
   ],
   "source": [
    "# Definition for a binary tree node.\n",
    "class TreeNode(object):\n",
    "    def __init__(self, x):\n",
    "        self.val = x\n",
    "        self.left = None\n",
    "        self.right = None\n",
    "        \n",
    "import copy\n",
    "\n",
    "class Solution(object):\n",
    "    cache = {}\n",
    "    def generateTrees(self, n):\n",
    "        \"\"\"\n",
    "        :type n: int\n",
    "        :rtype: List[TreeNode]\n",
    "        \"\"\"\n",
    "        if not n:\n",
    "            return []\n",
    "        def helper(start, end):\n",
    "            if (start, end) in self.cache:\n",
    "                return self.cache[(start, end)]\n",
    "            trees = []\n",
    "            for val in range(start, end + 1):\n",
    "                left_trees = helper(start, val - 1)\n",
    "                right_trees = helper(val + 1, end)\n",
    "                for left in left_trees:\n",
    "                    for right in right_trees:\n",
    "                        root = TreeNode(val)\n",
    "                        root.left = left\n",
    "                        root.right = right\n",
    "                        trees.append(root)\n",
    "            trees =  trees or [None]\n",
    "            self.cache[(start, end)] = trees\n",
    "            return trees\n",
    "        return helper(1, n)\n",
    "    \n",
    "    def preOrder(self, root, res):\n",
    "        if root == None: return\n",
    "        print(root.val, end = ' ')\n",
    "        self.preOrder(root.left, res)\n",
    "        self.preOrder(root.right, res)\n",
    "    \n",
    "res = Solution().generateTrees(2)\n",
    "for node in res:\n",
    "    Solution().preOrder(node, [])\n",
    "    print('\\n')"
   ]
  },
  {
   "cell_type": "code",
   "execution_count": null,
   "metadata": {
    "collapsed": true
   },
   "outputs": [],
   "source": []
  }
 ],
 "metadata": {
  "kernelspec": {
   "display_name": "Python 3",
   "language": "python",
   "name": "python3"
  },
  "language_info": {
   "codemirror_mode": {
    "name": "ipython",
    "version": 3
   },
   "file_extension": ".py",
   "mimetype": "text/x-python",
   "name": "python",
   "nbconvert_exporter": "python",
   "pygments_lexer": "ipython3",
   "version": "3.5.2"
  }
 },
 "nbformat": 4,
 "nbformat_minor": 2
}
